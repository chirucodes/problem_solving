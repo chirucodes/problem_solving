{
  "nbformat": 4,
  "nbformat_minor": 0,
  "metadata": {
    "colab": {
      "provenance": [],
      "authorship_tag": "ABX9TyPqOV2dL17QuTDAiOARXJLG",
      "include_colab_link": true
    },
    "kernelspec": {
      "name": "python3",
      "display_name": "Python 3"
    },
    "language_info": {
      "name": "python"
    }
  },
  "cells": [
    {
      "cell_type": "markdown",
      "metadata": {
        "id": "view-in-github",
        "colab_type": "text"
      },
      "source": [
        "<a href=\"https://colab.research.google.com/github/chirucodes/problem_solving/blob/main/2_Add_Two_Numbers.ipynb\" target=\"_parent\"><img src=\"https://colab.research.google.com/assets/colab-badge.svg\" alt=\"Open In Colab\"/></a>"
      ]
    },
    {
      "cell_type": "markdown",
      "source": [
        "## 2. Add Two Numbers\n",
        "Find the problem description here: https://leetcode.com/problems/add-two-numbers/description/**bold text**"
      ],
      "metadata": {
        "id": "hCgAoiuFpInP"
      }
    },
    {
      "cell_type": "markdown",
      "source": [
        "## Solution1:"
      ],
      "metadata": {
        "id": "hKWjMUsXpXEv"
      }
    },
    {
      "cell_type": "code",
      "execution_count": 1,
      "metadata": {
        "colab": {
          "base_uri": "https://localhost:8080/",
          "height": 375
        },
        "id": "H4MZ4Hhko8us",
        "outputId": "ada22999-1928-4fe6-93cd-0c27baa11864"
      },
      "outputs": [
        {
          "output_type": "error",
          "ename": "NameError",
          "evalue": "ignored",
          "traceback": [
            "\u001b[0;31m---------------------------------------------------------------------------\u001b[0m",
            "\u001b[0;31mNameError\u001b[0m                                 Traceback (most recent call last)",
            "\u001b[0;32m<ipython-input-1-e45ebb70b63e>\u001b[0m in \u001b[0;36m<module>\u001b[0;34m\u001b[0m\n\u001b[1;32m      4\u001b[0m         \u001b[0mself\u001b[0m\u001b[0;34m.\u001b[0m\u001b[0mval\u001b[0m \u001b[0;34m=\u001b[0m \u001b[0mval\u001b[0m\u001b[0;34m\u001b[0m\u001b[0;34m\u001b[0m\u001b[0m\n\u001b[1;32m      5\u001b[0m         \u001b[0mself\u001b[0m\u001b[0;34m.\u001b[0m\u001b[0mnext\u001b[0m \u001b[0;34m=\u001b[0m \u001b[0mnext\u001b[0m\u001b[0;34m\u001b[0m\u001b[0;34m\u001b[0m\u001b[0m\n\u001b[0;32m----> 6\u001b[0;31m \u001b[0;32mclass\u001b[0m \u001b[0mSolution\u001b[0m\u001b[0;34m:\u001b[0m\u001b[0;34m\u001b[0m\u001b[0;34m\u001b[0m\u001b[0m\n\u001b[0m\u001b[1;32m      7\u001b[0m \u001b[0;34m\u001b[0m\u001b[0m\n\u001b[1;32m      8\u001b[0m     \u001b[0;32mdef\u001b[0m \u001b[0mdisplay\u001b[0m\u001b[0;34m(\u001b[0m\u001b[0mself\u001b[0m\u001b[0;34m,\u001b[0m \u001b[0mll\u001b[0m\u001b[0;34m:\u001b[0m \u001b[0mOptional\u001b[0m\u001b[0;34m[\u001b[0m\u001b[0mListNode\u001b[0m\u001b[0;34m]\u001b[0m\u001b[0;34m)\u001b[0m\u001b[0;34m:\u001b[0m\u001b[0;34m\u001b[0m\u001b[0;34m\u001b[0m\u001b[0m\n",
            "\u001b[0;32m<ipython-input-1-e45ebb70b63e>\u001b[0m in \u001b[0;36mSolution\u001b[0;34m()\u001b[0m\n\u001b[1;32m      6\u001b[0m \u001b[0;32mclass\u001b[0m \u001b[0mSolution\u001b[0m\u001b[0;34m:\u001b[0m\u001b[0;34m\u001b[0m\u001b[0;34m\u001b[0m\u001b[0m\n\u001b[1;32m      7\u001b[0m \u001b[0;34m\u001b[0m\u001b[0m\n\u001b[0;32m----> 8\u001b[0;31m     \u001b[0;32mdef\u001b[0m \u001b[0mdisplay\u001b[0m\u001b[0;34m(\u001b[0m\u001b[0mself\u001b[0m\u001b[0;34m,\u001b[0m \u001b[0mll\u001b[0m\u001b[0;34m:\u001b[0m \u001b[0mOptional\u001b[0m\u001b[0;34m[\u001b[0m\u001b[0mListNode\u001b[0m\u001b[0;34m]\u001b[0m\u001b[0;34m)\u001b[0m\u001b[0;34m:\u001b[0m\u001b[0;34m\u001b[0m\u001b[0;34m\u001b[0m\u001b[0m\n\u001b[0m\u001b[1;32m      9\u001b[0m         \u001b[0mprint\u001b[0m\u001b[0;34m(\u001b[0m\u001b[0;34m\"-----------------\"\u001b[0m\u001b[0;34m)\u001b[0m\u001b[0;34m\u001b[0m\u001b[0;34m\u001b[0m\u001b[0m\n\u001b[1;32m     10\u001b[0m         \u001b[0;32mwhile\u001b[0m \u001b[0mll\u001b[0m \u001b[0;32mis\u001b[0m \u001b[0;32mnot\u001b[0m \u001b[0;32mNone\u001b[0m\u001b[0;34m:\u001b[0m\u001b[0;34m\u001b[0m\u001b[0;34m\u001b[0m\u001b[0m\n",
            "\u001b[0;31mNameError\u001b[0m: name 'Optional' is not defined"
          ]
        }
      ],
      "source": [
        "# Definition for singly-linked list.\n",
        "class ListNode:\n",
        "    def __init__(self, val=0, next=None):\n",
        "        print(\"Creating a node: \", val)\n",
        "        self.val = val\n",
        "        self.next = next\n",
        "class Solution:\n",
        "\n",
        "    def display(self, ll: Optional[ListNode]):\n",
        "        print(\"-----------------\")\n",
        "        print(\"+ -> %s\"%ll.val)\n",
        "        print(\"+ -> %s\"%ll.next.val)\n",
        "        # print(\"+ -> %s\"%ll.next.next.val)\n",
        "        while ll is not None:\n",
        "            print(\" -> %s\"%ll.val)\n",
        "            ll = ll.next\n",
        "        print(\"-----------------\")\n",
        "\n",
        "\n",
        "    def addTwoNumbers(self, l1: Optional[ListNode], l2: Optional[ListNode]) -> Optional[ListNode]:\n",
        "\n",
        "        l1_p = l1\n",
        "        l2_p = l2\n",
        "\n",
        "        carry_dig_sum = 0\n",
        "        # result = ListNode(val=0)\n",
        "        # result_head = result\n",
        "        head_flag = True\n",
        "        result = ListNode()\n",
        "        \n",
        "\n",
        "        \n",
        "        self.display(l1)\n",
        "        self.display(l2)\n",
        "\n",
        "        while l1_p is not None and l2_p is not None:\n",
        "            dig_sum = l1_p.val + l2_p.val + carry_dig_sum\n",
        "            print(\"Dig sum:\", dig_sum)\n",
        "            if dig_sum <= 9:\n",
        "                newNode = ListNode(val=dig_sum)\n",
        "                if head_flag == True:\n",
        "                    # result = ListNode()\n",
        "                    result_head = newNode\n",
        "                    result = result_head\n",
        "                    head_flag = False\n",
        "                else:\n",
        "                    print(\"1. Adding node value: \", newNode.val)\n",
        "                    result.next = newNode\n",
        "                # result = result.next\n",
        "            else:\n",
        "                last_dig = dig_sum % 10\n",
        "                newNode = ListNode(val=last_dig)\n",
        "                if head_flag == True:\n",
        "                    result_head = newNode\n",
        "                    result = result_head\n",
        "                    head_flag = False\n",
        "                else:\n",
        "                    print(\"2. Adding node value: \", newNode.val)\n",
        "                    result.next = newNode\n",
        "            \n",
        "                carry_dig_sum = int(dig_sum / 10)\n",
        "                print(\">9 sum - last_dig : \", last_dig)\n",
        "                print(\">9 sum - carry_dig : \", carry_dig_sum)\n",
        "                # if carry_dig_sum > 0:\n",
        "            # result = result.next\n",
        "                                \n",
        "            l1_p = l1_p.next \n",
        "            l2_p = l2_p.next\n",
        "        \n",
        "        self.display(result)\n",
        "        return result_head\n",
        "        \n",
        "        while carry_dig_sum > 0 or l1_p is not None or l2_p is not None:\n",
        "            if l1_p is None:\n",
        "                l1_rem_dig = 0\n",
        "            else:\n",
        "                l1_rem_dig = l1_p.val\n",
        "                l1_p = l1_p.next \n",
        "\n",
        "            if l2_p is None:\n",
        "                l2_rem_dig = 0\n",
        "            else:\n",
        "                l2_rem_dig = l2_p.val\n",
        "                l2_p = l2_p.next\n",
        "            dig_sum = l1_rem_dig + l2_rem_dig + carry_dig_sum\n",
        "\n",
        "            if dig_sum <= 9:\n",
        "                result = ListNode(val=dig_sum)\n",
        "                if head_flag == True:\n",
        "                    result_head = result\n",
        "                    head_flag = False\n",
        "                result = result.next\n",
        "            else:\n",
        "                last_dig = dig_sum % 10\n",
        "                result = ListNode(val=last_dig)\n",
        "                if head_flag == True:\n",
        "                    result_head = result\n",
        "                    head_flag = False\n",
        "                result = result.next\n",
        "                carry_dig_sum = dig_sum / 10\n",
        "\n",
        "        self.display(result_head)\n",
        "        return result_head\n",
        "\n",
        "\n",
        "            # last_dig = carry_dig_sum % 10\n",
        "            # result = ListNode(val=last_dig)\n",
        "            # if head_flag == True:\n",
        "            #     result_head = result\n",
        "            #     head_flag = False\n",
        "            # result = result.next\n",
        "            # carry_dig_sum = carry_dig_sum / 10\n",
        "\n",
        "\n",
        "        \n",
        "\n",
        "\n",
        "\n",
        "        \n",
        "\n",
        "\n",
        "\n",
        "\n",
        "\n"
      ]
    }
  ]
}
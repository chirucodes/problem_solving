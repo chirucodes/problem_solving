{
  "nbformat": 4,
  "nbformat_minor": 0,
  "metadata": {
    "colab": {
      "provenance": [],
      "authorship_tag": "ABX9TyNSTwwZ+7FV6OLVWjLyofEU",
      "include_colab_link": true
    },
    "kernelspec": {
      "name": "python3",
      "display_name": "Python 3"
    },
    "language_info": {
      "name": "python"
    }
  },
  "cells": [
    {
      "cell_type": "markdown",
      "metadata": {
        "id": "view-in-github",
        "colab_type": "text"
      },
      "source": [
        "<a href=\"https://colab.research.google.com/github/chirucodes/problem_solving/blob/main/283_Move_Zeroes.ipynb\" target=\"_parent\"><img src=\"https://colab.research.google.com/assets/colab-badge.svg\" alt=\"Open In Colab\"/></a>"
      ]
    },
    {
      "cell_type": "markdown",
      "source": [
        "## 283. Move Zeroes\n",
        "\n",
        "Problem :https://leetcode.com/problems/move-zeroes/description/"
      ],
      "metadata": {
        "id": "tCcnQDfDrA10"
      }
    },
    {
      "cell_type": "markdown",
      "source": [
        "## Solution1:"
      ],
      "metadata": {
        "id": "NR7MGjZQuhv6"
      }
    },
    {
      "cell_type": "code",
      "execution_count": 20,
      "metadata": {
        "id": "I6PKnRH1q73e"
      },
      "outputs": [],
      "source": [
        "from typing import List"
      ]
    },
    {
      "cell_type": "code",
      "source": [
        "class Solution1:\n",
        "    def moveZeroes(self, nums: List[int]) -> None:\n",
        "        \"\"\"\n",
        "        Do not return anything, modify nums in-place instead.\n",
        "        \"\"\"\n",
        "        print(\"Before move: \", nums)\n",
        "        for ind, val in enumerate(nums):\n",
        "            if val == 0:\n",
        "                zero = nums.pop(ind)\n",
        "                nums.append(0)\n",
        "        print(\"After move: \", nums)"
      ],
      "metadata": {
        "id": "omSTe3JNrAK8"
      },
      "execution_count": 25,
      "outputs": []
    },
    {
      "cell_type": "code",
      "source": [
        "sol1 = Solution1()\n",
        "sol1.moveZeroes([0,1,0,3,12])"
      ],
      "metadata": {
        "colab": {
          "base_uri": "https://localhost:8080/"
        },
        "id": "v7SEJRNXsDv6",
        "outputId": "cfb3c092-d9d2-4132-831d-f59deba62836"
      },
      "execution_count": 26,
      "outputs": [
        {
          "output_type": "stream",
          "name": "stdout",
          "text": [
            "Before move:  [0, 1, 0, 3, 12]\n",
            "After move:  [1, 3, 12, 0, 0]\n"
          ]
        }
      ]
    },
    {
      "cell_type": "code",
      "source": [
        "sol1 = Solution1()\n",
        "sol1.moveZeroes([0,1,0])"
      ],
      "metadata": {
        "colab": {
          "base_uri": "https://localhost:8080/"
        },
        "id": "v8tp7YKeuB7s",
        "outputId": "fceee86f-b206-42f7-fdc2-c35ad6668140"
      },
      "execution_count": 27,
      "outputs": [
        {
          "output_type": "stream",
          "name": "stdout",
          "text": [
            "Before move:  [0, 1, 0]\n",
            "After move:  [1, 0, 0]\n"
          ]
        }
      ]
    },
    {
      "cell_type": "code",
      "source": [
        "sol1.moveZeroes([1,0,0])"
      ],
      "metadata": {
        "colab": {
          "base_uri": "https://localhost:8080/"
        },
        "id": "lT9BWYs6uFb9",
        "outputId": "6d2de387-f495-427b-a830-9b5b1c35b551"
      },
      "execution_count": 28,
      "outputs": [
        {
          "output_type": "stream",
          "name": "stdout",
          "text": [
            "Before move:  [1, 0, 0]\n",
            "After move:  [1, 0, 0]\n"
          ]
        }
      ]
    },
    {
      "cell_type": "code",
      "source": [
        "#This is not working for some reason, need to identify\n",
        "\n",
        "sol1.moveZeroes([0,0,1])"
      ],
      "metadata": {
        "colab": {
          "base_uri": "https://localhost:8080/"
        },
        "id": "-iLpHQeKuIsl",
        "outputId": "1651c87c-6326-4760-d901-78ad87be3421"
      },
      "execution_count": 40,
      "outputs": [
        {
          "output_type": "stream",
          "name": "stdout",
          "text": [
            "Before move:  [0, 0, 1]\n",
            "After move:  [0, 1, 0]\n"
          ]
        }
      ]
    },
    {
      "cell_type": "markdown",
      "source": [
        "## Solution2:"
      ],
      "metadata": {
        "id": "3VRs8Td1ub1x"
      }
    },
    {
      "cell_type": "code",
      "source": [
        "class Solution2:\n",
        "    def moveZeroes(self, nums: List[int]) -> None:\n",
        "        \"\"\"\n",
        "        Do not return anything, modify nums in-place instead.\n",
        "        \"\"\"\n",
        "        print(\"Before move: \", nums)\n",
        "        for each_ind in range(len(nums)-1, -1, -1):\n",
        "            print(each_ind)\n",
        "            if nums[each_ind] == 0:\n",
        "                zero = nums.pop(each_ind)\n",
        "                nums.append(zero)\n",
        "        print(\"After move: \", nums)"
      ],
      "metadata": {
        "id": "cusxlA5fublJ"
      },
      "execution_count": 37,
      "outputs": []
    },
    {
      "cell_type": "code",
      "source": [
        "sol2 = Solution2()\n",
        "sol2.moveZeroes([0,0,1])"
      ],
      "metadata": {
        "colab": {
          "base_uri": "https://localhost:8080/"
        },
        "id": "wiJNJ5DcubeM",
        "outputId": "be4d49ec-2026-483a-f280-47b7780284cb"
      },
      "execution_count": 38,
      "outputs": [
        {
          "output_type": "stream",
          "name": "stdout",
          "text": [
            "Before move:  [0, 0, 1]\n",
            "2\n",
            "1\n",
            "0\n",
            "After move:  [1, 0, 0]\n"
          ]
        }
      ]
    },
    {
      "cell_type": "code",
      "source": [
        "sol2 = Solution2()\n",
        "sol2.moveZeroes([0,1,0,3,12])"
      ],
      "metadata": {
        "colab": {
          "base_uri": "https://localhost:8080/"
        },
        "id": "ipEPZHv5ubaq",
        "outputId": "fe91e10b-4be1-452d-ee34-970595966538"
      },
      "execution_count": 39,
      "outputs": [
        {
          "output_type": "stream",
          "name": "stdout",
          "text": [
            "Before move:  [0, 1, 0, 3, 12]\n",
            "4\n",
            "3\n",
            "2\n",
            "1\n",
            "0\n",
            "After move:  [1, 3, 12, 0, 0]\n"
          ]
        }
      ]
    },
    {
      "cell_type": "code",
      "source": [],
      "metadata": {
        "id": "4lz1L6-2ubVB"
      },
      "execution_count": null,
      "outputs": []
    }
  ]
}
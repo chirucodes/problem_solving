{
  "nbformat": 4,
  "nbformat_minor": 0,
  "metadata": {
    "colab": {
      "provenance": [],
      "authorship_tag": "ABX9TyOE3ltymG+z46VAT4nBVyS3",
      "include_colab_link": true
    },
    "kernelspec": {
      "name": "python3",
      "display_name": "Python 3"
    },
    "language_info": {
      "name": "python"
    }
  },
  "cells": [
    {
      "cell_type": "markdown",
      "metadata": {
        "id": "view-in-github",
        "colab_type": "text"
      },
      "source": [
        "<a href=\"https://colab.research.google.com/github/chirucodes/problem_solving/blob/main/929_Unique_Email_Addresses.ipynb\" target=\"_parent\"><img src=\"https://colab.research.google.com/assets/colab-badge.svg\" alt=\"Open In Colab\"/></a>"
      ]
    },
    {
      "cell_type": "markdown",
      "source": [
        "## Solution 1:"
      ],
      "metadata": {
        "id": "6Oa7OLRasv9q"
      }
    },
    {
      "cell_type": "markdown",
      "source": [
        "## 929. Unique Email Addresses\n",
        "\n",
        "Description: https://leetcode.com/problems/unique-email-addresses/description/"
      ],
      "metadata": {
        "id": "Zrs0cqRYszrk"
      }
    },
    {
      "cell_type": "code",
      "execution_count": 6,
      "metadata": {
        "id": "8f1oD1OpstCK"
      },
      "outputs": [],
      "source": [
        "from typing import List\n",
        "class Solution1:\n",
        "    def numUniqueEmails(self, emails: List[str]) -> int:\n",
        "        result = []\n",
        "        for each in emails:\n",
        "            ln = each.split('+')[0].split('@')[0].replace('.','')\n",
        "            dn = each.split('@')[1]\n",
        "            print(\"dn: \", dn)\n",
        "            fin = '@'.join([ln, dn])\n",
        "            if fin not in result:\n",
        "                result.append(fin)\n",
        "        print(\"---\", result)\n",
        "        return len(result)"
      ]
    },
    {
      "cell_type": "code",
      "source": [
        "sol1 = Solution1()\n",
        "sol1.numUniqueEmails([\"test.email+alex@leetcode.com\",\"test.e.mail+bob.cathy@leetcode.com\",\"testemail+david@lee.tcode.com\"])"
      ],
      "metadata": {
        "colab": {
          "base_uri": "https://localhost:8080/"
        },
        "id": "y_Zmlr5Isvng",
        "outputId": "b1d94c4c-0ea9-406d-f7bb-903f90aa20c8"
      },
      "execution_count": 7,
      "outputs": [
        {
          "output_type": "stream",
          "name": "stdout",
          "text": [
            "dn:  leetcode.com\n",
            "dn:  leetcode.com\n",
            "dn:  lee.tcode.com\n",
            "--- ['testemail@leetcode.com', 'testemail@lee.tcode.com']\n"
          ]
        },
        {
          "output_type": "execute_result",
          "data": {
            "text/plain": [
              "2"
            ]
          },
          "metadata": {},
          "execution_count": 7
        }
      ]
    },
    {
      "cell_type": "code",
      "source": [
        "sol1.numUniqueEmails([\"a@leetcode.com\",\"b@leetcode.com\",\"c@leetcode.com\"])"
      ],
      "metadata": {
        "colab": {
          "base_uri": "https://localhost:8080/"
        },
        "id": "ABDkoxxItI0A",
        "outputId": "a7a8ab4a-7275-4e2a-b744-603ccd109f64"
      },
      "execution_count": 8,
      "outputs": [
        {
          "output_type": "stream",
          "name": "stdout",
          "text": [
            "dn:  leetcode.com\n",
            "dn:  leetcode.com\n",
            "dn:  leetcode.com\n",
            "--- ['a@leetcode.com', 'b@leetcode.com', 'c@leetcode.com']\n"
          ]
        },
        {
          "output_type": "execute_result",
          "data": {
            "text/plain": [
              "3"
            ]
          },
          "metadata": {},
          "execution_count": 8
        }
      ]
    },
    {
      "cell_type": "code",
      "source": [
        "sol1.numUniqueEmails([\"test.email+alex@leetcode.com\",\"ttest.e.mail+bob.cathy@leetcode.com\",\"test.e.mail+bob.cathy@leetcode.com\",\"testemail+david@lee.tcode.com\"])"
      ],
      "metadata": {
        "colab": {
          "base_uri": "https://localhost:8080/"
        },
        "id": "L2YUG7ZltVvg",
        "outputId": "f7fe8ef2-1199-4ae5-bafe-6ccb402689eb"
      },
      "execution_count": 9,
      "outputs": [
        {
          "output_type": "stream",
          "name": "stdout",
          "text": [
            "dn:  leetcode.com\n",
            "dn:  leetcode.com\n",
            "dn:  leetcode.com\n",
            "dn:  lee.tcode.com\n",
            "--- ['testemail@leetcode.com', 'ttestemail@leetcode.com', 'testemail@lee.tcode.com']\n"
          ]
        },
        {
          "output_type": "execute_result",
          "data": {
            "text/plain": [
              "3"
            ]
          },
          "metadata": {},
          "execution_count": 9
        }
      ]
    }
  ]
}
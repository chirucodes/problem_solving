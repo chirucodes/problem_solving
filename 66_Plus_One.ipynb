{
  "nbformat": 4,
  "nbformat_minor": 0,
  "metadata": {
    "colab": {
      "provenance": [],
      "authorship_tag": "ABX9TyPW6uI2XZmlilpd7XszJsuw",
      "include_colab_link": true
    },
    "kernelspec": {
      "name": "python3",
      "display_name": "Python 3"
    },
    "language_info": {
      "name": "python"
    }
  },
  "cells": [
    {
      "cell_type": "markdown",
      "metadata": {
        "id": "view-in-github",
        "colab_type": "text"
      },
      "source": [
        "<a href=\"https://colab.research.google.com/github/chirucodes/problem_solving/blob/main/66_Plus_One.ipynb\" target=\"_parent\"><img src=\"https://colab.research.google.com/assets/colab-badge.svg\" alt=\"Open In Colab\"/></a>"
      ]
    },
    {
      "cell_type": "markdown",
      "source": [
        "## 66. Plus One\n",
        "\n",
        "Problem description: https://leetcode.com/problems/plus-one/description/"
      ],
      "metadata": {
        "id": "CcOOmSypDVDO"
      }
    },
    {
      "cell_type": "markdown",
      "source": [
        "## Solution1:"
      ],
      "metadata": {
        "id": "XI-3gFw1CrJP"
      }
    },
    {
      "cell_type": "code",
      "execution_count": 80,
      "metadata": {
        "id": "Wt03gVD59tgd"
      },
      "outputs": [],
      "source": [
        "from typing import List\n",
        "class Solution1:\n",
        "    def plusOne(self, digits: List[int]) -> List[int]:\n",
        "        num = \"\".join([str(each) for each in digits])\n",
        "        fin = int(num)+1\n",
        "        return list(str(fin))       "
      ]
    },
    {
      "cell_type": "code",
      "source": [
        "sol1 = Solution1()\n",
        "sol1.plusOne([9,9,9])"
      ],
      "metadata": {
        "colab": {
          "base_uri": "https://localhost:8080/"
        },
        "id": "sKMm086n96Bq",
        "outputId": "88a209bf-0958-4abf-e12f-fc2d58ebc6e5"
      },
      "execution_count": 81,
      "outputs": [
        {
          "output_type": "execute_result",
          "data": {
            "text/plain": [
              "['1', '0', '0', '0']"
            ]
          },
          "metadata": {},
          "execution_count": 81
        }
      ]
    },
    {
      "cell_type": "code",
      "source": [
        "sol1 = Solution1()\n",
        "sol1.plusOne([6,1,4,5,3,9,0,1,9,5,1,8,6,7,0,5,5,4,3])"
      ],
      "metadata": {
        "colab": {
          "base_uri": "https://localhost:8080/"
        },
        "id": "pxu9XTJF_tFL",
        "outputId": "618eb780-50f4-4145-c812-21a18500492d"
      },
      "execution_count": 82,
      "outputs": [
        {
          "output_type": "execute_result",
          "data": {
            "text/plain": [
              "['6',\n",
              " '1',\n",
              " '4',\n",
              " '5',\n",
              " '3',\n",
              " '9',\n",
              " '0',\n",
              " '1',\n",
              " '9',\n",
              " '5',\n",
              " '1',\n",
              " '8',\n",
              " '6',\n",
              " '7',\n",
              " '0',\n",
              " '5',\n",
              " '5',\n",
              " '4',\n",
              " '4']"
            ]
          },
          "metadata": {},
          "execution_count": 82
        }
      ]
    },
    {
      "cell_type": "code",
      "source": [
        "# For some reason it is not working\n",
        "\n",
        "from typing import List\n",
        "class Solution2:\n",
        "    def plusOne(self, digits: List[int]) -> List[int]:\n",
        "\n",
        "        num = \"\".join([str(each) for each in digits])\n",
        "\n",
        "        fin = int(num)+1\n",
        "        print(\"fin: \", )\n",
        "        # \"\"\"\n",
        "        res = []\n",
        "        while fin > 0:\n",
        "            \n",
        "            rem = int(fin)%10\n",
        "            print(\"rem:   \",rem)\n",
        "            res.insert(0, rem)\n",
        "            fin = fin-rem\n",
        "            fin = int(fin)/10\n",
        "            print(\"fin:   \",fin)\n",
        "        #\"\"\"\n",
        "        return list(str(fin))\n",
        "\n",
        "\n",
        "sol2 = Solution2()\n",
        "sol2.plusOne([6,1,4,5,3,9,0,1,9,5,1,8,6,7,0,5,5,4,3])\n",
        "        "
      ],
      "metadata": {
        "colab": {
          "base_uri": "https://localhost:8080/"
        },
        "id": "MrCFqybbDrNA",
        "outputId": "da67a37f-6407-40e2-fe3f-734036ff5d8e"
      },
      "execution_count": 85,
      "outputs": [
        {
          "output_type": "stream",
          "name": "stdout",
          "text": [
            "fin: \n",
            "rem:    4\n",
            "fin:    6.145390195186706e+17\n",
            "rem:    2\n",
            "fin:    6.145390195186706e+16\n",
            "rem:    6\n",
            "fin:    6145390195186705.0\n",
            "rem:    5\n",
            "fin:    614539019518670.0\n",
            "rem:    0\n",
            "fin:    61453901951867.0\n",
            "rem:    7\n",
            "fin:    6145390195186.0\n",
            "rem:    6\n",
            "fin:    614539019518.0\n",
            "rem:    8\n",
            "fin:    61453901951.0\n",
            "rem:    1\n",
            "fin:    6145390195.0\n",
            "rem:    5\n",
            "fin:    614539019.0\n",
            "rem:    9\n",
            "fin:    61453901.0\n",
            "rem:    1\n",
            "fin:    6145390.0\n",
            "rem:    0\n",
            "fin:    614539.0\n",
            "rem:    9\n",
            "fin:    61453.0\n",
            "rem:    3\n",
            "fin:    6145.0\n",
            "rem:    5\n",
            "fin:    614.0\n",
            "rem:    4\n",
            "fin:    61.0\n",
            "rem:    1\n",
            "fin:    6.0\n",
            "rem:    6\n",
            "fin:    0.0\n"
          ]
        },
        {
          "output_type": "execute_result",
          "data": {
            "text/plain": [
              "['0', '.', '0']"
            ]
          },
          "metadata": {},
          "execution_count": 85
        }
      ]
    }
  ]
}
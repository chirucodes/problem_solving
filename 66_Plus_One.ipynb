{
  "nbformat": 4,
  "nbformat_minor": 0,
  "metadata": {
    "colab": {
      "provenance": [],
      "authorship_tag": "ABX9TyNH1S4TR1DEDWb1M/U0b9WA",
      "include_colab_link": true
    },
    "kernelspec": {
      "name": "python3",
      "display_name": "Python 3"
    },
    "language_info": {
      "name": "python"
    }
  },
  "cells": [
    {
      "cell_type": "markdown",
      "metadata": {
        "id": "view-in-github",
        "colab_type": "text"
      },
      "source": [
        "<a href=\"https://colab.research.google.com/github/chirucodes/problem_solving/blob/main/66_Plus_One.ipynb\" target=\"_parent\"><img src=\"https://colab.research.google.com/assets/colab-badge.svg\" alt=\"Open In Colab\"/></a>"
      ]
    },
    {
      "cell_type": "markdown",
      "source": [
        "## 66. Plus One\n",
        "\n",
        "Problem description: https://leetcode.com/problems/plus-one/description/"
      ],
      "metadata": {
        "id": "CcOOmSypDVDO"
      }
    },
    {
      "cell_type": "markdown",
      "source": [
        "## Solution1:"
      ],
      "metadata": {
        "id": "XI-3gFw1CrJP"
      }
    },
    {
      "cell_type": "code",
      "execution_count": 59,
      "metadata": {
        "id": "Wt03gVD59tgd"
      },
      "outputs": [],
      "source": [
        "from typing import List\n",
        "class Solution1:\n",
        "    def plusOne(self, digits: List[int]) -> List[int]:\n",
        "        num = \"\".join([str(each) for each in digits])\n",
        "        fin = int(num)+1\n",
        "        return list(str(fin))       "
      ]
    },
    {
      "cell_type": "code",
      "source": [
        "sol1 = Solution1()\n",
        "sol1.plusOne([9,9,9])"
      ],
      "metadata": {
        "colab": {
          "base_uri": "https://localhost:8080/"
        },
        "id": "sKMm086n96Bq",
        "outputId": "bdd358a6-6cb5-4292-f337-19abfd3f9d66"
      },
      "execution_count": 60,
      "outputs": [
        {
          "output_type": "execute_result",
          "data": {
            "text/plain": [
              "['1', '0', '0', '0']"
            ]
          },
          "metadata": {},
          "execution_count": 60
        }
      ]
    },
    {
      "cell_type": "code",
      "source": [
        "sol1 = Solution1()\n",
        "sol1.plusOne([6,1,4,5,3,9,0,1,9,5,1,8,6,7,0,5,5,4,3])"
      ],
      "metadata": {
        "colab": {
          "base_uri": "https://localhost:8080/"
        },
        "id": "pxu9XTJF_tFL",
        "outputId": "53c1f7de-7127-4879-cdad-35cde113fd08"
      },
      "execution_count": 61,
      "outputs": [
        {
          "output_type": "execute_result",
          "data": {
            "text/plain": [
              "['6',\n",
              " '1',\n",
              " '4',\n",
              " '5',\n",
              " '3',\n",
              " '9',\n",
              " '0',\n",
              " '1',\n",
              " '9',\n",
              " '5',\n",
              " '1',\n",
              " '8',\n",
              " '6',\n",
              " '7',\n",
              " '0',\n",
              " '5',\n",
              " '5',\n",
              " '4',\n",
              " '4']"
            ]
          },
          "metadata": {},
          "execution_count": 61
        }
      ]
    }
  ]
}
{
  "nbformat": 4,
  "nbformat_minor": 0,
  "metadata": {
    "colab": {
      "provenance": [],
      "authorship_tag": "ABX9TyOerCkWZI6DqSaPk+XEhEMP",
      "include_colab_link": true
    },
    "kernelspec": {
      "name": "python3",
      "display_name": "Python 3"
    },
    "language_info": {
      "name": "python"
    }
  },
  "cells": [
    {
      "cell_type": "markdown",
      "metadata": {
        "id": "view-in-github",
        "colab_type": "text"
      },
      "source": [
        "<a href=\"https://colab.research.google.com/github/chirucodes/problem_solving/blob/main/14_Longest_Common_Prefix.ipynb\" target=\"_parent\"><img src=\"https://colab.research.google.com/assets/colab-badge.svg\" alt=\"Open In Colab\"/></a>"
      ]
    },
    {
      "cell_type": "markdown",
      "source": [
        "## 14. Longest Common Prefix\n",
        "\n",
        "Find the problem description here: https://leetcode.com/problems/longest-common-prefix/description/"
      ],
      "metadata": {
        "id": "yDOpXPF3alJc"
      }
    },
    {
      "cell_type": "markdown",
      "source": [
        "## Solution1:"
      ],
      "metadata": {
        "id": "i2MsAHOSdxWv"
      }
    },
    {
      "cell_type": "code",
      "execution_count": 1,
      "metadata": {
        "id": "rIscxhVEaknP"
      },
      "outputs": [],
      "source": [
        "from typing import List\n",
        "class Solution1:\n",
        "    def longestCommonPrefix(self, strs: List[str]) -> str:\n",
        "        sample = strs[0]\n",
        "        n=0\n",
        "        while n <= len(sample):\n",
        "            for each in strs[1:]:\n",
        "                if each.startswith(sample[:n]):\n",
        "                    continue\n",
        "                else:\n",
        "                    return sample[:n-1]\n",
        "            n+=1\n",
        "        return sample"
      ]
    },
    {
      "cell_type": "code",
      "source": [
        "sol1 = Solution1()\n",
        "sol1.longestCommonPrefix([\"flower\",\"flow\",\"flight\"])"
      ],
      "metadata": {
        "colab": {
          "base_uri": "https://localhost:8080/",
          "height": 36
        },
        "id": "RhLv4y1Va5us",
        "outputId": "b9c3e245-fc88-4235-d9d1-15c2af1b3e9e"
      },
      "execution_count": 2,
      "outputs": [
        {
          "output_type": "execute_result",
          "data": {
            "text/plain": [
              "'fl'"
            ],
            "application/vnd.google.colaboratory.intrinsic+json": {
              "type": "string"
            }
          },
          "metadata": {},
          "execution_count": 2
        }
      ]
    },
    {
      "cell_type": "code",
      "source": [
        "sol1.longestCommonPrefix([\"dog\",\"racecar\",\"car\"])"
      ],
      "metadata": {
        "colab": {
          "base_uri": "https://localhost:8080/",
          "height": 36
        },
        "id": "a9-gWfVDbOrs",
        "outputId": "ea497843-8c35-4bcd-d6a8-5905ec686778"
      },
      "execution_count": 3,
      "outputs": [
        {
          "output_type": "execute_result",
          "data": {
            "text/plain": [
              "''"
            ],
            "application/vnd.google.colaboratory.intrinsic+json": {
              "type": "string"
            }
          },
          "metadata": {},
          "execution_count": 3
        }
      ]
    },
    {
      "cell_type": "code",
      "source": [
        "sol1.longestCommonPrefix([\"c\",\"acc\",\"ccc\"])"
      ],
      "metadata": {
        "colab": {
          "base_uri": "https://localhost:8080/",
          "height": 36
        },
        "id": "Fu-mee6MlDcf",
        "outputId": "acd9a727-2ce2-4371-9a89-420d32a5c55b"
      },
      "execution_count": 4,
      "outputs": [
        {
          "output_type": "execute_result",
          "data": {
            "text/plain": [
              "''"
            ],
            "application/vnd.google.colaboratory.intrinsic+json": {
              "type": "string"
            }
          },
          "metadata": {},
          "execution_count": 4
        }
      ]
    },
    {
      "cell_type": "markdown",
      "source": [
        "## Solution2:"
      ],
      "metadata": {
        "id": "dMGofISZdqVo"
      }
    },
    {
      "cell_type": "code",
      "source": [
        "class Solution2:\n",
        "    def longestCommonPrefix(self, strs: List[str]) -> str:\n",
        "        sample = strs[0]\n",
        "        n=len(sample)\n",
        "        while n > 0:\n",
        "            for each in strs[1:]:\n",
        "                if sample[:n] in each:\n",
        "                    return sample[:n]\n",
        "                else:\n",
        "                    continue\n",
        "            n-=1\n",
        "        return \"\""
      ],
      "metadata": {
        "id": "85N--OBjduAP"
      },
      "execution_count": 5,
      "outputs": []
    },
    {
      "cell_type": "code",
      "source": [
        "sol2 = Solution2()\n",
        "sol2.longestCommonPrefix([\"flower\",\"flow\",\"flight\"])"
      ],
      "metadata": {
        "colab": {
          "base_uri": "https://localhost:8080/",
          "height": 36
        },
        "id": "upYWAAGedt9R",
        "outputId": "83eabfa4-8115-41e8-c9a6-bedb04cca70c"
      },
      "execution_count": 6,
      "outputs": [
        {
          "output_type": "execute_result",
          "data": {
            "text/plain": [
              "'flow'"
            ],
            "application/vnd.google.colaboratory.intrinsic+json": {
              "type": "string"
            }
          },
          "metadata": {},
          "execution_count": 6
        }
      ]
    },
    {
      "cell_type": "code",
      "source": [
        "sol2.longestCommonPrefix([\"dog\",\"racecar\",\"car\"])"
      ],
      "metadata": {
        "colab": {
          "base_uri": "https://localhost:8080/",
          "height": 36
        },
        "id": "AXUl44Ord86u",
        "outputId": "e934465d-b3c7-41a4-d722-f24d88fc0b4f"
      },
      "execution_count": 7,
      "outputs": [
        {
          "output_type": "execute_result",
          "data": {
            "text/plain": [
              "''"
            ],
            "application/vnd.google.colaboratory.intrinsic+json": {
              "type": "string"
            }
          },
          "metadata": {},
          "execution_count": 7
        }
      ]
    },
    {
      "cell_type": "markdown",
      "source": [
        "## Solution3:"
      ],
      "metadata": {
        "id": "BEFIM1UUfW7Y"
      }
    },
    {
      "cell_type": "code",
      "source": [
        "from typing import List\n",
        "\n",
        "class Solution3:\n",
        "    def longestCommonPrefix(self, strs: List[str]) -> str:\n",
        "        result = \"\"\n",
        "        for each_ind in list(zip(*strs)):\n",
        "            if each_ind.count(each_ind[0]) == len(strs):\n",
        "                result += each_ind[0]\n",
        "                continue\n",
        "            else:\n",
        "                return result"
      ],
      "metadata": {
        "id": "UNqEcDwZetzo"
      },
      "execution_count": 8,
      "outputs": []
    },
    {
      "cell_type": "code",
      "source": [
        "sol3 = Solution3()\n",
        "sol3.longestCommonPrefix([\"flower\",\"flow\",\"flight\"])"
      ],
      "metadata": {
        "colab": {
          "base_uri": "https://localhost:8080/",
          "height": 36
        },
        "id": "SEzJoFeyfol3",
        "outputId": "102e2278-6d9f-401e-b008-9c09dadda1f1"
      },
      "execution_count": 9,
      "outputs": [
        {
          "output_type": "execute_result",
          "data": {
            "text/plain": [
              "'fl'"
            ],
            "application/vnd.google.colaboratory.intrinsic+json": {
              "type": "string"
            }
          },
          "metadata": {},
          "execution_count": 9
        }
      ]
    },
    {
      "cell_type": "code",
      "source": [
        "sol3.longestCommonPrefix([\"flow\",\"flower\",\"floght\"])"
      ],
      "metadata": {
        "colab": {
          "base_uri": "https://localhost:8080/",
          "height": 36
        },
        "id": "O9jKhT-vhGAp",
        "outputId": "7b495472-e1a8-4816-9fed-3adb5114c3e1"
      },
      "execution_count": 10,
      "outputs": [
        {
          "output_type": "execute_result",
          "data": {
            "text/plain": [
              "'flo'"
            ],
            "application/vnd.google.colaboratory.intrinsic+json": {
              "type": "string"
            }
          },
          "metadata": {},
          "execution_count": 10
        }
      ]
    },
    {
      "cell_type": "code",
      "source": [
        "sol3.longestCommonPrefix([\"dog\",\"racecar\",\"car\"])"
      ],
      "metadata": {
        "colab": {
          "base_uri": "https://localhost:8080/",
          "height": 36
        },
        "id": "_5GDVXcBg8Ph",
        "outputId": "16100dc8-25ce-4f4c-de09-ba8dca1e200a"
      },
      "execution_count": 11,
      "outputs": [
        {
          "output_type": "execute_result",
          "data": {
            "text/plain": [
              "''"
            ],
            "application/vnd.google.colaboratory.intrinsic+json": {
              "type": "string"
            }
          },
          "metadata": {},
          "execution_count": 11
        }
      ]
    },
    {
      "cell_type": "markdown",
      "source": [
        "## The concept of Zip()"
      ],
      "metadata": {
        "id": "i0kHeZiUi0mx"
      }
    },
    {
      "cell_type": "code",
      "source": [
        "zip(\"abc\")"
      ],
      "metadata": {
        "colab": {
          "base_uri": "https://localhost:8080/"
        },
        "id": "NO-tbg84hn5a",
        "outputId": "455625c3-68c6-4f7b-e3e2-337b6c6ba73c"
      },
      "execution_count": 12,
      "outputs": [
        {
          "output_type": "execute_result",
          "data": {
            "text/plain": [
              "<zip at 0x7ffa631e55c0>"
            ]
          },
          "metadata": {},
          "execution_count": 12
        }
      ]
    },
    {
      "cell_type": "code",
      "source": [
        "zip([\"abc\"])"
      ],
      "metadata": {
        "colab": {
          "base_uri": "https://localhost:8080/"
        },
        "id": "iovCn8-mhn8J",
        "outputId": "97033c98-74a6-479b-82ff-d28eb9ccbd67"
      },
      "execution_count": 13,
      "outputs": [
        {
          "output_type": "execute_result",
          "data": {
            "text/plain": [
              "<zip at 0x7ffa631f7080>"
            ]
          },
          "metadata": {},
          "execution_count": 13
        }
      ]
    },
    {
      "cell_type": "code",
      "source": [
        "list(zip(\"abc\"))"
      ],
      "metadata": {
        "colab": {
          "base_uri": "https://localhost:8080/"
        },
        "id": "ZqZXBSwWhQgL",
        "outputId": "ed13ffce-cc65-4836-8c2c-0a7aa3772304"
      },
      "execution_count": 14,
      "outputs": [
        {
          "output_type": "execute_result",
          "data": {
            "text/plain": [
              "[('a',), ('b',), ('c',)]"
            ]
          },
          "metadata": {},
          "execution_count": 14
        }
      ]
    },
    {
      "cell_type": "code",
      "source": [
        "list(zip([\"abc\"]))"
      ],
      "metadata": {
        "colab": {
          "base_uri": "https://localhost:8080/"
        },
        "id": "sfppBTvUhVC_",
        "outputId": "67cc02b6-6465-49b1-aedf-850e4e141ecf"
      },
      "execution_count": 15,
      "outputs": [
        {
          "output_type": "execute_result",
          "data": {
            "text/plain": [
              "[('abc',)]"
            ]
          },
          "metadata": {},
          "execution_count": 15
        }
      ]
    },
    {
      "cell_type": "code",
      "source": [
        "list(zip([\"abc\", \"abd\"]))"
      ],
      "metadata": {
        "colab": {
          "base_uri": "https://localhost:8080/"
        },
        "id": "AMnERl5zh920",
        "outputId": "2bc5bccc-7faa-47b5-c067-8690cb9b4d57"
      },
      "execution_count": 16,
      "outputs": [
        {
          "output_type": "execute_result",
          "data": {
            "text/plain": [
              "[('abc',), ('abd',)]"
            ]
          },
          "metadata": {},
          "execution_count": 16
        }
      ]
    },
    {
      "cell_type": "code",
      "source": [
        "list(zip([[\"abc\"]]))"
      ],
      "metadata": {
        "colab": {
          "base_uri": "https://localhost:8080/"
        },
        "id": "tTvM9Eo2haWF",
        "outputId": "82da64d1-132e-4ef1-c4f0-1617f9328912"
      },
      "execution_count": 17,
      "outputs": [
        {
          "output_type": "execute_result",
          "data": {
            "text/plain": [
              "[(['abc'],)]"
            ]
          },
          "metadata": {},
          "execution_count": 17
        }
      ]
    },
    {
      "cell_type": "code",
      "source": [
        "list(zip([[[\"abc\"]]]))"
      ],
      "metadata": {
        "colab": {
          "base_uri": "https://localhost:8080/"
        },
        "id": "0VBJMfojjcbY",
        "outputId": "06e8bba4-54f6-4426-9753-d63ed4ebf1ba"
      },
      "execution_count": 18,
      "outputs": [
        {
          "output_type": "execute_result",
          "data": {
            "text/plain": [
              "[([['abc']],)]"
            ]
          },
          "metadata": {},
          "execution_count": 18
        }
      ]
    },
    {
      "cell_type": "code",
      "source": [
        "list(zip(*[\"abc\"]))"
      ],
      "metadata": {
        "colab": {
          "base_uri": "https://localhost:8080/"
        },
        "id": "wb2uL_BthdJ3",
        "outputId": "e60f211d-5729-4f00-cf2c-9f51b1e7e7cc"
      },
      "execution_count": 19,
      "outputs": [
        {
          "output_type": "execute_result",
          "data": {
            "text/plain": [
              "[('a',), ('b',), ('c',)]"
            ]
          },
          "metadata": {},
          "execution_count": 19
        }
      ]
    },
    {
      "cell_type": "code",
      "source": [
        "list(zip(*[\"abc\", \"abd\"]))"
      ],
      "metadata": {
        "colab": {
          "base_uri": "https://localhost:8080/"
        },
        "id": "YarDjTuPhxVG",
        "outputId": "080b8527-31cd-43d0-eca3-a68f8089a466"
      },
      "execution_count": 20,
      "outputs": [
        {
          "output_type": "execute_result",
          "data": {
            "text/plain": [
              "[('a', 'a'), ('b', 'b'), ('c', 'd')]"
            ]
          },
          "metadata": {},
          "execution_count": 20
        }
      ]
    }
  ]
}
{
  "nbformat": 4,
  "nbformat_minor": 0,
  "metadata": {
    "colab": {
      "provenance": [],
      "authorship_tag": "ABX9TyPwIgPitisznJvN/6k2DKLU",
      "include_colab_link": true
    },
    "kernelspec": {
      "name": "python3",
      "display_name": "Python 3"
    },
    "language_info": {
      "name": "python"
    }
  },
  "cells": [
    {
      "cell_type": "markdown",
      "metadata": {
        "id": "view-in-github",
        "colab_type": "text"
      },
      "source": [
        "<a href=\"https://colab.research.google.com/github/chirucodes/problem_solving/blob/main/941_Valid_Mountain_Array.ipynb\" target=\"_parent\"><img src=\"https://colab.research.google.com/assets/colab-badge.svg\" alt=\"Open In Colab\"/></a>"
      ]
    },
    {
      "cell_type": "markdown",
      "source": [
        "## 941. Valid Mountain Array\n",
        "\n",
        "Description: https://leetcode.com/problems/valid-mountain-array/description/"
      ],
      "metadata": {
        "id": "A63kuGTjUCX-"
      }
    },
    {
      "cell_type": "markdown",
      "source": [
        "## Solution1:"
      ],
      "metadata": {
        "id": "uPW6UydDT_N1"
      }
    },
    {
      "cell_type": "code",
      "execution_count": 1,
      "metadata": {
        "id": "IvdVtk5HTqcV"
      },
      "outputs": [],
      "source": [
        "from typing import List\n",
        "\n",
        "class Solution1:\n",
        "    def validMountainArray(self, arr: List[int]) -> bool:\n",
        "        if len(arr) < 3:\n",
        "            return False\n",
        "        \n",
        "        up = 0\n",
        "        down = 0\n",
        "        for ind, val in enumerate(arr[1:], start=1):\n",
        "            print(\"ind: \", ind)\n",
        "            print(\"val: \", val)\n",
        "            if arr[ind-1] < val:\n",
        "                if down == 0:\n",
        "                    up = 1\n",
        "                    continue\n",
        "                else:\n",
        "                    return False\n",
        "            elif arr[ind-1] > val:\n",
        "                if up == 1:\n",
        "                    down = 1\n",
        "                    continue\n",
        "                else:\n",
        "                    return False\n",
        "            elif arr[ind-1] == val:\n",
        "                return False\n",
        "        if up == 1 and down == 1:\n",
        "            return True\n",
        "        return False "
      ]
    },
    {
      "cell_type": "code",
      "source": [
        "sol1 = Solution1()\n",
        "sol1.validMountainArray([3,5,5])"
      ],
      "metadata": {
        "colab": {
          "base_uri": "https://localhost:8080/"
        },
        "id": "BVB_pURfUPZr",
        "outputId": "8d02632a-cbe7-4251-c984-3921355d538e"
      },
      "execution_count": 2,
      "outputs": [
        {
          "output_type": "stream",
          "name": "stdout",
          "text": [
            "ind:  1\n",
            "val:  5\n",
            "ind:  2\n",
            "val:  5\n"
          ]
        },
        {
          "output_type": "execute_result",
          "data": {
            "text/plain": [
              "False"
            ]
          },
          "metadata": {},
          "execution_count": 2
        }
      ]
    },
    {
      "cell_type": "code",
      "source": [
        "sol1.validMountainArray([0,3,2,1])"
      ],
      "metadata": {
        "colab": {
          "base_uri": "https://localhost:8080/"
        },
        "id": "NHD6JLAfUPWQ",
        "outputId": "10843770-9dd0-40e2-e6be-57b0b75868a7"
      },
      "execution_count": 3,
      "outputs": [
        {
          "output_type": "stream",
          "name": "stdout",
          "text": [
            "ind:  1\n",
            "val:  3\n",
            "ind:  2\n",
            "val:  2\n",
            "ind:  3\n",
            "val:  1\n"
          ]
        },
        {
          "output_type": "execute_result",
          "data": {
            "text/plain": [
              "True"
            ]
          },
          "metadata": {},
          "execution_count": 3
        }
      ]
    },
    {
      "cell_type": "code",
      "source": [
        "sol1.validMountainArray([1,1,1,1,1,1,1,2,1])"
      ],
      "metadata": {
        "colab": {
          "base_uri": "https://localhost:8080/"
        },
        "id": "YV8QvtCkUPTF",
        "outputId": "f6ef7301-b795-4fde-c1da-4935d0fb9c09"
      },
      "execution_count": 4,
      "outputs": [
        {
          "output_type": "stream",
          "name": "stdout",
          "text": [
            "ind:  1\n",
            "val:  1\n"
          ]
        },
        {
          "output_type": "execute_result",
          "data": {
            "text/plain": [
              "False"
            ]
          },
          "metadata": {},
          "execution_count": 4
        }
      ]
    },
    {
      "cell_type": "markdown",
      "source": [
        "## Solution2:"
      ],
      "metadata": {
        "id": "au8FuSjihZ4N"
      }
    },
    {
      "cell_type": "code",
      "source": [
        "class Solution2:\n",
        "    def validMountainArray(self, arr: List[int]) -> bool:\n",
        "        if len(arr) < 3:\n",
        "            return False\n",
        "        \n",
        "        up = 0\n",
        "        down = 0\n",
        "        \n",
        "        for ind in range(1, len(arr)):\n",
        "            print(\"ind: \", ind)\n",
        "            if arr[ind-1] < arr[ind]:\n",
        "                if down == 0:\n",
        "                    up = 1\n",
        "                    continue\n",
        "                else:\n",
        "                    return False\n",
        "            elif arr[ind-1] > arr[ind]:\n",
        "                if up == 1:\n",
        "                    down = 1\n",
        "                    continue\n",
        "                else:\n",
        "                    return False\n",
        "            elif arr[ind-1] == arr[ind]:\n",
        "                return False\n",
        "        if up == 1 and down == 1:\n",
        "            return True\n",
        "        return False "
      ],
      "metadata": {
        "id": "AtfjWPHahdDU"
      },
      "execution_count": 5,
      "outputs": []
    },
    {
      "cell_type": "code",
      "source": [
        "sol2 = Solution2()\n",
        "sol2.validMountainArray([3,5,5])"
      ],
      "metadata": {
        "colab": {
          "base_uri": "https://localhost:8080/"
        },
        "id": "xCsyAkK4hmWv",
        "outputId": "16222274-3106-4bb6-8d44-f93284ca5c19"
      },
      "execution_count": 6,
      "outputs": [
        {
          "output_type": "stream",
          "name": "stdout",
          "text": [
            "ind:  1\n",
            "ind:  2\n"
          ]
        },
        {
          "output_type": "execute_result",
          "data": {
            "text/plain": [
              "False"
            ]
          },
          "metadata": {},
          "execution_count": 6
        }
      ]
    },
    {
      "cell_type": "code",
      "source": [
        "sol1.validMountainArray([0,3,2,1])"
      ],
      "metadata": {
        "colab": {
          "base_uri": "https://localhost:8080/"
        },
        "id": "CV-5iHYahmTT",
        "outputId": "a6889a16-8cf3-439e-d651-76a787e3167b"
      },
      "execution_count": 7,
      "outputs": [
        {
          "output_type": "stream",
          "name": "stdout",
          "text": [
            "ind:  1\n",
            "val:  3\n",
            "ind:  2\n",
            "val:  2\n",
            "ind:  3\n",
            "val:  1\n"
          ]
        },
        {
          "output_type": "execute_result",
          "data": {
            "text/plain": [
              "True"
            ]
          },
          "metadata": {},
          "execution_count": 7
        }
      ]
    },
    {
      "cell_type": "code",
      "source": [
        "sol1.validMountainArray([1,1,1,1,1,1,1,2,1])"
      ],
      "metadata": {
        "colab": {
          "base_uri": "https://localhost:8080/"
        },
        "id": "ECeaBCc_hmQI",
        "outputId": "f057c046-f9e8-40e5-9e88-7b14a5a026d4"
      },
      "execution_count": 8,
      "outputs": [
        {
          "output_type": "stream",
          "name": "stdout",
          "text": [
            "ind:  1\n",
            "val:  1\n"
          ]
        },
        {
          "output_type": "execute_result",
          "data": {
            "text/plain": [
              "False"
            ]
          },
          "metadata": {},
          "execution_count": 8
        }
      ]
    },
    {
      "cell_type": "code",
      "source": [],
      "metadata": {
        "id": "abyEGwHThmNJ"
      },
      "execution_count": 8,
      "outputs": []
    },
    {
      "cell_type": "markdown",
      "source": [
        "## Solution3:"
      ],
      "metadata": {
        "id": "_d6IryIAk7a3"
      }
    },
    {
      "cell_type": "code",
      "source": [
        "class Solution3:\n",
        "    def validMountainArray(self, arr: List[int]) -> bool:\n",
        "        if len(arr) < 3:\n",
        "            return False\n",
        "        \n",
        "        up_down = 0\n",
        "        \n",
        "        for ind in range(1, len(arr)):\n",
        "            print(\"ind: \", ind)\n",
        "            print(\"up_down: \", up_down)\n",
        "            if arr[ind-1] < arr[ind]:\n",
        "                if up_down >= 0:\n",
        "                    up_down += 1\n",
        "                    continue\n",
        "                else:\n",
        "                    return False\n",
        "            elif arr[ind-1] > arr[ind]:\n",
        "                if up_down >= 1:\n",
        "                    up_down += 1\n",
        "                    continue\n",
        "                else:\n",
        "                    return False\n",
        "            elif arr[ind-1] == arr[ind]:\n",
        "                return False\n",
        "        print(\"up_down: \", up_down)\n",
        "            \n",
        "        if up_down+2 == len(arr):\n",
        "            return False\n",
        "        return True"
      ],
      "metadata": {
        "id": "u9abdYP1k6Yh"
      },
      "execution_count": 9,
      "outputs": []
    },
    {
      "cell_type": "code",
      "source": [
        "sol3 = Solution3()\n",
        "sol3.validMountainArray([3,5,5])"
      ],
      "metadata": {
        "colab": {
          "base_uri": "https://localhost:8080/"
        },
        "id": "5nBLPjYDlBqR",
        "outputId": "2a8f60c0-7ea5-4b66-8a16-f78c13efa673"
      },
      "execution_count": 10,
      "outputs": [
        {
          "output_type": "stream",
          "name": "stdout",
          "text": [
            "ind:  1\n",
            "up_down:  0\n",
            "ind:  2\n",
            "up_down:  1\n"
          ]
        },
        {
          "output_type": "execute_result",
          "data": {
            "text/plain": [
              "False"
            ]
          },
          "metadata": {},
          "execution_count": 10
        }
      ]
    },
    {
      "cell_type": "code",
      "source": [
        "sol3.validMountainArray([0,3,2,1])"
      ],
      "metadata": {
        "colab": {
          "base_uri": "https://localhost:8080/"
        },
        "id": "z_SKEvNElHT8",
        "outputId": "474f2d21-300d-4e1f-9eee-d63f6b09503c"
      },
      "execution_count": 11,
      "outputs": [
        {
          "output_type": "stream",
          "name": "stdout",
          "text": [
            "ind:  1\n",
            "up_down:  0\n",
            "ind:  2\n",
            "up_down:  1\n",
            "ind:  3\n",
            "up_down:  2\n",
            "up_down:  3\n"
          ]
        },
        {
          "output_type": "execute_result",
          "data": {
            "text/plain": [
              "True"
            ]
          },
          "metadata": {},
          "execution_count": 11
        }
      ]
    },
    {
      "cell_type": "code",
      "source": [
        "sol3.validMountainArray([1,1,1,1,1,1,1,2,1])"
      ],
      "metadata": {
        "colab": {
          "base_uri": "https://localhost:8080/"
        },
        "id": "ZDlqr5whlOSd",
        "outputId": "201352ca-1e0d-4135-acc1-c74b88fc26f5"
      },
      "execution_count": 12,
      "outputs": [
        {
          "output_type": "stream",
          "name": "stdout",
          "text": [
            "ind:  1\n",
            "up_down:  0\n"
          ]
        },
        {
          "output_type": "execute_result",
          "data": {
            "text/plain": [
              "False"
            ]
          },
          "metadata": {},
          "execution_count": 12
        }
      ]
    },
    {
      "cell_type": "code",
      "source": [
        "sol3.validMountainArray([0,1,2,3,4,5,6,7,8,9]) # Testcase failed"
      ],
      "metadata": {
        "colab": {
          "base_uri": "https://localhost:8080/"
        },
        "id": "Ad0WYZsElRru",
        "outputId": "eb4293be-7d53-41d5-d9d9-067dc0d756a9"
      },
      "execution_count": 13,
      "outputs": [
        {
          "output_type": "stream",
          "name": "stdout",
          "text": [
            "ind:  1\n",
            "up_down:  0\n",
            "ind:  2\n",
            "up_down:  1\n",
            "ind:  3\n",
            "up_down:  2\n",
            "ind:  4\n",
            "up_down:  3\n",
            "ind:  5\n",
            "up_down:  4\n",
            "ind:  6\n",
            "up_down:  5\n",
            "ind:  7\n",
            "up_down:  6\n",
            "ind:  8\n",
            "up_down:  7\n",
            "ind:  9\n",
            "up_down:  8\n",
            "up_down:  9\n"
          ]
        },
        {
          "output_type": "execute_result",
          "data": {
            "text/plain": [
              "True"
            ]
          },
          "metadata": {},
          "execution_count": 13
        }
      ]
    },
    {
      "cell_type": "markdown",
      "source": [
        "## Solution4:\n"
      ],
      "metadata": {
        "id": "Dt_ZeOr_2m01"
      }
    },
    {
      "cell_type": "code",
      "source": [
        "class Solution4:\n",
        "    def validMountainArray(self, arr: List[int]) -> bool:\n",
        "        \n",
        "        length = len(arr)\n",
        "\n",
        "        i = 0\n",
        "\n",
        "        if length < 3:\n",
        "            return False\n",
        "\n",
        "        while i+1 < length and arr[i+1] > arr[i]:\n",
        "            i += 1\n",
        "        \n",
        "        if i==0 or i == length-1:\n",
        "            return False\n",
        "\n",
        "        while i+1 < length and arr[i+1] < arr[i]:\n",
        "            i += 1\n",
        "        \n",
        "        return i == length-1"
      ],
      "metadata": {
        "id": "Dnn0Yph-2p0v"
      },
      "execution_count": 14,
      "outputs": []
    },
    {
      "cell_type": "code",
      "source": [
        "sol4 = Solution4()\n",
        "sol4.validMountainArray([3,5,5])"
      ],
      "metadata": {
        "colab": {
          "base_uri": "https://localhost:8080/"
        },
        "id": "-e_EbHVu20zq",
        "outputId": "6bb2643f-5a49-4004-8355-0abf19d71b01"
      },
      "execution_count": 15,
      "outputs": [
        {
          "output_type": "execute_result",
          "data": {
            "text/plain": [
              "False"
            ]
          },
          "metadata": {},
          "execution_count": 15
        }
      ]
    },
    {
      "cell_type": "code",
      "source": [
        "sol4.validMountainArray([1,1,1,1,1,1,1,2,1])"
      ],
      "metadata": {
        "colab": {
          "base_uri": "https://localhost:8080/"
        },
        "id": "nse5Ya9k3Gfr",
        "outputId": "9136d381-6aca-4845-dbfd-fd56f2c44ca9"
      },
      "execution_count": 18,
      "outputs": [
        {
          "output_type": "execute_result",
          "data": {
            "text/plain": [
              "False"
            ]
          },
          "metadata": {},
          "execution_count": 18
        }
      ]
    },
    {
      "cell_type": "code",
      "source": [
        "sol4.validMountainArray([0,3,2,1])"
      ],
      "metadata": {
        "colab": {
          "base_uri": "https://localhost:8080/"
        },
        "id": "QCIKCuJb3FHC",
        "outputId": "746cdf27-e163-4518-b607-d08546c240ce"
      },
      "execution_count": 16,
      "outputs": [
        {
          "output_type": "execute_result",
          "data": {
            "text/plain": [
              "True"
            ]
          },
          "metadata": {},
          "execution_count": 16
        }
      ]
    },
    {
      "cell_type": "code",
      "source": [
        "sol4.validMountainArray([0,1,2,3,4,5,6,7,8,9])"
      ],
      "metadata": {
        "colab": {
          "base_uri": "https://localhost:8080/"
        },
        "id": "ko6ldNP43Q1w",
        "outputId": "58a6862c-977e-48f9-d3fd-6eca63d17ee2"
      },
      "execution_count": 21,
      "outputs": [
        {
          "output_type": "execute_result",
          "data": {
            "text/plain": [
              "False"
            ]
          },
          "metadata": {},
          "execution_count": 21
        }
      ]
    }
  ]
}
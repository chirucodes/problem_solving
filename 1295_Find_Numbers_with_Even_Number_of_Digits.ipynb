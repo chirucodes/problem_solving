{
  "nbformat": 4,
  "nbformat_minor": 0,
  "metadata": {
    "colab": {
      "provenance": [],
      "authorship_tag": "ABX9TyN1BUAF6aHCoKI4K75lU170",
      "include_colab_link": true
    },
    "kernelspec": {
      "name": "python3",
      "display_name": "Python 3"
    },
    "language_info": {
      "name": "python"
    }
  },
  "cells": [
    {
      "cell_type": "markdown",
      "metadata": {
        "id": "view-in-github",
        "colab_type": "text"
      },
      "source": [
        "<a href=\"https://colab.research.google.com/github/chirucodes/problem_solving/blob/main/1295_Find_Numbers_with_Even_Number_of_Digits.ipynb\" target=\"_parent\"><img src=\"https://colab.research.google.com/assets/colab-badge.svg\" alt=\"Open In Colab\"/></a>"
      ]
    },
    {
      "cell_type": "markdown",
      "source": [
        "## 1295. Find Numbers with Even Number of Digits\n",
        "\n",
        "Problem Description: https://leetcode.com/problems/find-numbers-with-even-number-of-digits/description/"
      ],
      "metadata": {
        "id": "IqRbfsr9BdwA"
      }
    },
    {
      "cell_type": "markdown",
      "source": [
        "## Solution1:\n"
      ],
      "metadata": {
        "id": "e7SQRoD4BZNx"
      }
    },
    {
      "cell_type": "code",
      "execution_count": 2,
      "metadata": {
        "id": "OQV8TA3cBUHT"
      },
      "outputs": [],
      "source": [
        "from typing import List\n",
        "\n",
        "class Solution1:\n",
        "    def findNumbers(self, nums: List[int]) -> int:\n",
        "        even_count = 0\n",
        "\n",
        "        for each in nums:\n",
        "            if len(str(each)) %2 == 0:\n",
        "                even_count += 1\n",
        "        return even_count\n"
      ]
    },
    {
      "cell_type": "code",
      "source": [
        "sol1 = Solution1()\n",
        "sol1.findNumbers([12,345,2,6,7896])"
      ],
      "metadata": {
        "colab": {
          "base_uri": "https://localhost:8080/"
        },
        "id": "S1IQ9AufBqHx",
        "outputId": "b5263ff5-e594-464f-f548-64766e4bd97b"
      },
      "execution_count": 3,
      "outputs": [
        {
          "output_type": "execute_result",
          "data": {
            "text/plain": [
              "2"
            ]
          },
          "metadata": {},
          "execution_count": 3
        }
      ]
    },
    {
      "cell_type": "code",
      "source": [
        "sol1.findNumbers([555,901,482,1771])"
      ],
      "metadata": {
        "colab": {
          "base_uri": "https://localhost:8080/"
        },
        "id": "QP7eV9HeBqLd",
        "outputId": "79819635-bc6e-41c6-eb3e-8531b084b5d5"
      },
      "execution_count": 5,
      "outputs": [
        {
          "output_type": "execute_result",
          "data": {
            "text/plain": [
              "1"
            ]
          },
          "metadata": {},
          "execution_count": 5
        }
      ]
    },
    {
      "cell_type": "markdown",
      "source": [
        "## Solution2:"
      ],
      "metadata": {
        "id": "UepOO1wHCpgI"
      }
    },
    {
      "cell_type": "code",
      "source": [
        "class Solution2:\n",
        "    def findNumbers(self, nums: List[int]) -> int:\n",
        "        even_count = 0\n",
        "\n",
        "        for each in nums:\n",
        "            dig_count = 0\n",
        "            while each != 0:\n",
        "                each = int(each/10)\n",
        "                dig_count += 1\n",
        "            if dig_count % 2 == 0:\n",
        "                even_count += 1\n",
        "        return even_count"
      ],
      "metadata": {
        "id": "s8pib7cFCsR-"
      },
      "execution_count": 6,
      "outputs": []
    },
    {
      "cell_type": "code",
      "source": [
        "sol2 = Solution2()\n",
        "sol2.findNumbers([12,345,2,6,7896])"
      ],
      "metadata": {
        "colab": {
          "base_uri": "https://localhost:8080/"
        },
        "id": "7lcRG9MyCsU4",
        "outputId": "d3c42a35-1991-4d5c-f1a6-5962a1c1e165"
      },
      "execution_count": 7,
      "outputs": [
        {
          "output_type": "execute_result",
          "data": {
            "text/plain": [
              "2"
            ]
          },
          "metadata": {},
          "execution_count": 7
        }
      ]
    },
    {
      "cell_type": "code",
      "source": [
        "sol2.findNumbers([555,901,482,1771])"
      ],
      "metadata": {
        "colab": {
          "base_uri": "https://localhost:8080/"
        },
        "id": "qHXlEiJOCyYo",
        "outputId": "953b8747-814f-442d-c21b-bc52cc410d37"
      },
      "execution_count": 8,
      "outputs": [
        {
          "output_type": "execute_result",
          "data": {
            "text/plain": [
              "1"
            ]
          },
          "metadata": {},
          "execution_count": 8
        }
      ]
    }
  ]
}
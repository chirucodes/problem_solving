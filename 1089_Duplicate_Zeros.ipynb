{
  "nbformat": 4,
  "nbformat_minor": 0,
  "metadata": {
    "colab": {
      "provenance": [],
      "authorship_tag": "ABX9TyNH7z72kx87DAcXbFMqXdD0",
      "include_colab_link": true
    },
    "kernelspec": {
      "name": "python3",
      "display_name": "Python 3"
    },
    "language_info": {
      "name": "python"
    }
  },
  "cells": [
    {
      "cell_type": "markdown",
      "metadata": {
        "id": "view-in-github",
        "colab_type": "text"
      },
      "source": [
        "<a href=\"https://colab.research.google.com/github/chirucodes/problem_solving/blob/main/1089_Duplicate_Zeros.ipynb\" target=\"_parent\"><img src=\"https://colab.research.google.com/assets/colab-badge.svg\" alt=\"Open In Colab\"/></a>"
      ]
    },
    {
      "cell_type": "markdown",
      "source": [
        "## 1089. Duplicate Zeros\n",
        "\n",
        "Problem description: https://leetcode.com/problems/duplicate-zeros/"
      ],
      "metadata": {
        "id": "XKVOAdkaFch1"
      }
    },
    {
      "cell_type": "markdown",
      "source": [
        "## Solution1:"
      ],
      "metadata": {
        "id": "eaSkH8efFZhT"
      }
    },
    {
      "cell_type": "code",
      "execution_count": 4,
      "metadata": {
        "id": "K_8Ghkv2FX19"
      },
      "outputs": [],
      "source": [
        "from typing import List\n",
        "\n",
        "class Solution1:\n",
        "    def duplicateZeros(self, arr: List[int]) -> None:\n",
        "        \"\"\"\n",
        "        Do not return anything, modify arr in-place instead.\n",
        "        \"\"\"\n",
        "        length = len(arr)\n",
        "        flag = 0\n",
        "\n",
        "        for ind, val in enumerate(arr):\n",
        "            if val == 0 and flag == 0:\n",
        "                arr.insert(ind+1, 0)\n",
        "                flag = 1\n",
        "                arr.pop()\n",
        "            else:\n",
        "                flag = 0\n",
        "        print(\"Len: \", length)\n",
        "        print(\"arr: \", arr)"
      ]
    },
    {
      "cell_type": "code",
      "source": [
        "sol1 = Solution1()"
      ],
      "metadata": {
        "id": "RwVLZQAtFYyF"
      },
      "execution_count": 5,
      "outputs": []
    },
    {
      "cell_type": "code",
      "source": [
        "sol1.duplicateZeros([1,0,2,3,0,4,5,0])"
      ],
      "metadata": {
        "colab": {
          "base_uri": "https://localhost:8080/"
        },
        "id": "NDah4pZrGkOn",
        "outputId": "4cb98595-6ca2-49c5-ff84-a8166a3d0479"
      },
      "execution_count": 6,
      "outputs": [
        {
          "output_type": "stream",
          "name": "stdout",
          "text": [
            "Len:  8\n",
            "arr:  [1, 0, 0, 2, 3, 0, 0, 4]\n"
          ]
        }
      ]
    },
    {
      "cell_type": "code",
      "source": [
        "sol1.duplicateZeros([1,2,3])"
      ],
      "metadata": {
        "colab": {
          "base_uri": "https://localhost:8080/"
        },
        "id": "Wg1FH7OUmO2q",
        "outputId": "d04b93ea-5d44-4085-9ce4-eabcd830ef73"
      },
      "execution_count": 7,
      "outputs": [
        {
          "output_type": "stream",
          "name": "stdout",
          "text": [
            "Len:  3\n",
            "arr:  [1, 2, 3]\n"
          ]
        }
      ]
    },
    {
      "cell_type": "code",
      "source": [],
      "metadata": {
        "id": "o5K4N7VbmO5i"
      },
      "execution_count": null,
      "outputs": []
    }
  ]
}
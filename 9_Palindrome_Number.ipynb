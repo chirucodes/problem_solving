{
  "nbformat": 4,
  "nbformat_minor": 0,
  "metadata": {
    "colab": {
      "provenance": [],
      "authorship_tag": "ABX9TyObMjHOkH1XDzLWhE3z080P",
      "include_colab_link": true
    },
    "kernelspec": {
      "name": "python3",
      "display_name": "Python 3"
    },
    "language_info": {
      "name": "python"
    }
  },
  "cells": [
    {
      "cell_type": "markdown",
      "metadata": {
        "id": "view-in-github",
        "colab_type": "text"
      },
      "source": [
        "<a href=\"https://colab.research.google.com/github/chirucodes/problem_solving/blob/main/9_Palindrome_Number.ipynb\" target=\"_parent\"><img src=\"https://colab.research.google.com/assets/colab-badge.svg\" alt=\"Open In Colab\"/></a>"
      ]
    },
    {
      "cell_type": "markdown",
      "source": [
        "## 9. Palindrome Number\n",
        "\n",
        "Find the problem description here: https://leetcode.com/problems/palindrome-number/description/"
      ],
      "metadata": {
        "id": "chtDitKeb3zC"
      }
    },
    {
      "cell_type": "markdown",
      "source": [
        "## Solution1:\n"
      ],
      "metadata": {
        "id": "4LdX10oDcDnr"
      }
    },
    {
      "cell_type": "code",
      "execution_count": 3,
      "metadata": {
        "id": "xXcoSIGGb2Yf"
      },
      "outputs": [],
      "source": [
        "class Solution1:\n",
        "    def isPalindrome(self, x: int) -> bool:\n",
        "        ip = x\n",
        "        op = 0\n",
        "        \n",
        "        while ip > 0:\n",
        "            op = (op*10) + ip%10\n",
        "            ip = int(ip/10)\n",
        "        print(\"num:\",op)\n",
        "        if op != x:\n",
        "            return False\n",
        "        return True"
      ]
    },
    {
      "cell_type": "code",
      "source": [
        "sol1 = Solution1()\n"
      ],
      "metadata": {
        "id": "WwdbH8-QcLgM"
      },
      "execution_count": 4,
      "outputs": []
    },
    {
      "cell_type": "code",
      "source": [
        "sol1.isPalindrome(121)"
      ],
      "metadata": {
        "colab": {
          "base_uri": "https://localhost:8080/"
        },
        "id": "Is50hExdcTK1",
        "outputId": "1afbd737-fcc2-42d7-be5d-683a46453019"
      },
      "execution_count": 5,
      "outputs": [
        {
          "output_type": "stream",
          "name": "stdout",
          "text": [
            "num: 121\n"
          ]
        },
        {
          "output_type": "execute_result",
          "data": {
            "text/plain": [
              "True"
            ]
          },
          "metadata": {},
          "execution_count": 5
        }
      ]
    },
    {
      "cell_type": "code",
      "source": [
        "sol1.isPalindrome(12)"
      ],
      "metadata": {
        "colab": {
          "base_uri": "https://localhost:8080/"
        },
        "id": "JyHO-DAucTNk",
        "outputId": "25084cc3-d6a1-416b-db4d-9ccfcbec2644"
      },
      "execution_count": 6,
      "outputs": [
        {
          "output_type": "stream",
          "name": "stdout",
          "text": [
            "num: 21\n"
          ]
        },
        {
          "output_type": "execute_result",
          "data": {
            "text/plain": [
              "False"
            ]
          },
          "metadata": {},
          "execution_count": 6
        }
      ]
    },
    {
      "cell_type": "code",
      "source": [
        "sol1.isPalindrome(-121)"
      ],
      "metadata": {
        "id": "yD6dk3EfcYw2",
        "outputId": "5af643fb-d71e-4c85-905b-f53229a7a73f",
        "colab": {
          "base_uri": "https://localhost:8080/"
        }
      },
      "execution_count": 7,
      "outputs": [
        {
          "output_type": "stream",
          "name": "stdout",
          "text": [
            "num: 0\n"
          ]
        },
        {
          "output_type": "execute_result",
          "data": {
            "text/plain": [
              "False"
            ]
          },
          "metadata": {},
          "execution_count": 7
        }
      ]
    }
  ]
}
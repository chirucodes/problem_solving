{
  "nbformat": 4,
  "nbformat_minor": 0,
  "metadata": {
    "colab": {
      "provenance": [],
      "authorship_tag": "ABX9TyPJDXgJpMMiKRTY6da4nEY6",
      "include_colab_link": true
    },
    "kernelspec": {
      "name": "python3",
      "display_name": "Python 3"
    },
    "language_info": {
      "name": "python"
    }
  },
  "cells": [
    {
      "cell_type": "markdown",
      "metadata": {
        "id": "view-in-github",
        "colab_type": "text"
      },
      "source": [
        "<a href=\"https://colab.research.google.com/github/chirucodes/problem_solving/blob/main/1299_Replace_Elements_with_Greatest_Element_on_Right_Side.ipynb\" target=\"_parent\"><img src=\"https://colab.research.google.com/assets/colab-badge.svg\" alt=\"Open In Colab\"/></a>"
      ]
    },
    {
      "cell_type": "markdown",
      "source": [
        "## 1299. Replace Elements with Greatest Element on Right Side\n",
        "\n",
        "Problem description: https://leetcode.com/problems/replace-elements-with-greatest-element-on-right-side/description/"
      ],
      "metadata": {
        "id": "YI5HFaNbTfkF"
      }
    },
    {
      "cell_type": "markdown",
      "source": [
        "## Solution1:\n"
      ],
      "metadata": {
        "id": "Zj6T8WM1TqyO"
      }
    },
    {
      "cell_type": "code",
      "execution_count": 3,
      "metadata": {
        "id": "2b5Rt9adTI8y"
      },
      "outputs": [],
      "source": [
        "from typing import List\n",
        "class Solution1:\n",
        "    def replaceElements(self, arr: List[int]) -> List[int]:\n",
        "        len_arr = len(arr)\n",
        "        max_v = arr.pop()\n",
        "        if len_arr == 1:\n",
        "            arr = [-1]\n",
        "            return arr\n",
        "        print(\"Max: \", max_v)\n",
        "        \n",
        "        for each in range(len_arr-2, -1, -1):\n",
        "            print(\"each: \", each)\n",
        "            print(\"arr[each]: \", arr[each])\n",
        "            if arr[each] > max_v:\n",
        "                max_v, arr[each] = arr[each], max_v\n",
        "            else:\n",
        "                arr[each] = max_v\n",
        "        \n",
        "        print(\"Max: \", max_v)\n",
        "        arr.append(-1)\n",
        "        return arr"
      ]
    },
    {
      "cell_type": "code",
      "source": [
        "sol1 = Solution1()\n",
        "sol1.replaceElements([17,18,5,4,6,1])"
      ],
      "metadata": {
        "colab": {
          "base_uri": "https://localhost:8080/"
        },
        "id": "UNfHovErT2JO",
        "outputId": "164fbbfe-52fa-4f82-b0b6-57b981b6dcf6"
      },
      "execution_count": 4,
      "outputs": [
        {
          "output_type": "stream",
          "name": "stdout",
          "text": [
            "Max:  1\n",
            "each:  4\n",
            "arr[each]:  6\n",
            "each:  3\n",
            "arr[each]:  4\n",
            "each:  2\n",
            "arr[each]:  5\n",
            "each:  1\n",
            "arr[each]:  18\n",
            "each:  0\n",
            "arr[each]:  17\n",
            "Max:  18\n"
          ]
        },
        {
          "output_type": "execute_result",
          "data": {
            "text/plain": [
              "[18, 6, 6, 6, 1, -1]"
            ]
          },
          "metadata": {},
          "execution_count": 4
        }
      ]
    }
  ]
}
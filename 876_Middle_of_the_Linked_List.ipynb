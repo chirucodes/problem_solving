{
  "nbformat": 4,
  "nbformat_minor": 0,
  "metadata": {
    "colab": {
      "provenance": [],
      "authorship_tag": "ABX9TyN14bQjt7k0LiJfr7S2KaMK",
      "include_colab_link": true
    },
    "kernelspec": {
      "name": "python3",
      "display_name": "Python 3"
    },
    "language_info": {
      "name": "python"
    }
  },
  "cells": [
    {
      "cell_type": "markdown",
      "metadata": {
        "id": "view-in-github",
        "colab_type": "text"
      },
      "source": [
        "<a href=\"https://colab.research.google.com/github/chirucodes/problem_solving/blob/main/876_Middle_of_the_Linked_List.ipynb\" target=\"_parent\"><img src=\"https://colab.research.google.com/assets/colab-badge.svg\" alt=\"Open In Colab\"/></a>"
      ]
    },
    {
      "cell_type": "markdown",
      "source": [
        "## 876. Middle of the Linked List\n",
        "\n",
        "Find the problem description here: https://leetcode.com/problems/middle-of-the-linked-list/description/"
      ],
      "metadata": {
        "id": "Prqk_aHc0Luh"
      }
    },
    {
      "cell_type": "markdown",
      "source": [
        "## Solution1"
      ],
      "metadata": {
        "id": "8YGT5Zou0bOK"
      }
    },
    {
      "cell_type": "code",
      "execution_count": 1,
      "metadata": {
        "id": "pSHu4EeKv1UF"
      },
      "outputs": [],
      "source": [
        "# Definition for singly-linked list.\n",
        "class ListNode:\n",
        "    def __init__(self, val=0, next=None):\n",
        "        self.val = val\n",
        "        self.next = next\n",
        "class Solution1:\n",
        "\n",
        "    def middleNode(self, head):\n",
        "\n",
        "        fast = head\n",
        "        slow = head\n",
        "\n",
        "        while fast.next is not None:\n",
        "            slow = slow.next\n",
        "            fast = fast.next.next\n",
        "            if fast is None:\n",
        "                return slow\n",
        "        return slow\n",
        "    \n",
        "    def display(self, head):\n",
        "        while head.next != None:\n",
        "            print(\"\\b\"+str(head.val)+\"->\")\n",
        "            head = head.next\n",
        "        print(\"\\b\"+str(head.val))\n",
        "\n",
        "        "
      ]
    },
    {
      "cell_type": "code",
      "source": [
        "sol1=Solution1()"
      ],
      "metadata": {
        "id": "gUbsFwK2wGDT"
      },
      "execution_count": 2,
      "outputs": []
    },
    {
      "cell_type": "code",
      "source": [
        "ll1 = ListNode(1)\n",
        "ll1.next = ListNode(2)\n",
        "ll1.next.next = ListNode(3)\n",
        "ll1.next.next.next = ListNode(4)\n",
        "ll1.next.next.next.next = ListNode(5)"
      ],
      "metadata": {
        "id": "86JeDz-PwcX8"
      },
      "execution_count": 3,
      "outputs": []
    },
    {
      "cell_type": "code",
      "source": [
        "sol1.display(ll1)"
      ],
      "metadata": {
        "colab": {
          "base_uri": "https://localhost:8080/"
        },
        "id": "wPxt58RcwcVU",
        "outputId": "8bd0cddc-5ba5-4266-9703-3421a692e8b3"
      },
      "execution_count": 4,
      "outputs": [
        {
          "output_type": "stream",
          "name": "stdout",
          "text": [
            "\b1->\n",
            "\b2->\n",
            "\b3->\n",
            "\b4->\n",
            "\b5\n"
          ]
        }
      ]
    },
    {
      "cell_type": "code",
      "source": [
        "from_mid = sol1.middleNode(ll1)"
      ],
      "metadata": {
        "id": "F3qrNrQNzDje"
      },
      "execution_count": 5,
      "outputs": []
    },
    {
      "cell_type": "code",
      "source": [
        "sol1.display(from_mid)"
      ],
      "metadata": {
        "colab": {
          "base_uri": "https://localhost:8080/"
        },
        "id": "fyO6Ku-CzDmF",
        "outputId": "ead0433b-84c0-4602-9ea1-434cc4d6ed17"
      },
      "execution_count": 6,
      "outputs": [
        {
          "output_type": "stream",
          "name": "stdout",
          "text": [
            "\b3->\n",
            "\b4->\n",
            "\b5\n"
          ]
        }
      ]
    },
    {
      "cell_type": "code",
      "source": [
        "ll2 = ListNode(1)\n",
        "ll2.next = ListNode(2)\n",
        "ll2.next.next = ListNode(3)\n",
        "ll2.next.next.next = ListNode(4)\n",
        "ll2.next.next.next.next = ListNode(5)\n",
        "ll2.next.next.next.next.next = ListNode(6)"
      ],
      "metadata": {
        "id": "rNDt3Dctzbv6"
      },
      "execution_count": 7,
      "outputs": []
    },
    {
      "cell_type": "code",
      "source": [
        "sol1.display(ll2)"
      ],
      "metadata": {
        "colab": {
          "base_uri": "https://localhost:8080/"
        },
        "id": "CMVhrOKg0gjD",
        "outputId": "e25055f6-3d3b-43c8-9132-64b310caaa80"
      },
      "execution_count": 8,
      "outputs": [
        {
          "output_type": "stream",
          "name": "stdout",
          "text": [
            "\b1->\n",
            "\b2->\n",
            "\b3->\n",
            "\b4->\n",
            "\b5->\n",
            "\b6\n"
          ]
        }
      ]
    },
    {
      "cell_type": "code",
      "source": [
        "from_mid = sol1.middleNode(ll2)"
      ],
      "metadata": {
        "id": "3ufhZEzYziXC"
      },
      "execution_count": 9,
      "outputs": []
    },
    {
      "cell_type": "code",
      "source": [
        "sol1.display(from_mid)"
      ],
      "metadata": {
        "colab": {
          "base_uri": "https://localhost:8080/"
        },
        "id": "qLzZthRrziaS",
        "outputId": "753c08c0-c732-4fe4-ee6f-0269eb00eb36"
      },
      "execution_count": 10,
      "outputs": [
        {
          "output_type": "stream",
          "name": "stdout",
          "text": [
            "\b4->\n",
            "\b5->\n",
            "\b6\n"
          ]
        }
      ]
    },
    {
      "cell_type": "code",
      "source": [],
      "metadata": {
        "id": "4yjr906mz4fH"
      },
      "execution_count": 10,
      "outputs": []
    }
  ]
}
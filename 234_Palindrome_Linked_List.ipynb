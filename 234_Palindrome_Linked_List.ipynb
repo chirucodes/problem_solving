{
  "nbformat": 4,
  "nbformat_minor": 0,
  "metadata": {
    "colab": {
      "provenance": [],
      "authorship_tag": "ABX9TyPw4EBqDXtT01MdlCwuePLp",
      "include_colab_link": true
    },
    "kernelspec": {
      "name": "python3",
      "display_name": "Python 3"
    },
    "language_info": {
      "name": "python"
    }
  },
  "cells": [
    {
      "cell_type": "markdown",
      "metadata": {
        "id": "view-in-github",
        "colab_type": "text"
      },
      "source": [
        "<a href=\"https://colab.research.google.com/github/chirucodes/problem_solving/blob/main/234_Palindrome_Linked_List.ipynb\" target=\"_parent\"><img src=\"https://colab.research.google.com/assets/colab-badge.svg\" alt=\"Open In Colab\"/></a>"
      ]
    },
    {
      "cell_type": "markdown",
      "source": [
        "## 234. Palindrome Linked List\n",
        "Find the problem description here: https://leetcode.com/problems/palindrome-linked-list/"
      ],
      "metadata": {
        "id": "GE2ybUZ72CUA"
      }
    },
    {
      "cell_type": "markdown",
      "source": [
        "## Solution1:"
      ],
      "metadata": {
        "id": "hlnPGCxp2TTY"
      }
    },
    {
      "cell_type": "code",
      "source": [
        "from typing import Optional\n",
        "\n",
        "# Definition for singly-linked list.\n",
        "class ListNode:\n",
        "    def __init__(self, val=0, next=None):\n",
        "        self.val = val\n",
        "        self.next = next\n",
        "class Solution1:\n",
        "    def isPalindrome(self, head: Optional[ListNode]) -> bool:\n",
        "        slow = head\n",
        "        fast = head\n",
        "        values=[]\n",
        "        \n",
        "\n",
        "        while fast is not None and fast.next is not None:\n",
        "            values.append(slow.val)\n",
        "            fast = fast.next.next\n",
        "            slow = slow.next\n",
        "\n",
        "        if fast is not None:\n",
        "            slow = slow.next\n",
        "\n",
        "        print(\"Values: \", values)\n",
        "\n",
        "        while slow is not None:\n",
        "            if slow.val == values[-1]:\n",
        "                values.pop()\n",
        "                slow = slow.next\n",
        "                continue\n",
        "            else:\n",
        "                return False\n",
        "        return True"
      ],
      "metadata": {
        "id": "VesxK4Lr0TNR"
      },
      "execution_count": 9,
      "outputs": []
    },
    {
      "cell_type": "code",
      "source": [
        "sol1 = Solution1()\n",
        "ll1=ListNode(1)\n",
        "ll1.next=ListNode(2)\n",
        "ll1.next.next=ListNode(2)\n",
        "ll1.next.next.next=ListNode(1)"
      ],
      "metadata": {
        "id": "KVMSV7mj0TKB"
      },
      "execution_count": 10,
      "outputs": []
    },
    {
      "cell_type": "code",
      "source": [
        "sol1.isPalindrome(ll1)"
      ],
      "metadata": {
        "colab": {
          "base_uri": "https://localhost:8080/"
        },
        "id": "infupauk0azs",
        "outputId": "e8319d9c-66fc-48ab-fd77-e0323aaba538"
      },
      "execution_count": 11,
      "outputs": [
        {
          "output_type": "stream",
          "name": "stdout",
          "text": [
            "Values:  [1, 2]\n"
          ]
        },
        {
          "output_type": "execute_result",
          "data": {
            "text/plain": [
              "True"
            ]
          },
          "metadata": {},
          "execution_count": 11
        }
      ]
    },
    {
      "cell_type": "code",
      "source": [
        "ll2=ListNode(1)\n",
        "ll2.next=ListNode(2)\n",
        "ll2.next.next=ListNode(3)\n",
        "ll2.next.next.next=ListNode(2)\n",
        "ll2.next.next.next.next=ListNode(1)"
      ],
      "metadata": {
        "id": "yZQXIr4A3M57"
      },
      "execution_count": 13,
      "outputs": []
    },
    {
      "cell_type": "code",
      "source": [
        "sol1.isPalindrome(ll2)"
      ],
      "metadata": {
        "colab": {
          "base_uri": "https://localhost:8080/"
        },
        "id": "flWFTxjn3M9A",
        "outputId": "07f829e7-b2fb-4f6c-f453-67ce790fd743"
      },
      "execution_count": 14,
      "outputs": [
        {
          "output_type": "stream",
          "name": "stdout",
          "text": [
            "Values:  [1, 2]\n"
          ]
        },
        {
          "output_type": "execute_result",
          "data": {
            "text/plain": [
              "True"
            ]
          },
          "metadata": {},
          "execution_count": 14
        }
      ]
    },
    {
      "cell_type": "code",
      "source": [
        "ll3=ListNode(1)\n",
        "ll3.next=ListNode(2)\n",
        "ll3.next.next=ListNode(3)\n",
        "ll3.next.next.next=ListNode(4)\n",
        "ll3.next.next.next.next=ListNode(1)"
      ],
      "metadata": {
        "id": "V9f0rz_n3YbZ"
      },
      "execution_count": 15,
      "outputs": []
    },
    {
      "cell_type": "code",
      "source": [
        "sol1.isPalindrome(ll3)"
      ],
      "metadata": {
        "colab": {
          "base_uri": "https://localhost:8080/"
        },
        "id": "OMEzgdMV3YeP",
        "outputId": "d2b24461-a2ff-47a0-f3b9-d05bc385ae5f"
      },
      "execution_count": 16,
      "outputs": [
        {
          "output_type": "stream",
          "name": "stdout",
          "text": [
            "Values:  [1, 2]\n"
          ]
        },
        {
          "output_type": "execute_result",
          "data": {
            "text/plain": [
              "False"
            ]
          },
          "metadata": {},
          "execution_count": 16
        }
      ]
    },
    {
      "cell_type": "markdown",
      "source": [
        "## Solution2:"
      ],
      "metadata": {
        "id": "QQgrU39i4gir"
      }
    },
    {
      "cell_type": "code",
      "source": [
        "# Definition for singly-linked list.\n",
        "class ListNode:\n",
        "    def __init__(self, val=0, next=None):\n",
        "        self.val = val\n",
        "        self.next = next\n",
        "class Solution2:\n",
        "    def isPalindrome(self, head: Optional[ListNode]) -> bool:\n",
        "        curr = head\n",
        "        values = []\n",
        "\n",
        "        while curr is not None:\n",
        "            values.append(curr.val)\n",
        "            curr = curr.next\n",
        "        return values == values[::-1]"
      ],
      "metadata": {
        "id": "D7LHx5JD4k45"
      },
      "execution_count": 17,
      "outputs": []
    },
    {
      "cell_type": "code",
      "source": [
        "sol2 = Solution2()\n",
        "lla=ListNode(1)\n",
        "lla.next=ListNode(2)\n",
        "lla.next.next=ListNode(2)\n",
        "lla.next.next.next=ListNode(1)"
      ],
      "metadata": {
        "id": "0_t-pqc04k74"
      },
      "execution_count": 18,
      "outputs": []
    },
    {
      "cell_type": "code",
      "source": [
        "sol2.isPalindrome(lla)"
      ],
      "metadata": {
        "colab": {
          "base_uri": "https://localhost:8080/"
        },
        "id": "6RYzj5FK4k-5",
        "outputId": "942ccbac-a4dc-47b8-8ecf-62917be48353"
      },
      "execution_count": 19,
      "outputs": [
        {
          "output_type": "execute_result",
          "data": {
            "text/plain": [
              "True"
            ]
          },
          "metadata": {},
          "execution_count": 19
        }
      ]
    },
    {
      "cell_type": "code",
      "source": [
        "llb=ListNode(1)\n",
        "llb.next=ListNode(2)\n",
        "llb.next.next=ListNode(3)\n",
        "llb.next.next.next=ListNode(4)\n",
        "llb.next.next.next.next=ListNode(1)"
      ],
      "metadata": {
        "id": "sUHbKdaQ4lBq"
      },
      "execution_count": 20,
      "outputs": []
    },
    {
      "cell_type": "code",
      "source": [
        "sol2.isPalindrome(llb)"
      ],
      "metadata": {
        "id": "LuU0p5vr4zlC",
        "outputId": "2be54ef1-691d-4d63-d1b2-746f40e818bd",
        "colab": {
          "base_uri": "https://localhost:8080/"
        }
      },
      "execution_count": 21,
      "outputs": [
        {
          "output_type": "execute_result",
          "data": {
            "text/plain": [
              "False"
            ]
          },
          "metadata": {},
          "execution_count": 21
        }
      ]
    }
  ]
}
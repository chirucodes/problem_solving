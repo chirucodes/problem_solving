{
  "nbformat": 4,
  "nbformat_minor": 0,
  "metadata": {
    "colab": {
      "provenance": [],
      "authorship_tag": "ABX9TyNVAtYN40Y3MQH8mjthLWZ+",
      "include_colab_link": true
    },
    "kernelspec": {
      "name": "python3",
      "display_name": "Python 3"
    },
    "language_info": {
      "name": "python"
    }
  },
  "cells": [
    {
      "cell_type": "markdown",
      "metadata": {
        "id": "view-in-github",
        "colab_type": "text"
      },
      "source": [
        "<a href=\"https://colab.research.google.com/github/chirucodes/problem_solving/blob/main/1337_The_K_Weakest_Rows_in_a_Matrix.ipynb\" target=\"_parent\"><img src=\"https://colab.research.google.com/assets/colab-badge.svg\" alt=\"Open In Colab\"/></a>"
      ]
    },
    {
      "cell_type": "markdown",
      "source": [
        "## 1337. The K Weakest Rows in a Matrix\n",
        "\n",
        "Find the problem description here:https://leetcode.com/problems/the-k-weakest-rows-in-a-matrix/description/"
      ],
      "metadata": {
        "id": "3ZQxRIMdgFVG"
      }
    },
    {
      "cell_type": "markdown",
      "source": [
        "## Solution1:"
      ],
      "metadata": {
        "id": "l8WFp4kDgH5H"
      }
    },
    {
      "cell_type": "code",
      "execution_count": 9,
      "metadata": {
        "id": "V7epMgIPbeHO"
      },
      "outputs": [],
      "source": [
        "from typing import List\n",
        "\n",
        "class Solution1:\n",
        "    def kWeakestRows(self, mat: List[List[int]], k: int) -> List[int]:\n",
        "\n",
        "        dict_map = {}\n",
        "        r_c = 0\n",
        "        for r in mat:\n",
        "            dict_map.update({r_c:r.count(1)})\n",
        "            r_c += 1 \n",
        "        weaks = [k for k, v in sorted(dict_map.items(), key=lambda item: item[1])]\n",
        "\n",
        "        return weaks[:k]\n"
      ]
    },
    {
      "cell_type": "code",
      "source": [
        "sol1 = Solution1()\n",
        "mat1 = [[1,1,0,0,0],[1,1,1,1,0],[1,0,0,0,0],[1,1,0,0,0],[1,1,1,1,1]]\n",
        "sol1.kWeakestRows(mat1, 3)"
      ],
      "metadata": {
        "colab": {
          "base_uri": "https://localhost:8080/"
        },
        "id": "FNhpD65NfmKA",
        "outputId": "8cc42a48-95d6-4b49-e864-7f6dfbeec6c1"
      },
      "execution_count": 10,
      "outputs": [
        {
          "output_type": "execute_result",
          "data": {
            "text/plain": [
              "[2, 0, 3]"
            ]
          },
          "metadata": {},
          "execution_count": 10
        }
      ]
    },
    {
      "cell_type": "code",
      "source": [
        "mat1 = [[1,0,0,0],[1,1,1,1],[1,0,0,0],[1,0,0,0]]\n",
        "sol1.kWeakestRows(mat1, 2)"
      ],
      "metadata": {
        "colab": {
          "base_uri": "https://localhost:8080/"
        },
        "id": "EATAqklScA03",
        "outputId": "fec61fb4-17c5-472b-9cda-f286bf4d8a61"
      },
      "execution_count": 12,
      "outputs": [
        {
          "output_type": "execute_result",
          "data": {
            "text/plain": [
              "[0, 2]"
            ]
          },
          "metadata": {},
          "execution_count": 12
        }
      ]
    }
  ]
}
{
  "nbformat": 4,
  "nbformat_minor": 0,
  "metadata": {
    "colab": {
      "provenance": [],
      "authorship_tag": "ABX9TyPg4rjTYBBE+tkoHQbjwYG1",
      "include_colab_link": true
    },
    "kernelspec": {
      "name": "python3",
      "display_name": "Python 3"
    },
    "language_info": {
      "name": "python"
    }
  },
  "cells": [
    {
      "cell_type": "markdown",
      "metadata": {
        "id": "view-in-github",
        "colab_type": "text"
      },
      "source": [
        "<a href=\"https://colab.research.google.com/github/chirucodes/problem_solving/blob/main/1346_Check_If_N_and_Its_Double_Exist.ipynb\" target=\"_parent\"><img src=\"https://colab.research.google.com/assets/colab-badge.svg\" alt=\"Open In Colab\"/></a>"
      ]
    },
    {
      "cell_type": "markdown",
      "source": [
        "## 1346. Check If N and Its Double Exist\n",
        "Description: https://leetcode.com/problems/check-if-n-and-its-double-exist/description/"
      ],
      "metadata": {
        "id": "63o8IXmXBAgU"
      }
    },
    {
      "cell_type": "markdown",
      "source": [
        "## Solution1:"
      ],
      "metadata": {
        "id": "j6qobNVfyupF"
      }
    },
    {
      "cell_type": "code",
      "source": [
        "class Solution1(object):\n",
        "    def checkIfExist(self, arr):\n",
        "        \"\"\"\n",
        "        :type arr: List[int]\n",
        "        :rtype: bool\n",
        "        \"\"\"\n",
        "        # arr = sorted(arr)\n",
        "        # print(\"arr \", arr)\n",
        "        p_arr = []\n",
        "\n",
        "        for each in arr:\n",
        "            print(\"Each \", each)\n",
        "            \n",
        "            print(\"p_arr \", p_arr)\n",
        "            if each + each in p_arr:\n",
        "                return True\n",
        "            p_arr.append(each)\n",
        "        return False"
      ],
      "metadata": {
        "id": "FXRfPmxx6peg"
      },
      "execution_count": 57,
      "outputs": []
    },
    {
      "cell_type": "code",
      "source": [
        "sol1 = Solution1()\n",
        "sol1.checkIfExist([-2,0,10,-19,4,6,-8])\n"
      ],
      "metadata": {
        "colab": {
          "base_uri": "https://localhost:8080/"
        },
        "id": "8CNhtq-46r03",
        "outputId": "add8eaab-c3db-4541-8d33-1f83e7b7a9c5"
      },
      "execution_count": 58,
      "outputs": [
        {
          "output_type": "stream",
          "name": "stdout",
          "text": [
            "Each  -2\n",
            "p_arr  []\n",
            "Each  0\n",
            "p_arr  [-2]\n",
            "Each  10\n",
            "p_arr  [-2, 0]\n",
            "Each  -19\n",
            "p_arr  [-2, 0, 10]\n",
            "Each  4\n",
            "p_arr  [-2, 0, 10, -19]\n",
            "Each  6\n",
            "p_arr  [-2, 0, 10, -19, 4]\n",
            "Each  -8\n",
            "p_arr  [-2, 0, 10, -19, 4, 6]\n"
          ]
        },
        {
          "output_type": "execute_result",
          "data": {
            "text/plain": [
              "False"
            ]
          },
          "metadata": {},
          "execution_count": 58
        }
      ]
    },
    {
      "cell_type": "code",
      "source": [
        "sol1.checkIfExist([7,1,14,11])"
      ],
      "metadata": {
        "colab": {
          "base_uri": "https://localhost:8080/"
        },
        "id": "e8gyP_EN79Od",
        "outputId": "a8ff94f5-3259-4470-d230-2aac1acf74b6"
      },
      "execution_count": 59,
      "outputs": [
        {
          "output_type": "stream",
          "name": "stdout",
          "text": [
            "Each  7\n",
            "p_arr  []\n",
            "Each  1\n",
            "p_arr  [7]\n",
            "Each  14\n",
            "p_arr  [7, 1]\n",
            "Each  11\n",
            "p_arr  [7, 1, 14]\n"
          ]
        },
        {
          "output_type": "execute_result",
          "data": {
            "text/plain": [
              "False"
            ]
          },
          "metadata": {},
          "execution_count": 59
        }
      ]
    },
    {
      "cell_type": "markdown",
      "source": [
        "## Solution2:"
      ],
      "metadata": {
        "id": "XYju51hmA37j"
      }
    },
    {
      "cell_type": "code",
      "source": [
        "class Solution2(object):\n",
        "    def checkIfExist(self, arr):\n",
        "        \"\"\"\n",
        "        :type arr: List[int]\n",
        "        :rtype: bool\n",
        "        \"\"\"\n",
        "        \n",
        "        p_arr = []\n",
        "\n",
        "        for each in arr:\n",
        "            if each*2 in p_arr or float(each)/2 in p_arr:\n",
        "                return True\n",
        "            p_arr.append(float(each))\n",
        "            print(\"p_arr: \", p_arr)\n",
        "        return False"
      ],
      "metadata": {
        "id": "F15Ehl7Q79G9"
      },
      "execution_count": 60,
      "outputs": []
    },
    {
      "cell_type": "code",
      "source": [
        "sol2 = Solution2()\n",
        "sol2.checkIfExist([7,1,14,11])\n"
      ],
      "metadata": {
        "colab": {
          "base_uri": "https://localhost:8080/"
        },
        "id": "_RmuKbiH8N0u",
        "outputId": "4cf12bbb-966c-4648-c15c-17e073feda79"
      },
      "execution_count": 61,
      "outputs": [
        {
          "output_type": "stream",
          "name": "stdout",
          "text": [
            "p_arr:  [7.0]\n",
            "p_arr:  [7.0, 1.0]\n"
          ]
        },
        {
          "output_type": "execute_result",
          "data": {
            "text/plain": [
              "True"
            ]
          },
          "metadata": {},
          "execution_count": 61
        }
      ]
    },
    {
      "cell_type": "code",
      "source": [
        "sol2.checkIfExist([3,1,7,11])"
      ],
      "metadata": {
        "colab": {
          "base_uri": "https://localhost:8080/"
        },
        "id": "Jevz11yW8Y0N",
        "outputId": "b0f63988-8f89-42eb-fbf3-a5adeee03685"
      },
      "execution_count": 62,
      "outputs": [
        {
          "output_type": "stream",
          "name": "stdout",
          "text": [
            "p_arr:  [3.0]\n",
            "p_arr:  [3.0, 1.0]\n",
            "p_arr:  [3.0, 1.0, 7.0]\n",
            "p_arr:  [3.0, 1.0, 7.0, 11.0]\n"
          ]
        },
        {
          "output_type": "execute_result",
          "data": {
            "text/plain": [
              "False"
            ]
          },
          "metadata": {},
          "execution_count": 62
        }
      ]
    },
    {
      "cell_type": "markdown",
      "source": [
        "## Solution3:"
      ],
      "metadata": {
        "id": "jC7CtT5fA605"
      }
    },
    {
      "cell_type": "code",
      "source": [
        "from typing import List\n",
        "\n",
        "class Solution3(object):\n",
        "    def checkIfExist(self, arr):\n",
        "        \"\"\"\n",
        "        :type arr: List[int]\n",
        "        :rtype: bool\n",
        "        \"\"\"\n",
        "        if arr.count(0) > 1:\n",
        "            return True\n",
        "        \n",
        "        \n",
        "        arr = set(arr) - {0}\n",
        "\n",
        "        for each in arr:\n",
        "            if each*2 in arr:\n",
        "                return True\n",
        "        return False"
      ],
      "metadata": {
        "id": "CTdgOCvp-GLI"
      },
      "execution_count": 64,
      "outputs": []
    },
    {
      "cell_type": "code",
      "source": [
        "sol3 = Solution3()\n",
        "sol3.checkIfExist([3,1,7,11])"
      ],
      "metadata": {
        "colab": {
          "base_uri": "https://localhost:8080/"
        },
        "id": "tpP7wd0f-Sas",
        "outputId": "e9355bad-ba86-46c6-82aa-1f40fa094099"
      },
      "execution_count": 65,
      "outputs": [
        {
          "output_type": "execute_result",
          "data": {
            "text/plain": [
              "False"
            ]
          },
          "metadata": {},
          "execution_count": 65
        }
      ]
    },
    {
      "cell_type": "code",
      "source": [
        "sol3.checkIfExist([7,1,14,11])"
      ],
      "metadata": {
        "colab": {
          "base_uri": "https://localhost:8080/"
        },
        "id": "gAyDH3Is-WJ7",
        "outputId": "ccc1e58f-beb2-4276-c19c-912d56245a74"
      },
      "execution_count": 66,
      "outputs": [
        {
          "output_type": "execute_result",
          "data": {
            "text/plain": [
              "True"
            ]
          },
          "metadata": {},
          "execution_count": 66
        }
      ]
    },
    {
      "cell_type": "code",
      "source": [
        "sol3.checkIfExist([-2,0,10,-19,4,6,-8])"
      ],
      "metadata": {
        "colab": {
          "base_uri": "https://localhost:8080/"
        },
        "id": "5W54qeCT-jMe",
        "outputId": "8dfe8379-7e59-4e3f-d852-44b979267139"
      },
      "execution_count": 67,
      "outputs": [
        {
          "output_type": "execute_result",
          "data": {
            "text/plain": [
              "False"
            ]
          },
          "metadata": {},
          "execution_count": 67
        }
      ]
    }
  ]
}
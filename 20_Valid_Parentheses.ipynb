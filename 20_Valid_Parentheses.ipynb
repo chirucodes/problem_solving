{
  "nbformat": 4,
  "nbformat_minor": 0,
  "metadata": {
    "colab": {
      "provenance": [],
      "authorship_tag": "ABX9TyNrCoQVZQmj8LCMlm7FUlO9",
      "include_colab_link": true
    },
    "kernelspec": {
      "name": "python3",
      "display_name": "Python 3"
    },
    "language_info": {
      "name": "python"
    }
  },
  "cells": [
    {
      "cell_type": "markdown",
      "metadata": {
        "id": "view-in-github",
        "colab_type": "text"
      },
      "source": [
        "<a href=\"https://colab.research.google.com/github/chirucodes/problem_solving/blob/main/20_Valid_Parentheses.ipynb\" target=\"_parent\"><img src=\"https://colab.research.google.com/assets/colab-badge.svg\" alt=\"Open In Colab\"/></a>"
      ]
    },
    {
      "cell_type": "markdown",
      "source": [
        "## 20. Valid Parentheses\n",
        "\n",
        "Please check the description here: https://leetcode.com/problems/valid-parentheses/description/"
      ],
      "metadata": {
        "id": "eZlIsj8sxnhG"
      }
    },
    {
      "cell_type": "markdown",
      "source": [
        "## Solution1:"
      ],
      "metadata": {
        "id": "wri5gHTwxkEm"
      }
    },
    {
      "cell_type": "code",
      "execution_count": 1,
      "metadata": {
        "id": "plk32R2esCQj"
      },
      "outputs": [],
      "source": [
        "class Solution1:\n",
        "    def isValid(self, s: str) -> bool:\n",
        "        if len(s) % 2 != 0:\n",
        "            return False \n",
        "\n",
        "        para_dict = {\n",
        "            '(':')',\n",
        "            '[':']',\n",
        "            '{':'}'\n",
        "        }\n",
        "\n",
        "        stk = []\n",
        "        for val in s:\n",
        "            if len(stk) > 0 and stk[-1] in para_dict:\n",
        "                if para_dict[stk[-1]] == val:\n",
        "                    stk.pop()\n",
        "                    continue\n",
        "            stk.append(val)\n",
        "        if len(stk) > 0:\n",
        "            print(\"stk is not empty\")\n",
        "            return False\n",
        "        return True"
      ]
    },
    {
      "cell_type": "code",
      "source": [
        "sol1 = Solution1()\n",
        "sol1.isValid(\"(())\")"
      ],
      "metadata": {
        "colab": {
          "base_uri": "https://localhost:8080/"
        },
        "id": "DA36AgrGsIFQ",
        "outputId": "d62e5163-d332-4b57-d364-c7d94a2053d8"
      },
      "execution_count": 2,
      "outputs": [
        {
          "output_type": "execute_result",
          "data": {
            "text/plain": [
              "True"
            ]
          },
          "metadata": {},
          "execution_count": 2
        }
      ]
    },
    {
      "cell_type": "code",
      "source": [
        "sol1.isValid(\"(([]))\")"
      ],
      "metadata": {
        "colab": {
          "base_uri": "https://localhost:8080/"
        },
        "id": "htDM4EmAsIIP",
        "outputId": "d96423bd-bc61-4b18-dfd1-dab50e4197b2"
      },
      "execution_count": 3,
      "outputs": [
        {
          "output_type": "execute_result",
          "data": {
            "text/plain": [
              "True"
            ]
          },
          "metadata": {},
          "execution_count": 3
        }
      ]
    },
    {
      "cell_type": "code",
      "source": [
        "sol1.isValid(\"(([))\")"
      ],
      "metadata": {
        "colab": {
          "base_uri": "https://localhost:8080/"
        },
        "id": "oUoXmKtDsILH",
        "outputId": "b4755bc3-899f-4114-c84c-130ce55cb447"
      },
      "execution_count": 4,
      "outputs": [
        {
          "output_type": "execute_result",
          "data": {
            "text/plain": [
              "False"
            ]
          },
          "metadata": {},
          "execution_count": 4
        }
      ]
    },
    {
      "cell_type": "code",
      "source": [
        "sol1.isValid(\"([{}])\")"
      ],
      "metadata": {
        "colab": {
          "base_uri": "https://localhost:8080/"
        },
        "id": "rYugtujRsUb5",
        "outputId": "17998484-11f3-45b0-dbc2-498ad31f35d5"
      },
      "execution_count": 5,
      "outputs": [
        {
          "output_type": "execute_result",
          "data": {
            "text/plain": [
              "True"
            ]
          },
          "metadata": {},
          "execution_count": 5
        }
      ]
    },
    {
      "cell_type": "code",
      "source": [
        "sol1.isValid(\"[)(]\")"
      ],
      "metadata": {
        "id": "8yFE3rw0x7BF",
        "outputId": "e3416973-3bcb-4896-9794-6dabb835846d",
        "colab": {
          "base_uri": "https://localhost:8080/"
        }
      },
      "execution_count": 8,
      "outputs": [
        {
          "output_type": "stream",
          "name": "stdout",
          "text": [
            "stk is not empty\n"
          ]
        },
        {
          "output_type": "execute_result",
          "data": {
            "text/plain": [
              "False"
            ]
          },
          "metadata": {},
          "execution_count": 8
        }
      ]
    },
    {
      "cell_type": "code",
      "source": [
        "sol1.isValid(\")(\")"
      ],
      "metadata": {
        "colab": {
          "base_uri": "https://localhost:8080/"
        },
        "id": "252bS-IlsXlw",
        "outputId": "4ce57b7c-079d-4d6f-d112-9e6afae7a7b4"
      },
      "execution_count": 6,
      "outputs": [
        {
          "output_type": "stream",
          "name": "stdout",
          "text": [
            "stk is not empty\n"
          ]
        },
        {
          "output_type": "execute_result",
          "data": {
            "text/plain": [
              "False"
            ]
          },
          "metadata": {},
          "execution_count": 6
        }
      ]
    },
    {
      "cell_type": "code",
      "source": [],
      "metadata": {
        "id": "KgJDYmwdyM1y"
      },
      "execution_count": null,
      "outputs": []
    },
    {
      "cell_type": "code",
      "source": [],
      "metadata": {
        "id": "mVZv-B5_yM4q"
      },
      "execution_count": null,
      "outputs": []
    },
    {
      "cell_type": "code",
      "source": [
        "class Solution2:\n",
        "    def isValid(self, s: str) -> bool:\n",
        "        if len(s) % 2 != 0:\n",
        "            return False \n",
        "\n",
        "        para_dict = {\n",
        "            '(':')',\n",
        "            '[':']',\n",
        "            '{':'}',\n",
        "            ')':'(',\n",
        "            ']':'[',\n",
        "            '}':'{'\n",
        "        }\n",
        "\n",
        "        stk = []\n",
        "        for val in s:\n",
        "            if len(stk) > 0 and stk[-1] in para_dict:\n",
        "                if para_dict[stk[-1]] == val:\n",
        "                    stk.pop()\n",
        "                    continue\n",
        "            stk.append(val)\n",
        "        if len(stk) > 0:\n",
        "            print(\"stk is not empty\")\n",
        "            return False\n",
        "        return True"
      ],
      "metadata": {
        "id": "OLS5I_BiyM9L"
      },
      "execution_count": 16,
      "outputs": []
    },
    {
      "cell_type": "code",
      "source": [
        "sol2 = Solution2()\n",
        "sol2.isValid(\")(\")"
      ],
      "metadata": {
        "id": "p2-M9iBqyWgS",
        "outputId": "7ce6b35d-b110-44c2-ff8c-28de9e481cda",
        "colab": {
          "base_uri": "https://localhost:8080/"
        }
      },
      "execution_count": 17,
      "outputs": [
        {
          "output_type": "execute_result",
          "data": {
            "text/plain": [
              "True"
            ]
          },
          "metadata": {},
          "execution_count": 17
        }
      ]
    },
    {
      "cell_type": "code",
      "source": [
        "sol2.isValid(\"[)(]\")"
      ],
      "metadata": {
        "id": "uEj111tCy16m",
        "outputId": "700d5e3c-66fb-4a95-a71c-7fbc7f7e8ab1",
        "colab": {
          "base_uri": "https://localhost:8080/"
        }
      },
      "execution_count": 19,
      "outputs": [
        {
          "output_type": "execute_result",
          "data": {
            "text/plain": [
              "True"
            ]
          },
          "metadata": {},
          "execution_count": 19
        }
      ]
    },
    {
      "cell_type": "code",
      "source": [
        "sol2.isValid(\"(())\")"
      ],
      "metadata": {
        "id": "Qj1ZygTdzAUD",
        "outputId": "4ae87b4a-678c-44ca-8914-bf20e2c07e9d",
        "colab": {
          "base_uri": "https://localhost:8080/"
        }
      },
      "execution_count": 20,
      "outputs": [
        {
          "output_type": "execute_result",
          "data": {
            "text/plain": [
              "True"
            ]
          },
          "metadata": {},
          "execution_count": 20
        }
      ]
    },
    {
      "cell_type": "code",
      "source": [
        "sol2.isValid(\"(([]))\")"
      ],
      "metadata": {
        "id": "tMVqJ9agzAXF",
        "outputId": "f96a5bb0-8f44-45c4-b8a4-b2de53909f0e",
        "colab": {
          "base_uri": "https://localhost:8080/"
        }
      },
      "execution_count": 21,
      "outputs": [
        {
          "output_type": "execute_result",
          "data": {
            "text/plain": [
              "True"
            ]
          },
          "metadata": {},
          "execution_count": 21
        }
      ]
    },
    {
      "cell_type": "code",
      "source": [
        "sol2.isValid(\"(([))\")"
      ],
      "metadata": {
        "id": "_63n40m1zAZ9",
        "outputId": "c905f7a9-0b1d-4372-81eb-91b0c7eba643",
        "colab": {
          "base_uri": "https://localhost:8080/"
        }
      },
      "execution_count": 22,
      "outputs": [
        {
          "output_type": "execute_result",
          "data": {
            "text/plain": [
              "False"
            ]
          },
          "metadata": {},
          "execution_count": 22
        }
      ]
    },
    {
      "cell_type": "code",
      "source": [],
      "metadata": {
        "id": "16druccJzAck"
      },
      "execution_count": null,
      "outputs": []
    }
  ]
}
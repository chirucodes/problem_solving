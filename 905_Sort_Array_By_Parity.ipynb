{
  "nbformat": 4,
  "nbformat_minor": 0,
  "metadata": {
    "colab": {
      "provenance": [],
      "authorship_tag": "ABX9TyPp5/qP4ojNqNKd5aUu9lYr",
      "include_colab_link": true
    },
    "kernelspec": {
      "name": "python3",
      "display_name": "Python 3"
    },
    "language_info": {
      "name": "python"
    }
  },
  "cells": [
    {
      "cell_type": "markdown",
      "metadata": {
        "id": "view-in-github",
        "colab_type": "text"
      },
      "source": [
        "<a href=\"https://colab.research.google.com/github/chirucodes/problem_solving/blob/main/905_Sort_Array_By_Parity.ipynb\" target=\"_parent\"><img src=\"https://colab.research.google.com/assets/colab-badge.svg\" alt=\"Open In Colab\"/></a>"
      ]
    },
    {
      "cell_type": "markdown",
      "source": [
        "## 905. Sort Array By Parity\n",
        "\n",
        "Problem :https://leetcode.com/problems/sort-array-by-parity/description/\n"
      ],
      "metadata": {
        "id": "tCcnQDfDrA10"
      }
    },
    {
      "cell_type": "markdown",
      "source": [
        "## Solution1:"
      ],
      "metadata": {
        "id": "NR7MGjZQuhv6"
      }
    },
    {
      "cell_type": "code",
      "execution_count": 2,
      "metadata": {
        "id": "I6PKnRH1q73e"
      },
      "outputs": [],
      "source": [
        "from typing import List"
      ]
    },
    {
      "cell_type": "code",
      "source": [
        "class Solution1:\n",
        "    def sortArrayByParity(self, nums: List[int]) -> List[int]:\n",
        "        \"\"\"\n",
        "        Do not return anything, modify nums in-place instead.\n",
        "        \"\"\"\n",
        "        print(\"Before move: \", nums)\n",
        "        for ind, val in enumerate(nums):\n",
        "            if val %2 != 0: # or val not in [0, 1]:\n",
        "                zero = nums.pop(ind)\n",
        "                nums.append(zero)\n",
        "        print(\"After move: \", nums)"
      ],
      "metadata": {
        "id": "omSTe3JNrAK8"
      },
      "execution_count": 20,
      "outputs": []
    },
    {
      "cell_type": "code",
      "source": [
        "sol1 = Solution1()\n",
        "sol1.sortArrayByParity([0,1,0,3,12])"
      ],
      "metadata": {
        "colab": {
          "base_uri": "https://localhost:8080/"
        },
        "id": "v7SEJRNXsDv6",
        "outputId": "7a730ec1-9158-4e19-fd82-72e400393fa5"
      },
      "execution_count": 21,
      "outputs": [
        {
          "output_type": "stream",
          "name": "stdout",
          "text": [
            "Before move:  [0, 1, 0, 3, 12]\n",
            "After move:  [0, 0, 12, 3, 1]\n"
          ]
        }
      ]
    },
    {
      "cell_type": "code",
      "source": [
        "sol1 = Solution1()\n",
        "sol1.sortArrayByParity([0,1,0])"
      ],
      "metadata": {
        "colab": {
          "base_uri": "https://localhost:8080/"
        },
        "id": "v8tp7YKeuB7s",
        "outputId": "f8af8c19-72c4-415c-b2ac-df0a8a0bc161"
      },
      "execution_count": 22,
      "outputs": [
        {
          "output_type": "stream",
          "name": "stdout",
          "text": [
            "Before move:  [0, 1, 0]\n",
            "After move:  [0, 0, 1]\n"
          ]
        }
      ]
    },
    {
      "cell_type": "code",
      "source": [
        "sol1.sortArrayByParity([1,0,0])"
      ],
      "metadata": {
        "colab": {
          "base_uri": "https://localhost:8080/"
        },
        "id": "lT9BWYs6uFb9",
        "outputId": "4713ab81-dec3-43ab-e8df-7c6e0ac51621"
      },
      "execution_count": 23,
      "outputs": [
        {
          "output_type": "stream",
          "name": "stdout",
          "text": [
            "Before move:  [1, 0, 0]\n",
            "After move:  [0, 0, 1]\n"
          ]
        }
      ]
    },
    {
      "cell_type": "code",
      "source": [
        "#This is not working for some reason, need to identify\n",
        "\n",
        "sol1.sortArrayByParity([0,0,1])"
      ],
      "metadata": {
        "colab": {
          "base_uri": "https://localhost:8080/"
        },
        "id": "-iLpHQeKuIsl",
        "outputId": "df940110-87b0-4816-db8e-1683b57a5e08"
      },
      "execution_count": 24,
      "outputs": [
        {
          "output_type": "stream",
          "name": "stdout",
          "text": [
            "Before move:  [0, 0, 1]\n",
            "After move:  [0, 0, 1]\n"
          ]
        }
      ]
    },
    {
      "cell_type": "markdown",
      "source": [
        "## Solution2:"
      ],
      "metadata": {
        "id": "3VRs8Td1ub1x"
      }
    },
    {
      "cell_type": "code",
      "source": [
        "class Solution2:\n",
        "    def sortArrayByParity(self, nums: List[int]) -> List[int]:\n",
        "        print(\"Before move: \", nums)\n",
        "        for each_ind in range(len(nums)-1, -1, -1):\n",
        "            print(each_ind)\n",
        "            if nums[each_ind] % 2 != 0:\n",
        "                zero = nums.pop(each_ind)\n",
        "                nums.append(zero)\n",
        "        print(\"After move: \", nums)"
      ],
      "metadata": {
        "id": "cusxlA5fublJ"
      },
      "execution_count": 25,
      "outputs": []
    },
    {
      "cell_type": "code",
      "source": [
        "sol2 = Solution2()\n",
        "sol2.sortArrayByParity([3,1,2,4])"
      ],
      "metadata": {
        "colab": {
          "base_uri": "https://localhost:8080/"
        },
        "id": "wiJNJ5DcubeM",
        "outputId": "7289f208-9de0-4602-8b0e-7fc7ad8df6ba"
      },
      "execution_count": 26,
      "outputs": [
        {
          "output_type": "stream",
          "name": "stdout",
          "text": [
            "Before move:  [3, 1, 2, 4]\n",
            "3\n",
            "2\n",
            "1\n",
            "0\n",
            "After move:  [2, 4, 1, 3]\n"
          ]
        }
      ]
    },
    {
      "cell_type": "code",
      "source": [
        "sol2 = Solution2()\n",
        "sol2.sortArrayByParity([0,1,0,3,12])"
      ],
      "metadata": {
        "colab": {
          "base_uri": "https://localhost:8080/"
        },
        "id": "ipEPZHv5ubaq",
        "outputId": "ee63e10d-a451-4ba4-8877-07be03491396"
      },
      "execution_count": 28,
      "outputs": [
        {
          "output_type": "stream",
          "name": "stdout",
          "text": [
            "Before move:  [0, 1, 0, 3, 12]\n",
            "4\n",
            "3\n",
            "2\n",
            "1\n",
            "0\n",
            "After move:  [0, 0, 12, 3, 1]\n"
          ]
        }
      ]
    },
    {
      "cell_type": "code",
      "source": [],
      "metadata": {
        "id": "4lz1L6-2ubVB"
      },
      "execution_count": null,
      "outputs": []
    }
  ]
}
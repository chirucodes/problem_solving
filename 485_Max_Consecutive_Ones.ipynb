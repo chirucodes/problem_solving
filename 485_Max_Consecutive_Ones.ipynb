{
  "nbformat": 4,
  "nbformat_minor": 0,
  "metadata": {
    "colab": {
      "provenance": [],
      "authorship_tag": "ABX9TyPAB+loT5dP2uAY17mmF5HU",
      "include_colab_link": true
    },
    "kernelspec": {
      "name": "python3",
      "display_name": "Python 3"
    },
    "language_info": {
      "name": "python"
    }
  },
  "cells": [
    {
      "cell_type": "markdown",
      "metadata": {
        "id": "view-in-github",
        "colab_type": "text"
      },
      "source": [
        "<a href=\"https://colab.research.google.com/github/chirucodes/problem_solving/blob/main/485_Max_Consecutive_Ones.ipynb\" target=\"_parent\"><img src=\"https://colab.research.google.com/assets/colab-badge.svg\" alt=\"Open In Colab\"/></a>"
      ]
    },
    {
      "cell_type": "markdown",
      "source": [
        "## 485. Max Consecutive Ones\n",
        "\n",
        "Problem description: https://leetcode.com/problems/max-consecutive-ones/description/"
      ],
      "metadata": {
        "id": "iGeP_hC3AGmj"
      }
    },
    {
      "cell_type": "markdown",
      "source": [
        "## Solution1:"
      ],
      "metadata": {
        "id": "UXndoWtv_w8w"
      }
    },
    {
      "cell_type": "code",
      "execution_count": 2,
      "metadata": {
        "id": "Th8Ar-Hy_s0v"
      },
      "outputs": [],
      "source": [
        "from typing import List\n",
        "\n",
        "class Solution1:\n",
        "    def findMaxConsecutiveOnes(self, nums: List[int]) -> int:\n",
        "        max_c = 0\n",
        "        count = 0\n",
        "        for i in nums:\n",
        "            if i == 1:\n",
        "                count += 1\n",
        "            else:\n",
        "                count = 0\n",
        "            if count > max_c:\n",
        "                max_c = count\n",
        "        return max_c\n"
      ]
    },
    {
      "cell_type": "code",
      "source": [
        "sol1 = Solution1()\n",
        "sol1.findMaxConsecutiveOnes([1,1,0,1,1,1])"
      ],
      "metadata": {
        "colab": {
          "base_uri": "https://localhost:8080/"
        },
        "id": "uBwKveRH_wTQ",
        "outputId": "7cccee74-8479-475b-e4c7-73d3d6419809"
      },
      "execution_count": 3,
      "outputs": [
        {
          "output_type": "execute_result",
          "data": {
            "text/plain": [
              "3"
            ]
          },
          "metadata": {},
          "execution_count": 3
        }
      ]
    },
    {
      "cell_type": "code",
      "source": [
        "sol1.findMaxConsecutiveOnes([1,0,1,1,0,1])"
      ],
      "metadata": {
        "colab": {
          "base_uri": "https://localhost:8080/"
        },
        "id": "gbV6iFO5_wWQ",
        "outputId": "4f495a35-f5b8-4316-8c3f-e0884377527a"
      },
      "execution_count": 4,
      "outputs": [
        {
          "output_type": "execute_result",
          "data": {
            "text/plain": [
              "2"
            ]
          },
          "metadata": {},
          "execution_count": 4
        }
      ]
    }
  ]
}
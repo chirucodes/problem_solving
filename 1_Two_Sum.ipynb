{
  "nbformat": 4,
  "nbformat_minor": 0,
  "metadata": {
    "colab": {
      "provenance": [],
      "authorship_tag": "ABX9TyMe/3ijeFzl2bZG5TWO9a/Y",
      "include_colab_link": true
    },
    "kernelspec": {
      "name": "python3",
      "display_name": "Python 3"
    },
    "language_info": {
      "name": "python"
    }
  },
  "cells": [
    {
      "cell_type": "markdown",
      "metadata": {
        "id": "view-in-github",
        "colab_type": "text"
      },
      "source": [
        "<a href=\"https://colab.research.google.com/github/chirucodes/problem_solving/blob/main/1_Two_Sum.ipynb\" target=\"_parent\"><img src=\"https://colab.research.google.com/assets/colab-badge.svg\" alt=\"Open In Colab\"/></a>"
      ]
    },
    {
      "cell_type": "markdown",
      "source": [
        "## 1. Two Sum\n",
        "Find the problem description here: https://leetcode.com/problems/two-sum/description/"
      ],
      "metadata": {
        "id": "HtITq5105rPy"
      }
    },
    {
      "cell_type": "markdown",
      "source": [
        "## Solution1:"
      ],
      "metadata": {
        "id": "3acA_j72IwYh"
      }
    },
    {
      "cell_type": "code",
      "execution_count": 1,
      "metadata": {
        "id": "gyv-uEpQ5opH"
      },
      "outputs": [],
      "source": [
        "from typing import List\n",
        "\n",
        "class Solution1:\n",
        "    def twoSum(self, nums: List[int], target: int) -> List[int]:\n",
        "\n",
        "        start_ind = 0\n",
        "        while start_ind < len(nums):\n",
        "            ind = start_ind\n",
        "            tmp_sum = target\n",
        "            indices = []\n",
        "            \n",
        "            for val in nums[start_ind:]:\n",
        "                if val <= tmp_sum:\n",
        "                    tmp_sum = tmp_sum-val\n",
        "                    indices.append(ind)\n",
        "                    if tmp_sum == 0:\n",
        "                        return indices\n",
        "                    ind += 1\n",
        "                if val > tmp_sum:\n",
        "                    ind += 1\n",
        "                    continue\n",
        "            start_ind += 1\n",
        "                "
      ]
    },
    {
      "cell_type": "code",
      "source": [
        "sol1 = Solution1()\n",
        "sol1.twoSum([2,7,11,15], 9)"
      ],
      "metadata": {
        "colab": {
          "base_uri": "https://localhost:8080/"
        },
        "id": "E976DBwgRm2A",
        "outputId": "ccdea9b0-081d-47a9-b509-ab5c161ce2c1"
      },
      "execution_count": 2,
      "outputs": [
        {
          "output_type": "execute_result",
          "data": {
            "text/plain": [
              "[0, 1]"
            ]
          },
          "metadata": {},
          "execution_count": 2
        }
      ]
    },
    {
      "cell_type": "code",
      "source": [
        "sol1.twoSum([3,2,4], 6)"
      ],
      "metadata": {
        "colab": {
          "base_uri": "https://localhost:8080/"
        },
        "id": "ZwXnmT1nRm5F",
        "outputId": "316d59fa-5bd3-4654-961f-84ca470c051b"
      },
      "execution_count": 3,
      "outputs": [
        {
          "output_type": "execute_result",
          "data": {
            "text/plain": [
              "[1, 2]"
            ]
          },
          "metadata": {},
          "execution_count": 3
        }
      ]
    },
    {
      "cell_type": "code",
      "source": [],
      "metadata": {
        "id": "4aI2lElvRm78"
      },
      "execution_count": 3,
      "outputs": []
    },
    {
      "cell_type": "markdown",
      "source": [
        "## Solution2:"
      ],
      "metadata": {
        "id": "ChyEqpmXQuZw"
      }
    },
    {
      "cell_type": "code",
      "source": [
        "from typing import List\n",
        "\n",
        "class Solution2:\n",
        "    def twoSum(self, nums: List[int], target: int) -> List[int]:\n",
        "\n",
        "        for i in range(len(nums)):\n",
        "            for j in range(i+1, len(nums)):\n",
        "                if nums[i]+nums[j] == target:\n",
        "                    return [i,j]"
      ],
      "metadata": {
        "id": "wjl_4VjUQtiX"
      },
      "execution_count": 4,
      "outputs": []
    },
    {
      "cell_type": "code",
      "source": [
        "sol2 = Solution2()\n",
        "sol2.twoSum([2,7,11,15], 9)"
      ],
      "metadata": {
        "colab": {
          "base_uri": "https://localhost:8080/"
        },
        "id": "3wW4fGRsR3il",
        "outputId": "2e4e102e-647d-45c2-dd8d-6d1f7eb64556"
      },
      "execution_count": 5,
      "outputs": [
        {
          "output_type": "execute_result",
          "data": {
            "text/plain": [
              "[0, 1]"
            ]
          },
          "metadata": {},
          "execution_count": 5
        }
      ]
    },
    {
      "cell_type": "code",
      "source": [
        "sol2.twoSum([3,2,4], 6)"
      ],
      "metadata": {
        "colab": {
          "base_uri": "https://localhost:8080/"
        },
        "id": "NRIeQ86ZRm-U",
        "outputId": "b1471cb8-6e48-4d8f-ce78-bf3889a43e57"
      },
      "execution_count": 6,
      "outputs": [
        {
          "output_type": "execute_result",
          "data": {
            "text/plain": [
              "[1, 2]"
            ]
          },
          "metadata": {},
          "execution_count": 6
        }
      ]
    },
    {
      "cell_type": "markdown",
      "source": [
        "## Solution3:\n"
      ],
      "metadata": {
        "id": "YDtRXsw9SHLO"
      }
    },
    {
      "cell_type": "code",
      "source": [
        "from typing import List\n",
        "\n",
        "class Solution3:\n",
        "    def twoSum(self, nums: List[int], target: int) -> List[int]:\n",
        "\n",
        "        val_dict = {}\n",
        "\n",
        "        for i, v in enumerate(nums)       :\n",
        "            if target - nums[i] in val_dict.keys():\n",
        "                return val_dict[target - nums[i]], i\n",
        "            else:\n",
        "                val_dict[v] = i\n"
      ],
      "metadata": {
        "id": "q99PVqIgSKRI"
      },
      "execution_count": 7,
      "outputs": []
    },
    {
      "cell_type": "code",
      "source": [
        "sol3 = Solution3() \n",
        "sol3.twoSum([2,7,11,15], 9)"
      ],
      "metadata": {
        "colab": {
          "base_uri": "https://localhost:8080/"
        },
        "id": "vlM3jtNETbLv",
        "outputId": "bc9c633e-a961-4270-b011-d243c31b0e72"
      },
      "execution_count": 8,
      "outputs": [
        {
          "output_type": "execute_result",
          "data": {
            "text/plain": [
              "(0, 1)"
            ]
          },
          "metadata": {},
          "execution_count": 8
        }
      ]
    },
    {
      "cell_type": "code",
      "source": [
        "sol3.twoSum([3,2,4], 6)"
      ],
      "metadata": {
        "colab": {
          "base_uri": "https://localhost:8080/"
        },
        "id": "TJsEwieeTfHV",
        "outputId": "d1f2b9c8-d9e2-4394-b8fc-e8e57353374b"
      },
      "execution_count": 9,
      "outputs": [
        {
          "output_type": "execute_result",
          "data": {
            "text/plain": [
              "(1, 2)"
            ]
          },
          "metadata": {},
          "execution_count": 9
        }
      ]
    }
  ]
}
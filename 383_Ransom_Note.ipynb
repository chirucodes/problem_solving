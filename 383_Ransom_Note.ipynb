{
  "nbformat": 4,
  "nbformat_minor": 0,
  "metadata": {
    "colab": {
      "provenance": [],
      "authorship_tag": "ABX9TyNvGQmZZIY9BctYt49H06O0",
      "include_colab_link": true
    },
    "kernelspec": {
      "name": "python3",
      "display_name": "Python 3"
    },
    "language_info": {
      "name": "python"
    }
  },
  "cells": [
    {
      "cell_type": "markdown",
      "metadata": {
        "id": "view-in-github",
        "colab_type": "text"
      },
      "source": [
        "<a href=\"https://colab.research.google.com/github/chirucodes/problem_solving/blob/main/383_Ransom_Note.ipynb\" target=\"_parent\"><img src=\"https://colab.research.google.com/assets/colab-badge.svg\" alt=\"Open In Colab\"/></a>"
      ]
    },
    {
      "cell_type": "markdown",
      "source": [
        "## 383. Ransom Note\n",
        "Find the problem description here:https://leetcode.com/problems/ransom-note/description/"
      ],
      "metadata": {
        "id": "mG3PAFwQ7L2Y"
      }
    },
    {
      "cell_type": "markdown",
      "source": [
        "## Solution1:"
      ],
      "metadata": {
        "id": "Kv6VbvzG7IgV"
      }
    },
    {
      "cell_type": "code",
      "execution_count": 4,
      "metadata": {
        "id": "bR8YXUOk4Bnl"
      },
      "outputs": [],
      "source": [
        "class Solution1:\n",
        "    def canConstruct(self, ransomNote: str, magazine: str) -> bool:\n",
        "        mag_split = list(magazine)\n",
        "\n",
        "        if len(magazine) < len(ransomNote):\n",
        "            return False\n",
        "\n",
        "        for each in list(ransomNote):\n",
        "            if each in mag_split:\n",
        "                mag_split.remove(each)\n",
        "            else:\n",
        "                return False\n",
        "        return True"
      ]
    },
    {
      "cell_type": "code",
      "source": [
        "sol1 = Solution1()"
      ],
      "metadata": {
        "id": "aTKYDLOH64rc"
      },
      "execution_count": 5,
      "outputs": []
    },
    {
      "cell_type": "code",
      "source": [
        "sol1.canConstruct(\"aa\",\"aab\")"
      ],
      "metadata": {
        "colab": {
          "base_uri": "https://localhost:8080/"
        },
        "id": "i302eOAe64ue",
        "outputId": "58e26f15-19da-4d60-c5cb-11c19ca12e27"
      },
      "execution_count": 6,
      "outputs": [
        {
          "output_type": "execute_result",
          "data": {
            "text/plain": [
              "True"
            ]
          },
          "metadata": {},
          "execution_count": 6
        }
      ]
    },
    {
      "cell_type": "code",
      "source": [
        "sol1.canConstruct(\"aa\",\"aba\")"
      ],
      "metadata": {
        "colab": {
          "base_uri": "https://localhost:8080/"
        },
        "id": "hIdGjlAn7B6q",
        "outputId": "7818bb39-23f7-419c-d698-b9482dd24b0e"
      },
      "execution_count": 7,
      "outputs": [
        {
          "output_type": "execute_result",
          "data": {
            "text/plain": [
              "True"
            ]
          },
          "metadata": {},
          "execution_count": 7
        }
      ]
    },
    {
      "cell_type": "code",
      "source": [
        "sol1.canConstruct(\"aac\",\"aab\")"
      ],
      "metadata": {
        "colab": {
          "base_uri": "https://localhost:8080/"
        },
        "id": "RtmFSfem7B9h",
        "outputId": "acd37462-9912-45da-f3b6-18d8d6fc4ba6"
      },
      "execution_count": 8,
      "outputs": [
        {
          "output_type": "execute_result",
          "data": {
            "text/plain": [
              "False"
            ]
          },
          "metadata": {},
          "execution_count": 8
        }
      ]
    },
    {
      "cell_type": "code",
      "source": [
        "sol1.canConstruct(\"aca\",\"aa\")"
      ],
      "metadata": {
        "colab": {
          "base_uri": "https://localhost:8080/"
        },
        "id": "ZtZDD0nk7CAj",
        "outputId": "b35ec21f-bda9-4429-b164-bf8942fead67"
      },
      "execution_count": 10,
      "outputs": [
        {
          "output_type": "execute_result",
          "data": {
            "text/plain": [
              "False"
            ]
          },
          "metadata": {},
          "execution_count": 10
        }
      ]
    }
  ]
}
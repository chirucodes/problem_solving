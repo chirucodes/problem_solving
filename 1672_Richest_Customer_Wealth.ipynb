{
  "nbformat": 4,
  "nbformat_minor": 0,
  "metadata": {
    "colab": {
      "provenance": [],
      "authorship_tag": "ABX9TyMF/svCWyI7WpIeY3aoGoze",
      "include_colab_link": true
    },
    "kernelspec": {
      "name": "python3",
      "display_name": "Python 3"
    },
    "language_info": {
      "name": "python"
    }
  },
  "cells": [
    {
      "cell_type": "markdown",
      "metadata": {
        "id": "view-in-github",
        "colab_type": "text"
      },
      "source": [
        "<a href=\"https://colab.research.google.com/github/chirucodes/problem_solving/blob/main/1672_Richest_Customer_Wealth.ipynb\" target=\"_parent\"><img src=\"https://colab.research.google.com/assets/colab-badge.svg\" alt=\"Open In Colab\"/></a>"
      ]
    },
    {
      "cell_type": "markdown",
      "source": [
        "\n",
        "## 1672. Richest Customer Wealth\n",
        "\n",
        "Find the problem description here:https://leetcode.com/problems/richest-customer-wealth/description/"
      ],
      "metadata": {
        "id": "twJYHcYvimIt"
      }
    },
    {
      "cell_type": "markdown",
      "source": [
        "## Solution1"
      ],
      "metadata": {
        "id": "u6wCpoMYisSe"
      }
    },
    {
      "cell_type": "code",
      "execution_count": 3,
      "metadata": {
        "id": "RkIeEeMkijax"
      },
      "outputs": [],
      "source": [
        "from typing import List\n",
        "\n",
        "class Solution1:\n",
        "    def maximumWealth(self, accounts: List[List[int]]) -> int:\n",
        "        rich = 0\n",
        "        for each_r in accounts:\n",
        "            each_custo_w = sum(each_r)\n",
        "            if each_custo_w > rich:\n",
        "                rich = each_custo_w\n",
        "        return rich"
      ]
    },
    {
      "cell_type": "code",
      "source": [
        "sol1 = Solution1()\n",
        "mat1 = [[2,8,7],[7,1,3],[1,9,5]]\n",
        "\n",
        "sol1.maximumWealth(mat1)"
      ],
      "metadata": {
        "colab": {
          "base_uri": "https://localhost:8080/"
        },
        "id": "4aQ8_0txixB-",
        "outputId": "b307531c-9245-4149-92fd-8e412af6faee"
      },
      "execution_count": 4,
      "outputs": [
        {
          "output_type": "execute_result",
          "data": {
            "text/plain": [
              "17"
            ]
          },
          "metadata": {},
          "execution_count": 4
        }
      ]
    },
    {
      "cell_type": "code",
      "source": [
        "mat1 = [[1,5],[7,3],[3,5]]\n",
        "\n",
        "sol1.maximumWealth(mat1)"
      ],
      "metadata": {
        "colab": {
          "base_uri": "https://localhost:8080/"
        },
        "id": "anYeMnxOjW5N",
        "outputId": "404793e7-40d5-418d-d36b-c8eb11972d63"
      },
      "execution_count": 5,
      "outputs": [
        {
          "output_type": "execute_result",
          "data": {
            "text/plain": [
              "10"
            ]
          },
          "metadata": {},
          "execution_count": 5
        }
      ]
    },
    {
      "cell_type": "code",
      "source": [
        "mat1 = [[1,2,3],[3,2,1]]\n",
        "\n",
        "sol1.maximumWealth(mat1)"
      ],
      "metadata": {
        "colab": {
          "base_uri": "https://localhost:8080/"
        },
        "id": "NSBVyzx_jW8V",
        "outputId": "53d9b353-edf5-4dd2-d984-17ce0df72cf0"
      },
      "execution_count": 6,
      "outputs": [
        {
          "output_type": "execute_result",
          "data": {
            "text/plain": [
              "6"
            ]
          },
          "metadata": {},
          "execution_count": 6
        }
      ]
    },
    {
      "cell_type": "markdown",
      "source": [
        "## Solution2"
      ],
      "metadata": {
        "id": "yotSCYMijks_"
      }
    },
    {
      "cell_type": "code",
      "source": [
        "from typing import List\n",
        "\n",
        "class Solution2:\n",
        "    def maximumWealth(self, accounts: List[List[int]]) -> int:\n",
        "        return max([sum(each_r) for each_r in accounts])"
      ],
      "metadata": {
        "id": "FuwihtxpjnMA"
      },
      "execution_count": 7,
      "outputs": []
    },
    {
      "cell_type": "code",
      "source": [
        "sol2 = Solution2()\n",
        "mat1 = [[2,8,7],[7,1,3],[1,9,5]]\n",
        "\n",
        "sol2.maximumWealth(mat1)"
      ],
      "metadata": {
        "colab": {
          "base_uri": "https://localhost:8080/"
        },
        "id": "mWCI6mcQjnPP",
        "outputId": "827b5208-a0e7-454f-f128-848ae3157d2a"
      },
      "execution_count": 8,
      "outputs": [
        {
          "output_type": "execute_result",
          "data": {
            "text/plain": [
              "17"
            ]
          },
          "metadata": {},
          "execution_count": 8
        }
      ]
    },
    {
      "cell_type": "code",
      "source": [
        "mat1 = [[1,5],[7,3],[3,5]]\n",
        "\n",
        "sol2.maximumWealth(mat1)"
      ],
      "metadata": {
        "colab": {
          "base_uri": "https://localhost:8080/"
        },
        "id": "gFS9po-ykLjF",
        "outputId": "2c6770bf-8476-4bb5-ca29-822d9799a025"
      },
      "execution_count": 9,
      "outputs": [
        {
          "output_type": "execute_result",
          "data": {
            "text/plain": [
              "10"
            ]
          },
          "metadata": {},
          "execution_count": 9
        }
      ]
    },
    {
      "cell_type": "code",
      "source": [
        "mat1 = [[1,2,3],[3,2,1]]\n",
        "\n",
        "sol2.maximumWealth(mat1)"
      ],
      "metadata": {
        "colab": {
          "base_uri": "https://localhost:8080/"
        },
        "id": "e3hOxftkkLmE",
        "outputId": "a92ec445-1ffc-4865-b41f-ce55d012bc77"
      },
      "execution_count": 10,
      "outputs": [
        {
          "output_type": "execute_result",
          "data": {
            "text/plain": [
              "6"
            ]
          },
          "metadata": {},
          "execution_count": 10
        }
      ]
    }
  ]
}
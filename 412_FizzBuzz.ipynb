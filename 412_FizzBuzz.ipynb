{
  "nbformat": 4,
  "nbformat_minor": 0,
  "metadata": {
    "colab": {
      "provenance": [],
      "authorship_tag": "ABX9TyPSCrCf36w9oZ07Y6JQNlmz",
      "include_colab_link": true
    },
    "kernelspec": {
      "name": "python3",
      "display_name": "Python 3"
    },
    "language_info": {
      "name": "python"
    }
  },
  "cells": [
    {
      "cell_type": "markdown",
      "metadata": {
        "id": "view-in-github",
        "colab_type": "text"
      },
      "source": [
        "<a href=\"https://colab.research.google.com/github/chirucodes/problem_solving/blob/main/412_FizzBuzz.ipynb\" target=\"_parent\"><img src=\"https://colab.research.google.com/assets/colab-badge.svg\" alt=\"Open In Colab\"/></a>"
      ]
    },
    {
      "cell_type": "markdown",
      "source": [
        "## 412. Fizz Buzz\n",
        "Find the problem description here: https://leetcode.com/problems/fizz-buzz/description/"
      ],
      "metadata": {
        "id": "3VRDDqjmC1z3"
      }
    },
    {
      "cell_type": "markdown",
      "source": [
        "## Solution1:"
      ],
      "metadata": {
        "id": "OuxIKnHZDDke"
      }
    },
    {
      "cell_type": "code",
      "source": [
        "class Solution:\n",
        "    def fizzBuzz(self, n: int) -> list():\n",
        "        answer=list()\n",
        "        for i in range(1,n+1):\n",
        "            print(\"i val: \",i)\n",
        "            if i%3==0 and i%5==0:\n",
        "                answer.append(\"FizzBuzz\")\n",
        "            elif i%3==0:\n",
        "                answer.append(\"Fizz\")\n",
        "            elif i%5==0:\n",
        "                answer.append(\"Buzz\")\n",
        "            else:\n",
        "                answer.append(\"%s\"%i)\n",
        "        return answer"
      ],
      "metadata": {
        "id": "3WHIE2a6DDQO"
      },
      "execution_count": 1,
      "outputs": []
    },
    {
      "cell_type": "code",
      "execution_count": 2,
      "metadata": {
        "colab": {
          "base_uri": "https://localhost:8080/"
        },
        "id": "V957s7dbCxnN",
        "outputId": "bf4d0745-f1e2-4c2a-d455-1d78c4c1a448"
      },
      "outputs": [
        {
          "output_type": "stream",
          "name": "stdout",
          "text": [
            "i val:  1\n",
            "i val:  2\n",
            "i val:  3\n"
          ]
        },
        {
          "output_type": "execute_result",
          "data": {
            "text/plain": [
              "['1', '2', 'Fizz']"
            ]
          },
          "metadata": {},
          "execution_count": 2
        }
      ],
      "source": [
        "sol = Solution()\n",
        "sol.fizzBuzz(3)"
      ]
    },
    {
      "cell_type": "code",
      "source": [
        "sol.fizzBuzz(2)"
      ],
      "metadata": {
        "colab": {
          "base_uri": "https://localhost:8080/"
        },
        "id": "26yS3my_D6Rw",
        "outputId": "6a93e759-85da-4fe1-b1c8-f3663a0214ff"
      },
      "execution_count": 3,
      "outputs": [
        {
          "output_type": "stream",
          "name": "stdout",
          "text": [
            "i val:  1\n",
            "i val:  2\n"
          ]
        },
        {
          "output_type": "execute_result",
          "data": {
            "text/plain": [
              "['1', '2']"
            ]
          },
          "metadata": {},
          "execution_count": 3
        }
      ]
    },
    {
      "cell_type": "code",
      "source": [
        "sol.fizzBuzz(9)"
      ],
      "metadata": {
        "colab": {
          "base_uri": "https://localhost:8080/"
        },
        "id": "rEmPYWnzD6Ut",
        "outputId": "d5e7cf76-6fbf-469c-aec9-a64ba8945eec"
      },
      "execution_count": 4,
      "outputs": [
        {
          "output_type": "stream",
          "name": "stdout",
          "text": [
            "i val:  1\n",
            "i val:  2\n",
            "i val:  3\n",
            "i val:  4\n",
            "i val:  5\n",
            "i val:  6\n",
            "i val:  7\n",
            "i val:  8\n",
            "i val:  9\n"
          ]
        },
        {
          "output_type": "execute_result",
          "data": {
            "text/plain": [
              "['1', '2', 'Fizz', '4', 'Buzz', 'Fizz', '7', '8', 'Fizz']"
            ]
          },
          "metadata": {},
          "execution_count": 4
        }
      ]
    },
    {
      "cell_type": "code",
      "source": [
        "sol.fizzBuzz(12)"
      ],
      "metadata": {
        "colab": {
          "base_uri": "https://localhost:8080/"
        },
        "id": "qpPMCE37ExWo",
        "outputId": "ef573fa0-19f0-4372-f715-0329b21509ea"
      },
      "execution_count": 5,
      "outputs": [
        {
          "output_type": "stream",
          "name": "stdout",
          "text": [
            "i val:  1\n",
            "i val:  2\n",
            "i val:  3\n",
            "i val:  4\n",
            "i val:  5\n",
            "i val:  6\n",
            "i val:  7\n",
            "i val:  8\n",
            "i val:  9\n",
            "i val:  10\n",
            "i val:  11\n",
            "i val:  12\n"
          ]
        },
        {
          "output_type": "execute_result",
          "data": {
            "text/plain": [
              "['1', '2', 'Fizz', '4', 'Buzz', 'Fizz', '7', '8', 'Fizz', 'Buzz', '11', 'Fizz']"
            ]
          },
          "metadata": {},
          "execution_count": 5
        }
      ]
    },
    {
      "cell_type": "code",
      "source": [
        "sol.fizzBuzz(15)"
      ],
      "metadata": {
        "colab": {
          "base_uri": "https://localhost:8080/"
        },
        "id": "jM0SQdhHExZq",
        "outputId": "73850c38-e860-4da7-c39d-068b4e686f3b"
      },
      "execution_count": 6,
      "outputs": [
        {
          "output_type": "stream",
          "name": "stdout",
          "text": [
            "i val:  1\n",
            "i val:  2\n",
            "i val:  3\n",
            "i val:  4\n",
            "i val:  5\n",
            "i val:  6\n",
            "i val:  7\n",
            "i val:  8\n",
            "i val:  9\n",
            "i val:  10\n",
            "i val:  11\n",
            "i val:  12\n",
            "i val:  13\n",
            "i val:  14\n",
            "i val:  15\n"
          ]
        },
        {
          "output_type": "execute_result",
          "data": {
            "text/plain": [
              "['1',\n",
              " '2',\n",
              " 'Fizz',\n",
              " '4',\n",
              " 'Buzz',\n",
              " 'Fizz',\n",
              " '7',\n",
              " '8',\n",
              " 'Fizz',\n",
              " 'Buzz',\n",
              " '11',\n",
              " 'Fizz',\n",
              " '13',\n",
              " '14',\n",
              " 'FizzBuzz']"
            ]
          },
          "metadata": {},
          "execution_count": 6
        }
      ]
    },
    {
      "cell_type": "markdown",
      "source": [
        "## Solution2:"
      ],
      "metadata": {
        "id": "9F7ouWFnE4n_"
      }
    },
    {
      "cell_type": "code",
      "source": [
        "class Solution2:\n",
        "    def fizzBuzz(self, n: int) -> list():\n",
        "        answer=list()\n",
        "        for i in range(1,n+1):\n",
        "            temp=\"\"\n",
        "            print(\"i val: \",i)\n",
        "            if i%3==0:\n",
        "                temp += \"Fizz\"\n",
        "            if i%5==0:\n",
        "                temp += \"Buzz\"\n",
        "            if temp == \"\":\n",
        "                temp=str(i)\n",
        "            answer.append(temp)\n",
        "        return answer"
      ],
      "metadata": {
        "id": "FiEFytaoE85m"
      },
      "execution_count": 7,
      "outputs": []
    },
    {
      "cell_type": "code",
      "source": [
        "sol2 = Solution2()\n",
        "sol2.fizzBuzz(3)"
      ],
      "metadata": {
        "colab": {
          "base_uri": "https://localhost:8080/"
        },
        "id": "dWk1VwEfE88_",
        "outputId": "3805ba5c-effb-4764-dfa5-b996bb4fc7a9"
      },
      "execution_count": 8,
      "outputs": [
        {
          "output_type": "stream",
          "name": "stdout",
          "text": [
            "i val:  1\n",
            "i val:  2\n",
            "i val:  3\n"
          ]
        },
        {
          "output_type": "execute_result",
          "data": {
            "text/plain": [
              "['1', '2', 'Fizz']"
            ]
          },
          "metadata": {},
          "execution_count": 8
        }
      ]
    },
    {
      "cell_type": "code",
      "source": [
        "sol2.fizzBuzz(2)"
      ],
      "metadata": {
        "colab": {
          "base_uri": "https://localhost:8080/"
        },
        "id": "ZRGIot1rE8_1",
        "outputId": "f9ae5246-dbed-41d9-8627-80a592a3dc79"
      },
      "execution_count": 9,
      "outputs": [
        {
          "output_type": "stream",
          "name": "stdout",
          "text": [
            "i val:  1\n",
            "i val:  2\n"
          ]
        },
        {
          "output_type": "execute_result",
          "data": {
            "text/plain": [
              "['1', '2']"
            ]
          },
          "metadata": {},
          "execution_count": 9
        }
      ]
    },
    {
      "cell_type": "code",
      "source": [
        "sol2.fizzBuzz(9)"
      ],
      "metadata": {
        "colab": {
          "base_uri": "https://localhost:8080/"
        },
        "id": "Aem3AaBfE9Cc",
        "outputId": "d305b569-955f-4a86-f8a5-e674e1f9ffad"
      },
      "execution_count": 10,
      "outputs": [
        {
          "output_type": "stream",
          "name": "stdout",
          "text": [
            "i val:  1\n",
            "i val:  2\n",
            "i val:  3\n",
            "i val:  4\n",
            "i val:  5\n",
            "i val:  6\n",
            "i val:  7\n",
            "i val:  8\n",
            "i val:  9\n"
          ]
        },
        {
          "output_type": "execute_result",
          "data": {
            "text/plain": [
              "['1', '2', 'Fizz', '4', 'Buzz', 'Fizz', '7', '8', 'Fizz']"
            ]
          },
          "metadata": {},
          "execution_count": 10
        }
      ]
    },
    {
      "cell_type": "code",
      "source": [
        "sol2.fizzBuzz(12)"
      ],
      "metadata": {
        "colab": {
          "base_uri": "https://localhost:8080/"
        },
        "id": "ML_HXij1GG9Q",
        "outputId": "8ec22749-8dde-4258-87cb-e5b3a5e93d08"
      },
      "execution_count": 11,
      "outputs": [
        {
          "output_type": "stream",
          "name": "stdout",
          "text": [
            "i val:  1\n",
            "i val:  2\n",
            "i val:  3\n",
            "i val:  4\n",
            "i val:  5\n",
            "i val:  6\n",
            "i val:  7\n",
            "i val:  8\n",
            "i val:  9\n",
            "i val:  10\n",
            "i val:  11\n",
            "i val:  12\n"
          ]
        },
        {
          "output_type": "execute_result",
          "data": {
            "text/plain": [
              "['1', '2', 'Fizz', '4', 'Buzz', 'Fizz', '7', '8', 'Fizz', 'Buzz', '11', 'Fizz']"
            ]
          },
          "metadata": {},
          "execution_count": 11
        }
      ]
    },
    {
      "cell_type": "code",
      "source": [
        "sol2.fizzBuzz(15)"
      ],
      "metadata": {
        "colab": {
          "base_uri": "https://localhost:8080/"
        },
        "id": "TADny3LrGUK4",
        "outputId": "fe818c33-2a9c-474f-c3e8-6a1c726e40ed"
      },
      "execution_count": 12,
      "outputs": [
        {
          "output_type": "stream",
          "name": "stdout",
          "text": [
            "i val:  1\n",
            "i val:  2\n",
            "i val:  3\n",
            "i val:  4\n",
            "i val:  5\n",
            "i val:  6\n",
            "i val:  7\n",
            "i val:  8\n",
            "i val:  9\n",
            "i val:  10\n",
            "i val:  11\n",
            "i val:  12\n",
            "i val:  13\n",
            "i val:  14\n",
            "i val:  15\n"
          ]
        },
        {
          "output_type": "execute_result",
          "data": {
            "text/plain": [
              "['1',\n",
              " '2',\n",
              " 'Fizz',\n",
              " '4',\n",
              " 'Buzz',\n",
              " 'Fizz',\n",
              " '7',\n",
              " '8',\n",
              " 'Fizz',\n",
              " 'Buzz',\n",
              " '11',\n",
              " 'Fizz',\n",
              " '13',\n",
              " '14',\n",
              " 'FizzBuzz']"
            ]
          },
          "metadata": {},
          "execution_count": 12
        }
      ]
    }
  ]
}
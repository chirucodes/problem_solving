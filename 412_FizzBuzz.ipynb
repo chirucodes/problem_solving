{
  "nbformat": 4,
  "nbformat_minor": 0,
  "metadata": {
    "colab": {
      "provenance": [],
      "authorship_tag": "ABX9TyOpCqmgLWCpyoxeHgwvdjoD",
      "include_colab_link": true
    },
    "kernelspec": {
      "name": "python3",
      "display_name": "Python 3"
    },
    "language_info": {
      "name": "python"
    }
  },
  "cells": [
    {
      "cell_type": "markdown",
      "metadata": {
        "id": "view-in-github",
        "colab_type": "text"
      },
      "source": [
        "<a href=\"https://colab.research.google.com/github/chirucodes/problem_solving/blob/main/412_FizzBuzz.ipynb\" target=\"_parent\"><img src=\"https://colab.research.google.com/assets/colab-badge.svg\" alt=\"Open In Colab\"/></a>"
      ]
    },
    {
      "cell_type": "markdown",
      "source": [
        "## 412. Fizz Buzz\n",
        "Find the problem description here: https://leetcode.com/problems/fizz-buzz/description/"
      ],
      "metadata": {
        "id": "3VRDDqjmC1z3"
      }
    },
    {
      "cell_type": "markdown",
      "source": [
        "## Solution1:"
      ],
      "metadata": {
        "id": "OuxIKnHZDDke"
      }
    },
    {
      "cell_type": "code",
      "source": [
        "class Solution:\n",
        "    def fizzBuzz(self, n: int) -> list():\n",
        "        answer=[\"1\",\"2\"]\n",
        "        for i in range(3,n+1):\n",
        "            print(\"i val: \",i)\n",
        "            if i%3==0 and i%5==0:\n",
        "                answer.append(\"FizzBuzz\")\n",
        "            elif i%3==0:\n",
        "                answer.append(\"Fizz\")\n",
        "            elif i%5==0:\n",
        "                answer.append(\"Buzz\")\n",
        "            else:\n",
        "                answer.append(\"%s\"%i)\n",
        "        return answer"
      ],
      "metadata": {
        "id": "3WHIE2a6DDQO"
      },
      "execution_count": 23,
      "outputs": []
    },
    {
      "cell_type": "code",
      "execution_count": 24,
      "metadata": {
        "colab": {
          "base_uri": "https://localhost:8080/"
        },
        "id": "V957s7dbCxnN",
        "outputId": "cee6fb5a-1d62-47c7-bed4-8c987eb69a65"
      },
      "outputs": [
        {
          "output_type": "stream",
          "name": "stdout",
          "text": [
            "i val:  3\n"
          ]
        },
        {
          "output_type": "execute_result",
          "data": {
            "text/plain": [
              "['1', '2', 'Fizz']"
            ]
          },
          "metadata": {},
          "execution_count": 24
        }
      ],
      "source": [
        "sol = Solution()\n",
        "sol.fizzBuzz(3)"
      ]
    },
    {
      "cell_type": "code",
      "source": [
        "sol.fizzBuzz(2)"
      ],
      "metadata": {
        "colab": {
          "base_uri": "https://localhost:8080/"
        },
        "id": "26yS3my_D6Rw",
        "outputId": "c9c10f3f-81ae-4146-d5e3-11b5a453394b"
      },
      "execution_count": 25,
      "outputs": [
        {
          "output_type": "execute_result",
          "data": {
            "text/plain": [
              "['1', '2']"
            ]
          },
          "metadata": {},
          "execution_count": 25
        }
      ]
    },
    {
      "cell_type": "code",
      "source": [
        "sol.fizzBuzz(9)"
      ],
      "metadata": {
        "colab": {
          "base_uri": "https://localhost:8080/"
        },
        "id": "rEmPYWnzD6Ut",
        "outputId": "c7aae7f5-792d-450f-c9ed-74cad4535d56"
      },
      "execution_count": 26,
      "outputs": [
        {
          "output_type": "stream",
          "name": "stdout",
          "text": [
            "i val:  3\n",
            "i val:  4\n",
            "i val:  5\n",
            "i val:  6\n",
            "i val:  7\n",
            "i val:  8\n",
            "i val:  9\n"
          ]
        },
        {
          "output_type": "execute_result",
          "data": {
            "text/plain": [
              "['1', '2', 'Fizz', '4', 'Buzz', 'Fizz', '7', '8', 'Fizz']"
            ]
          },
          "metadata": {},
          "execution_count": 26
        }
      ]
    },
    {
      "cell_type": "code",
      "source": [
        "sol.fizzBuzz(12)"
      ],
      "metadata": {
        "colab": {
          "base_uri": "https://localhost:8080/"
        },
        "id": "qpPMCE37ExWo",
        "outputId": "9527e60d-c1a4-4c0a-8707-d0a1fa67316a"
      },
      "execution_count": 27,
      "outputs": [
        {
          "output_type": "stream",
          "name": "stdout",
          "text": [
            "i val:  3\n",
            "i val:  4\n",
            "i val:  5\n",
            "i val:  6\n",
            "i val:  7\n",
            "i val:  8\n",
            "i val:  9\n",
            "i val:  10\n",
            "i val:  11\n",
            "i val:  12\n"
          ]
        },
        {
          "output_type": "execute_result",
          "data": {
            "text/plain": [
              "['1', '2', 'Fizz', '4', 'Buzz', 'Fizz', '7', '8', 'Fizz', 'Buzz', '11', 'Fizz']"
            ]
          },
          "metadata": {},
          "execution_count": 27
        }
      ]
    },
    {
      "cell_type": "code",
      "source": [
        "sol.fizzBuzz(15)"
      ],
      "metadata": {
        "colab": {
          "base_uri": "https://localhost:8080/"
        },
        "id": "jM0SQdhHExZq",
        "outputId": "8d3b12d2-e316-46e4-df86-5ceceb863c24"
      },
      "execution_count": 28,
      "outputs": [
        {
          "output_type": "stream",
          "name": "stdout",
          "text": [
            "i val:  3\n",
            "i val:  4\n",
            "i val:  5\n",
            "i val:  6\n",
            "i val:  7\n",
            "i val:  8\n",
            "i val:  9\n",
            "i val:  10\n",
            "i val:  11\n",
            "i val:  12\n",
            "i val:  13\n",
            "i val:  14\n",
            "i val:  15\n"
          ]
        },
        {
          "output_type": "execute_result",
          "data": {
            "text/plain": [
              "['1',\n",
              " '2',\n",
              " 'Fizz',\n",
              " '4',\n",
              " 'Buzz',\n",
              " 'Fizz',\n",
              " '7',\n",
              " '8',\n",
              " 'Fizz',\n",
              " 'Buzz',\n",
              " '11',\n",
              " 'Fizz',\n",
              " '13',\n",
              " '14',\n",
              " 'FizzBuzz']"
            ]
          },
          "metadata": {},
          "execution_count": 28
        }
      ]
    },
    {
      "cell_type": "markdown",
      "source": [
        "## Solution2:"
      ],
      "metadata": {
        "id": "9F7ouWFnE4n_"
      }
    },
    {
      "cell_type": "code",
      "source": [
        "class Solution2:\n",
        "    def fizzBuzz(self, n: int) -> list():\n",
        "        answer=[\"1\",\"2\"]\n",
        "        for i in range(3,n+1):\n",
        "            temp=\"\"\n",
        "            print(\"i val: \",i)\n",
        "            if i%3==0:\n",
        "                temp += \"Fizz\"\n",
        "            if i%5==0:\n",
        "                temp += \"Buzz\"\n",
        "            if temp == \"\":\n",
        "                temp=str(i)\n",
        "            answer.append(temp)\n",
        "        return answer"
      ],
      "metadata": {
        "id": "FiEFytaoE85m"
      },
      "execution_count": 29,
      "outputs": []
    },
    {
      "cell_type": "code",
      "source": [
        "sol2 = Solution2()\n",
        "sol2.fizzBuzz(3)"
      ],
      "metadata": {
        "colab": {
          "base_uri": "https://localhost:8080/"
        },
        "id": "dWk1VwEfE88_",
        "outputId": "ae6a3eb0-5bf3-43b7-c10c-88ee7ecbbd75"
      },
      "execution_count": 30,
      "outputs": [
        {
          "output_type": "stream",
          "name": "stdout",
          "text": [
            "i val:  3\n"
          ]
        },
        {
          "output_type": "execute_result",
          "data": {
            "text/plain": [
              "['1', '2', 'Fizz']"
            ]
          },
          "metadata": {},
          "execution_count": 30
        }
      ]
    },
    {
      "cell_type": "code",
      "source": [
        "sol2.fizzBuzz(2)"
      ],
      "metadata": {
        "colab": {
          "base_uri": "https://localhost:8080/"
        },
        "id": "ZRGIot1rE8_1",
        "outputId": "53373275-84ea-474b-9b25-47e07bd46d66"
      },
      "execution_count": 31,
      "outputs": [
        {
          "output_type": "execute_result",
          "data": {
            "text/plain": [
              "['1', '2']"
            ]
          },
          "metadata": {},
          "execution_count": 31
        }
      ]
    },
    {
      "cell_type": "code",
      "source": [
        "sol2.fizzBuzz(9)"
      ],
      "metadata": {
        "colab": {
          "base_uri": "https://localhost:8080/"
        },
        "id": "Aem3AaBfE9Cc",
        "outputId": "12cee443-0ef6-430a-e084-be6edcfd9f20"
      },
      "execution_count": 35,
      "outputs": [
        {
          "output_type": "stream",
          "name": "stdout",
          "text": [
            "i val:  3\n",
            "i val:  4\n",
            "i val:  5\n",
            "i val:  6\n",
            "i val:  7\n",
            "i val:  8\n",
            "i val:  9\n"
          ]
        },
        {
          "output_type": "execute_result",
          "data": {
            "text/plain": [
              "['1', '2', 'Fizz', '4', 'Buzz', 'Fizz', '7', '8', 'Fizz']"
            ]
          },
          "metadata": {},
          "execution_count": 35
        }
      ]
    },
    {
      "cell_type": "code",
      "source": [
        "sol2.fizzBuzz(12)"
      ],
      "metadata": {
        "colab": {
          "base_uri": "https://localhost:8080/"
        },
        "id": "ML_HXij1GG9Q",
        "outputId": "4d311c0c-0a8a-4746-d2f7-89983a392070"
      },
      "execution_count": 36,
      "outputs": [
        {
          "output_type": "stream",
          "name": "stdout",
          "text": [
            "i val:  3\n",
            "i val:  4\n",
            "i val:  5\n",
            "i val:  6\n",
            "i val:  7\n",
            "i val:  8\n",
            "i val:  9\n",
            "i val:  10\n",
            "i val:  11\n",
            "i val:  12\n"
          ]
        },
        {
          "output_type": "execute_result",
          "data": {
            "text/plain": [
              "['1', '2', 'Fizz', '4', 'Buzz', 'Fizz', '7', '8', 'Fizz', 'Buzz', '11', 'Fizz']"
            ]
          },
          "metadata": {},
          "execution_count": 36
        }
      ]
    },
    {
      "cell_type": "code",
      "source": [
        "sol2.fizzBuzz(15)"
      ],
      "metadata": {
        "colab": {
          "base_uri": "https://localhost:8080/"
        },
        "id": "TADny3LrGUK4",
        "outputId": "fe83448c-b3ff-46a2-8546-d4033d9ea8bd"
      },
      "execution_count": 37,
      "outputs": [
        {
          "output_type": "stream",
          "name": "stdout",
          "text": [
            "i val:  3\n",
            "i val:  4\n",
            "i val:  5\n",
            "i val:  6\n",
            "i val:  7\n",
            "i val:  8\n",
            "i val:  9\n",
            "i val:  10\n",
            "i val:  11\n",
            "i val:  12\n",
            "i val:  13\n",
            "i val:  14\n",
            "i val:  15\n"
          ]
        },
        {
          "output_type": "execute_result",
          "data": {
            "text/plain": [
              "['1',\n",
              " '2',\n",
              " 'Fizz',\n",
              " '4',\n",
              " 'Buzz',\n",
              " 'Fizz',\n",
              " '7',\n",
              " '8',\n",
              " 'Fizz',\n",
              " 'Buzz',\n",
              " '11',\n",
              " 'Fizz',\n",
              " '13',\n",
              " '14',\n",
              " 'FizzBuzz']"
            ]
          },
          "metadata": {},
          "execution_count": 37
        }
      ]
    }
  ]
}
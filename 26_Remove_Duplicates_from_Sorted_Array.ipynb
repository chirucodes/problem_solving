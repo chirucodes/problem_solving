{
  "nbformat": 4,
  "nbformat_minor": 0,
  "metadata": {
    "colab": {
      "provenance": [],
      "authorship_tag": "ABX9TyMdFIjiu4deZs19DthDyAsD",
      "include_colab_link": true
    },
    "kernelspec": {
      "name": "python3",
      "display_name": "Python 3"
    },
    "language_info": {
      "name": "python"
    }
  },
  "cells": [
    {
      "cell_type": "markdown",
      "metadata": {
        "id": "view-in-github",
        "colab_type": "text"
      },
      "source": [
        "<a href=\"https://colab.research.google.com/github/chirucodes/problem_solving/blob/main/26_Remove_Duplicates_from_Sorted_Array.ipynb\" target=\"_parent\"><img src=\"https://colab.research.google.com/assets/colab-badge.svg\" alt=\"Open In Colab\"/></a>"
      ]
    },
    {
      "cell_type": "markdown",
      "source": [
        "## 26. Remove Duplicates from Sorted Array\n",
        "\n",
        "Description: https://leetcode.com/problems/remove-duplicates-from-sorted-array/description/"
      ],
      "metadata": {
        "id": "fht4bnLaRVd2"
      }
    },
    {
      "cell_type": "markdown",
      "source": [
        "## Solution1:\n"
      ],
      "metadata": {
        "id": "q39t8Ad-RS4e"
      }
    },
    {
      "cell_type": "code",
      "source": [
        "from typing import List\n",
        "\n",
        "class Solution1:\n",
        "    def removeDuplicates(self, nums: List[int]) -> int:\n",
        "        for each in nums:\n",
        "            while nums.count(each) > 1:\n",
        "                nums.remove(each)\n",
        "        return len(nums)"
      ],
      "metadata": {
        "id": "2hT5U6d0RksX"
      },
      "execution_count": 7,
      "outputs": []
    },
    {
      "cell_type": "code",
      "source": [
        "sol1 = Solution1()\n",
        "sol1.removeDuplicates([1,1,1,1])"
      ],
      "metadata": {
        "colab": {
          "base_uri": "https://localhost:8080/"
        },
        "id": "ta8OZ-OASdgC",
        "outputId": "f418f69f-51ce-425d-d88f-86152b58ad65"
      },
      "execution_count": 8,
      "outputs": [
        {
          "output_type": "execute_result",
          "data": {
            "text/plain": [
              "1"
            ]
          },
          "metadata": {},
          "execution_count": 8
        }
      ]
    },
    {
      "cell_type": "markdown",
      "source": [
        "## Solution2:"
      ],
      "metadata": {
        "id": "t4S4QrY6TXGY"
      }
    },
    {
      "cell_type": "code",
      "source": [
        "class Solution2:\n",
        "    def removeDuplicates(self, nums: List[int]) -> int:\n",
        "        return len(set(nums))"
      ],
      "metadata": {
        "id": "qwMwwUXBTRmX"
      },
      "execution_count": 9,
      "outputs": []
    },
    {
      "cell_type": "code",
      "source": [
        "sol2 = Solution2()\n",
        "sol2.removeDuplicates([1,1,1,1])"
      ],
      "metadata": {
        "colab": {
          "base_uri": "https://localhost:8080/"
        },
        "id": "6zFk8EAeTT-5",
        "outputId": "4540327d-c4ff-44ef-896c-132d2fb8d918"
      },
      "execution_count": 10,
      "outputs": [
        {
          "output_type": "execute_result",
          "data": {
            "text/plain": [
              "1"
            ]
          },
          "metadata": {},
          "execution_count": 10
        }
      ]
    },
    {
      "cell_type": "code",
      "source": [
        "sol2.removeDuplicates([1,1,2])"
      ],
      "metadata": {
        "colab": {
          "base_uri": "https://localhost:8080/"
        },
        "id": "obPW0qtqTb3q",
        "outputId": "4d892806-5ca3-42e0-950d-416ce65b91ae"
      },
      "execution_count": 11,
      "outputs": [
        {
          "output_type": "execute_result",
          "data": {
            "text/plain": [
              "2"
            ]
          },
          "metadata": {},
          "execution_count": 11
        }
      ]
    }
  ]
}
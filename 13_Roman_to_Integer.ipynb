{
  "nbformat": 4,
  "nbformat_minor": 0,
  "metadata": {
    "colab": {
      "provenance": [],
      "authorship_tag": "ABX9TyN/NuRcP+wjYXoSGf+KNYxO",
      "include_colab_link": true
    },
    "kernelspec": {
      "name": "python3",
      "display_name": "Python 3"
    },
    "language_info": {
      "name": "python"
    }
  },
  "cells": [
    {
      "cell_type": "markdown",
      "metadata": {
        "id": "view-in-github",
        "colab_type": "text"
      },
      "source": [
        "<a href=\"https://colab.research.google.com/github/chirucodes/problem_solving/blob/main/13_Roman_to_Integer.ipynb\" target=\"_parent\"><img src=\"https://colab.research.google.com/assets/colab-badge.svg\" alt=\"Open In Colab\"/></a>"
      ]
    },
    {
      "cell_type": "markdown",
      "source": [
        "### **13. Roman to Integer**\n",
        "\n",
        "Find the problem description here: https://leetcode.com/problems/roman-to-integer/description/"
      ],
      "metadata": {
        "id": "VU91AsgO8dlB"
      }
    },
    {
      "cell_type": "markdown",
      "source": [
        "# **Solution:1**"
      ],
      "metadata": {
        "id": "vz4z4maP8z50"
      }
    },
    {
      "cell_type": "code",
      "source": [
        "class Solution:\n",
        "    def romanToInt(self, s: str) -> int:\n",
        "        I=1\n",
        "        V=5\n",
        "        X=10\n",
        "        L=50\n",
        "        C=100\n",
        "        D=500\n",
        "        M=1000\n",
        "        \n",
        "        ip = list(s)\n",
        "        final = 0\n",
        "        try:\n",
        "            print(\"ip : \", ip)\n",
        "            each_r = ip.pop()\n",
        "            flag = 0\n",
        "            \n",
        "            while eval(each_r) > 0:\n",
        "                print(\"ip : \", ip)\n",
        "                print(\"each_r : \", each_r)\n",
        "                try:\n",
        "                    next_char_val = ip.pop()\n",
        "                except IndexError as e:\n",
        "                    final = final + eval(each_r)\n",
        "                    flag = 1\n",
        "                    break\n",
        "\n",
        "                if eval(each_r) < eval(next_char_val):\n",
        "                    res = eval(each_r)\n",
        "                    each_r = next_char_val\n",
        "                    final = final + res\n",
        "                    continue\n",
        "                elif eval(each_r) == eval(next_char_val):\n",
        "                    res = eval(each_r) + eval(next_char_val)\n",
        "                    temp = each_r\n",
        "                    each_r = ip.pop()\n",
        "                    \n",
        "                    if eval(each_r) == eval(temp):\n",
        "                        res = res + eval(each_r)\n",
        "                        temp = each_r\n",
        "                        each_r = ip.pop()\n",
        "                        if eval(each_r) == eval(temp):\n",
        "                            res = res + eval(each_r)\n",
        "                            each_r = ip.pop()\n",
        "                    final = final + res\n",
        "                elif eval(each_r) > eval(next_char_val):\n",
        "                    res = eval(each_r) - eval(next_char_val)\n",
        "                    each_r = ip.pop()\n",
        "                    final = final + res\n",
        "                    continue\n",
        "        except IndexError as e:\n",
        "            print(\"parsing completed: \", e)\n",
        "        finally:\n",
        "            if flag == 0:\n",
        "                final = final + res\n",
        "        print(\"Final value: \", final)\n",
        "        return final\n"
      ],
      "metadata": {
        "id": "ZgBUhmLnuSkd"
      },
      "execution_count": 21,
      "outputs": []
    },
    {
      "cell_type": "code",
      "source": [
        "sol = Solution()\n",
        "sol.romanToInt(s='MCMXCIV')"
      ],
      "metadata": {
        "colab": {
          "base_uri": "https://localhost:8080/"
        },
        "id": "0cvZctKRuSnM",
        "outputId": "80bf6e53-3343-4883-93b3-7db8a414ccfc"
      },
      "execution_count": 8,
      "outputs": [
        {
          "output_type": "stream",
          "name": "stdout",
          "text": [
            "ip :  ['M', 'C', 'M', 'X', 'C', 'I', 'V']\n",
            "ip :  ['M', 'C', 'M', 'X', 'C', 'I']\n",
            "each_r :  V\n",
            "ip :  ['M', 'C', 'M', 'X']\n",
            "each_r :  C\n",
            "ip :  ['M', 'C']\n",
            "each_r :  M\n",
            "ip :  []\n",
            "each_r :  M\n",
            "Final value:  1994\n"
          ]
        },
        {
          "output_type": "execute_result",
          "data": {
            "text/plain": [
              "1994"
            ]
          },
          "metadata": {},
          "execution_count": 8
        }
      ]
    },
    {
      "cell_type": "code",
      "source": [
        "sol.romanToInt(s='DCXXI')"
      ],
      "metadata": {
        "colab": {
          "base_uri": "https://localhost:8080/"
        },
        "id": "-KY534QjuSqA",
        "outputId": "98b330f9-5fc5-4a0c-a2fd-c0207e348ee1"
      },
      "execution_count": 9,
      "outputs": [
        {
          "output_type": "stream",
          "name": "stdout",
          "text": [
            "ip :  ['D', 'C', 'X', 'X', 'I']\n",
            "ip :  ['D', 'C', 'X', 'X']\n",
            "each_r :  I\n",
            "ip :  ['D', 'C', 'X']\n",
            "each_r :  X\n",
            "ip :  ['D']\n",
            "each_r :  C\n",
            "ip :  []\n",
            "each_r :  D\n",
            "Final value:  621\n"
          ]
        },
        {
          "output_type": "execute_result",
          "data": {
            "text/plain": [
              "621"
            ]
          },
          "metadata": {},
          "execution_count": 9
        }
      ]
    },
    {
      "cell_type": "code",
      "source": [
        "sol.romanToInt(s='III')"
      ],
      "metadata": {
        "colab": {
          "base_uri": "https://localhost:8080/"
        },
        "id": "r_s7vT1ocv82",
        "outputId": "33a5af81-61dc-4cd0-f76c-33b3d4ddbbdb"
      },
      "execution_count": 10,
      "outputs": [
        {
          "output_type": "stream",
          "name": "stdout",
          "text": [
            "ip :  ['I', 'I', 'I']\n",
            "ip :  ['I', 'I']\n",
            "each_r :  I\n",
            "parsing completed:  pop from empty list\n",
            "Final value:  3\n"
          ]
        },
        {
          "output_type": "execute_result",
          "data": {
            "text/plain": [
              "3"
            ]
          },
          "metadata": {},
          "execution_count": 10
        }
      ]
    },
    {
      "cell_type": "code",
      "source": [
        "sol.romanToInt(s='LVIII')"
      ],
      "metadata": {
        "colab": {
          "base_uri": "https://localhost:8080/"
        },
        "id": "x91sZRvVcv_s",
        "outputId": "a6ac1416-4c68-4fa8-ae81-1a99420a4df5"
      },
      "execution_count": 11,
      "outputs": [
        {
          "output_type": "stream",
          "name": "stdout",
          "text": [
            "ip :  ['L', 'V', 'I', 'I', 'I']\n",
            "ip :  ['L', 'V', 'I', 'I']\n",
            "each_r :  I\n",
            "ip :  ['L']\n",
            "each_r :  V\n",
            "ip :  []\n",
            "each_r :  L\n",
            "Final value:  58\n"
          ]
        },
        {
          "output_type": "execute_result",
          "data": {
            "text/plain": [
              "58"
            ]
          },
          "metadata": {},
          "execution_count": 11
        }
      ]
    },
    {
      "cell_type": "code",
      "source": [
        "sol.romanToInt(s='IM')"
      ],
      "metadata": {
        "colab": {
          "base_uri": "https://localhost:8080/"
        },
        "id": "2B59L3yvdFYQ",
        "outputId": "63504216-d815-4dc0-f5bb-79e608600db1"
      },
      "execution_count": 20,
      "outputs": [
        {
          "output_type": "stream",
          "name": "stdout",
          "text": [
            "ip :  ['I', 'M']\n",
            "ip :  ['I']\n",
            "each_r :  M\n",
            "parsing completed:  pop from empty list\n",
            "Final value:  999\n"
          ]
        },
        {
          "output_type": "execute_result",
          "data": {
            "text/plain": [
              "999"
            ]
          },
          "metadata": {},
          "execution_count": 20
        }
      ]
    },
    {
      "cell_type": "markdown",
      "source": [
        "# **Best Soultion**"
      ],
      "metadata": {
        "id": "K3AzUGOg89kv"
      }
    },
    {
      "cell_type": "code",
      "source": [
        "class BestSolution:\n",
        "    def romanToInt(self, s: str) -> int:\n",
        "        I=1\n",
        "        V=5\n",
        "        X=10\n",
        "        L=50\n",
        "        C=100\n",
        "        D=500\n",
        "        M=1000\n",
        "        \n",
        "        ip = list(s[::-1])\n",
        "\n",
        "        prev = eval(ip[0])\n",
        "        final_val = prev\n",
        "\n",
        "        for each in ip[1:]:\n",
        "            cur = eval(each)\n",
        "            if prev > cur:\n",
        "                prev = cur\n",
        "                final_val = final_val + (-1*cur)\n",
        "            else:\n",
        "                prev = cur\n",
        "                final_val = final_val + cur\n",
        "        return final_val\n",
        "\n"
      ],
      "metadata": {
        "id": "42uHGZEeyC5i"
      },
      "execution_count": 13,
      "outputs": []
    },
    {
      "cell_type": "code",
      "source": [
        "bsol = BestSolution()\n",
        "bsol.romanToInt(s=\"MCMXCIV\")"
      ],
      "metadata": {
        "colab": {
          "base_uri": "https://localhost:8080/"
        },
        "id": "uIAL5sMac5m3",
        "outputId": "c67fb0a7-6a87-4e84-b076-b31eaee95935"
      },
      "execution_count": 14,
      "outputs": [
        {
          "output_type": "execute_result",
          "data": {
            "text/plain": [
              "1994"
            ]
          },
          "metadata": {},
          "execution_count": 14
        }
      ]
    },
    {
      "cell_type": "code",
      "source": [
        "bsol.romanToInt(s='DCXXI')"
      ],
      "metadata": {
        "colab": {
          "base_uri": "https://localhost:8080/"
        },
        "id": "Sjyl2l3YyC7-",
        "outputId": "3b41d0c7-c979-43c9-afd6-b977b0603f98"
      },
      "execution_count": 15,
      "outputs": [
        {
          "output_type": "execute_result",
          "data": {
            "text/plain": [
              "621"
            ]
          },
          "metadata": {},
          "execution_count": 15
        }
      ]
    },
    {
      "cell_type": "code",
      "source": [
        "bsol.romanToInt(s='LVIII')"
      ],
      "metadata": {
        "colab": {
          "base_uri": "https://localhost:8080/"
        },
        "id": "ZF4Tx_Qec2je",
        "outputId": "3105ba44-a9e8-44fe-b242-771ea76f589b"
      },
      "execution_count": 17,
      "outputs": [
        {
          "output_type": "execute_result",
          "data": {
            "text/plain": [
              "58"
            ]
          },
          "metadata": {},
          "execution_count": 17
        }
      ]
    },
    {
      "cell_type": "code",
      "source": [
        "bsol.romanToInt(s='III')"
      ],
      "metadata": {
        "colab": {
          "base_uri": "https://localhost:8080/"
        },
        "id": "4A5lSmrmc2mn",
        "outputId": "f18bfd34-bc89-4470-925e-8449f611766a"
      },
      "execution_count": 18,
      "outputs": [
        {
          "output_type": "execute_result",
          "data": {
            "text/plain": [
              "3"
            ]
          },
          "metadata": {},
          "execution_count": 18
        }
      ]
    },
    {
      "cell_type": "code",
      "source": [
        "bsol.romanToInt(s='IM')"
      ],
      "metadata": {
        "colab": {
          "base_uri": "https://localhost:8080/"
        },
        "id": "0WIU1wxYc2su",
        "outputId": "2be8d5e9-cc5a-4252-9d69-3752eaecc82d"
      },
      "execution_count": 19,
      "outputs": [
        {
          "output_type": "execute_result",
          "data": {
            "text/plain": [
              "999"
            ]
          },
          "metadata": {},
          "execution_count": 19
        }
      ]
    }
  ]
}
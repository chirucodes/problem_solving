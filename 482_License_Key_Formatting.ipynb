{
  "nbformat": 4,
  "nbformat_minor": 0,
  "metadata": {
    "colab": {
      "provenance": [],
      "authorship_tag": "ABX9TyNB74pKwdQ445qv3IDwLung",
      "include_colab_link": true
    },
    "kernelspec": {
      "name": "python3",
      "display_name": "Python 3"
    },
    "language_info": {
      "name": "python"
    }
  },
  "cells": [
    {
      "cell_type": "markdown",
      "metadata": {
        "id": "view-in-github",
        "colab_type": "text"
      },
      "source": [
        "<a href=\"https://colab.research.google.com/github/chirucodes/problem_solving/blob/main/482_License_Key_Formatting.ipynb\" target=\"_parent\"><img src=\"https://colab.research.google.com/assets/colab-badge.svg\" alt=\"Open In Colab\"/></a>"
      ]
    },
    {
      "cell_type": "markdown",
      "source": [
        "## 482. License Key Formatting\n",
        "Description: https://leetcode.com/problems/license-key-formatting/description/"
      ],
      "metadata": {
        "id": "DIOk_ecZ60Ug"
      }
    },
    {
      "cell_type": "markdown",
      "source": [
        "## Solution1:"
      ],
      "metadata": {
        "id": "9cldwBRi6w_5"
      }
    },
    {
      "cell_type": "code",
      "source": [
        "class Solution1:\n",
        "    def licenseKeyFormatting(self, s: str, k: int) -> str:\n",
        "        s = s[::-1].replace('-','')\n",
        "        result = \"\"\n",
        "        while len(s) > k :\n",
        "            result += s[:k]+'-'\n",
        "            s = s[k:]\n",
        "        result += s\n",
        "        return result[::-1].upper()"
      ],
      "metadata": {
        "id": "QfvFimFn5-1I"
      },
      "execution_count": 5,
      "outputs": []
    },
    {
      "cell_type": "code",
      "source": [
        "sol1 = Solution1()\n",
        "sol1.licenseKeyFormatting(\"5F3Z-2e-9-w\", 4)"
      ],
      "metadata": {
        "colab": {
          "base_uri": "https://localhost:8080/",
          "height": 36
        },
        "id": "Bwtxd-qb6_fT",
        "outputId": "df4c8549-51b2-4f19-a55b-2a96c2a46a83"
      },
      "execution_count": 6,
      "outputs": [
        {
          "output_type": "execute_result",
          "data": {
            "text/plain": [
              "'5F3Z-2E9W'"
            ],
            "application/vnd.google.colaboratory.intrinsic+json": {
              "type": "string"
            }
          },
          "metadata": {},
          "execution_count": 6
        }
      ]
    },
    {
      "cell_type": "code",
      "source": [
        "sol1.licenseKeyFormatting(\"2-5g-3-J\", 2)"
      ],
      "metadata": {
        "colab": {
          "base_uri": "https://localhost:8080/",
          "height": 36
        },
        "id": "QaCSv7tv6_ia",
        "outputId": "3abd6919-4766-4e3e-c991-22a1998aedf5"
      },
      "execution_count": 7,
      "outputs": [
        {
          "output_type": "execute_result",
          "data": {
            "text/plain": [
              "'2-5G-3J'"
            ],
            "application/vnd.google.colaboratory.intrinsic+json": {
              "type": "string"
            }
          },
          "metadata": {},
          "execution_count": 7
        }
      ]
    },
    {
      "cell_type": "code",
      "source": [],
      "metadata": {
        "id": "ivtZRkGK6_lS"
      },
      "execution_count": null,
      "outputs": []
    }
  ]
}
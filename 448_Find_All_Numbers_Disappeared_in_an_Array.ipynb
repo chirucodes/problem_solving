{
  "nbformat": 4,
  "nbformat_minor": 0,
  "metadata": {
    "colab": {
      "provenance": [],
      "authorship_tag": "ABX9TyPIwLY++7LXLQtOvBjzDMQU",
      "include_colab_link": true
    },
    "kernelspec": {
      "name": "python3",
      "display_name": "Python 3"
    },
    "language_info": {
      "name": "python"
    }
  },
  "cells": [
    {
      "cell_type": "markdown",
      "metadata": {
        "id": "view-in-github",
        "colab_type": "text"
      },
      "source": [
        "<a href=\"https://colab.research.google.com/github/chirucodes/problem_solving/blob/main/448_Find_All_Numbers_Disappeared_in_an_Array.ipynb\" target=\"_parent\"><img src=\"https://colab.research.google.com/assets/colab-badge.svg\" alt=\"Open In Colab\"/></a>"
      ]
    },
    {
      "cell_type": "markdown",
      "source": [
        "## 448. Find All Numbers Disappeared in an Array\n",
        "Problem description: https://leetcode.com/problems/find-all-numbers-disappeared-in-an-array/description/"
      ],
      "metadata": {
        "id": "MWp8nwg_qNCZ"
      }
    },
    {
      "cell_type": "markdown",
      "source": [
        "## Solution1:"
      ],
      "metadata": {
        "id": "jDmxWPFdsQgD"
      }
    },
    {
      "cell_type": "code",
      "execution_count": 7,
      "metadata": {
        "id": "81rmo4VbqKS0"
      },
      "outputs": [],
      "source": [
        "from typing import List\n",
        "class Solution1:\n",
        "    def findDisappearedNumbers(self, nums: List[int]) -> List[int]:\n",
        "        return list(set(range(1,len(nums)+1)) - set(nums))"
      ]
    },
    {
      "cell_type": "code",
      "source": [
        "sol1 = Solution1()\n",
        "sol1.findDisappearedNumbers([1,1,4,2,1,3])"
      ],
      "metadata": {
        "colab": {
          "base_uri": "https://localhost:8080/"
        },
        "id": "tAF15jODqdeR",
        "outputId": "934a6970-b2a4-4946-d13a-19fe44845609"
      },
      "execution_count": 8,
      "outputs": [
        {
          "output_type": "execute_result",
          "data": {
            "text/plain": [
              "[5, 6]"
            ]
          },
          "metadata": {},
          "execution_count": 8
        }
      ]
    },
    {
      "cell_type": "markdown",
      "source": [
        "## Solution2:"
      ],
      "metadata": {
        "id": "4MAPWBiWsN7b"
      }
    },
    {
      "cell_type": "code",
      "source": [
        "from typing import List\n",
        "class Solution2:\n",
        "    def findDisappearedNumbers(self, nums: List[int]) -> List[int]:\n",
        "        res = []\n",
        "        for each in range(1, len(nums)+1):\n",
        "            if each not in nums:\n",
        "                res.append(each)\n",
        "        return res\n",
        "\n",
        "\n"
      ],
      "metadata": {
        "id": "qzP4lgBFrX3S"
      },
      "execution_count": 12,
      "outputs": []
    },
    {
      "cell_type": "code",
      "source": [
        "sol2 = Solution2()\n",
        "sol2.findDisappearedNumbers([1,1,4,2,1,3])"
      ],
      "metadata": {
        "colab": {
          "base_uri": "https://localhost:8080/"
        },
        "id": "InzDKoZtr0tr",
        "outputId": "eae10ffa-b314-48b5-b70d-7b0469d8fe17"
      },
      "execution_count": 13,
      "outputs": [
        {
          "output_type": "execute_result",
          "data": {
            "text/plain": [
              "[5, 6]"
            ]
          },
          "metadata": {},
          "execution_count": 13
        }
      ]
    }
  ]
}
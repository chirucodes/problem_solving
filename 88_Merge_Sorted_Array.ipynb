{
  "nbformat": 4,
  "nbformat_minor": 0,
  "metadata": {
    "colab": {
      "provenance": [],
      "authorship_tag": "ABX9TyPsCZgVva66XUr/XU2ekCVW",
      "include_colab_link": true
    },
    "kernelspec": {
      "name": "python3",
      "display_name": "Python 3"
    },
    "language_info": {
      "name": "python"
    }
  },
  "cells": [
    {
      "cell_type": "markdown",
      "metadata": {
        "id": "view-in-github",
        "colab_type": "text"
      },
      "source": [
        "<a href=\"https://colab.research.google.com/github/chirucodes/problem_solving/blob/main/88_Merge_Sorted_Array.ipynb\" target=\"_parent\"><img src=\"https://colab.research.google.com/assets/colab-badge.svg\" alt=\"Open In Colab\"/></a>"
      ]
    },
    {
      "cell_type": "markdown",
      "source": [
        "## 88. Merge Sorted Array\n",
        "\n",
        "Description: https://leetcode.com/problems/merge-sorted-array/description/\n"
      ],
      "metadata": {
        "id": "_5Y9zIykHFpL"
      }
    },
    {
      "cell_type": "markdown",
      "source": [
        "## Solution1:"
      ],
      "metadata": {
        "id": "Sl08GI8zHO5z"
      }
    },
    {
      "cell_type": "code",
      "source": [
        "from typing import List\n",
        "\n",
        "class Solution1:\n",
        "    def merge(self, nums1: List[int], m: int, nums2: List[int], n: int) -> None:\n",
        "        \"\"\"\n",
        "        Do not return anything, modify nums1 in-place instead.\n",
        "        \"\"\"\n",
        "        i = 0\n",
        "        j = 0\n",
        "        while i < m+n:\n",
        "            print(\"nums1: \", nums1)\n",
        "            while j < n and i < m+n:\n",
        "                print(\"nums2: \", nums2)\n",
        "                if nums1[i] < nums2[j]:\n",
        "                    print(\"less: nums1[i]: %s < nums2[j]: %s\" % (nums1[i], nums2[j]))\n",
        "                    i += 1\n",
        "                elif nums1[i] == nums2[j]:\n",
        "                    print(\"equal: nums1[i]: %s == nums2[j]: %s\" % (nums1[i], nums2[j]))\n",
        "                    nums1.insert(i+1, nums2[j])\n",
        "                    nums1.pop()\n",
        "                    i += 1\n",
        "                    j += 1\n",
        "                elif nums1[i] > nums2[j]:\n",
        "                    print(\"more: nums1[i]: %s > nums2[j]: %s\" % (nums1[i], nums2[j]))\n",
        "                    i += 1\n",
        "        i -= 2\n",
        "        nums1[i:]=nums2[j:]\n",
        "        print(\"nums1: \", nums1) "
      ],
      "metadata": {
        "id": "uaYY0hNqHGlL"
      },
      "execution_count": 16,
      "outputs": []
    },
    {
      "cell_type": "code",
      "source": [
        "sol1 = Solution1()\n",
        "sol1.merge([1,2,3,0,0,0], 3, [2,5,6], 3)"
      ],
      "metadata": {
        "colab": {
          "base_uri": "https://localhost:8080/"
        },
        "id": "L8Vnm442H71G",
        "outputId": "aa40f124-3e5b-40c2-c13f-c0ba7e0e7690"
      },
      "execution_count": 17,
      "outputs": [
        {
          "output_type": "stream",
          "name": "stdout",
          "text": [
            "nums1:  [1, 2, 3, 0, 0, 0]\n",
            "nums2:  [2, 5, 6]\n",
            "less: nums1[i]: 1 < nums2[j]: 2\n",
            "nums2:  [2, 5, 6]\n",
            "equal: nums1[i]: 2 == nums2[j]: 2\n",
            "nums2:  [2, 5, 6]\n",
            "less: nums1[i]: 2 < nums2[j]: 5\n",
            "nums2:  [2, 5, 6]\n",
            "less: nums1[i]: 3 < nums2[j]: 5\n",
            "nums2:  [2, 5, 6]\n",
            "less: nums1[i]: 0 < nums2[j]: 5\n",
            "nums2:  [2, 5, 6]\n",
            "less: nums1[i]: 0 < nums2[j]: 5\n",
            "nums1:  [1, 2, 2, 3, 5, 6]\n"
          ]
        }
      ]
    },
    {
      "cell_type": "code",
      "source": [],
      "metadata": {
        "id": "JzoAX_9pJ1JA"
      },
      "execution_count": null,
      "outputs": []
    },
    {
      "cell_type": "markdown",
      "source": [
        "## Solution2:"
      ],
      "metadata": {
        "id": "aE9h5VpvJ14s"
      }
    },
    {
      "cell_type": "code",
      "source": [
        "from typing import List\n",
        "\n",
        "class Solution2:\n",
        "    def merge(self, nums1: List[int], m: int, nums2: List[int], n: int) -> None:\n",
        "        \"\"\"\n",
        "        Do not return anything, modify nums1 in-place instead.\n",
        "        \"\"\"\n",
        "        i = 0\n",
        "        j = 0\n",
        "        while i < m+n:\n",
        "            while j < n and i < m+n:\n",
        "                if nums1[i] == nums2[j]:\n",
        "                    nums1.insert(i+1, nums2[j])\n",
        "                    nums1.pop()\n",
        "                    i += 1\n",
        "                    j += 1\n",
        "                else:\n",
        "                    i += 1\n",
        "        i = m+n-j-1\n",
        "        nums1[i:]=nums2[j:]\n",
        "        print(\"nums1: \", nums1) "
      ],
      "metadata": {
        "id": "b6B01ESuH74M"
      },
      "execution_count": 26,
      "outputs": []
    },
    {
      "cell_type": "code",
      "source": [
        "sol2 = Solution2()\n",
        "sol2.merge([1,2,3,0,0,0], 3, [2,5,6], 3)"
      ],
      "metadata": {
        "colab": {
          "base_uri": "https://localhost:8080/"
        },
        "id": "wn-mp2EeHaQe",
        "outputId": "31f6ae72-5f64-4b5b-b155-1f76d16865e8"
      },
      "execution_count": 27,
      "outputs": [
        {
          "output_type": "stream",
          "name": "stdout",
          "text": [
            "nums1:  [1, 2, 2, 3, 5, 6]\n"
          ]
        }
      ]
    },
    {
      "cell_type": "code",
      "source": [],
      "metadata": {
        "id": "VBYfwfNpKJKw"
      },
      "execution_count": null,
      "outputs": []
    },
    {
      "cell_type": "markdown",
      "source": [
        "## Solution3:"
      ],
      "metadata": {
        "id": "-SYoZeJiLCNo"
      }
    },
    {
      "cell_type": "code",
      "source": [
        "from typing import List\n",
        "\n",
        "class Solution3:\n",
        "    def merge(self, nums1: List[int], m: int, nums2: List[int], n: int) -> None:\n",
        "        nums1[m:] = nums2[0:]\n",
        "        nums1.sort()\n",
        "        print(\"nums1\", nums1)"
      ],
      "metadata": {
        "id": "3lVn8yV-KJN-"
      },
      "execution_count": 32,
      "outputs": []
    },
    {
      "cell_type": "code",
      "source": [
        "sol3 = Solution3()\n",
        "sol3.merge([1,2,3,0,0,0], 3, [2,5,6], 3)"
      ],
      "metadata": {
        "colab": {
          "base_uri": "https://localhost:8080/"
        },
        "id": "VmzVyepfKPAZ",
        "outputId": "b91b9568-8631-4766-fe94-6f4da5a8ed0e"
      },
      "execution_count": 33,
      "outputs": [
        {
          "output_type": "stream",
          "name": "stdout",
          "text": [
            "nums1 [1, 2, 2, 3, 5, 6]\n"
          ]
        }
      ]
    }
  ]
}
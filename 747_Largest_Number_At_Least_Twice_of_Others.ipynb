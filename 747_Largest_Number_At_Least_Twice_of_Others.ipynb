{
  "nbformat": 4,
  "nbformat_minor": 0,
  "metadata": {
    "colab": {
      "provenance": [],
      "authorship_tag": "ABX9TyP6SGm/X9QbDjeXnOSvsVvD",
      "include_colab_link": true
    },
    "kernelspec": {
      "name": "python3",
      "display_name": "Python 3"
    },
    "language_info": {
      "name": "python"
    }
  },
  "cells": [
    {
      "cell_type": "markdown",
      "metadata": {
        "id": "view-in-github",
        "colab_type": "text"
      },
      "source": [
        "<a href=\"https://colab.research.google.com/github/chirucodes/problem_solving/blob/main/747_Largest_Number_At_Least_Twice_of_Others.ipynb\" target=\"_parent\"><img src=\"https://colab.research.google.com/assets/colab-badge.svg\" alt=\"Open In Colab\"/></a>"
      ]
    },
    {
      "cell_type": "markdown",
      "source": [
        "## 747. Largest Number At Least Twice of Others\n",
        "\n",
        "Problem description: https://leetcode.com/problems/largest-number-at-least-twice-of-others/description/"
      ],
      "metadata": {
        "id": "mjO-oGYtDet_"
      }
    },
    {
      "cell_type": "markdown",
      "source": [
        "## Solution1:"
      ],
      "metadata": {
        "id": "9uqp40B1DcB-"
      }
    },
    {
      "cell_type": "code",
      "execution_count": 5,
      "metadata": {
        "id": "sOnVR3bwCtTB"
      },
      "outputs": [],
      "source": [
        "from typing import List\n",
        "class Solution1:\n",
        "    def dominantIndex(self, nums: List[int]) -> int:\n",
        "        next_max, up_max = sorted(nums)[-2:]\n",
        "        if 2 * next_max <= up_max:\n",
        "            return nums.index(up_max)\n",
        "        return -1\n",
        "sol1 = Solution1()"
      ]
    },
    {
      "cell_type": "code",
      "source": [
        "sol1.dominantIndex([3,6,1,0])"
      ],
      "metadata": {
        "colab": {
          "base_uri": "https://localhost:8080/"
        },
        "id": "tWHhzwD0C1dv",
        "outputId": "1b6c5be9-c90d-465d-df15-6e9a027e12b1"
      },
      "execution_count": 6,
      "outputs": [
        {
          "output_type": "execute_result",
          "data": {
            "text/plain": [
              "1"
            ]
          },
          "metadata": {},
          "execution_count": 6
        }
      ]
    },
    {
      "cell_type": "code",
      "source": [
        "sol1.dominantIndex([1,2,3,4])"
      ],
      "metadata": {
        "colab": {
          "base_uri": "https://localhost:8080/"
        },
        "id": "guUcBFcKD8qM",
        "outputId": "7d8956be-7f5f-4705-a574-09fe6ccd3e18"
      },
      "execution_count": 7,
      "outputs": [
        {
          "output_type": "execute_result",
          "data": {
            "text/plain": [
              "-1"
            ]
          },
          "metadata": {},
          "execution_count": 7
        }
      ]
    },
    {
      "cell_type": "code",
      "source": [
        "sol1.dominantIndex([9,3,6,2,1])"
      ],
      "metadata": {
        "colab": {
          "base_uri": "https://localhost:8080/"
        },
        "id": "zPKZa7uwEBFz",
        "outputId": "4e245e70-b07b-497b-e2d9-24f267f6367f"
      },
      "execution_count": 8,
      "outputs": [
        {
          "output_type": "execute_result",
          "data": {
            "text/plain": [
              "-1"
            ]
          },
          "metadata": {},
          "execution_count": 8
        }
      ]
    },
    {
      "cell_type": "code",
      "source": [
        "sol1.dominantIndex([12,6,2,1])"
      ],
      "metadata": {
        "colab": {
          "base_uri": "https://localhost:8080/"
        },
        "id": "5OLjnhu4EFZC",
        "outputId": "fe7aef5a-742a-49fa-f15b-0649299a73e8"
      },
      "execution_count": 10,
      "outputs": [
        {
          "output_type": "execute_result",
          "data": {
            "text/plain": [
              "0"
            ]
          },
          "metadata": {},
          "execution_count": 10
        }
      ]
    }
  ]
}
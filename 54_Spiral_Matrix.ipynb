{
  "nbformat": 4,
  "nbformat_minor": 0,
  "metadata": {
    "colab": {
      "provenance": [],
      "authorship_tag": "ABX9TyPgLcfSmJ8GJrGKtt1AJuDh",
      "include_colab_link": true
    },
    "kernelspec": {
      "name": "python3",
      "display_name": "Python 3"
    },
    "language_info": {
      "name": "python"
    }
  },
  "cells": [
    {
      "cell_type": "markdown",
      "metadata": {
        "id": "view-in-github",
        "colab_type": "text"
      },
      "source": [
        "<a href=\"https://colab.research.google.com/github/chirucodes/problem_solving/blob/main/54_Spiral_Matrix.ipynb\" target=\"_parent\"><img src=\"https://colab.research.google.com/assets/colab-badge.svg\" alt=\"Open In Colab\"/></a>"
      ]
    },
    {
      "cell_type": "markdown",
      "source": [
        "##54. Spiral Matrix\n",
        "\n",
        "Problem description: https://leetcode.com/problems/spiral-matrix/description/"
      ],
      "metadata": {
        "id": "xzuS9x5Rc5XK"
      }
    },
    {
      "cell_type": "markdown",
      "source": [
        "## Solution1:\n",
        "\n",
        "using 4 flags for right(r), down(d), left(l), up(u) directions"
      ],
      "metadata": {
        "id": "XmnIX9SadAbw"
      }
    },
    {
      "cell_type": "code",
      "execution_count": 174,
      "metadata": {
        "id": "BSFcO7WXc2jV"
      },
      "outputs": [],
      "source": [
        "from typing import List\n",
        "class Solution1:\n",
        "    def spiralOrder(self, matrix: List[List[int]]) -> List[int]:\n",
        "        r = d = l = u = True\n",
        "        rows_m, cols_n = len(matrix), len(matrix[0])\n",
        "\n",
        "        res = []\n",
        "        i=0\n",
        "        j=0\n",
        "\n",
        "        res_count = rows_m * cols_n\n",
        "\n",
        "        while len(res) < res_count:\n",
        "\n",
        "            print(\"res: \", res)\n",
        "            print(\"matrix: \", matrix)\n",
        "            if r == True:\n",
        "                if j < cols_n:\n",
        "                    if matrix[i][j] is not True:\n",
        "                        res.append(matrix[i][j])\n",
        "                        matrix[i][j] = True\n",
        "                        j+=1\n",
        "                    else:\n",
        "                        r = False\n",
        "                        j -= 1 \n",
        "                        i+=1\n",
        "                        continue\n",
        "                else:\n",
        "                    r = False\n",
        "                    j-=1\n",
        "                    i+=1\n",
        "            elif d == True:\n",
        "                if i < rows_m:\n",
        "                    if matrix[i][j] is not True:\n",
        "                        print(\"j: \", j)\n",
        "                        res.append(matrix[i][j])\n",
        "                        matrix[i][j] = True\n",
        "                        i+=1\n",
        "                    else:\n",
        "                        d = False\n",
        "                        i-=1\n",
        "                        j-=1\n",
        "\n",
        "                else:\n",
        "                    d = False\n",
        "                    i-=1\n",
        "                    j-=1\n",
        "            elif l == True:\n",
        "                if j >= 0:\n",
        "                    if matrix[i][j] is not True:                    \n",
        "                        res.append(matrix[i][j])\n",
        "                        matrix[i][j] = True\n",
        "                        j-=1\n",
        "                    else:\n",
        "                        l = False\n",
        "                        j+=1\n",
        "                        i-=1\n",
        "                else:\n",
        "                    l = False\n",
        "                    j+=1\n",
        "                    i-=1\n",
        "            elif u == True:\n",
        "                if i >= 0 and i < rows_m:\n",
        "                    print(\"up: \", matrix[i][j])\n",
        "                    if matrix[i][j] is not True:\n",
        "                        res.append(matrix[i][j])\n",
        "                        matrix[i][j] = True\n",
        "                        i-=1\n",
        "                    else:\n",
        "                        print(f\"i: {i} , j: {j}\")\n",
        "                        r = d = l = u = True\n",
        "                        j += 1\n",
        "                        i += 1\n",
        "        return res\n",
        "sol1 = Solution1()"
      ]
    },
    {
      "cell_type": "code",
      "source": [
        "import string\n",
        "list(string.ascii_lowercase)"
      ],
      "metadata": {
        "colab": {
          "base_uri": "https://localhost:8080/"
        },
        "id": "rO-4w5u1MP0X",
        "outputId": "7959631a-6f73-4d67-d177-60a9fb5b82af"
      },
      "execution_count": 175,
      "outputs": [
        {
          "output_type": "execute_result",
          "data": {
            "text/plain": [
              "['a',\n",
              " 'b',\n",
              " 'c',\n",
              " 'd',\n",
              " 'e',\n",
              " 'f',\n",
              " 'g',\n",
              " 'h',\n",
              " 'i',\n",
              " 'j',\n",
              " 'k',\n",
              " 'l',\n",
              " 'm',\n",
              " 'n',\n",
              " 'o',\n",
              " 'p',\n",
              " 'q',\n",
              " 'r',\n",
              " 's',\n",
              " 't',\n",
              " 'u',\n",
              " 'v',\n",
              " 'w',\n",
              " 'x',\n",
              " 'y',\n",
              " 'z']"
            ]
          },
          "metadata": {},
          "execution_count": 175
        }
      ]
    },
    {
      "cell_type": "code",
      "source": [
        "sol1.spiralOrder([\n",
        "    ['a', 'b', 'c'], \n",
        "    ['d', 'e', 'f'], \n",
        "    ['g', 'h', 'i'], \n",
        "    ['j', 'k', 'l'], \n",
        "    ['m', 'n', 'o'], \n",
        "    ['p', 'q', 'r'], \n",
        "    ['s', 't', 'u'], \n",
        "    ['v', 'w', 'x']\n",
        "    ])\n",
        "\n",
        "#abc filorux wv spmjgd ehknqt"
      ],
      "metadata": {
        "colab": {
          "base_uri": "https://localhost:8080/"
        },
        "id": "hBRpWKNmOVxI",
        "outputId": "8b820760-79e5-44d5-944d-e4be5aa00032"
      },
      "execution_count": 176,
      "outputs": [
        {
          "output_type": "stream",
          "name": "stdout",
          "text": [
            "res:  []\n",
            "matrix:  [['a', 'b', 'c'], ['d', 'e', 'f'], ['g', 'h', 'i'], ['j', 'k', 'l'], ['m', 'n', 'o'], ['p', 'q', 'r'], ['s', 't', 'u'], ['v', 'w', 'x']]\n",
            "res:  ['a']\n",
            "matrix:  [[True, 'b', 'c'], ['d', 'e', 'f'], ['g', 'h', 'i'], ['j', 'k', 'l'], ['m', 'n', 'o'], ['p', 'q', 'r'], ['s', 't', 'u'], ['v', 'w', 'x']]\n",
            "res:  ['a', 'b']\n",
            "matrix:  [[True, True, 'c'], ['d', 'e', 'f'], ['g', 'h', 'i'], ['j', 'k', 'l'], ['m', 'n', 'o'], ['p', 'q', 'r'], ['s', 't', 'u'], ['v', 'w', 'x']]\n",
            "res:  ['a', 'b', 'c']\n",
            "matrix:  [[True, True, True], ['d', 'e', 'f'], ['g', 'h', 'i'], ['j', 'k', 'l'], ['m', 'n', 'o'], ['p', 'q', 'r'], ['s', 't', 'u'], ['v', 'w', 'x']]\n",
            "res:  ['a', 'b', 'c']\n",
            "matrix:  [[True, True, True], ['d', 'e', 'f'], ['g', 'h', 'i'], ['j', 'k', 'l'], ['m', 'n', 'o'], ['p', 'q', 'r'], ['s', 't', 'u'], ['v', 'w', 'x']]\n",
            "j:  2\n",
            "res:  ['a', 'b', 'c', 'f']\n",
            "matrix:  [[True, True, True], ['d', 'e', True], ['g', 'h', 'i'], ['j', 'k', 'l'], ['m', 'n', 'o'], ['p', 'q', 'r'], ['s', 't', 'u'], ['v', 'w', 'x']]\n",
            "j:  2\n",
            "res:  ['a', 'b', 'c', 'f', 'i']\n",
            "matrix:  [[True, True, True], ['d', 'e', True], ['g', 'h', True], ['j', 'k', 'l'], ['m', 'n', 'o'], ['p', 'q', 'r'], ['s', 't', 'u'], ['v', 'w', 'x']]\n",
            "j:  2\n",
            "res:  ['a', 'b', 'c', 'f', 'i', 'l']\n",
            "matrix:  [[True, True, True], ['d', 'e', True], ['g', 'h', True], ['j', 'k', True], ['m', 'n', 'o'], ['p', 'q', 'r'], ['s', 't', 'u'], ['v', 'w', 'x']]\n",
            "j:  2\n",
            "res:  ['a', 'b', 'c', 'f', 'i', 'l', 'o']\n",
            "matrix:  [[True, True, True], ['d', 'e', True], ['g', 'h', True], ['j', 'k', True], ['m', 'n', True], ['p', 'q', 'r'], ['s', 't', 'u'], ['v', 'w', 'x']]\n",
            "j:  2\n",
            "res:  ['a', 'b', 'c', 'f', 'i', 'l', 'o', 'r']\n",
            "matrix:  [[True, True, True], ['d', 'e', True], ['g', 'h', True], ['j', 'k', True], ['m', 'n', True], ['p', 'q', True], ['s', 't', 'u'], ['v', 'w', 'x']]\n",
            "j:  2\n",
            "res:  ['a', 'b', 'c', 'f', 'i', 'l', 'o', 'r', 'u']\n",
            "matrix:  [[True, True, True], ['d', 'e', True], ['g', 'h', True], ['j', 'k', True], ['m', 'n', True], ['p', 'q', True], ['s', 't', True], ['v', 'w', 'x']]\n",
            "j:  2\n",
            "res:  ['a', 'b', 'c', 'f', 'i', 'l', 'o', 'r', 'u', 'x']\n",
            "matrix:  [[True, True, True], ['d', 'e', True], ['g', 'h', True], ['j', 'k', True], ['m', 'n', True], ['p', 'q', True], ['s', 't', True], ['v', 'w', True]]\n",
            "res:  ['a', 'b', 'c', 'f', 'i', 'l', 'o', 'r', 'u', 'x']\n",
            "matrix:  [[True, True, True], ['d', 'e', True], ['g', 'h', True], ['j', 'k', True], ['m', 'n', True], ['p', 'q', True], ['s', 't', True], ['v', 'w', True]]\n",
            "res:  ['a', 'b', 'c', 'f', 'i', 'l', 'o', 'r', 'u', 'x', 'w']\n",
            "matrix:  [[True, True, True], ['d', 'e', True], ['g', 'h', True], ['j', 'k', True], ['m', 'n', True], ['p', 'q', True], ['s', 't', True], ['v', True, True]]\n",
            "res:  ['a', 'b', 'c', 'f', 'i', 'l', 'o', 'r', 'u', 'x', 'w', 'v']\n",
            "matrix:  [[True, True, True], ['d', 'e', True], ['g', 'h', True], ['j', 'k', True], ['m', 'n', True], ['p', 'q', True], ['s', 't', True], [True, True, True]]\n",
            "res:  ['a', 'b', 'c', 'f', 'i', 'l', 'o', 'r', 'u', 'x', 'w', 'v']\n",
            "matrix:  [[True, True, True], ['d', 'e', True], ['g', 'h', True], ['j', 'k', True], ['m', 'n', True], ['p', 'q', True], ['s', 't', True], [True, True, True]]\n",
            "up:  s\n",
            "res:  ['a', 'b', 'c', 'f', 'i', 'l', 'o', 'r', 'u', 'x', 'w', 'v', 's']\n",
            "matrix:  [[True, True, True], ['d', 'e', True], ['g', 'h', True], ['j', 'k', True], ['m', 'n', True], ['p', 'q', True], [True, 't', True], [True, True, True]]\n",
            "up:  p\n",
            "res:  ['a', 'b', 'c', 'f', 'i', 'l', 'o', 'r', 'u', 'x', 'w', 'v', 's', 'p']\n",
            "matrix:  [[True, True, True], ['d', 'e', True], ['g', 'h', True], ['j', 'k', True], ['m', 'n', True], [True, 'q', True], [True, 't', True], [True, True, True]]\n",
            "up:  m\n",
            "res:  ['a', 'b', 'c', 'f', 'i', 'l', 'o', 'r', 'u', 'x', 'w', 'v', 's', 'p', 'm']\n",
            "matrix:  [[True, True, True], ['d', 'e', True], ['g', 'h', True], ['j', 'k', True], [True, 'n', True], [True, 'q', True], [True, 't', True], [True, True, True]]\n",
            "up:  j\n",
            "res:  ['a', 'b', 'c', 'f', 'i', 'l', 'o', 'r', 'u', 'x', 'w', 'v', 's', 'p', 'm', 'j']\n",
            "matrix:  [[True, True, True], ['d', 'e', True], ['g', 'h', True], [True, 'k', True], [True, 'n', True], [True, 'q', True], [True, 't', True], [True, True, True]]\n",
            "up:  g\n",
            "res:  ['a', 'b', 'c', 'f', 'i', 'l', 'o', 'r', 'u', 'x', 'w', 'v', 's', 'p', 'm', 'j', 'g']\n",
            "matrix:  [[True, True, True], ['d', 'e', True], [True, 'h', True], [True, 'k', True], [True, 'n', True], [True, 'q', True], [True, 't', True], [True, True, True]]\n",
            "up:  d\n",
            "res:  ['a', 'b', 'c', 'f', 'i', 'l', 'o', 'r', 'u', 'x', 'w', 'v', 's', 'p', 'm', 'j', 'g', 'd']\n",
            "matrix:  [[True, True, True], [True, 'e', True], [True, 'h', True], [True, 'k', True], [True, 'n', True], [True, 'q', True], [True, 't', True], [True, True, True]]\n",
            "up:  True\n",
            "i: 0 , j: 0\n",
            "res:  ['a', 'b', 'c', 'f', 'i', 'l', 'o', 'r', 'u', 'x', 'w', 'v', 's', 'p', 'm', 'j', 'g', 'd']\n",
            "matrix:  [[True, True, True], [True, 'e', True], [True, 'h', True], [True, 'k', True], [True, 'n', True], [True, 'q', True], [True, 't', True], [True, True, True]]\n",
            "res:  ['a', 'b', 'c', 'f', 'i', 'l', 'o', 'r', 'u', 'x', 'w', 'v', 's', 'p', 'm', 'j', 'g', 'd', 'e']\n",
            "matrix:  [[True, True, True], [True, True, True], [True, 'h', True], [True, 'k', True], [True, 'n', True], [True, 'q', True], [True, 't', True], [True, True, True]]\n",
            "res:  ['a', 'b', 'c', 'f', 'i', 'l', 'o', 'r', 'u', 'x', 'w', 'v', 's', 'p', 'm', 'j', 'g', 'd', 'e']\n",
            "matrix:  [[True, True, True], [True, True, True], [True, 'h', True], [True, 'k', True], [True, 'n', True], [True, 'q', True], [True, 't', True], [True, True, True]]\n",
            "j:  1\n",
            "res:  ['a', 'b', 'c', 'f', 'i', 'l', 'o', 'r', 'u', 'x', 'w', 'v', 's', 'p', 'm', 'j', 'g', 'd', 'e', 'h']\n",
            "matrix:  [[True, True, True], [True, True, True], [True, True, True], [True, 'k', True], [True, 'n', True], [True, 'q', True], [True, 't', True], [True, True, True]]\n",
            "j:  1\n",
            "res:  ['a', 'b', 'c', 'f', 'i', 'l', 'o', 'r', 'u', 'x', 'w', 'v', 's', 'p', 'm', 'j', 'g', 'd', 'e', 'h', 'k']\n",
            "matrix:  [[True, True, True], [True, True, True], [True, True, True], [True, True, True], [True, 'n', True], [True, 'q', True], [True, 't', True], [True, True, True]]\n",
            "j:  1\n",
            "res:  ['a', 'b', 'c', 'f', 'i', 'l', 'o', 'r', 'u', 'x', 'w', 'v', 's', 'p', 'm', 'j', 'g', 'd', 'e', 'h', 'k', 'n']\n",
            "matrix:  [[True, True, True], [True, True, True], [True, True, True], [True, True, True], [True, True, True], [True, 'q', True], [True, 't', True], [True, True, True]]\n",
            "j:  1\n",
            "res:  ['a', 'b', 'c', 'f', 'i', 'l', 'o', 'r', 'u', 'x', 'w', 'v', 's', 'p', 'm', 'j', 'g', 'd', 'e', 'h', 'k', 'n', 'q']\n",
            "matrix:  [[True, True, True], [True, True, True], [True, True, True], [True, True, True], [True, True, True], [True, True, True], [True, 't', True], [True, True, True]]\n",
            "j:  1\n"
          ]
        },
        {
          "output_type": "execute_result",
          "data": {
            "text/plain": [
              "['a',\n",
              " 'b',\n",
              " 'c',\n",
              " 'f',\n",
              " 'i',\n",
              " 'l',\n",
              " 'o',\n",
              " 'r',\n",
              " 'u',\n",
              " 'x',\n",
              " 'w',\n",
              " 'v',\n",
              " 's',\n",
              " 'p',\n",
              " 'm',\n",
              " 'j',\n",
              " 'g',\n",
              " 'd',\n",
              " 'e',\n",
              " 'h',\n",
              " 'k',\n",
              " 'n',\n",
              " 'q',\n",
              " 't']"
            ]
          },
          "metadata": {},
          "execution_count": 176
        }
      ]
    },
    {
      "cell_type": "code",
      "source": [
        "#abc filorux wv spmjgd ehknqt"
      ],
      "metadata": {
        "id": "lN4ORPW1OqDn"
      },
      "execution_count": 177,
      "outputs": []
    },
    {
      "cell_type": "code",
      "source": [
        "sol1.spiralOrder([\n",
        "    ['a', 'b', 'c', 'd', 'e', 'f'], \n",
        "    ['g', 'h', 'i', 'j', 'k', 'l'], \n",
        "    ['m', 'n', 'o', 'p', 'q', 'r'], \n",
        "    ['s', 't', 'u', 'v', 'w', 'x']\n",
        "    ])\n",
        "\n",
        "# abcdef lrx wvuts mg hijk qpon"
      ],
      "metadata": {
        "colab": {
          "base_uri": "https://localhost:8080/"
        },
        "id": "PPYwlsFhMMbB",
        "outputId": "2dfffcd5-6baa-48c0-ff15-5507c1953550"
      },
      "execution_count": 178,
      "outputs": [
        {
          "output_type": "stream",
          "name": "stdout",
          "text": [
            "res:  []\n",
            "matrix:  [['a', 'b', 'c', 'd', 'e', 'f'], ['g', 'h', 'i', 'j', 'k', 'l'], ['m', 'n', 'o', 'p', 'q', 'r'], ['s', 't', 'u', 'v', 'w', 'x']]\n",
            "res:  ['a']\n",
            "matrix:  [[True, 'b', 'c', 'd', 'e', 'f'], ['g', 'h', 'i', 'j', 'k', 'l'], ['m', 'n', 'o', 'p', 'q', 'r'], ['s', 't', 'u', 'v', 'w', 'x']]\n",
            "res:  ['a', 'b']\n",
            "matrix:  [[True, True, 'c', 'd', 'e', 'f'], ['g', 'h', 'i', 'j', 'k', 'l'], ['m', 'n', 'o', 'p', 'q', 'r'], ['s', 't', 'u', 'v', 'w', 'x']]\n",
            "res:  ['a', 'b', 'c']\n",
            "matrix:  [[True, True, True, 'd', 'e', 'f'], ['g', 'h', 'i', 'j', 'k', 'l'], ['m', 'n', 'o', 'p', 'q', 'r'], ['s', 't', 'u', 'v', 'w', 'x']]\n",
            "res:  ['a', 'b', 'c', 'd']\n",
            "matrix:  [[True, True, True, True, 'e', 'f'], ['g', 'h', 'i', 'j', 'k', 'l'], ['m', 'n', 'o', 'p', 'q', 'r'], ['s', 't', 'u', 'v', 'w', 'x']]\n",
            "res:  ['a', 'b', 'c', 'd', 'e']\n",
            "matrix:  [[True, True, True, True, True, 'f'], ['g', 'h', 'i', 'j', 'k', 'l'], ['m', 'n', 'o', 'p', 'q', 'r'], ['s', 't', 'u', 'v', 'w', 'x']]\n",
            "res:  ['a', 'b', 'c', 'd', 'e', 'f']\n",
            "matrix:  [[True, True, True, True, True, True], ['g', 'h', 'i', 'j', 'k', 'l'], ['m', 'n', 'o', 'p', 'q', 'r'], ['s', 't', 'u', 'v', 'w', 'x']]\n",
            "res:  ['a', 'b', 'c', 'd', 'e', 'f']\n",
            "matrix:  [[True, True, True, True, True, True], ['g', 'h', 'i', 'j', 'k', 'l'], ['m', 'n', 'o', 'p', 'q', 'r'], ['s', 't', 'u', 'v', 'w', 'x']]\n",
            "j:  5\n",
            "res:  ['a', 'b', 'c', 'd', 'e', 'f', 'l']\n",
            "matrix:  [[True, True, True, True, True, True], ['g', 'h', 'i', 'j', 'k', True], ['m', 'n', 'o', 'p', 'q', 'r'], ['s', 't', 'u', 'v', 'w', 'x']]\n",
            "j:  5\n",
            "res:  ['a', 'b', 'c', 'd', 'e', 'f', 'l', 'r']\n",
            "matrix:  [[True, True, True, True, True, True], ['g', 'h', 'i', 'j', 'k', True], ['m', 'n', 'o', 'p', 'q', True], ['s', 't', 'u', 'v', 'w', 'x']]\n",
            "j:  5\n",
            "res:  ['a', 'b', 'c', 'd', 'e', 'f', 'l', 'r', 'x']\n",
            "matrix:  [[True, True, True, True, True, True], ['g', 'h', 'i', 'j', 'k', True], ['m', 'n', 'o', 'p', 'q', True], ['s', 't', 'u', 'v', 'w', True]]\n",
            "res:  ['a', 'b', 'c', 'd', 'e', 'f', 'l', 'r', 'x']\n",
            "matrix:  [[True, True, True, True, True, True], ['g', 'h', 'i', 'j', 'k', True], ['m', 'n', 'o', 'p', 'q', True], ['s', 't', 'u', 'v', 'w', True]]\n",
            "res:  ['a', 'b', 'c', 'd', 'e', 'f', 'l', 'r', 'x', 'w']\n",
            "matrix:  [[True, True, True, True, True, True], ['g', 'h', 'i', 'j', 'k', True], ['m', 'n', 'o', 'p', 'q', True], ['s', 't', 'u', 'v', True, True]]\n",
            "res:  ['a', 'b', 'c', 'd', 'e', 'f', 'l', 'r', 'x', 'w', 'v']\n",
            "matrix:  [[True, True, True, True, True, True], ['g', 'h', 'i', 'j', 'k', True], ['m', 'n', 'o', 'p', 'q', True], ['s', 't', 'u', True, True, True]]\n",
            "res:  ['a', 'b', 'c', 'd', 'e', 'f', 'l', 'r', 'x', 'w', 'v', 'u']\n",
            "matrix:  [[True, True, True, True, True, True], ['g', 'h', 'i', 'j', 'k', True], ['m', 'n', 'o', 'p', 'q', True], ['s', 't', True, True, True, True]]\n",
            "res:  ['a', 'b', 'c', 'd', 'e', 'f', 'l', 'r', 'x', 'w', 'v', 'u', 't']\n",
            "matrix:  [[True, True, True, True, True, True], ['g', 'h', 'i', 'j', 'k', True], ['m', 'n', 'o', 'p', 'q', True], ['s', True, True, True, True, True]]\n",
            "res:  ['a', 'b', 'c', 'd', 'e', 'f', 'l', 'r', 'x', 'w', 'v', 'u', 't', 's']\n",
            "matrix:  [[True, True, True, True, True, True], ['g', 'h', 'i', 'j', 'k', True], ['m', 'n', 'o', 'p', 'q', True], [True, True, True, True, True, True]]\n",
            "res:  ['a', 'b', 'c', 'd', 'e', 'f', 'l', 'r', 'x', 'w', 'v', 'u', 't', 's']\n",
            "matrix:  [[True, True, True, True, True, True], ['g', 'h', 'i', 'j', 'k', True], ['m', 'n', 'o', 'p', 'q', True], [True, True, True, True, True, True]]\n",
            "up:  m\n",
            "res:  ['a', 'b', 'c', 'd', 'e', 'f', 'l', 'r', 'x', 'w', 'v', 'u', 't', 's', 'm']\n",
            "matrix:  [[True, True, True, True, True, True], ['g', 'h', 'i', 'j', 'k', True], [True, 'n', 'o', 'p', 'q', True], [True, True, True, True, True, True]]\n",
            "up:  g\n",
            "res:  ['a', 'b', 'c', 'd', 'e', 'f', 'l', 'r', 'x', 'w', 'v', 'u', 't', 's', 'm', 'g']\n",
            "matrix:  [[True, True, True, True, True, True], [True, 'h', 'i', 'j', 'k', True], [True, 'n', 'o', 'p', 'q', True], [True, True, True, True, True, True]]\n",
            "up:  True\n",
            "i: 0 , j: 0\n",
            "res:  ['a', 'b', 'c', 'd', 'e', 'f', 'l', 'r', 'x', 'w', 'v', 'u', 't', 's', 'm', 'g']\n",
            "matrix:  [[True, True, True, True, True, True], [True, 'h', 'i', 'j', 'k', True], [True, 'n', 'o', 'p', 'q', True], [True, True, True, True, True, True]]\n",
            "res:  ['a', 'b', 'c', 'd', 'e', 'f', 'l', 'r', 'x', 'w', 'v', 'u', 't', 's', 'm', 'g', 'h']\n",
            "matrix:  [[True, True, True, True, True, True], [True, True, 'i', 'j', 'k', True], [True, 'n', 'o', 'p', 'q', True], [True, True, True, True, True, True]]\n",
            "res:  ['a', 'b', 'c', 'd', 'e', 'f', 'l', 'r', 'x', 'w', 'v', 'u', 't', 's', 'm', 'g', 'h', 'i']\n",
            "matrix:  [[True, True, True, True, True, True], [True, True, True, 'j', 'k', True], [True, 'n', 'o', 'p', 'q', True], [True, True, True, True, True, True]]\n",
            "res:  ['a', 'b', 'c', 'd', 'e', 'f', 'l', 'r', 'x', 'w', 'v', 'u', 't', 's', 'm', 'g', 'h', 'i', 'j']\n",
            "matrix:  [[True, True, True, True, True, True], [True, True, True, True, 'k', True], [True, 'n', 'o', 'p', 'q', True], [True, True, True, True, True, True]]\n",
            "res:  ['a', 'b', 'c', 'd', 'e', 'f', 'l', 'r', 'x', 'w', 'v', 'u', 't', 's', 'm', 'g', 'h', 'i', 'j', 'k']\n",
            "matrix:  [[True, True, True, True, True, True], [True, True, True, True, True, True], [True, 'n', 'o', 'p', 'q', True], [True, True, True, True, True, True]]\n",
            "res:  ['a', 'b', 'c', 'd', 'e', 'f', 'l', 'r', 'x', 'w', 'v', 'u', 't', 's', 'm', 'g', 'h', 'i', 'j', 'k']\n",
            "matrix:  [[True, True, True, True, True, True], [True, True, True, True, True, True], [True, 'n', 'o', 'p', 'q', True], [True, True, True, True, True, True]]\n",
            "j:  4\n",
            "res:  ['a', 'b', 'c', 'd', 'e', 'f', 'l', 'r', 'x', 'w', 'v', 'u', 't', 's', 'm', 'g', 'h', 'i', 'j', 'k', 'q']\n",
            "matrix:  [[True, True, True, True, True, True], [True, True, True, True, True, True], [True, 'n', 'o', 'p', True, True], [True, True, True, True, True, True]]\n",
            "res:  ['a', 'b', 'c', 'd', 'e', 'f', 'l', 'r', 'x', 'w', 'v', 'u', 't', 's', 'm', 'g', 'h', 'i', 'j', 'k', 'q']\n",
            "matrix:  [[True, True, True, True, True, True], [True, True, True, True, True, True], [True, 'n', 'o', 'p', True, True], [True, True, True, True, True, True]]\n",
            "res:  ['a', 'b', 'c', 'd', 'e', 'f', 'l', 'r', 'x', 'w', 'v', 'u', 't', 's', 'm', 'g', 'h', 'i', 'j', 'k', 'q', 'p']\n",
            "matrix:  [[True, True, True, True, True, True], [True, True, True, True, True, True], [True, 'n', 'o', True, True, True], [True, True, True, True, True, True]]\n",
            "res:  ['a', 'b', 'c', 'd', 'e', 'f', 'l', 'r', 'x', 'w', 'v', 'u', 't', 's', 'm', 'g', 'h', 'i', 'j', 'k', 'q', 'p', 'o']\n",
            "matrix:  [[True, True, True, True, True, True], [True, True, True, True, True, True], [True, 'n', True, True, True, True], [True, True, True, True, True, True]]\n"
          ]
        },
        {
          "output_type": "execute_result",
          "data": {
            "text/plain": [
              "['a',\n",
              " 'b',\n",
              " 'c',\n",
              " 'd',\n",
              " 'e',\n",
              " 'f',\n",
              " 'l',\n",
              " 'r',\n",
              " 'x',\n",
              " 'w',\n",
              " 'v',\n",
              " 'u',\n",
              " 't',\n",
              " 's',\n",
              " 'm',\n",
              " 'g',\n",
              " 'h',\n",
              " 'i',\n",
              " 'j',\n",
              " 'k',\n",
              " 'q',\n",
              " 'p',\n",
              " 'o',\n",
              " 'n']"
            ]
          },
          "metadata": {},
          "execution_count": 178
        }
      ]
    },
    {
      "cell_type": "code",
      "source": [
        "sol1.spiralOrder([[1,2,3,'a','h'],[4,5,6,'b','i'],[7,8,9,'c','j'],['d','e','f','g','k'],['l','m','n','o','p']])"
      ],
      "metadata": {
        "colab": {
          "base_uri": "https://localhost:8080/"
        },
        "id": "sUlscmEIuvgN",
        "outputId": "0a9f7af3-1077-4f85-931d-5153fa6840c7"
      },
      "execution_count": 179,
      "outputs": [
        {
          "output_type": "stream",
          "name": "stdout",
          "text": [
            "res:  []\n",
            "matrix:  [[1, 2, 3, 'a', 'h'], [4, 5, 6, 'b', 'i'], [7, 8, 9, 'c', 'j'], ['d', 'e', 'f', 'g', 'k'], ['l', 'm', 'n', 'o', 'p']]\n",
            "res:  [1]\n",
            "matrix:  [[True, 2, 3, 'a', 'h'], [4, 5, 6, 'b', 'i'], [7, 8, 9, 'c', 'j'], ['d', 'e', 'f', 'g', 'k'], ['l', 'm', 'n', 'o', 'p']]\n",
            "res:  [1, 2]\n",
            "matrix:  [[True, True, 3, 'a', 'h'], [4, 5, 6, 'b', 'i'], [7, 8, 9, 'c', 'j'], ['d', 'e', 'f', 'g', 'k'], ['l', 'm', 'n', 'o', 'p']]\n",
            "res:  [1, 2, 3]\n",
            "matrix:  [[True, True, True, 'a', 'h'], [4, 5, 6, 'b', 'i'], [7, 8, 9, 'c', 'j'], ['d', 'e', 'f', 'g', 'k'], ['l', 'm', 'n', 'o', 'p']]\n",
            "res:  [1, 2, 3, 'a']\n",
            "matrix:  [[True, True, True, True, 'h'], [4, 5, 6, 'b', 'i'], [7, 8, 9, 'c', 'j'], ['d', 'e', 'f', 'g', 'k'], ['l', 'm', 'n', 'o', 'p']]\n",
            "res:  [1, 2, 3, 'a', 'h']\n",
            "matrix:  [[True, True, True, True, True], [4, 5, 6, 'b', 'i'], [7, 8, 9, 'c', 'j'], ['d', 'e', 'f', 'g', 'k'], ['l', 'm', 'n', 'o', 'p']]\n",
            "res:  [1, 2, 3, 'a', 'h']\n",
            "matrix:  [[True, True, True, True, True], [4, 5, 6, 'b', 'i'], [7, 8, 9, 'c', 'j'], ['d', 'e', 'f', 'g', 'k'], ['l', 'm', 'n', 'o', 'p']]\n",
            "j:  4\n",
            "res:  [1, 2, 3, 'a', 'h', 'i']\n",
            "matrix:  [[True, True, True, True, True], [4, 5, 6, 'b', True], [7, 8, 9, 'c', 'j'], ['d', 'e', 'f', 'g', 'k'], ['l', 'm', 'n', 'o', 'p']]\n",
            "j:  4\n",
            "res:  [1, 2, 3, 'a', 'h', 'i', 'j']\n",
            "matrix:  [[True, True, True, True, True], [4, 5, 6, 'b', True], [7, 8, 9, 'c', True], ['d', 'e', 'f', 'g', 'k'], ['l', 'm', 'n', 'o', 'p']]\n",
            "j:  4\n",
            "res:  [1, 2, 3, 'a', 'h', 'i', 'j', 'k']\n",
            "matrix:  [[True, True, True, True, True], [4, 5, 6, 'b', True], [7, 8, 9, 'c', True], ['d', 'e', 'f', 'g', True], ['l', 'm', 'n', 'o', 'p']]\n",
            "j:  4\n",
            "res:  [1, 2, 3, 'a', 'h', 'i', 'j', 'k', 'p']\n",
            "matrix:  [[True, True, True, True, True], [4, 5, 6, 'b', True], [7, 8, 9, 'c', True], ['d', 'e', 'f', 'g', True], ['l', 'm', 'n', 'o', True]]\n",
            "res:  [1, 2, 3, 'a', 'h', 'i', 'j', 'k', 'p']\n",
            "matrix:  [[True, True, True, True, True], [4, 5, 6, 'b', True], [7, 8, 9, 'c', True], ['d', 'e', 'f', 'g', True], ['l', 'm', 'n', 'o', True]]\n",
            "res:  [1, 2, 3, 'a', 'h', 'i', 'j', 'k', 'p', 'o']\n",
            "matrix:  [[True, True, True, True, True], [4, 5, 6, 'b', True], [7, 8, 9, 'c', True], ['d', 'e', 'f', 'g', True], ['l', 'm', 'n', True, True]]\n",
            "res:  [1, 2, 3, 'a', 'h', 'i', 'j', 'k', 'p', 'o', 'n']\n",
            "matrix:  [[True, True, True, True, True], [4, 5, 6, 'b', True], [7, 8, 9, 'c', True], ['d', 'e', 'f', 'g', True], ['l', 'm', True, True, True]]\n",
            "res:  [1, 2, 3, 'a', 'h', 'i', 'j', 'k', 'p', 'o', 'n', 'm']\n",
            "matrix:  [[True, True, True, True, True], [4, 5, 6, 'b', True], [7, 8, 9, 'c', True], ['d', 'e', 'f', 'g', True], ['l', True, True, True, True]]\n",
            "res:  [1, 2, 3, 'a', 'h', 'i', 'j', 'k', 'p', 'o', 'n', 'm', 'l']\n",
            "matrix:  [[True, True, True, True, True], [4, 5, 6, 'b', True], [7, 8, 9, 'c', True], ['d', 'e', 'f', 'g', True], [True, True, True, True, True]]\n",
            "res:  [1, 2, 3, 'a', 'h', 'i', 'j', 'k', 'p', 'o', 'n', 'm', 'l']\n",
            "matrix:  [[True, True, True, True, True], [4, 5, 6, 'b', True], [7, 8, 9, 'c', True], ['d', 'e', 'f', 'g', True], [True, True, True, True, True]]\n",
            "up:  d\n",
            "res:  [1, 2, 3, 'a', 'h', 'i', 'j', 'k', 'p', 'o', 'n', 'm', 'l', 'd']\n",
            "matrix:  [[True, True, True, True, True], [4, 5, 6, 'b', True], [7, 8, 9, 'c', True], [True, 'e', 'f', 'g', True], [True, True, True, True, True]]\n",
            "up:  7\n",
            "res:  [1, 2, 3, 'a', 'h', 'i', 'j', 'k', 'p', 'o', 'n', 'm', 'l', 'd', 7]\n",
            "matrix:  [[True, True, True, True, True], [4, 5, 6, 'b', True], [True, 8, 9, 'c', True], [True, 'e', 'f', 'g', True], [True, True, True, True, True]]\n",
            "up:  4\n",
            "res:  [1, 2, 3, 'a', 'h', 'i', 'j', 'k', 'p', 'o', 'n', 'm', 'l', 'd', 7, 4]\n",
            "matrix:  [[True, True, True, True, True], [True, 5, 6, 'b', True], [True, 8, 9, 'c', True], [True, 'e', 'f', 'g', True], [True, True, True, True, True]]\n",
            "up:  True\n",
            "i: 0 , j: 0\n",
            "res:  [1, 2, 3, 'a', 'h', 'i', 'j', 'k', 'p', 'o', 'n', 'm', 'l', 'd', 7, 4]\n",
            "matrix:  [[True, True, True, True, True], [True, 5, 6, 'b', True], [True, 8, 9, 'c', True], [True, 'e', 'f', 'g', True], [True, True, True, True, True]]\n",
            "res:  [1, 2, 3, 'a', 'h', 'i', 'j', 'k', 'p', 'o', 'n', 'm', 'l', 'd', 7, 4, 5]\n",
            "matrix:  [[True, True, True, True, True], [True, True, 6, 'b', True], [True, 8, 9, 'c', True], [True, 'e', 'f', 'g', True], [True, True, True, True, True]]\n",
            "res:  [1, 2, 3, 'a', 'h', 'i', 'j', 'k', 'p', 'o', 'n', 'm', 'l', 'd', 7, 4, 5, 6]\n",
            "matrix:  [[True, True, True, True, True], [True, True, True, 'b', True], [True, 8, 9, 'c', True], [True, 'e', 'f', 'g', True], [True, True, True, True, True]]\n",
            "res:  [1, 2, 3, 'a', 'h', 'i', 'j', 'k', 'p', 'o', 'n', 'm', 'l', 'd', 7, 4, 5, 6, 'b']\n",
            "matrix:  [[True, True, True, True, True], [True, True, True, True, True], [True, 8, 9, 'c', True], [True, 'e', 'f', 'g', True], [True, True, True, True, True]]\n",
            "res:  [1, 2, 3, 'a', 'h', 'i', 'j', 'k', 'p', 'o', 'n', 'm', 'l', 'd', 7, 4, 5, 6, 'b']\n",
            "matrix:  [[True, True, True, True, True], [True, True, True, True, True], [True, 8, 9, 'c', True], [True, 'e', 'f', 'g', True], [True, True, True, True, True]]\n",
            "j:  3\n",
            "res:  [1, 2, 3, 'a', 'h', 'i', 'j', 'k', 'p', 'o', 'n', 'm', 'l', 'd', 7, 4, 5, 6, 'b', 'c']\n",
            "matrix:  [[True, True, True, True, True], [True, True, True, True, True], [True, 8, 9, True, True], [True, 'e', 'f', 'g', True], [True, True, True, True, True]]\n",
            "j:  3\n",
            "res:  [1, 2, 3, 'a', 'h', 'i', 'j', 'k', 'p', 'o', 'n', 'm', 'l', 'd', 7, 4, 5, 6, 'b', 'c', 'g']\n",
            "matrix:  [[True, True, True, True, True], [True, True, True, True, True], [True, 8, 9, True, True], [True, 'e', 'f', True, True], [True, True, True, True, True]]\n",
            "res:  [1, 2, 3, 'a', 'h', 'i', 'j', 'k', 'p', 'o', 'n', 'm', 'l', 'd', 7, 4, 5, 6, 'b', 'c', 'g']\n",
            "matrix:  [[True, True, True, True, True], [True, True, True, True, True], [True, 8, 9, True, True], [True, 'e', 'f', True, True], [True, True, True, True, True]]\n",
            "res:  [1, 2, 3, 'a', 'h', 'i', 'j', 'k', 'p', 'o', 'n', 'm', 'l', 'd', 7, 4, 5, 6, 'b', 'c', 'g', 'f']\n",
            "matrix:  [[True, True, True, True, True], [True, True, True, True, True], [True, 8, 9, True, True], [True, 'e', True, True, True], [True, True, True, True, True]]\n",
            "res:  [1, 2, 3, 'a', 'h', 'i', 'j', 'k', 'p', 'o', 'n', 'm', 'l', 'd', 7, 4, 5, 6, 'b', 'c', 'g', 'f', 'e']\n",
            "matrix:  [[True, True, True, True, True], [True, True, True, True, True], [True, 8, 9, True, True], [True, True, True, True, True], [True, True, True, True, True]]\n",
            "res:  [1, 2, 3, 'a', 'h', 'i', 'j', 'k', 'p', 'o', 'n', 'm', 'l', 'd', 7, 4, 5, 6, 'b', 'c', 'g', 'f', 'e']\n",
            "matrix:  [[True, True, True, True, True], [True, True, True, True, True], [True, 8, 9, True, True], [True, True, True, True, True], [True, True, True, True, True]]\n",
            "up:  8\n",
            "res:  [1, 2, 3, 'a', 'h', 'i', 'j', 'k', 'p', 'o', 'n', 'm', 'l', 'd', 7, 4, 5, 6, 'b', 'c', 'g', 'f', 'e', 8]\n",
            "matrix:  [[True, True, True, True, True], [True, True, True, True, True], [True, True, 9, True, True], [True, True, True, True, True], [True, True, True, True, True]]\n",
            "up:  True\n",
            "i: 1 , j: 1\n",
            "res:  [1, 2, 3, 'a', 'h', 'i', 'j', 'k', 'p', 'o', 'n', 'm', 'l', 'd', 7, 4, 5, 6, 'b', 'c', 'g', 'f', 'e', 8]\n",
            "matrix:  [[True, True, True, True, True], [True, True, True, True, True], [True, True, 9, True, True], [True, True, True, True, True], [True, True, True, True, True]]\n"
          ]
        },
        {
          "output_type": "execute_result",
          "data": {
            "text/plain": [
              "[1,\n",
              " 2,\n",
              " 3,\n",
              " 'a',\n",
              " 'h',\n",
              " 'i',\n",
              " 'j',\n",
              " 'k',\n",
              " 'p',\n",
              " 'o',\n",
              " 'n',\n",
              " 'm',\n",
              " 'l',\n",
              " 'd',\n",
              " 7,\n",
              " 4,\n",
              " 5,\n",
              " 6,\n",
              " 'b',\n",
              " 'c',\n",
              " 'g',\n",
              " 'f',\n",
              " 'e',\n",
              " 8,\n",
              " 9]"
            ]
          },
          "metadata": {},
          "execution_count": 179
        }
      ]
    },
    {
      "cell_type": "code",
      "source": [
        "sol1.spiralOrder([[1,2,3,'a'],[4,5,6,'b'],[7,8,9,'c'],['d','e','f','g']])"
      ],
      "metadata": {
        "colab": {
          "base_uri": "https://localhost:8080/"
        },
        "id": "LNg23ZZAr44P",
        "outputId": "baa59410-70fd-474d-b7e2-11a3fa5818f9"
      },
      "execution_count": 180,
      "outputs": [
        {
          "output_type": "stream",
          "name": "stdout",
          "text": [
            "res:  []\n",
            "matrix:  [[1, 2, 3, 'a'], [4, 5, 6, 'b'], [7, 8, 9, 'c'], ['d', 'e', 'f', 'g']]\n",
            "res:  [1]\n",
            "matrix:  [[True, 2, 3, 'a'], [4, 5, 6, 'b'], [7, 8, 9, 'c'], ['d', 'e', 'f', 'g']]\n",
            "res:  [1, 2]\n",
            "matrix:  [[True, True, 3, 'a'], [4, 5, 6, 'b'], [7, 8, 9, 'c'], ['d', 'e', 'f', 'g']]\n",
            "res:  [1, 2, 3]\n",
            "matrix:  [[True, True, True, 'a'], [4, 5, 6, 'b'], [7, 8, 9, 'c'], ['d', 'e', 'f', 'g']]\n",
            "res:  [1, 2, 3, 'a']\n",
            "matrix:  [[True, True, True, True], [4, 5, 6, 'b'], [7, 8, 9, 'c'], ['d', 'e', 'f', 'g']]\n",
            "res:  [1, 2, 3, 'a']\n",
            "matrix:  [[True, True, True, True], [4, 5, 6, 'b'], [7, 8, 9, 'c'], ['d', 'e', 'f', 'g']]\n",
            "j:  3\n",
            "res:  [1, 2, 3, 'a', 'b']\n",
            "matrix:  [[True, True, True, True], [4, 5, 6, True], [7, 8, 9, 'c'], ['d', 'e', 'f', 'g']]\n",
            "j:  3\n",
            "res:  [1, 2, 3, 'a', 'b', 'c']\n",
            "matrix:  [[True, True, True, True], [4, 5, 6, True], [7, 8, 9, True], ['d', 'e', 'f', 'g']]\n",
            "j:  3\n",
            "res:  [1, 2, 3, 'a', 'b', 'c', 'g']\n",
            "matrix:  [[True, True, True, True], [4, 5, 6, True], [7, 8, 9, True], ['d', 'e', 'f', True]]\n",
            "res:  [1, 2, 3, 'a', 'b', 'c', 'g']\n",
            "matrix:  [[True, True, True, True], [4, 5, 6, True], [7, 8, 9, True], ['d', 'e', 'f', True]]\n",
            "res:  [1, 2, 3, 'a', 'b', 'c', 'g', 'f']\n",
            "matrix:  [[True, True, True, True], [4, 5, 6, True], [7, 8, 9, True], ['d', 'e', True, True]]\n",
            "res:  [1, 2, 3, 'a', 'b', 'c', 'g', 'f', 'e']\n",
            "matrix:  [[True, True, True, True], [4, 5, 6, True], [7, 8, 9, True], ['d', True, True, True]]\n",
            "res:  [1, 2, 3, 'a', 'b', 'c', 'g', 'f', 'e', 'd']\n",
            "matrix:  [[True, True, True, True], [4, 5, 6, True], [7, 8, 9, True], [True, True, True, True]]\n",
            "res:  [1, 2, 3, 'a', 'b', 'c', 'g', 'f', 'e', 'd']\n",
            "matrix:  [[True, True, True, True], [4, 5, 6, True], [7, 8, 9, True], [True, True, True, True]]\n",
            "up:  7\n",
            "res:  [1, 2, 3, 'a', 'b', 'c', 'g', 'f', 'e', 'd', 7]\n",
            "matrix:  [[True, True, True, True], [4, 5, 6, True], [True, 8, 9, True], [True, True, True, True]]\n",
            "up:  4\n",
            "res:  [1, 2, 3, 'a', 'b', 'c', 'g', 'f', 'e', 'd', 7, 4]\n",
            "matrix:  [[True, True, True, True], [True, 5, 6, True], [True, 8, 9, True], [True, True, True, True]]\n",
            "up:  True\n",
            "i: 0 , j: 0\n",
            "res:  [1, 2, 3, 'a', 'b', 'c', 'g', 'f', 'e', 'd', 7, 4]\n",
            "matrix:  [[True, True, True, True], [True, 5, 6, True], [True, 8, 9, True], [True, True, True, True]]\n",
            "res:  [1, 2, 3, 'a', 'b', 'c', 'g', 'f', 'e', 'd', 7, 4, 5]\n",
            "matrix:  [[True, True, True, True], [True, True, 6, True], [True, 8, 9, True], [True, True, True, True]]\n",
            "res:  [1, 2, 3, 'a', 'b', 'c', 'g', 'f', 'e', 'd', 7, 4, 5, 6]\n",
            "matrix:  [[True, True, True, True], [True, True, True, True], [True, 8, 9, True], [True, True, True, True]]\n",
            "res:  [1, 2, 3, 'a', 'b', 'c', 'g', 'f', 'e', 'd', 7, 4, 5, 6]\n",
            "matrix:  [[True, True, True, True], [True, True, True, True], [True, 8, 9, True], [True, True, True, True]]\n",
            "j:  2\n",
            "res:  [1, 2, 3, 'a', 'b', 'c', 'g', 'f', 'e', 'd', 7, 4, 5, 6, 9]\n",
            "matrix:  [[True, True, True, True], [True, True, True, True], [True, 8, True, True], [True, True, True, True]]\n",
            "res:  [1, 2, 3, 'a', 'b', 'c', 'g', 'f', 'e', 'd', 7, 4, 5, 6, 9]\n",
            "matrix:  [[True, True, True, True], [True, True, True, True], [True, 8, True, True], [True, True, True, True]]\n"
          ]
        },
        {
          "output_type": "execute_result",
          "data": {
            "text/plain": [
              "[1, 2, 3, 'a', 'b', 'c', 'g', 'f', 'e', 'd', 7, 4, 5, 6, 9, 8]"
            ]
          },
          "metadata": {},
          "execution_count": 180
        }
      ]
    },
    {
      "cell_type": "code",
      "source": [
        "sol1.spiralOrder([[1,2,3],[4,5,6],[7,8,9]])"
      ],
      "metadata": {
        "colab": {
          "base_uri": "https://localhost:8080/"
        },
        "id": "GBW4yF00lLY6",
        "outputId": "f8022881-b8a9-4d20-bab2-c1b42fbfef00"
      },
      "execution_count": 181,
      "outputs": [
        {
          "output_type": "stream",
          "name": "stdout",
          "text": [
            "res:  []\n",
            "matrix:  [[1, 2, 3], [4, 5, 6], [7, 8, 9]]\n",
            "res:  [1]\n",
            "matrix:  [[True, 2, 3], [4, 5, 6], [7, 8, 9]]\n",
            "res:  [1, 2]\n",
            "matrix:  [[True, True, 3], [4, 5, 6], [7, 8, 9]]\n",
            "res:  [1, 2, 3]\n",
            "matrix:  [[True, True, True], [4, 5, 6], [7, 8, 9]]\n",
            "res:  [1, 2, 3]\n",
            "matrix:  [[True, True, True], [4, 5, 6], [7, 8, 9]]\n",
            "j:  2\n",
            "res:  [1, 2, 3, 6]\n",
            "matrix:  [[True, True, True], [4, 5, True], [7, 8, 9]]\n",
            "j:  2\n",
            "res:  [1, 2, 3, 6, 9]\n",
            "matrix:  [[True, True, True], [4, 5, True], [7, 8, True]]\n",
            "res:  [1, 2, 3, 6, 9]\n",
            "matrix:  [[True, True, True], [4, 5, True], [7, 8, True]]\n",
            "res:  [1, 2, 3, 6, 9, 8]\n",
            "matrix:  [[True, True, True], [4, 5, True], [7, True, True]]\n",
            "res:  [1, 2, 3, 6, 9, 8, 7]\n",
            "matrix:  [[True, True, True], [4, 5, True], [True, True, True]]\n",
            "res:  [1, 2, 3, 6, 9, 8, 7]\n",
            "matrix:  [[True, True, True], [4, 5, True], [True, True, True]]\n",
            "up:  4\n",
            "res:  [1, 2, 3, 6, 9, 8, 7, 4]\n",
            "matrix:  [[True, True, True], [True, 5, True], [True, True, True]]\n",
            "up:  True\n",
            "i: 0 , j: 0\n",
            "res:  [1, 2, 3, 6, 9, 8, 7, 4]\n",
            "matrix:  [[True, True, True], [True, 5, True], [True, True, True]]\n"
          ]
        },
        {
          "output_type": "execute_result",
          "data": {
            "text/plain": [
              "[1, 2, 3, 6, 9, 8, 7, 4, 5]"
            ]
          },
          "metadata": {},
          "execution_count": 181
        }
      ]
    },
    {
      "cell_type": "code",
      "source": [
        "sol1.spiralOrder([[1,2],[3,4]])"
      ],
      "metadata": {
        "colab": {
          "base_uri": "https://localhost:8080/"
        },
        "id": "y4uQCfraIz3p",
        "outputId": "e137fda8-d19b-4063-c15e-42a9cf502c75"
      },
      "execution_count": 182,
      "outputs": [
        {
          "output_type": "stream",
          "name": "stdout",
          "text": [
            "res:  []\n",
            "matrix:  [[1, 2], [3, 4]]\n",
            "res:  [1]\n",
            "matrix:  [[True, 2], [3, 4]]\n",
            "res:  [1, 2]\n",
            "matrix:  [[True, True], [3, 4]]\n",
            "res:  [1, 2]\n",
            "matrix:  [[True, True], [3, 4]]\n",
            "j:  1\n",
            "res:  [1, 2, 4]\n",
            "matrix:  [[True, True], [3, True]]\n",
            "res:  [1, 2, 4]\n",
            "matrix:  [[True, True], [3, True]]\n"
          ]
        },
        {
          "output_type": "execute_result",
          "data": {
            "text/plain": [
              "[1, 2, 4, 3]"
            ]
          },
          "metadata": {},
          "execution_count": 182
        }
      ]
    },
    {
      "cell_type": "markdown",
      "source": [
        "## Solution2:"
      ],
      "metadata": {
        "id": "OWq37OFLPGh9"
      }
    },
    {
      "cell_type": "code",
      "source": [
        "from typing import List\n",
        "class Solution2:\n",
        "    def spiralOrder(self, matrix: List[List[int]]) -> List[int]:\n",
        "\n",
        "        res = []\n",
        "        rows_m, cols_n = len(matrix), len(matrix[0])\n",
        "\n",
        "        top = 0\n",
        "        left = 0\n",
        "        bottom = rows_m        \n",
        "        right = cols_n\n",
        "\n",
        "        i=0\n",
        "        j=0\n",
        "\n",
        "        direction = 1\n",
        "\n",
        "        while len(res) < rows_m * cols_n:\n",
        "            if direction == 1:\n",
        "                while j < right:\n",
        "                    res.append(matrix[i][j])\n",
        "                    j += 1\n",
        "                direction += 1\n",
        "                top += 1\n",
        "            elif direction == 2:\n",
        "                j -= 1\n",
        "                i += 1\n",
        "                while i < bottom:\n",
        "                    res.append(matrix[i][j])\n",
        "                    i += 1\n",
        "                direction += 1\n",
        "                right -= 1\n",
        "            elif direction == 3:\n",
        "                i -= 1\n",
        "                j -= 1\n",
        "                while j >= left:\n",
        "                    res.append(matrix[i][j])\n",
        "                    j -= 1\n",
        "                direction += 1\n",
        "                bottom -= 1\n",
        "            elif direction == 4:\n",
        "                j += 1\n",
        "                i -= 1\n",
        "                while i > top:\n",
        "                    res.append(matrix[i][j])\n",
        "                    i -= 1\n",
        "                direction += 1\n",
        "                left += 1\n",
        "            print(\"direction: \", direction)\n",
        "            if direction == 5:\n",
        "                direction=1\n",
        "\n",
        "        return res\n",
        "\n",
        "sol2 = Solution2()\n"
      ],
      "metadata": {
        "id": "WlD3hZ1_Pg_3"
      },
      "execution_count": 183,
      "outputs": []
    },
    {
      "cell_type": "code",
      "source": [
        "sol2.spiralOrder([\n",
        "    ['a', 'b', 'c', 'd', 'e', 'f'], \n",
        "    ['g', 'h', 'i', 'j', 'k', 'l'], \n",
        "    ['m', 'n', 'o', 'p', 'q', 'r'], \n",
        "    ['s', 't', 'u', 'v', 'w', 'x']\n",
        "    ])\n",
        "\n",
        "# abcdef lrx wvuts mg hijk qpon"
      ],
      "metadata": {
        "colab": {
          "base_uri": "https://localhost:8080/"
        },
        "id": "Ibgji7eTn5y0",
        "outputId": "87281575-cb12-4a72-abc9-7c5eef0854c8"
      },
      "execution_count": 184,
      "outputs": [
        {
          "output_type": "stream",
          "name": "stdout",
          "text": [
            "direction:  2\n",
            "direction:  3\n",
            "direction:  4\n",
            "direction:  5\n",
            "direction:  2\n",
            "direction:  3\n",
            "direction:  4\n"
          ]
        },
        {
          "output_type": "execute_result",
          "data": {
            "text/plain": [
              "['a',\n",
              " 'b',\n",
              " 'c',\n",
              " 'd',\n",
              " 'e',\n",
              " 'f',\n",
              " 'l',\n",
              " 'r',\n",
              " 'x',\n",
              " 'w',\n",
              " 'v',\n",
              " 'u',\n",
              " 't',\n",
              " 's',\n",
              " 'm',\n",
              " 'g',\n",
              " 'h',\n",
              " 'i',\n",
              " 'j',\n",
              " 'k',\n",
              " 'q',\n",
              " 'p',\n",
              " 'o',\n",
              " 'n']"
            ]
          },
          "metadata": {},
          "execution_count": 184
        }
      ]
    },
    {
      "cell_type": "code",
      "source": [
        "sol2.spiralOrder([[1,2,3,'a'],[4,5,6,'b'],[7,8,9,'c'],['d','e','f','g']])"
      ],
      "metadata": {
        "colab": {
          "base_uri": "https://localhost:8080/"
        },
        "id": "_5yEDar6dxyS",
        "outputId": "ed53af55-f4a8-425c-9c71-9f32f525e877"
      },
      "execution_count": 185,
      "outputs": [
        {
          "output_type": "stream",
          "name": "stdout",
          "text": [
            "direction:  2\n",
            "direction:  3\n",
            "direction:  4\n",
            "direction:  5\n",
            "direction:  2\n",
            "direction:  3\n",
            "direction:  4\n"
          ]
        },
        {
          "output_type": "execute_result",
          "data": {
            "text/plain": [
              "[1, 2, 3, 'a', 'b', 'c', 'g', 'f', 'e', 'd', 7, 4, 5, 6, 9, 8]"
            ]
          },
          "metadata": {},
          "execution_count": 185
        }
      ]
    },
    {
      "cell_type": "code",
      "source": [
        "sol2.spiralOrder([[1,2],[3,4]])"
      ],
      "metadata": {
        "colab": {
          "base_uri": "https://localhost:8080/"
        },
        "id": "0JcYP1ehdrcj",
        "outputId": "ee3cc803-2b37-489d-fd9b-5e9c2f9ea7db"
      },
      "execution_count": 186,
      "outputs": [
        {
          "output_type": "stream",
          "name": "stdout",
          "text": [
            "direction:  2\n",
            "direction:  3\n",
            "direction:  4\n"
          ]
        },
        {
          "output_type": "execute_result",
          "data": {
            "text/plain": [
              "[1, 2, 4, 3]"
            ]
          },
          "metadata": {},
          "execution_count": 186
        }
      ]
    },
    {
      "cell_type": "code",
      "source": [
        "sol2.spiralOrder([[1,2,3],[4,5,6],[7,8,9]])"
      ],
      "metadata": {
        "colab": {
          "base_uri": "https://localhost:8080/"
        },
        "id": "fg28aySJPg8_",
        "outputId": "39604ae3-fa2b-46f6-f30c-351d358dfb2e"
      },
      "execution_count": 187,
      "outputs": [
        {
          "output_type": "stream",
          "name": "stdout",
          "text": [
            "direction:  2\n",
            "direction:  3\n",
            "direction:  4\n",
            "direction:  5\n",
            "direction:  2\n"
          ]
        },
        {
          "output_type": "execute_result",
          "data": {
            "text/plain": [
              "[1, 2, 3, 6, 9, 8, 7, 4, 5]"
            ]
          },
          "metadata": {},
          "execution_count": 187
        }
      ]
    },
    {
      "cell_type": "markdown",
      "source": [
        "## Solution3:\n"
      ],
      "metadata": {
        "id": "LpolTGMJ0T1g"
      }
    },
    {
      "cell_type": "code",
      "source": [
        "from typing import List\n",
        "class Solution3:\n",
        "    def spiralOrder(self, matrix: List[List[int]]) -> List[int]:\n",
        "\n",
        "        res = []\n",
        "        rows_m, cols_n = len(matrix), len(matrix[0])\n",
        "\n",
        "        top = 0\n",
        "        left = 0\n",
        "        bottom = rows_m        \n",
        "        right = cols_n\n",
        "\n",
        "        i=0\n",
        "        j=-1\n",
        "\n",
        "        direction = 1\n",
        "\n",
        "        while len(res) < rows_m * cols_n:\n",
        "            print(\"res: \", res)\n",
        "            if direction == 1:\n",
        "                while j < right-1:\n",
        "                    j += 1\n",
        "                    res.append(matrix[i][j])\n",
        "                direction += 1\n",
        "                top += 1\n",
        "            elif direction == 2:\n",
        "                while i < bottom-1:\n",
        "                    i += 1\n",
        "                    res.append(matrix[i][j])\n",
        "                direction += 1\n",
        "                right -= 1\n",
        "            elif direction == 3:\n",
        "                while j > left:\n",
        "                    j -= 1\n",
        "                    res.append(matrix[i][j])\n",
        "                direction += 1\n",
        "                bottom -= 1\n",
        "            elif direction == 4:\n",
        "                \n",
        "                while i > top:\n",
        "                    i -= 1\n",
        "                    res.append(matrix[i][j])\n",
        "                    \n",
        "                direction += 1\n",
        "                left += 1\n",
        "            print(\"direction: \", direction)\n",
        "            if direction == 5:\n",
        "                direction=1\n",
        "\n",
        "        return res\n",
        "\n",
        "sol3 = Solution3()\n"
      ],
      "metadata": {
        "id": "YgrlrNka0TSJ"
      },
      "execution_count": 188,
      "outputs": []
    },
    {
      "cell_type": "code",
      "source": [
        "sol3.spiralOrder([\n",
        "    ['a', 'b', 'c', 'd', 'e', 'f'], \n",
        "    ['g', 'h', 'i', 'j', 'k', 'l'], \n",
        "    ['m', 'n', 'o', 'p', 'q', 'r'], \n",
        "    ['s', 't', 'u', 'v', 'w', 'x']\n",
        "    ])\n",
        "\n",
        "# abcdef lrx wvuts mg hijk qpon"
      ],
      "metadata": {
        "colab": {
          "base_uri": "https://localhost:8080/"
        },
        "id": "TQf-b4oK09jn",
        "outputId": "5964355f-1f64-4972-bfcb-d682d6a6bbec"
      },
      "execution_count": 189,
      "outputs": [
        {
          "output_type": "stream",
          "name": "stdout",
          "text": [
            "res:  []\n",
            "direction:  2\n",
            "res:  ['a', 'b', 'c', 'd', 'e', 'f']\n",
            "direction:  3\n",
            "res:  ['a', 'b', 'c', 'd', 'e', 'f', 'l', 'r', 'x']\n",
            "direction:  4\n",
            "res:  ['a', 'b', 'c', 'd', 'e', 'f', 'l', 'r', 'x', 'w', 'v', 'u', 't', 's']\n",
            "direction:  5\n",
            "res:  ['a', 'b', 'c', 'd', 'e', 'f', 'l', 'r', 'x', 'w', 'v', 'u', 't', 's', 'm', 'g']\n",
            "direction:  2\n",
            "res:  ['a', 'b', 'c', 'd', 'e', 'f', 'l', 'r', 'x', 'w', 'v', 'u', 't', 's', 'm', 'g', 'h', 'i', 'j', 'k']\n",
            "direction:  3\n",
            "res:  ['a', 'b', 'c', 'd', 'e', 'f', 'l', 'r', 'x', 'w', 'v', 'u', 't', 's', 'm', 'g', 'h', 'i', 'j', 'k', 'q']\n",
            "direction:  4\n"
          ]
        },
        {
          "output_type": "execute_result",
          "data": {
            "text/plain": [
              "['a',\n",
              " 'b',\n",
              " 'c',\n",
              " 'd',\n",
              " 'e',\n",
              " 'f',\n",
              " 'l',\n",
              " 'r',\n",
              " 'x',\n",
              " 'w',\n",
              " 'v',\n",
              " 'u',\n",
              " 't',\n",
              " 's',\n",
              " 'm',\n",
              " 'g',\n",
              " 'h',\n",
              " 'i',\n",
              " 'j',\n",
              " 'k',\n",
              " 'q',\n",
              " 'p',\n",
              " 'o',\n",
              " 'n']"
            ]
          },
          "metadata": {},
          "execution_count": 189
        }
      ]
    }
  ]
}
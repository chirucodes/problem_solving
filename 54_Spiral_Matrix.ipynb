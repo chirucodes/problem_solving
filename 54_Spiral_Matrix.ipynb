{
  "nbformat": 4,
  "nbformat_minor": 0,
  "metadata": {
    "colab": {
      "provenance": [],
      "authorship_tag": "ABX9TyP66REZqHYwuJgpa3Eg4Njd",
      "include_colab_link": true
    },
    "kernelspec": {
      "name": "python3",
      "display_name": "Python 3"
    },
    "language_info": {
      "name": "python"
    }
  },
  "cells": [
    {
      "cell_type": "markdown",
      "metadata": {
        "id": "view-in-github",
        "colab_type": "text"
      },
      "source": [
        "<a href=\"https://colab.research.google.com/github/chirucodes/problem_solving/blob/main/54_Spiral_Matrix.ipynb\" target=\"_parent\"><img src=\"https://colab.research.google.com/assets/colab-badge.svg\" alt=\"Open In Colab\"/></a>"
      ]
    },
    {
      "cell_type": "markdown",
      "source": [
        "##54. Spiral Matrix\n",
        "\n",
        "Problem description: https://leetcode.com/problems/spiral-matrix/description/"
      ],
      "metadata": {
        "id": "xzuS9x5Rc5XK"
      }
    },
    {
      "cell_type": "markdown",
      "source": [
        "## Solution1:"
      ],
      "metadata": {
        "id": "XmnIX9SadAbw"
      }
    },
    {
      "cell_type": "code",
      "execution_count": 29,
      "metadata": {
        "id": "BSFcO7WXc2jV"
      },
      "outputs": [],
      "source": [
        "from typing import List\n",
        "class Solution1:\n",
        "    def spiralOrder(self, matrix: List[List[int]]) -> List[int]:\n",
        "        r = d = l = u = True\n",
        "        rows_m, cols_n = len(matrix), len(matrix[0])\n",
        "\n",
        "        res = []\n",
        "        i=0\n",
        "        j=0\n",
        "\n",
        "        res_count = rows_m * cols_n\n",
        "\n",
        "        while len(res) < res_count:\n",
        "\n",
        "            print(\"res: \", res)\n",
        "            print(\"matrix: \", matrix)\n",
        "            if r == True:\n",
        "                if j < cols_n:\n",
        "                    if matrix[i][j] is not True:\n",
        "                        res.append(matrix[i][j])\n",
        "                        matrix[i][j] = True\n",
        "                        j+=1\n",
        "                    else:\n",
        "                        r = False\n",
        "                        j -= 1 \n",
        "                        i+=1\n",
        "                        continue\n",
        "                else:\n",
        "                    r = False\n",
        "                    j-=1\n",
        "                    i+=1\n",
        "            elif d == True:\n",
        "                if i < rows_m:\n",
        "                    if matrix[i][j] is not True:\n",
        "                        print(\"j: \", j)\n",
        "                        res.append(matrix[i][j])\n",
        "                        matrix[i][j] = True\n",
        "                        i+=1\n",
        "                    else:\n",
        "                        d = False\n",
        "                        i-=1\n",
        "                        j-=1\n",
        "\n",
        "                else:\n",
        "                    d = False\n",
        "                    i-=1\n",
        "                    j-=1\n",
        "            elif l == True:\n",
        "                if j >= 0:\n",
        "                    if matrix[i][j] is not True:                    \n",
        "                        res.append(matrix[i][j])\n",
        "                        matrix[i][j] = True\n",
        "                        j-=1\n",
        "                    else:\n",
        "                        l = False\n",
        "                        j+=1\n",
        "                        i-=1\n",
        "                else:\n",
        "                    l = False\n",
        "                    j+=1\n",
        "                    i-=1\n",
        "            elif u == True:\n",
        "                if i >= 0 and i < rows_m:\n",
        "                    print(\"up: \", matrix[i][j])\n",
        "                    if matrix[i][j] is not True:\n",
        "                        res.append(matrix[i][j])\n",
        "                        matrix[i][j] = True\n",
        "                        i-=1\n",
        "                    else:\n",
        "                        print(f\"i: {i} , j: {j}\")\n",
        "                        r = d = l = u = True\n",
        "                        j += 1\n",
        "                        i += 1\n",
        "        return res\n",
        "sol1 = Solution1()"
      ]
    },
    {
      "cell_type": "code",
      "source": [
        "import string\n",
        "list(string.ascii_lowercase)"
      ],
      "metadata": {
        "colab": {
          "base_uri": "https://localhost:8080/"
        },
        "id": "rO-4w5u1MP0X",
        "outputId": "d5bcb3b2-3680-4ebd-b12f-f32b39633685"
      },
      "execution_count": 30,
      "outputs": [
        {
          "output_type": "execute_result",
          "data": {
            "text/plain": [
              "['a',\n",
              " 'b',\n",
              " 'c',\n",
              " 'd',\n",
              " 'e',\n",
              " 'f',\n",
              " 'g',\n",
              " 'h',\n",
              " 'i',\n",
              " 'j',\n",
              " 'k',\n",
              " 'l',\n",
              " 'm',\n",
              " 'n',\n",
              " 'o',\n",
              " 'p',\n",
              " 'q',\n",
              " 'r',\n",
              " 's',\n",
              " 't',\n",
              " 'u',\n",
              " 'v',\n",
              " 'w',\n",
              " 'x',\n",
              " 'y',\n",
              " 'z']"
            ]
          },
          "metadata": {},
          "execution_count": 30
        }
      ]
    },
    {
      "cell_type": "code",
      "source": [
        "sol1.spiralOrder([\n",
        "    ['a', 'b', 'c'], \n",
        "    ['d', 'e', 'f'], \n",
        "    ['g', 'h', 'i'], \n",
        "    ['j', 'k', 'l'], \n",
        "    ['m', 'n', 'o'], \n",
        "    ['p', 'q', 'r'], \n",
        "    ['s', 't', 'u'], \n",
        "    ['v', 'w', 'x']\n",
        "    ])\n",
        "\n",
        "#abc filorux wv spmjgd ehknqt"
      ],
      "metadata": {
        "colab": {
          "base_uri": "https://localhost:8080/"
        },
        "id": "hBRpWKNmOVxI",
        "outputId": "878355ea-c2f6-40d1-d57c-470e71795833"
      },
      "execution_count": 36,
      "outputs": [
        {
          "output_type": "stream",
          "name": "stdout",
          "text": [
            "res:  []\n",
            "matrix:  [['a', 'b', 'c'], ['d', 'e', 'f'], ['g', 'h', 'i'], ['j', 'k', 'l'], ['m', 'n', 'o'], ['p', 'q', 'r'], ['s', 't', 'u'], ['v', 'w', 'x']]\n",
            "res:  ['a']\n",
            "matrix:  [[True, 'b', 'c'], ['d', 'e', 'f'], ['g', 'h', 'i'], ['j', 'k', 'l'], ['m', 'n', 'o'], ['p', 'q', 'r'], ['s', 't', 'u'], ['v', 'w', 'x']]\n",
            "res:  ['a', 'b']\n",
            "matrix:  [[True, True, 'c'], ['d', 'e', 'f'], ['g', 'h', 'i'], ['j', 'k', 'l'], ['m', 'n', 'o'], ['p', 'q', 'r'], ['s', 't', 'u'], ['v', 'w', 'x']]\n",
            "res:  ['a', 'b', 'c']\n",
            "matrix:  [[True, True, True], ['d', 'e', 'f'], ['g', 'h', 'i'], ['j', 'k', 'l'], ['m', 'n', 'o'], ['p', 'q', 'r'], ['s', 't', 'u'], ['v', 'w', 'x']]\n",
            "res:  ['a', 'b', 'c']\n",
            "matrix:  [[True, True, True], ['d', 'e', 'f'], ['g', 'h', 'i'], ['j', 'k', 'l'], ['m', 'n', 'o'], ['p', 'q', 'r'], ['s', 't', 'u'], ['v', 'w', 'x']]\n",
            "j:  2\n",
            "res:  ['a', 'b', 'c', 'f']\n",
            "matrix:  [[True, True, True], ['d', 'e', True], ['g', 'h', 'i'], ['j', 'k', 'l'], ['m', 'n', 'o'], ['p', 'q', 'r'], ['s', 't', 'u'], ['v', 'w', 'x']]\n",
            "j:  2\n",
            "res:  ['a', 'b', 'c', 'f', 'i']\n",
            "matrix:  [[True, True, True], ['d', 'e', True], ['g', 'h', True], ['j', 'k', 'l'], ['m', 'n', 'o'], ['p', 'q', 'r'], ['s', 't', 'u'], ['v', 'w', 'x']]\n",
            "j:  2\n",
            "res:  ['a', 'b', 'c', 'f', 'i', 'l']\n",
            "matrix:  [[True, True, True], ['d', 'e', True], ['g', 'h', True], ['j', 'k', True], ['m', 'n', 'o'], ['p', 'q', 'r'], ['s', 't', 'u'], ['v', 'w', 'x']]\n",
            "j:  2\n",
            "res:  ['a', 'b', 'c', 'f', 'i', 'l', 'o']\n",
            "matrix:  [[True, True, True], ['d', 'e', True], ['g', 'h', True], ['j', 'k', True], ['m', 'n', True], ['p', 'q', 'r'], ['s', 't', 'u'], ['v', 'w', 'x']]\n",
            "j:  2\n",
            "res:  ['a', 'b', 'c', 'f', 'i', 'l', 'o', 'r']\n",
            "matrix:  [[True, True, True], ['d', 'e', True], ['g', 'h', True], ['j', 'k', True], ['m', 'n', True], ['p', 'q', True], ['s', 't', 'u'], ['v', 'w', 'x']]\n",
            "j:  2\n",
            "res:  ['a', 'b', 'c', 'f', 'i', 'l', 'o', 'r', 'u']\n",
            "matrix:  [[True, True, True], ['d', 'e', True], ['g', 'h', True], ['j', 'k', True], ['m', 'n', True], ['p', 'q', True], ['s', 't', True], ['v', 'w', 'x']]\n",
            "j:  2\n",
            "res:  ['a', 'b', 'c', 'f', 'i', 'l', 'o', 'r', 'u', 'x']\n",
            "matrix:  [[True, True, True], ['d', 'e', True], ['g', 'h', True], ['j', 'k', True], ['m', 'n', True], ['p', 'q', True], ['s', 't', True], ['v', 'w', True]]\n",
            "res:  ['a', 'b', 'c', 'f', 'i', 'l', 'o', 'r', 'u', 'x']\n",
            "matrix:  [[True, True, True], ['d', 'e', True], ['g', 'h', True], ['j', 'k', True], ['m', 'n', True], ['p', 'q', True], ['s', 't', True], ['v', 'w', True]]\n",
            "res:  ['a', 'b', 'c', 'f', 'i', 'l', 'o', 'r', 'u', 'x', 'w']\n",
            "matrix:  [[True, True, True], ['d', 'e', True], ['g', 'h', True], ['j', 'k', True], ['m', 'n', True], ['p', 'q', True], ['s', 't', True], ['v', True, True]]\n",
            "res:  ['a', 'b', 'c', 'f', 'i', 'l', 'o', 'r', 'u', 'x', 'w', 'v']\n",
            "matrix:  [[True, True, True], ['d', 'e', True], ['g', 'h', True], ['j', 'k', True], ['m', 'n', True], ['p', 'q', True], ['s', 't', True], [True, True, True]]\n",
            "res:  ['a', 'b', 'c', 'f', 'i', 'l', 'o', 'r', 'u', 'x', 'w', 'v']\n",
            "matrix:  [[True, True, True], ['d', 'e', True], ['g', 'h', True], ['j', 'k', True], ['m', 'n', True], ['p', 'q', True], ['s', 't', True], [True, True, True]]\n",
            "up:  s\n",
            "res:  ['a', 'b', 'c', 'f', 'i', 'l', 'o', 'r', 'u', 'x', 'w', 'v', 's']\n",
            "matrix:  [[True, True, True], ['d', 'e', True], ['g', 'h', True], ['j', 'k', True], ['m', 'n', True], ['p', 'q', True], [True, 't', True], [True, True, True]]\n",
            "up:  p\n",
            "res:  ['a', 'b', 'c', 'f', 'i', 'l', 'o', 'r', 'u', 'x', 'w', 'v', 's', 'p']\n",
            "matrix:  [[True, True, True], ['d', 'e', True], ['g', 'h', True], ['j', 'k', True], ['m', 'n', True], [True, 'q', True], [True, 't', True], [True, True, True]]\n",
            "up:  m\n",
            "res:  ['a', 'b', 'c', 'f', 'i', 'l', 'o', 'r', 'u', 'x', 'w', 'v', 's', 'p', 'm']\n",
            "matrix:  [[True, True, True], ['d', 'e', True], ['g', 'h', True], ['j', 'k', True], [True, 'n', True], [True, 'q', True], [True, 't', True], [True, True, True]]\n",
            "up:  j\n",
            "res:  ['a', 'b', 'c', 'f', 'i', 'l', 'o', 'r', 'u', 'x', 'w', 'v', 's', 'p', 'm', 'j']\n",
            "matrix:  [[True, True, True], ['d', 'e', True], ['g', 'h', True], [True, 'k', True], [True, 'n', True], [True, 'q', True], [True, 't', True], [True, True, True]]\n",
            "up:  g\n",
            "res:  ['a', 'b', 'c', 'f', 'i', 'l', 'o', 'r', 'u', 'x', 'w', 'v', 's', 'p', 'm', 'j', 'g']\n",
            "matrix:  [[True, True, True], ['d', 'e', True], [True, 'h', True], [True, 'k', True], [True, 'n', True], [True, 'q', True], [True, 't', True], [True, True, True]]\n",
            "up:  d\n",
            "res:  ['a', 'b', 'c', 'f', 'i', 'l', 'o', 'r', 'u', 'x', 'w', 'v', 's', 'p', 'm', 'j', 'g', 'd']\n",
            "matrix:  [[True, True, True], [True, 'e', True], [True, 'h', True], [True, 'k', True], [True, 'n', True], [True, 'q', True], [True, 't', True], [True, True, True]]\n",
            "up:  True\n",
            "i: 0 , j: 0\n",
            "res:  ['a', 'b', 'c', 'f', 'i', 'l', 'o', 'r', 'u', 'x', 'w', 'v', 's', 'p', 'm', 'j', 'g', 'd']\n",
            "matrix:  [[True, True, True], [True, 'e', True], [True, 'h', True], [True, 'k', True], [True, 'n', True], [True, 'q', True], [True, 't', True], [True, True, True]]\n",
            "res:  ['a', 'b', 'c', 'f', 'i', 'l', 'o', 'r', 'u', 'x', 'w', 'v', 's', 'p', 'm', 'j', 'g', 'd', 'e']\n",
            "matrix:  [[True, True, True], [True, True, True], [True, 'h', True], [True, 'k', True], [True, 'n', True], [True, 'q', True], [True, 't', True], [True, True, True]]\n",
            "res:  ['a', 'b', 'c', 'f', 'i', 'l', 'o', 'r', 'u', 'x', 'w', 'v', 's', 'p', 'm', 'j', 'g', 'd', 'e']\n",
            "matrix:  [[True, True, True], [True, True, True], [True, 'h', True], [True, 'k', True], [True, 'n', True], [True, 'q', True], [True, 't', True], [True, True, True]]\n",
            "j:  1\n",
            "res:  ['a', 'b', 'c', 'f', 'i', 'l', 'o', 'r', 'u', 'x', 'w', 'v', 's', 'p', 'm', 'j', 'g', 'd', 'e', 'h']\n",
            "matrix:  [[True, True, True], [True, True, True], [True, True, True], [True, 'k', True], [True, 'n', True], [True, 'q', True], [True, 't', True], [True, True, True]]\n",
            "j:  1\n",
            "res:  ['a', 'b', 'c', 'f', 'i', 'l', 'o', 'r', 'u', 'x', 'w', 'v', 's', 'p', 'm', 'j', 'g', 'd', 'e', 'h', 'k']\n",
            "matrix:  [[True, True, True], [True, True, True], [True, True, True], [True, True, True], [True, 'n', True], [True, 'q', True], [True, 't', True], [True, True, True]]\n",
            "j:  1\n",
            "res:  ['a', 'b', 'c', 'f', 'i', 'l', 'o', 'r', 'u', 'x', 'w', 'v', 's', 'p', 'm', 'j', 'g', 'd', 'e', 'h', 'k', 'n']\n",
            "matrix:  [[True, True, True], [True, True, True], [True, True, True], [True, True, True], [True, True, True], [True, 'q', True], [True, 't', True], [True, True, True]]\n",
            "j:  1\n",
            "res:  ['a', 'b', 'c', 'f', 'i', 'l', 'o', 'r', 'u', 'x', 'w', 'v', 's', 'p', 'm', 'j', 'g', 'd', 'e', 'h', 'k', 'n', 'q']\n",
            "matrix:  [[True, True, True], [True, True, True], [True, True, True], [True, True, True], [True, True, True], [True, True, True], [True, 't', True], [True, True, True]]\n",
            "j:  1\n"
          ]
        },
        {
          "output_type": "execute_result",
          "data": {
            "text/plain": [
              "['a',\n",
              " 'b',\n",
              " 'c',\n",
              " 'f',\n",
              " 'i',\n",
              " 'l',\n",
              " 'o',\n",
              " 'r',\n",
              " 'u',\n",
              " 'x',\n",
              " 'w',\n",
              " 'v',\n",
              " 's',\n",
              " 'p',\n",
              " 'm',\n",
              " 'j',\n",
              " 'g',\n",
              " 'd',\n",
              " 'e',\n",
              " 'h',\n",
              " 'k',\n",
              " 'n',\n",
              " 'q',\n",
              " 't']"
            ]
          },
          "metadata": {},
          "execution_count": 36
        }
      ]
    },
    {
      "cell_type": "code",
      "source": [
        "#abc filorux wv spmjgd ehknqt"
      ],
      "metadata": {
        "id": "lN4ORPW1OqDn"
      },
      "execution_count": null,
      "outputs": []
    },
    {
      "cell_type": "code",
      "source": [
        "sol1.spiralOrder([\n",
        "    ['a', 'b', 'c', 'd', 'e', 'f'], \n",
        "    ['g', 'h', 'i', 'j', 'k', 'l'], \n",
        "    ['m', 'n', 'o', 'p', 'q', 'r'], \n",
        "    ['s', 't', 'u', 'v', 'w', 'x']\n",
        "    ])\n",
        "\n",
        "# abcdef lrx wvuts mg hijk qpon"
      ],
      "metadata": {
        "colab": {
          "base_uri": "https://localhost:8080/"
        },
        "id": "PPYwlsFhMMbB",
        "outputId": "2d334731-eced-4e70-e15e-48a96242bcba"
      },
      "execution_count": 31,
      "outputs": [
        {
          "output_type": "stream",
          "name": "stdout",
          "text": [
            "res:  []\n",
            "matrix:  [['a', 'b', 'c', 'd', 'e', 'f'], ['g', 'h', 'i', 'j', 'k', 'l'], ['m', 'n', 'o', 'p', 'q', 'r'], ['s', 't', 'u', 'v', 'w', 'x']]\n",
            "res:  ['a']\n",
            "matrix:  [[True, 'b', 'c', 'd', 'e', 'f'], ['g', 'h', 'i', 'j', 'k', 'l'], ['m', 'n', 'o', 'p', 'q', 'r'], ['s', 't', 'u', 'v', 'w', 'x']]\n",
            "res:  ['a', 'b']\n",
            "matrix:  [[True, True, 'c', 'd', 'e', 'f'], ['g', 'h', 'i', 'j', 'k', 'l'], ['m', 'n', 'o', 'p', 'q', 'r'], ['s', 't', 'u', 'v', 'w', 'x']]\n",
            "res:  ['a', 'b', 'c']\n",
            "matrix:  [[True, True, True, 'd', 'e', 'f'], ['g', 'h', 'i', 'j', 'k', 'l'], ['m', 'n', 'o', 'p', 'q', 'r'], ['s', 't', 'u', 'v', 'w', 'x']]\n",
            "res:  ['a', 'b', 'c', 'd']\n",
            "matrix:  [[True, True, True, True, 'e', 'f'], ['g', 'h', 'i', 'j', 'k', 'l'], ['m', 'n', 'o', 'p', 'q', 'r'], ['s', 't', 'u', 'v', 'w', 'x']]\n",
            "res:  ['a', 'b', 'c', 'd', 'e']\n",
            "matrix:  [[True, True, True, True, True, 'f'], ['g', 'h', 'i', 'j', 'k', 'l'], ['m', 'n', 'o', 'p', 'q', 'r'], ['s', 't', 'u', 'v', 'w', 'x']]\n",
            "res:  ['a', 'b', 'c', 'd', 'e', 'f']\n",
            "matrix:  [[True, True, True, True, True, True], ['g', 'h', 'i', 'j', 'k', 'l'], ['m', 'n', 'o', 'p', 'q', 'r'], ['s', 't', 'u', 'v', 'w', 'x']]\n",
            "res:  ['a', 'b', 'c', 'd', 'e', 'f']\n",
            "matrix:  [[True, True, True, True, True, True], ['g', 'h', 'i', 'j', 'k', 'l'], ['m', 'n', 'o', 'p', 'q', 'r'], ['s', 't', 'u', 'v', 'w', 'x']]\n",
            "j:  5\n",
            "res:  ['a', 'b', 'c', 'd', 'e', 'f', 'l']\n",
            "matrix:  [[True, True, True, True, True, True], ['g', 'h', 'i', 'j', 'k', True], ['m', 'n', 'o', 'p', 'q', 'r'], ['s', 't', 'u', 'v', 'w', 'x']]\n",
            "j:  5\n",
            "res:  ['a', 'b', 'c', 'd', 'e', 'f', 'l', 'r']\n",
            "matrix:  [[True, True, True, True, True, True], ['g', 'h', 'i', 'j', 'k', True], ['m', 'n', 'o', 'p', 'q', True], ['s', 't', 'u', 'v', 'w', 'x']]\n",
            "j:  5\n",
            "res:  ['a', 'b', 'c', 'd', 'e', 'f', 'l', 'r', 'x']\n",
            "matrix:  [[True, True, True, True, True, True], ['g', 'h', 'i', 'j', 'k', True], ['m', 'n', 'o', 'p', 'q', True], ['s', 't', 'u', 'v', 'w', True]]\n",
            "res:  ['a', 'b', 'c', 'd', 'e', 'f', 'l', 'r', 'x']\n",
            "matrix:  [[True, True, True, True, True, True], ['g', 'h', 'i', 'j', 'k', True], ['m', 'n', 'o', 'p', 'q', True], ['s', 't', 'u', 'v', 'w', True]]\n",
            "res:  ['a', 'b', 'c', 'd', 'e', 'f', 'l', 'r', 'x', 'w']\n",
            "matrix:  [[True, True, True, True, True, True], ['g', 'h', 'i', 'j', 'k', True], ['m', 'n', 'o', 'p', 'q', True], ['s', 't', 'u', 'v', True, True]]\n",
            "res:  ['a', 'b', 'c', 'd', 'e', 'f', 'l', 'r', 'x', 'w', 'v']\n",
            "matrix:  [[True, True, True, True, True, True], ['g', 'h', 'i', 'j', 'k', True], ['m', 'n', 'o', 'p', 'q', True], ['s', 't', 'u', True, True, True]]\n",
            "res:  ['a', 'b', 'c', 'd', 'e', 'f', 'l', 'r', 'x', 'w', 'v', 'u']\n",
            "matrix:  [[True, True, True, True, True, True], ['g', 'h', 'i', 'j', 'k', True], ['m', 'n', 'o', 'p', 'q', True], ['s', 't', True, True, True, True]]\n",
            "res:  ['a', 'b', 'c', 'd', 'e', 'f', 'l', 'r', 'x', 'w', 'v', 'u', 't']\n",
            "matrix:  [[True, True, True, True, True, True], ['g', 'h', 'i', 'j', 'k', True], ['m', 'n', 'o', 'p', 'q', True], ['s', True, True, True, True, True]]\n",
            "res:  ['a', 'b', 'c', 'd', 'e', 'f', 'l', 'r', 'x', 'w', 'v', 'u', 't', 's']\n",
            "matrix:  [[True, True, True, True, True, True], ['g', 'h', 'i', 'j', 'k', True], ['m', 'n', 'o', 'p', 'q', True], [True, True, True, True, True, True]]\n",
            "res:  ['a', 'b', 'c', 'd', 'e', 'f', 'l', 'r', 'x', 'w', 'v', 'u', 't', 's']\n",
            "matrix:  [[True, True, True, True, True, True], ['g', 'h', 'i', 'j', 'k', True], ['m', 'n', 'o', 'p', 'q', True], [True, True, True, True, True, True]]\n",
            "up:  m\n",
            "res:  ['a', 'b', 'c', 'd', 'e', 'f', 'l', 'r', 'x', 'w', 'v', 'u', 't', 's', 'm']\n",
            "matrix:  [[True, True, True, True, True, True], ['g', 'h', 'i', 'j', 'k', True], [True, 'n', 'o', 'p', 'q', True], [True, True, True, True, True, True]]\n",
            "up:  g\n",
            "res:  ['a', 'b', 'c', 'd', 'e', 'f', 'l', 'r', 'x', 'w', 'v', 'u', 't', 's', 'm', 'g']\n",
            "matrix:  [[True, True, True, True, True, True], [True, 'h', 'i', 'j', 'k', True], [True, 'n', 'o', 'p', 'q', True], [True, True, True, True, True, True]]\n",
            "up:  True\n",
            "i: 0 , j: 0\n",
            "res:  ['a', 'b', 'c', 'd', 'e', 'f', 'l', 'r', 'x', 'w', 'v', 'u', 't', 's', 'm', 'g']\n",
            "matrix:  [[True, True, True, True, True, True], [True, 'h', 'i', 'j', 'k', True], [True, 'n', 'o', 'p', 'q', True], [True, True, True, True, True, True]]\n",
            "res:  ['a', 'b', 'c', 'd', 'e', 'f', 'l', 'r', 'x', 'w', 'v', 'u', 't', 's', 'm', 'g', 'h']\n",
            "matrix:  [[True, True, True, True, True, True], [True, True, 'i', 'j', 'k', True], [True, 'n', 'o', 'p', 'q', True], [True, True, True, True, True, True]]\n",
            "res:  ['a', 'b', 'c', 'd', 'e', 'f', 'l', 'r', 'x', 'w', 'v', 'u', 't', 's', 'm', 'g', 'h', 'i']\n",
            "matrix:  [[True, True, True, True, True, True], [True, True, True, 'j', 'k', True], [True, 'n', 'o', 'p', 'q', True], [True, True, True, True, True, True]]\n",
            "res:  ['a', 'b', 'c', 'd', 'e', 'f', 'l', 'r', 'x', 'w', 'v', 'u', 't', 's', 'm', 'g', 'h', 'i', 'j']\n",
            "matrix:  [[True, True, True, True, True, True], [True, True, True, True, 'k', True], [True, 'n', 'o', 'p', 'q', True], [True, True, True, True, True, True]]\n",
            "res:  ['a', 'b', 'c', 'd', 'e', 'f', 'l', 'r', 'x', 'w', 'v', 'u', 't', 's', 'm', 'g', 'h', 'i', 'j', 'k']\n",
            "matrix:  [[True, True, True, True, True, True], [True, True, True, True, True, True], [True, 'n', 'o', 'p', 'q', True], [True, True, True, True, True, True]]\n",
            "res:  ['a', 'b', 'c', 'd', 'e', 'f', 'l', 'r', 'x', 'w', 'v', 'u', 't', 's', 'm', 'g', 'h', 'i', 'j', 'k']\n",
            "matrix:  [[True, True, True, True, True, True], [True, True, True, True, True, True], [True, 'n', 'o', 'p', 'q', True], [True, True, True, True, True, True]]\n",
            "j:  4\n",
            "res:  ['a', 'b', 'c', 'd', 'e', 'f', 'l', 'r', 'x', 'w', 'v', 'u', 't', 's', 'm', 'g', 'h', 'i', 'j', 'k', 'q']\n",
            "matrix:  [[True, True, True, True, True, True], [True, True, True, True, True, True], [True, 'n', 'o', 'p', True, True], [True, True, True, True, True, True]]\n",
            "res:  ['a', 'b', 'c', 'd', 'e', 'f', 'l', 'r', 'x', 'w', 'v', 'u', 't', 's', 'm', 'g', 'h', 'i', 'j', 'k', 'q']\n",
            "matrix:  [[True, True, True, True, True, True], [True, True, True, True, True, True], [True, 'n', 'o', 'p', True, True], [True, True, True, True, True, True]]\n",
            "res:  ['a', 'b', 'c', 'd', 'e', 'f', 'l', 'r', 'x', 'w', 'v', 'u', 't', 's', 'm', 'g', 'h', 'i', 'j', 'k', 'q', 'p']\n",
            "matrix:  [[True, True, True, True, True, True], [True, True, True, True, True, True], [True, 'n', 'o', True, True, True], [True, True, True, True, True, True]]\n",
            "res:  ['a', 'b', 'c', 'd', 'e', 'f', 'l', 'r', 'x', 'w', 'v', 'u', 't', 's', 'm', 'g', 'h', 'i', 'j', 'k', 'q', 'p', 'o']\n",
            "matrix:  [[True, True, True, True, True, True], [True, True, True, True, True, True], [True, 'n', True, True, True, True], [True, True, True, True, True, True]]\n"
          ]
        },
        {
          "output_type": "execute_result",
          "data": {
            "text/plain": [
              "['a',\n",
              " 'b',\n",
              " 'c',\n",
              " 'd',\n",
              " 'e',\n",
              " 'f',\n",
              " 'l',\n",
              " 'r',\n",
              " 'x',\n",
              " 'w',\n",
              " 'v',\n",
              " 'u',\n",
              " 't',\n",
              " 's',\n",
              " 'm',\n",
              " 'g',\n",
              " 'h',\n",
              " 'i',\n",
              " 'j',\n",
              " 'k',\n",
              " 'q',\n",
              " 'p',\n",
              " 'o',\n",
              " 'n']"
            ]
          },
          "metadata": {},
          "execution_count": 31
        }
      ]
    },
    {
      "cell_type": "code",
      "source": [
        "sol1.spiralOrder([[1,2,3,'a','h'],[4,5,6,'b','i'],[7,8,9,'c','j'],['d','e','f','g','k'],['l','m','n','o','p']])"
      ],
      "metadata": {
        "colab": {
          "base_uri": "https://localhost:8080/"
        },
        "id": "sUlscmEIuvgN",
        "outputId": "ceb16682-6391-4360-fbc6-85affacee49c"
      },
      "execution_count": 32,
      "outputs": [
        {
          "output_type": "stream",
          "name": "stdout",
          "text": [
            "res:  []\n",
            "matrix:  [[1, 2, 3, 'a', 'h'], [4, 5, 6, 'b', 'i'], [7, 8, 9, 'c', 'j'], ['d', 'e', 'f', 'g', 'k'], ['l', 'm', 'n', 'o', 'p']]\n",
            "res:  [1]\n",
            "matrix:  [[True, 2, 3, 'a', 'h'], [4, 5, 6, 'b', 'i'], [7, 8, 9, 'c', 'j'], ['d', 'e', 'f', 'g', 'k'], ['l', 'm', 'n', 'o', 'p']]\n",
            "res:  [1, 2]\n",
            "matrix:  [[True, True, 3, 'a', 'h'], [4, 5, 6, 'b', 'i'], [7, 8, 9, 'c', 'j'], ['d', 'e', 'f', 'g', 'k'], ['l', 'm', 'n', 'o', 'p']]\n",
            "res:  [1, 2, 3]\n",
            "matrix:  [[True, True, True, 'a', 'h'], [4, 5, 6, 'b', 'i'], [7, 8, 9, 'c', 'j'], ['d', 'e', 'f', 'g', 'k'], ['l', 'm', 'n', 'o', 'p']]\n",
            "res:  [1, 2, 3, 'a']\n",
            "matrix:  [[True, True, True, True, 'h'], [4, 5, 6, 'b', 'i'], [7, 8, 9, 'c', 'j'], ['d', 'e', 'f', 'g', 'k'], ['l', 'm', 'n', 'o', 'p']]\n",
            "res:  [1, 2, 3, 'a', 'h']\n",
            "matrix:  [[True, True, True, True, True], [4, 5, 6, 'b', 'i'], [7, 8, 9, 'c', 'j'], ['d', 'e', 'f', 'g', 'k'], ['l', 'm', 'n', 'o', 'p']]\n",
            "res:  [1, 2, 3, 'a', 'h']\n",
            "matrix:  [[True, True, True, True, True], [4, 5, 6, 'b', 'i'], [7, 8, 9, 'c', 'j'], ['d', 'e', 'f', 'g', 'k'], ['l', 'm', 'n', 'o', 'p']]\n",
            "j:  4\n",
            "res:  [1, 2, 3, 'a', 'h', 'i']\n",
            "matrix:  [[True, True, True, True, True], [4, 5, 6, 'b', True], [7, 8, 9, 'c', 'j'], ['d', 'e', 'f', 'g', 'k'], ['l', 'm', 'n', 'o', 'p']]\n",
            "j:  4\n",
            "res:  [1, 2, 3, 'a', 'h', 'i', 'j']\n",
            "matrix:  [[True, True, True, True, True], [4, 5, 6, 'b', True], [7, 8, 9, 'c', True], ['d', 'e', 'f', 'g', 'k'], ['l', 'm', 'n', 'o', 'p']]\n",
            "j:  4\n",
            "res:  [1, 2, 3, 'a', 'h', 'i', 'j', 'k']\n",
            "matrix:  [[True, True, True, True, True], [4, 5, 6, 'b', True], [7, 8, 9, 'c', True], ['d', 'e', 'f', 'g', True], ['l', 'm', 'n', 'o', 'p']]\n",
            "j:  4\n",
            "res:  [1, 2, 3, 'a', 'h', 'i', 'j', 'k', 'p']\n",
            "matrix:  [[True, True, True, True, True], [4, 5, 6, 'b', True], [7, 8, 9, 'c', True], ['d', 'e', 'f', 'g', True], ['l', 'm', 'n', 'o', True]]\n",
            "res:  [1, 2, 3, 'a', 'h', 'i', 'j', 'k', 'p']\n",
            "matrix:  [[True, True, True, True, True], [4, 5, 6, 'b', True], [7, 8, 9, 'c', True], ['d', 'e', 'f', 'g', True], ['l', 'm', 'n', 'o', True]]\n",
            "res:  [1, 2, 3, 'a', 'h', 'i', 'j', 'k', 'p', 'o']\n",
            "matrix:  [[True, True, True, True, True], [4, 5, 6, 'b', True], [7, 8, 9, 'c', True], ['d', 'e', 'f', 'g', True], ['l', 'm', 'n', True, True]]\n",
            "res:  [1, 2, 3, 'a', 'h', 'i', 'j', 'k', 'p', 'o', 'n']\n",
            "matrix:  [[True, True, True, True, True], [4, 5, 6, 'b', True], [7, 8, 9, 'c', True], ['d', 'e', 'f', 'g', True], ['l', 'm', True, True, True]]\n",
            "res:  [1, 2, 3, 'a', 'h', 'i', 'j', 'k', 'p', 'o', 'n', 'm']\n",
            "matrix:  [[True, True, True, True, True], [4, 5, 6, 'b', True], [7, 8, 9, 'c', True], ['d', 'e', 'f', 'g', True], ['l', True, True, True, True]]\n",
            "res:  [1, 2, 3, 'a', 'h', 'i', 'j', 'k', 'p', 'o', 'n', 'm', 'l']\n",
            "matrix:  [[True, True, True, True, True], [4, 5, 6, 'b', True], [7, 8, 9, 'c', True], ['d', 'e', 'f', 'g', True], [True, True, True, True, True]]\n",
            "res:  [1, 2, 3, 'a', 'h', 'i', 'j', 'k', 'p', 'o', 'n', 'm', 'l']\n",
            "matrix:  [[True, True, True, True, True], [4, 5, 6, 'b', True], [7, 8, 9, 'c', True], ['d', 'e', 'f', 'g', True], [True, True, True, True, True]]\n",
            "up:  d\n",
            "res:  [1, 2, 3, 'a', 'h', 'i', 'j', 'k', 'p', 'o', 'n', 'm', 'l', 'd']\n",
            "matrix:  [[True, True, True, True, True], [4, 5, 6, 'b', True], [7, 8, 9, 'c', True], [True, 'e', 'f', 'g', True], [True, True, True, True, True]]\n",
            "up:  7\n",
            "res:  [1, 2, 3, 'a', 'h', 'i', 'j', 'k', 'p', 'o', 'n', 'm', 'l', 'd', 7]\n",
            "matrix:  [[True, True, True, True, True], [4, 5, 6, 'b', True], [True, 8, 9, 'c', True], [True, 'e', 'f', 'g', True], [True, True, True, True, True]]\n",
            "up:  4\n",
            "res:  [1, 2, 3, 'a', 'h', 'i', 'j', 'k', 'p', 'o', 'n', 'm', 'l', 'd', 7, 4]\n",
            "matrix:  [[True, True, True, True, True], [True, 5, 6, 'b', True], [True, 8, 9, 'c', True], [True, 'e', 'f', 'g', True], [True, True, True, True, True]]\n",
            "up:  True\n",
            "i: 0 , j: 0\n",
            "res:  [1, 2, 3, 'a', 'h', 'i', 'j', 'k', 'p', 'o', 'n', 'm', 'l', 'd', 7, 4]\n",
            "matrix:  [[True, True, True, True, True], [True, 5, 6, 'b', True], [True, 8, 9, 'c', True], [True, 'e', 'f', 'g', True], [True, True, True, True, True]]\n",
            "res:  [1, 2, 3, 'a', 'h', 'i', 'j', 'k', 'p', 'o', 'n', 'm', 'l', 'd', 7, 4, 5]\n",
            "matrix:  [[True, True, True, True, True], [True, True, 6, 'b', True], [True, 8, 9, 'c', True], [True, 'e', 'f', 'g', True], [True, True, True, True, True]]\n",
            "res:  [1, 2, 3, 'a', 'h', 'i', 'j', 'k', 'p', 'o', 'n', 'm', 'l', 'd', 7, 4, 5, 6]\n",
            "matrix:  [[True, True, True, True, True], [True, True, True, 'b', True], [True, 8, 9, 'c', True], [True, 'e', 'f', 'g', True], [True, True, True, True, True]]\n",
            "res:  [1, 2, 3, 'a', 'h', 'i', 'j', 'k', 'p', 'o', 'n', 'm', 'l', 'd', 7, 4, 5, 6, 'b']\n",
            "matrix:  [[True, True, True, True, True], [True, True, True, True, True], [True, 8, 9, 'c', True], [True, 'e', 'f', 'g', True], [True, True, True, True, True]]\n",
            "res:  [1, 2, 3, 'a', 'h', 'i', 'j', 'k', 'p', 'o', 'n', 'm', 'l', 'd', 7, 4, 5, 6, 'b']\n",
            "matrix:  [[True, True, True, True, True], [True, True, True, True, True], [True, 8, 9, 'c', True], [True, 'e', 'f', 'g', True], [True, True, True, True, True]]\n",
            "j:  3\n",
            "res:  [1, 2, 3, 'a', 'h', 'i', 'j', 'k', 'p', 'o', 'n', 'm', 'l', 'd', 7, 4, 5, 6, 'b', 'c']\n",
            "matrix:  [[True, True, True, True, True], [True, True, True, True, True], [True, 8, 9, True, True], [True, 'e', 'f', 'g', True], [True, True, True, True, True]]\n",
            "j:  3\n",
            "res:  [1, 2, 3, 'a', 'h', 'i', 'j', 'k', 'p', 'o', 'n', 'm', 'l', 'd', 7, 4, 5, 6, 'b', 'c', 'g']\n",
            "matrix:  [[True, True, True, True, True], [True, True, True, True, True], [True, 8, 9, True, True], [True, 'e', 'f', True, True], [True, True, True, True, True]]\n",
            "res:  [1, 2, 3, 'a', 'h', 'i', 'j', 'k', 'p', 'o', 'n', 'm', 'l', 'd', 7, 4, 5, 6, 'b', 'c', 'g']\n",
            "matrix:  [[True, True, True, True, True], [True, True, True, True, True], [True, 8, 9, True, True], [True, 'e', 'f', True, True], [True, True, True, True, True]]\n",
            "res:  [1, 2, 3, 'a', 'h', 'i', 'j', 'k', 'p', 'o', 'n', 'm', 'l', 'd', 7, 4, 5, 6, 'b', 'c', 'g', 'f']\n",
            "matrix:  [[True, True, True, True, True], [True, True, True, True, True], [True, 8, 9, True, True], [True, 'e', True, True, True], [True, True, True, True, True]]\n",
            "res:  [1, 2, 3, 'a', 'h', 'i', 'j', 'k', 'p', 'o', 'n', 'm', 'l', 'd', 7, 4, 5, 6, 'b', 'c', 'g', 'f', 'e']\n",
            "matrix:  [[True, True, True, True, True], [True, True, True, True, True], [True, 8, 9, True, True], [True, True, True, True, True], [True, True, True, True, True]]\n",
            "res:  [1, 2, 3, 'a', 'h', 'i', 'j', 'k', 'p', 'o', 'n', 'm', 'l', 'd', 7, 4, 5, 6, 'b', 'c', 'g', 'f', 'e']\n",
            "matrix:  [[True, True, True, True, True], [True, True, True, True, True], [True, 8, 9, True, True], [True, True, True, True, True], [True, True, True, True, True]]\n",
            "up:  8\n",
            "res:  [1, 2, 3, 'a', 'h', 'i', 'j', 'k', 'p', 'o', 'n', 'm', 'l', 'd', 7, 4, 5, 6, 'b', 'c', 'g', 'f', 'e', 8]\n",
            "matrix:  [[True, True, True, True, True], [True, True, True, True, True], [True, True, 9, True, True], [True, True, True, True, True], [True, True, True, True, True]]\n",
            "up:  True\n",
            "i: 1 , j: 1\n",
            "res:  [1, 2, 3, 'a', 'h', 'i', 'j', 'k', 'p', 'o', 'n', 'm', 'l', 'd', 7, 4, 5, 6, 'b', 'c', 'g', 'f', 'e', 8]\n",
            "matrix:  [[True, True, True, True, True], [True, True, True, True, True], [True, True, 9, True, True], [True, True, True, True, True], [True, True, True, True, True]]\n"
          ]
        },
        {
          "output_type": "execute_result",
          "data": {
            "text/plain": [
              "[1,\n",
              " 2,\n",
              " 3,\n",
              " 'a',\n",
              " 'h',\n",
              " 'i',\n",
              " 'j',\n",
              " 'k',\n",
              " 'p',\n",
              " 'o',\n",
              " 'n',\n",
              " 'm',\n",
              " 'l',\n",
              " 'd',\n",
              " 7,\n",
              " 4,\n",
              " 5,\n",
              " 6,\n",
              " 'b',\n",
              " 'c',\n",
              " 'g',\n",
              " 'f',\n",
              " 'e',\n",
              " 8,\n",
              " 9]"
            ]
          },
          "metadata": {},
          "execution_count": 32
        }
      ]
    },
    {
      "cell_type": "code",
      "source": [
        "sol1.spiralOrder([[1,2,3,'a'],[4,5,6,'b'],[7,8,9,'c'],['d','e','f','g']])"
      ],
      "metadata": {
        "colab": {
          "base_uri": "https://localhost:8080/"
        },
        "id": "LNg23ZZAr44P",
        "outputId": "effe0e4b-394a-42d9-b9e0-1963770ada98"
      },
      "execution_count": 33,
      "outputs": [
        {
          "output_type": "stream",
          "name": "stdout",
          "text": [
            "res:  []\n",
            "matrix:  [[1, 2, 3, 'a'], [4, 5, 6, 'b'], [7, 8, 9, 'c'], ['d', 'e', 'f', 'g']]\n",
            "res:  [1]\n",
            "matrix:  [[True, 2, 3, 'a'], [4, 5, 6, 'b'], [7, 8, 9, 'c'], ['d', 'e', 'f', 'g']]\n",
            "res:  [1, 2]\n",
            "matrix:  [[True, True, 3, 'a'], [4, 5, 6, 'b'], [7, 8, 9, 'c'], ['d', 'e', 'f', 'g']]\n",
            "res:  [1, 2, 3]\n",
            "matrix:  [[True, True, True, 'a'], [4, 5, 6, 'b'], [7, 8, 9, 'c'], ['d', 'e', 'f', 'g']]\n",
            "res:  [1, 2, 3, 'a']\n",
            "matrix:  [[True, True, True, True], [4, 5, 6, 'b'], [7, 8, 9, 'c'], ['d', 'e', 'f', 'g']]\n",
            "res:  [1, 2, 3, 'a']\n",
            "matrix:  [[True, True, True, True], [4, 5, 6, 'b'], [7, 8, 9, 'c'], ['d', 'e', 'f', 'g']]\n",
            "j:  3\n",
            "res:  [1, 2, 3, 'a', 'b']\n",
            "matrix:  [[True, True, True, True], [4, 5, 6, True], [7, 8, 9, 'c'], ['d', 'e', 'f', 'g']]\n",
            "j:  3\n",
            "res:  [1, 2, 3, 'a', 'b', 'c']\n",
            "matrix:  [[True, True, True, True], [4, 5, 6, True], [7, 8, 9, True], ['d', 'e', 'f', 'g']]\n",
            "j:  3\n",
            "res:  [1, 2, 3, 'a', 'b', 'c', 'g']\n",
            "matrix:  [[True, True, True, True], [4, 5, 6, True], [7, 8, 9, True], ['d', 'e', 'f', True]]\n",
            "res:  [1, 2, 3, 'a', 'b', 'c', 'g']\n",
            "matrix:  [[True, True, True, True], [4, 5, 6, True], [7, 8, 9, True], ['d', 'e', 'f', True]]\n",
            "res:  [1, 2, 3, 'a', 'b', 'c', 'g', 'f']\n",
            "matrix:  [[True, True, True, True], [4, 5, 6, True], [7, 8, 9, True], ['d', 'e', True, True]]\n",
            "res:  [1, 2, 3, 'a', 'b', 'c', 'g', 'f', 'e']\n",
            "matrix:  [[True, True, True, True], [4, 5, 6, True], [7, 8, 9, True], ['d', True, True, True]]\n",
            "res:  [1, 2, 3, 'a', 'b', 'c', 'g', 'f', 'e', 'd']\n",
            "matrix:  [[True, True, True, True], [4, 5, 6, True], [7, 8, 9, True], [True, True, True, True]]\n",
            "res:  [1, 2, 3, 'a', 'b', 'c', 'g', 'f', 'e', 'd']\n",
            "matrix:  [[True, True, True, True], [4, 5, 6, True], [7, 8, 9, True], [True, True, True, True]]\n",
            "up:  7\n",
            "res:  [1, 2, 3, 'a', 'b', 'c', 'g', 'f', 'e', 'd', 7]\n",
            "matrix:  [[True, True, True, True], [4, 5, 6, True], [True, 8, 9, True], [True, True, True, True]]\n",
            "up:  4\n",
            "res:  [1, 2, 3, 'a', 'b', 'c', 'g', 'f', 'e', 'd', 7, 4]\n",
            "matrix:  [[True, True, True, True], [True, 5, 6, True], [True, 8, 9, True], [True, True, True, True]]\n",
            "up:  True\n",
            "i: 0 , j: 0\n",
            "res:  [1, 2, 3, 'a', 'b', 'c', 'g', 'f', 'e', 'd', 7, 4]\n",
            "matrix:  [[True, True, True, True], [True, 5, 6, True], [True, 8, 9, True], [True, True, True, True]]\n",
            "res:  [1, 2, 3, 'a', 'b', 'c', 'g', 'f', 'e', 'd', 7, 4, 5]\n",
            "matrix:  [[True, True, True, True], [True, True, 6, True], [True, 8, 9, True], [True, True, True, True]]\n",
            "res:  [1, 2, 3, 'a', 'b', 'c', 'g', 'f', 'e', 'd', 7, 4, 5, 6]\n",
            "matrix:  [[True, True, True, True], [True, True, True, True], [True, 8, 9, True], [True, True, True, True]]\n",
            "res:  [1, 2, 3, 'a', 'b', 'c', 'g', 'f', 'e', 'd', 7, 4, 5, 6]\n",
            "matrix:  [[True, True, True, True], [True, True, True, True], [True, 8, 9, True], [True, True, True, True]]\n",
            "j:  2\n",
            "res:  [1, 2, 3, 'a', 'b', 'c', 'g', 'f', 'e', 'd', 7, 4, 5, 6, 9]\n",
            "matrix:  [[True, True, True, True], [True, True, True, True], [True, 8, True, True], [True, True, True, True]]\n",
            "res:  [1, 2, 3, 'a', 'b', 'c', 'g', 'f', 'e', 'd', 7, 4, 5, 6, 9]\n",
            "matrix:  [[True, True, True, True], [True, True, True, True], [True, 8, True, True], [True, True, True, True]]\n"
          ]
        },
        {
          "output_type": "execute_result",
          "data": {
            "text/plain": [
              "[1, 2, 3, 'a', 'b', 'c', 'g', 'f', 'e', 'd', 7, 4, 5, 6, 9, 8]"
            ]
          },
          "metadata": {},
          "execution_count": 33
        }
      ]
    },
    {
      "cell_type": "code",
      "source": [
        "sol1.spiralOrder([[1,2,3],[4,5,6],[7,8,9]])"
      ],
      "metadata": {
        "colab": {
          "base_uri": "https://localhost:8080/"
        },
        "id": "GBW4yF00lLY6",
        "outputId": "89b021bf-1dbd-4c45-d232-c241f2a74673"
      },
      "execution_count": 34,
      "outputs": [
        {
          "output_type": "stream",
          "name": "stdout",
          "text": [
            "res:  []\n",
            "matrix:  [[1, 2, 3], [4, 5, 6], [7, 8, 9]]\n",
            "res:  [1]\n",
            "matrix:  [[True, 2, 3], [4, 5, 6], [7, 8, 9]]\n",
            "res:  [1, 2]\n",
            "matrix:  [[True, True, 3], [4, 5, 6], [7, 8, 9]]\n",
            "res:  [1, 2, 3]\n",
            "matrix:  [[True, True, True], [4, 5, 6], [7, 8, 9]]\n",
            "res:  [1, 2, 3]\n",
            "matrix:  [[True, True, True], [4, 5, 6], [7, 8, 9]]\n",
            "j:  2\n",
            "res:  [1, 2, 3, 6]\n",
            "matrix:  [[True, True, True], [4, 5, True], [7, 8, 9]]\n",
            "j:  2\n",
            "res:  [1, 2, 3, 6, 9]\n",
            "matrix:  [[True, True, True], [4, 5, True], [7, 8, True]]\n",
            "res:  [1, 2, 3, 6, 9]\n",
            "matrix:  [[True, True, True], [4, 5, True], [7, 8, True]]\n",
            "res:  [1, 2, 3, 6, 9, 8]\n",
            "matrix:  [[True, True, True], [4, 5, True], [7, True, True]]\n",
            "res:  [1, 2, 3, 6, 9, 8, 7]\n",
            "matrix:  [[True, True, True], [4, 5, True], [True, True, True]]\n",
            "res:  [1, 2, 3, 6, 9, 8, 7]\n",
            "matrix:  [[True, True, True], [4, 5, True], [True, True, True]]\n",
            "up:  4\n",
            "res:  [1, 2, 3, 6, 9, 8, 7, 4]\n",
            "matrix:  [[True, True, True], [True, 5, True], [True, True, True]]\n",
            "up:  True\n",
            "i: 0 , j: 0\n",
            "res:  [1, 2, 3, 6, 9, 8, 7, 4]\n",
            "matrix:  [[True, True, True], [True, 5, True], [True, True, True]]\n"
          ]
        },
        {
          "output_type": "execute_result",
          "data": {
            "text/plain": [
              "[1, 2, 3, 6, 9, 8, 7, 4, 5]"
            ]
          },
          "metadata": {},
          "execution_count": 34
        }
      ]
    },
    {
      "cell_type": "code",
      "source": [
        "sol1.spiralOrder([[1,2],[3,4]])"
      ],
      "metadata": {
        "colab": {
          "base_uri": "https://localhost:8080/"
        },
        "id": "y4uQCfraIz3p",
        "outputId": "9c9f72a3-ab83-49af-d989-89040c2b2796"
      },
      "execution_count": 35,
      "outputs": [
        {
          "output_type": "stream",
          "name": "stdout",
          "text": [
            "res:  []\n",
            "matrix:  [[1, 2], [3, 4]]\n",
            "res:  [1]\n",
            "matrix:  [[True, 2], [3, 4]]\n",
            "res:  [1, 2]\n",
            "matrix:  [[True, True], [3, 4]]\n",
            "res:  [1, 2]\n",
            "matrix:  [[True, True], [3, 4]]\n",
            "j:  1\n",
            "res:  [1, 2, 4]\n",
            "matrix:  [[True, True], [3, True]]\n",
            "res:  [1, 2, 4]\n",
            "matrix:  [[True, True], [3, True]]\n"
          ]
        },
        {
          "output_type": "execute_result",
          "data": {
            "text/plain": [
              "[1, 2, 4, 3]"
            ]
          },
          "metadata": {},
          "execution_count": 35
        }
      ]
    }
  ]
}
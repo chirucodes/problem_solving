{
  "nbformat": 4,
  "nbformat_minor": 0,
  "metadata": {
    "colab": {
      "provenance": [],
      "authorship_tag": "ABX9TyOBmeiCItoQTdncA9MmNcHz",
      "include_colab_link": true
    },
    "kernelspec": {
      "name": "python3",
      "display_name": "Python 3"
    },
    "language_info": {
      "name": "python"
    }
  },
  "cells": [
    {
      "cell_type": "markdown",
      "metadata": {
        "id": "view-in-github",
        "colab_type": "text"
      },
      "source": [
        "<a href=\"https://colab.research.google.com/github/chirucodes/problem_solving/blob/main/54_Spiral_Matrix.ipynb\" target=\"_parent\"><img src=\"https://colab.research.google.com/assets/colab-badge.svg\" alt=\"Open In Colab\"/></a>"
      ]
    },
    {
      "cell_type": "markdown",
      "source": [
        "##54. Spiral Matrix\n",
        "\n",
        "Problem description: https://leetcode.com/problems/spiral-matrix/description/"
      ],
      "metadata": {
        "id": "xzuS9x5Rc5XK"
      }
    },
    {
      "cell_type": "markdown",
      "source": [
        "## Solution1:"
      ],
      "metadata": {
        "id": "XmnIX9SadAbw"
      }
    },
    {
      "cell_type": "code",
      "execution_count": 92,
      "metadata": {
        "id": "BSFcO7WXc2jV"
      },
      "outputs": [],
      "source": [
        "from typing import List\n",
        "class Solution1:\n",
        "    def spiralOrder(self, matrix: List[List[int]]) -> List[int]:\n",
        "        r = d = l = u = True\n",
        "        rows_m, cols_n = len(matrix), len(matrix[0])\n",
        "\n",
        "        res = []\n",
        "        i=0\n",
        "        j=0\n",
        "\n",
        "        res_count = rows_m * cols_n\n",
        "\n",
        "        while len(res) < res_count:\n",
        "\n",
        "            print(\"res: \", res)\n",
        "            if r == True:\n",
        "                if j < cols_n:\n",
        "                    if matrix[i][j] is not True:\n",
        "                        res.append(matrix[i][j])\n",
        "                        matrix[i][j] = True\n",
        "                        j+=1\n",
        "                    else:\n",
        "                        r = False\n",
        "                        j -= 1 \n",
        "                        i+=1\n",
        "                        continue\n",
        "                else:\n",
        "                    r = False\n",
        "                    j-=1\n",
        "                    i+=1\n",
        "            elif d == True:\n",
        "                if i < rows_m:\n",
        "                    if matrix[i][j] is not True:\n",
        "                        print(\"j: \", j)\n",
        "                        res.append(matrix[i][j])\n",
        "                        matrix[i][j] = True\n",
        "                        i+=1\n",
        "                    else:\n",
        "                        d = False\n",
        "                        i-=1\n",
        "                        j-=1\n",
        "\n",
        "                else:\n",
        "                    d = False\n",
        "                    i-=1\n",
        "                    j-=1\n",
        "            elif l == True:\n",
        "                if j >= 0:\n",
        "                    \n",
        "                    res.append(matrix[i][j])\n",
        "                    matrix[i][j] = True\n",
        "                    j-=1\n",
        "                else:\n",
        "                    l = False\n",
        "                    j+=1\n",
        "                    i-=1\n",
        "            elif u == True:\n",
        "                if i >= 0+1:\n",
        "                    print(\"up: \", matrix[i][j])\n",
        "                    if matrix[i][j] is not True:\n",
        "                        res.append(matrix[i][j])\n",
        "                        matrix[i][j] = True\n",
        "                        i-=1\n",
        "                    else:\n",
        "                        r = d = l = u = True\n",
        "                        j += 1\n",
        "                        # break\n",
        "                else:\n",
        "                    l = False\n",
        "                    i+=1\n",
        "\n",
        "        return res\n",
        "sol1 = Solution1()"
      ]
    },
    {
      "cell_type": "code",
      "source": [
        "sol1.spiralOrder([[1,2,3],[4,5,6],[7,8,9]])"
      ],
      "metadata": {
        "colab": {
          "base_uri": "https://localhost:8080/"
        },
        "id": "GBW4yF00lLY6",
        "outputId": "d513648c-457c-4985-f257-ff0a0496dd33"
      },
      "execution_count": 93,
      "outputs": [
        {
          "output_type": "stream",
          "name": "stdout",
          "text": [
            "res:  []\n",
            "res:  [1]\n",
            "res:  [1, 2]\n",
            "res:  [1, 2, 3]\n",
            "res:  [1, 2, 3]\n",
            "j:  2\n",
            "res:  [1, 2, 3, 6]\n",
            "j:  2\n",
            "res:  [1, 2, 3, 6, 9]\n",
            "res:  [1, 2, 3, 6, 9]\n",
            "res:  [1, 2, 3, 6, 9, 8]\n",
            "res:  [1, 2, 3, 6, 9, 8, 7]\n",
            "res:  [1, 2, 3, 6, 9, 8, 7]\n",
            "up:  4\n",
            "res:  [1, 2, 3, 6, 9, 8, 7, 4]\n",
            "res:  [1, 2, 3, 6, 9, 8, 7, 4]\n",
            "up:  True\n",
            "res:  [1, 2, 3, 6, 9, 8, 7, 4]\n"
          ]
        },
        {
          "output_type": "execute_result",
          "data": {
            "text/plain": [
              "[1, 2, 3, 6, 9, 8, 7, 4, 5]"
            ]
          },
          "metadata": {},
          "execution_count": 93
        }
      ]
    },
    {
      "cell_type": "code",
      "source": [
        "sol1.spiralOrder([[1,2,3,'a'],[4,5,6,'b'],[7,8,9,'c'],['d','e','f','g']])"
      ],
      "metadata": {
        "colab": {
          "base_uri": "https://localhost:8080/"
        },
        "id": "LNg23ZZAr44P",
        "outputId": "e67d5a6a-9399-4bf5-f0d6-2e21bd80a61c"
      },
      "execution_count": 94,
      "outputs": [
        {
          "output_type": "stream",
          "name": "stdout",
          "text": [
            "res:  []\n",
            "res:  [1]\n",
            "res:  [1, 2]\n",
            "res:  [1, 2, 3]\n",
            "res:  [1, 2, 3, 'a']\n",
            "res:  [1, 2, 3, 'a']\n",
            "j:  3\n",
            "res:  [1, 2, 3, 'a', 'b']\n",
            "j:  3\n",
            "res:  [1, 2, 3, 'a', 'b', 'c']\n",
            "j:  3\n",
            "res:  [1, 2, 3, 'a', 'b', 'c', 'g']\n",
            "res:  [1, 2, 3, 'a', 'b', 'c', 'g']\n",
            "res:  [1, 2, 3, 'a', 'b', 'c', 'g', 'f']\n",
            "res:  [1, 2, 3, 'a', 'b', 'c', 'g', 'f', 'e']\n",
            "res:  [1, 2, 3, 'a', 'b', 'c', 'g', 'f', 'e', 'd']\n",
            "res:  [1, 2, 3, 'a', 'b', 'c', 'g', 'f', 'e', 'd']\n",
            "up:  7\n",
            "res:  [1, 2, 3, 'a', 'b', 'c', 'g', 'f', 'e', 'd', 7]\n",
            "up:  4\n",
            "res:  [1, 2, 3, 'a', 'b', 'c', 'g', 'f', 'e', 'd', 7, 4]\n",
            "res:  [1, 2, 3, 'a', 'b', 'c', 'g', 'f', 'e', 'd', 7, 4]\n",
            "up:  True\n",
            "res:  [1, 2, 3, 'a', 'b', 'c', 'g', 'f', 'e', 'd', 7, 4]\n",
            "res:  [1, 2, 3, 'a', 'b', 'c', 'g', 'f', 'e', 'd', 7, 4, 5]\n",
            "res:  [1, 2, 3, 'a', 'b', 'c', 'g', 'f', 'e', 'd', 7, 4, 5, 6]\n",
            "res:  [1, 2, 3, 'a', 'b', 'c', 'g', 'f', 'e', 'd', 7, 4, 5, 6]\n",
            "j:  2\n",
            "res:  [1, 2, 3, 'a', 'b', 'c', 'g', 'f', 'e', 'd', 7, 4, 5, 6, 9]\n",
            "res:  [1, 2, 3, 'a', 'b', 'c', 'g', 'f', 'e', 'd', 7, 4, 5, 6, 9]\n"
          ]
        },
        {
          "output_type": "execute_result",
          "data": {
            "text/plain": [
              "[1, 2, 3, 'a', 'b', 'c', 'g', 'f', 'e', 'd', 7, 4, 5, 6, 9, 8]"
            ]
          },
          "metadata": {},
          "execution_count": 94
        }
      ]
    },
    {
      "cell_type": "code",
      "source": [
        "sol1.spiralOrder([[1,2,3,'a','h'],[4,5,6,'b','i'],[7,8,9,'c','j'],['d','e','f','g','k'],['l','m','n','o','p']])"
      ],
      "metadata": {
        "colab": {
          "base_uri": "https://localhost:8080/"
        },
        "id": "sUlscmEIuvgN",
        "outputId": "99ee8a63-b133-4503-8e86-cc34a1bfc370"
      },
      "execution_count": 95,
      "outputs": [
        {
          "output_type": "stream",
          "name": "stdout",
          "text": [
            "res:  []\n",
            "res:  [1]\n",
            "res:  [1, 2]\n",
            "res:  [1, 2, 3]\n",
            "res:  [1, 2, 3, 'a']\n",
            "res:  [1, 2, 3, 'a', 'h']\n",
            "res:  [1, 2, 3, 'a', 'h']\n",
            "j:  4\n",
            "res:  [1, 2, 3, 'a', 'h', 'i']\n",
            "j:  4\n",
            "res:  [1, 2, 3, 'a', 'h', 'i', 'j']\n",
            "j:  4\n",
            "res:  [1, 2, 3, 'a', 'h', 'i', 'j', 'k']\n",
            "j:  4\n",
            "res:  [1, 2, 3, 'a', 'h', 'i', 'j', 'k', 'p']\n",
            "res:  [1, 2, 3, 'a', 'h', 'i', 'j', 'k', 'p']\n",
            "res:  [1, 2, 3, 'a', 'h', 'i', 'j', 'k', 'p', 'o']\n",
            "res:  [1, 2, 3, 'a', 'h', 'i', 'j', 'k', 'p', 'o', 'n']\n",
            "res:  [1, 2, 3, 'a', 'h', 'i', 'j', 'k', 'p', 'o', 'n', 'm']\n",
            "res:  [1, 2, 3, 'a', 'h', 'i', 'j', 'k', 'p', 'o', 'n', 'm', 'l']\n",
            "res:  [1, 2, 3, 'a', 'h', 'i', 'j', 'k', 'p', 'o', 'n', 'm', 'l']\n",
            "up:  d\n",
            "res:  [1, 2, 3, 'a', 'h', 'i', 'j', 'k', 'p', 'o', 'n', 'm', 'l', 'd']\n",
            "up:  7\n",
            "res:  [1, 2, 3, 'a', 'h', 'i', 'j', 'k', 'p', 'o', 'n', 'm', 'l', 'd', 7]\n",
            "up:  4\n",
            "res:  [1, 2, 3, 'a', 'h', 'i', 'j', 'k', 'p', 'o', 'n', 'm', 'l', 'd', 7, 4]\n",
            "res:  [1, 2, 3, 'a', 'h', 'i', 'j', 'k', 'p', 'o', 'n', 'm', 'l', 'd', 7, 4]\n",
            "up:  True\n",
            "res:  [1, 2, 3, 'a', 'h', 'i', 'j', 'k', 'p', 'o', 'n', 'm', 'l', 'd', 7, 4]\n",
            "res:  [1, 2, 3, 'a', 'h', 'i', 'j', 'k', 'p', 'o', 'n', 'm', 'l', 'd', 7, 4, 5]\n",
            "res:  [1, 2, 3, 'a', 'h', 'i', 'j', 'k', 'p', 'o', 'n', 'm', 'l', 'd', 7, 4, 5, 6]\n",
            "res:  [1, 2, 3, 'a', 'h', 'i', 'j', 'k', 'p', 'o', 'n', 'm', 'l', 'd', 7, 4, 5, 6, 'b']\n",
            "res:  [1, 2, 3, 'a', 'h', 'i', 'j', 'k', 'p', 'o', 'n', 'm', 'l', 'd', 7, 4, 5, 6, 'b']\n",
            "j:  3\n",
            "res:  [1, 2, 3, 'a', 'h', 'i', 'j', 'k', 'p', 'o', 'n', 'm', 'l', 'd', 7, 4, 5, 6, 'b', 'c']\n",
            "j:  3\n",
            "res:  [1, 2, 3, 'a', 'h', 'i', 'j', 'k', 'p', 'o', 'n', 'm', 'l', 'd', 7, 4, 5, 6, 'b', 'c', 'g']\n",
            "res:  [1, 2, 3, 'a', 'h', 'i', 'j', 'k', 'p', 'o', 'n', 'm', 'l', 'd', 7, 4, 5, 6, 'b', 'c', 'g']\n",
            "res:  [1, 2, 3, 'a', 'h', 'i', 'j', 'k', 'p', 'o', 'n', 'm', 'l', 'd', 7, 4, 5, 6, 'b', 'c', 'g', 'f']\n",
            "res:  [1, 2, 3, 'a', 'h', 'i', 'j', 'k', 'p', 'o', 'n', 'm', 'l', 'd', 7, 4, 5, 6, 'b', 'c', 'g', 'f', 'e']\n",
            "res:  [1, 2, 3, 'a', 'h', 'i', 'j', 'k', 'p', 'o', 'n', 'm', 'l', 'd', 7, 4, 5, 6, 'b', 'c', 'g', 'f', 'e', True]\n",
            "res:  [1, 2, 3, 'a', 'h', 'i', 'j', 'k', 'p', 'o', 'n', 'm', 'l', 'd', 7, 4, 5, 6, 'b', 'c', 'g', 'f', 'e', True]\n",
            "up:  True\n",
            "res:  [1, 2, 3, 'a', 'h', 'i', 'j', 'k', 'p', 'o', 'n', 'm', 'l', 'd', 7, 4, 5, 6, 'b', 'c', 'g', 'f', 'e', True]\n"
          ]
        },
        {
          "output_type": "execute_result",
          "data": {
            "text/plain": [
              "[1,\n",
              " 2,\n",
              " 3,\n",
              " 'a',\n",
              " 'h',\n",
              " 'i',\n",
              " 'j',\n",
              " 'k',\n",
              " 'p',\n",
              " 'o',\n",
              " 'n',\n",
              " 'm',\n",
              " 'l',\n",
              " 'd',\n",
              " 7,\n",
              " 4,\n",
              " 5,\n",
              " 6,\n",
              " 'b',\n",
              " 'c',\n",
              " 'g',\n",
              " 'f',\n",
              " 'e',\n",
              " True,\n",
              " 8]"
            ]
          },
          "metadata": {},
          "execution_count": 95
        }
      ]
    }
  ]
}
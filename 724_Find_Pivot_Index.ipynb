{
  "nbformat": 4,
  "nbformat_minor": 0,
  "metadata": {
    "colab": {
      "provenance": [],
      "authorship_tag": "ABX9TyNY4qs2iEkoJdRwymoT4XEu",
      "include_colab_link": true
    },
    "kernelspec": {
      "name": "python3",
      "display_name": "Python 3"
    },
    "language_info": {
      "name": "python"
    }
  },
  "cells": [
    {
      "cell_type": "markdown",
      "metadata": {
        "id": "view-in-github",
        "colab_type": "text"
      },
      "source": [
        "<a href=\"https://colab.research.google.com/github/chirucodes/problem_solving/blob/main/724_Find_Pivot_Index.ipynb\" target=\"_parent\"><img src=\"https://colab.research.google.com/assets/colab-badge.svg\" alt=\"Open In Colab\"/></a>"
      ]
    },
    {
      "cell_type": "markdown",
      "source": [
        "## 724. Find Pivot Index\n",
        "Problem description:https://leetcode.com/problems/find-pivot-index/"
      ],
      "metadata": {
        "id": "qddQwl2luMCm"
      }
    },
    {
      "cell_type": "code",
      "execution_count": 4,
      "metadata": {
        "id": "6AcW3qLyuLMJ"
      },
      "outputs": [],
      "source": [
        "from typing import List\n",
        "class Solution1:\n",
        "    def pivotIndex(self, nums: List[int]) -> int:\n",
        "        for each in range(0, len(nums)):\n",
        "            if sum(nums[0:each]) == sum(nums[each+1:len(nums)]):\n",
        "                return each\n",
        "        return -1"
      ]
    },
    {
      "cell_type": "code",
      "source": [
        "sol1 = Solution1()\n",
        "sol1.pivotIndex([1,7,3,6,5,6])"
      ],
      "metadata": {
        "colab": {
          "base_uri": "https://localhost:8080/"
        },
        "id": "2l7zFPv34O7b",
        "outputId": "be9cb464-6526-4d09-ef83-35f94106c53f"
      },
      "execution_count": 5,
      "outputs": [
        {
          "output_type": "execute_result",
          "data": {
            "text/plain": [
              "3"
            ]
          },
          "metadata": {},
          "execution_count": 5
        }
      ]
    },
    {
      "cell_type": "code",
      "source": [
        "sol1.pivotIndex([1,2,3])"
      ],
      "metadata": {
        "colab": {
          "base_uri": "https://localhost:8080/"
        },
        "id": "Bma43Klh4Zf7",
        "outputId": "d68d03ba-27cf-407d-cfe3-dd2b1c565127"
      },
      "execution_count": 6,
      "outputs": [
        {
          "output_type": "execute_result",
          "data": {
            "text/plain": [
              "-1"
            ]
          },
          "metadata": {},
          "execution_count": 6
        }
      ]
    },
    {
      "cell_type": "code",
      "source": [
        "sol1.pivotIndex([2,1,-1])"
      ],
      "metadata": {
        "colab": {
          "base_uri": "https://localhost:8080/"
        },
        "id": "Gu58Llft4iaS",
        "outputId": "f1cc980e-17b7-4dee-c568-9d7688a34758"
      },
      "execution_count": 7,
      "outputs": [
        {
          "output_type": "execute_result",
          "data": {
            "text/plain": [
              "0"
            ]
          },
          "metadata": {},
          "execution_count": 7
        }
      ]
    },
    {
      "cell_type": "markdown",
      "source": [
        "## Solution2:"
      ],
      "metadata": {
        "id": "nTEj-_jG54sp"
      }
    },
    {
      "cell_type": "code",
      "source": [
        "from typing import List\n",
        "class Solution2:\n",
        "    def pivotIndex(self, nums: List[int]) -> int:\n",
        "\n",
        "        lsum = 0\n",
        "        rsum_t = sum(nums)\n",
        "\n",
        "        if lsum == sum(nums[1:]):\n",
        "            return 0\n",
        "        \n",
        "        print(f\"rsum_t: {rsum_t}\")\n",
        "\n",
        "        for each in range(1, len(nums)):\n",
        "            \n",
        "            lsum = lsum + nums[each-1]\n",
        "            rsum = rsum_t - nums[each] - nums[each-1]\n",
        "            print(f\"l: {lsum}, r: {rsum}\")\n",
        "            \n",
        "            if lsum == rsum:\n",
        "                return each\n",
        "        return -1"
      ],
      "metadata": {
        "id": "qll9Duqo52o8"
      },
      "execution_count": 53,
      "outputs": []
    },
    {
      "cell_type": "code",
      "source": [
        "sol2 = Solution2()\n",
        "sol2.pivotIndex([1,7,3,6,5,6])"
      ],
      "metadata": {
        "colab": {
          "base_uri": "https://localhost:8080/"
        },
        "id": "PmYXofXH620l",
        "outputId": "ac4500ee-2612-4f57-ac4d-aedc1a7cb0fe"
      },
      "execution_count": 54,
      "outputs": [
        {
          "output_type": "stream",
          "name": "stdout",
          "text": [
            "rsum_t: 28\n",
            "l: 1, r: 20\n",
            "l: 8, r: 18\n",
            "l: 11, r: 19\n",
            "l: 17, r: 17\n"
          ]
        },
        {
          "output_type": "execute_result",
          "data": {
            "text/plain": [
              "4"
            ]
          },
          "metadata": {},
          "execution_count": 54
        }
      ]
    },
    {
      "cell_type": "code",
      "source": [
        "sol2.pivotIndex([2,-1,1])"
      ],
      "metadata": {
        "colab": {
          "base_uri": "https://localhost:8080/"
        },
        "id": "idYYmuS68m89",
        "outputId": "a315f713-f4e6-4639-803f-370acfcb55ae"
      },
      "execution_count": 55,
      "outputs": [
        {
          "output_type": "execute_result",
          "data": {
            "text/plain": [
              "0"
            ]
          },
          "metadata": {},
          "execution_count": 55
        }
      ]
    },
    {
      "cell_type": "code",
      "source": [
        "sol2.pivotIndex([1,2,3])"
      ],
      "metadata": {
        "colab": {
          "base_uri": "https://localhost:8080/"
        },
        "id": "41f2exVB_Uuf",
        "outputId": "126fe6b0-8954-4564-960b-222a0c902ee0"
      },
      "execution_count": 56,
      "outputs": [
        {
          "output_type": "stream",
          "name": "stdout",
          "text": [
            "rsum_t: 6\n",
            "l: 1, r: 3\n",
            "l: 3, r: 1\n"
          ]
        },
        {
          "output_type": "execute_result",
          "data": {
            "text/plain": [
              "-1"
            ]
          },
          "metadata": {},
          "execution_count": 56
        }
      ]
    },
    {
      "cell_type": "code",
      "source": [
        "sol2.pivotIndex([2,1,-1])"
      ],
      "metadata": {
        "colab": {
          "base_uri": "https://localhost:8080/"
        },
        "id": "JHMjpKNK_YQ-",
        "outputId": "31161b2f-a7e5-4616-8926-e0980166d78a"
      },
      "execution_count": 57,
      "outputs": [
        {
          "output_type": "execute_result",
          "data": {
            "text/plain": [
              "0"
            ]
          },
          "metadata": {},
          "execution_count": 57
        }
      ]
    }
  ]
}
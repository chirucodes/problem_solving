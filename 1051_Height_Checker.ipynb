{
  "nbformat": 4,
  "nbformat_minor": 0,
  "metadata": {
    "colab": {
      "provenance": [],
      "authorship_tag": "ABX9TyNiFGmKMo+l9mrSHX8cYMSw",
      "include_colab_link": true
    },
    "kernelspec": {
      "name": "python3",
      "display_name": "Python 3"
    },
    "language_info": {
      "name": "python"
    }
  },
  "cells": [
    {
      "cell_type": "markdown",
      "metadata": {
        "id": "view-in-github",
        "colab_type": "text"
      },
      "source": [
        "<a href=\"https://colab.research.google.com/github/chirucodes/problem_solving/blob/main/1051_Height_Checker.ipynb\" target=\"_parent\"><img src=\"https://colab.research.google.com/assets/colab-badge.svg\" alt=\"Open In Colab\"/></a>"
      ]
    },
    {
      "cell_type": "markdown",
      "source": [
        "## 1051. Height Checker\n",
        "\n",
        "Problem description: https://leetcode.com/problems/height-checker/description/"
      ],
      "metadata": {
        "id": "l5iE5ZJzKggK"
      }
    },
    {
      "cell_type": "markdown",
      "source": [
        "## Solution1:"
      ],
      "metadata": {
        "id": "hkQTliPlK0gi"
      }
    },
    {
      "cell_type": "code",
      "execution_count": 7,
      "metadata": {
        "id": "PD1KQYoLKfGm"
      },
      "outputs": [],
      "source": [
        "from typing import List\n",
        "class Solution1:\n",
        "    def heightChecker(self, heights: List[int]) -> int:\n",
        "        count = 0\n",
        "        for each in zip(heights, sorted(heights)):\n",
        "            if each[0] != each[1]:\n",
        "                count += 1\n",
        "        print(\"Count: \", count)\n",
        "        return count        "
      ]
    },
    {
      "cell_type": "code",
      "source": [
        "sol1 = Solution1()\n",
        "sol1.heightChecker([1,1,4,2,1,3])"
      ],
      "metadata": {
        "colab": {
          "base_uri": "https://localhost:8080/"
        },
        "id": "80beVgmhK5mr",
        "outputId": "5b221270-3258-402d-cbcc-9a13c2bd2d46"
      },
      "execution_count": 8,
      "outputs": [
        {
          "output_type": "stream",
          "name": "stdout",
          "text": [
            "Count:  3\n"
          ]
        },
        {
          "output_type": "execute_result",
          "data": {
            "text/plain": [
              "3"
            ]
          },
          "metadata": {},
          "execution_count": 8
        }
      ]
    },
    {
      "cell_type": "code",
      "source": [
        "sol1 = Solution1()\n",
        "sol1.heightChecker([5,1,2,3,4])"
      ],
      "metadata": {
        "colab": {
          "base_uri": "https://localhost:8080/"
        },
        "id": "LTir6Zj6Ln1Q",
        "outputId": "b837c403-4038-4cb3-9ad7-d722e67d9f48"
      },
      "execution_count": 9,
      "outputs": [
        {
          "output_type": "stream",
          "name": "stdout",
          "text": [
            "Count:  5\n"
          ]
        },
        {
          "output_type": "execute_result",
          "data": {
            "text/plain": [
              "5"
            ]
          },
          "metadata": {},
          "execution_count": 9
        }
      ]
    },
    {
      "cell_type": "code",
      "source": [
        "sol1 = Solution1()\n",
        "sol1.heightChecker([1,2,3,4,5])"
      ],
      "metadata": {
        "colab": {
          "base_uri": "https://localhost:8080/"
        },
        "id": "cr9llwB1LttR",
        "outputId": "7495796e-14a5-4ba9-f72d-c53bd775abd5"
      },
      "execution_count": 10,
      "outputs": [
        {
          "output_type": "stream",
          "name": "stdout",
          "text": [
            "Count:  0\n"
          ]
        },
        {
          "output_type": "execute_result",
          "data": {
            "text/plain": [
              "0"
            ]
          },
          "metadata": {},
          "execution_count": 10
        }
      ]
    },
    {
      "cell_type": "markdown",
      "source": [
        "## Solution2:\n"
      ],
      "metadata": {
        "id": "Mj91288fOLzX"
      }
    },
    {
      "cell_type": "code",
      "source": [
        "from typing import List\n",
        "class Solution2:\n",
        "    def heightChecker(self, heights: List[int]) -> int:\n",
        "        count = 0\n",
        "        sort_hei = sorted(heights)\n",
        "        for ind in range(len(heights)):\n",
        "            if heights[ind] != sort_hei[ind]:\n",
        "                count += 1\n",
        "        print(\"Count: \", count)\n",
        "        return count        "
      ],
      "metadata": {
        "id": "HK17I6d8OQQf"
      },
      "execution_count": 13,
      "outputs": []
    },
    {
      "cell_type": "code",
      "source": [
        "sol2 = Solution2()\n",
        "sol2.heightChecker([1,2,3,4,5])"
      ],
      "metadata": {
        "colab": {
          "base_uri": "https://localhost:8080/"
        },
        "id": "ooNnE5yQPBw_",
        "outputId": "521b8a88-ae41-4052-961c-22968137499c"
      },
      "execution_count": 14,
      "outputs": [
        {
          "output_type": "stream",
          "name": "stdout",
          "text": [
            "Count:  0\n"
          ]
        },
        {
          "output_type": "execute_result",
          "data": {
            "text/plain": [
              "0"
            ]
          },
          "metadata": {},
          "execution_count": 14
        }
      ]
    },
    {
      "cell_type": "code",
      "source": [
        "sol2.heightChecker([5,1,2,3,4])"
      ],
      "metadata": {
        "colab": {
          "base_uri": "https://localhost:8080/"
        },
        "id": "WYTmbhS6POCy",
        "outputId": "f9c87fef-e7f9-4bbf-a07b-180509d2feba"
      },
      "execution_count": 15,
      "outputs": [
        {
          "output_type": "stream",
          "name": "stdout",
          "text": [
            "Count:  5\n"
          ]
        },
        {
          "output_type": "execute_result",
          "data": {
            "text/plain": [
              "5"
            ]
          },
          "metadata": {},
          "execution_count": 15
        }
      ]
    },
    {
      "cell_type": "code",
      "source": [
        "sol2.heightChecker([1,1,4,2,1,3])"
      ],
      "metadata": {
        "colab": {
          "base_uri": "https://localhost:8080/"
        },
        "id": "HRn9TqLTPQlx",
        "outputId": "793d8001-d29b-47f7-c367-9034875d5b93"
      },
      "execution_count": 16,
      "outputs": [
        {
          "output_type": "stream",
          "name": "stdout",
          "text": [
            "Count:  3\n"
          ]
        },
        {
          "output_type": "execute_result",
          "data": {
            "text/plain": [
              "3"
            ]
          },
          "metadata": {},
          "execution_count": 16
        }
      ]
    }
  ]
}
{
  "nbformat": 4,
  "nbformat_minor": 0,
  "metadata": {
    "colab": {
      "provenance": [],
      "authorship_tag": "ABX9TyN716JzxBmdZMO7QtCO923x",
      "include_colab_link": true
    },
    "kernelspec": {
      "name": "python3",
      "display_name": "Python 3"
    },
    "language_info": {
      "name": "python"
    }
  },
  "cells": [
    {
      "cell_type": "markdown",
      "metadata": {
        "id": "view-in-github",
        "colab_type": "text"
      },
      "source": [
        "<a href=\"https://colab.research.google.com/github/chirucodes/problem_solving/blob/main/1051_Height_Checker.ipynb\" target=\"_parent\"><img src=\"https://colab.research.google.com/assets/colab-badge.svg\" alt=\"Open In Colab\"/></a>"
      ]
    },
    {
      "cell_type": "markdown",
      "source": [
        "## 1051. Height Checker\n",
        "\n",
        "Problem description: https://leetcode.com/problems/height-checker/description/"
      ],
      "metadata": {
        "id": "l5iE5ZJzKggK"
      }
    },
    {
      "cell_type": "markdown",
      "source": [
        "## Solution1:"
      ],
      "metadata": {
        "id": "hkQTliPlK0gi"
      }
    },
    {
      "cell_type": "code",
      "execution_count": 1,
      "metadata": {
        "id": "PD1KQYoLKfGm"
      },
      "outputs": [],
      "source": [
        "from typing import List\n",
        "class Solution1:\n",
        "    def heightChecker(self, heights: List[int]) -> int:\n",
        "        count = 0\n",
        "        for each in zip(heights, sorted(heights)):\n",
        "            if each[0] != each[1]:\n",
        "                count += 1\n",
        "        print(\"Count: \", count)\n",
        "        return count        "
      ]
    },
    {
      "cell_type": "code",
      "source": [
        "sol1 = Solution1()\n",
        "sol1.heightChecker([1,1,4,2,1,3])"
      ],
      "metadata": {
        "colab": {
          "base_uri": "https://localhost:8080/"
        },
        "id": "80beVgmhK5mr",
        "outputId": "f3b8b4c7-9af1-41f7-afa7-16ac5e1b93f0"
      },
      "execution_count": 2,
      "outputs": [
        {
          "output_type": "stream",
          "name": "stdout",
          "text": [
            "Count:  3\n"
          ]
        },
        {
          "output_type": "execute_result",
          "data": {
            "text/plain": [
              "3"
            ]
          },
          "metadata": {},
          "execution_count": 2
        }
      ]
    },
    {
      "cell_type": "code",
      "source": [
        "sol1 = Solution1()\n",
        "sol1.heightChecker([5,1,2,3,4])"
      ],
      "metadata": {
        "colab": {
          "base_uri": "https://localhost:8080/"
        },
        "id": "LTir6Zj6Ln1Q",
        "outputId": "a75a656b-26c9-4c48-cd89-68f7f43f257c"
      },
      "execution_count": 3,
      "outputs": [
        {
          "output_type": "stream",
          "name": "stdout",
          "text": [
            "Count:  5\n"
          ]
        },
        {
          "output_type": "execute_result",
          "data": {
            "text/plain": [
              "5"
            ]
          },
          "metadata": {},
          "execution_count": 3
        }
      ]
    },
    {
      "cell_type": "code",
      "source": [
        "sol1 = Solution1()\n",
        "sol1.heightChecker([1,2,3,4,5])"
      ],
      "metadata": {
        "colab": {
          "base_uri": "https://localhost:8080/"
        },
        "id": "cr9llwB1LttR",
        "outputId": "4d7651f3-489b-4b1a-ded7-3f0044327685"
      },
      "execution_count": 4,
      "outputs": [
        {
          "output_type": "stream",
          "name": "stdout",
          "text": [
            "Count:  0\n"
          ]
        },
        {
          "output_type": "execute_result",
          "data": {
            "text/plain": [
              "0"
            ]
          },
          "metadata": {},
          "execution_count": 4
        }
      ]
    },
    {
      "cell_type": "markdown",
      "source": [
        "## Solution2:\n"
      ],
      "metadata": {
        "id": "Mj91288fOLzX"
      }
    },
    {
      "cell_type": "code",
      "source": [
        "from typing import List\n",
        "class Solution2:\n",
        "    def heightChecker(self, heights: List[int]) -> int:\n",
        "        count = 0\n",
        "        sort_hei = sorted(heights)\n",
        "        for ind in range(len(heights)):\n",
        "            if heights[ind] != sort_hei[ind]:\n",
        "                count += 1\n",
        "        print(\"Count: \", count)\n",
        "        return count        "
      ],
      "metadata": {
        "id": "HK17I6d8OQQf"
      },
      "execution_count": 5,
      "outputs": []
    },
    {
      "cell_type": "code",
      "source": [
        "sol2 = Solution2()\n",
        "sol2.heightChecker([1,2,3,4,5])"
      ],
      "metadata": {
        "colab": {
          "base_uri": "https://localhost:8080/"
        },
        "id": "ooNnE5yQPBw_",
        "outputId": "0542d009-7f5b-40bf-9692-d327ab32731b"
      },
      "execution_count": 6,
      "outputs": [
        {
          "output_type": "stream",
          "name": "stdout",
          "text": [
            "Count:  0\n"
          ]
        },
        {
          "output_type": "execute_result",
          "data": {
            "text/plain": [
              "0"
            ]
          },
          "metadata": {},
          "execution_count": 6
        }
      ]
    },
    {
      "cell_type": "code",
      "source": [
        "sol2.heightChecker([5,1,2,3,4])"
      ],
      "metadata": {
        "colab": {
          "base_uri": "https://localhost:8080/"
        },
        "id": "WYTmbhS6POCy",
        "outputId": "d964027e-9b1b-469e-c146-be78299027da"
      },
      "execution_count": 7,
      "outputs": [
        {
          "output_type": "stream",
          "name": "stdout",
          "text": [
            "Count:  5\n"
          ]
        },
        {
          "output_type": "execute_result",
          "data": {
            "text/plain": [
              "5"
            ]
          },
          "metadata": {},
          "execution_count": 7
        }
      ]
    },
    {
      "cell_type": "code",
      "source": [
        "sol2.heightChecker([1,1,4,2,1,3])"
      ],
      "metadata": {
        "colab": {
          "base_uri": "https://localhost:8080/"
        },
        "id": "HRn9TqLTPQlx",
        "outputId": "0fcdf1c0-ca63-496a-db4c-4ffb161e00bb"
      },
      "execution_count": 8,
      "outputs": [
        {
          "output_type": "stream",
          "name": "stdout",
          "text": [
            "Count:  3\n"
          ]
        },
        {
          "output_type": "execute_result",
          "data": {
            "text/plain": [
              "3"
            ]
          },
          "metadata": {},
          "execution_count": 8
        }
      ]
    },
    {
      "cell_type": "markdown",
      "source": [
        "## Solution3:"
      ],
      "metadata": {
        "id": "gW4ijnAWdqHG"
      }
    },
    {
      "cell_type": "code",
      "source": [
        "from typing import List\n",
        "class Solution3:\n",
        "    def heightChecker(self, heights: List[int]) -> int:\n",
        "        count = 0\n",
        "        sort_hei = sorted(heights)\n",
        "        half_len = len(heights)/2\n",
        "\n",
        "        for ind in range(int(half_len)):\n",
        "            if heights[ind] != sort_hei[ind]:\n",
        "                # print(f\"heights[ind] != sort_hei[ind] => {heights[ind]} != {sort_hei[ind]}\")\n",
        "                count += 1\n",
        "            if heights[-ind-1] != sort_hei[-ind-1]:\n",
        "                # print(f\"heights[-ind-1] != sort_hei[-ind-1] => {heights[-ind-1]} != {sort_hei[-ind-1]}\")\n",
        "                count += 1\n",
        "        if len(heights) % 2 == 1 and heights[ind+1] != sort_hei[ind+1]:\n",
        "            # print(f\"heights[int(half_len)]: {heights[int(half_len)]} != sort_hei[int(half_len)]: {sort_hei[int(half_len)]}\")\n",
        "            count += 1\n",
        "        print(\"Count: \", count)\n",
        "        return count"
      ],
      "metadata": {
        "id": "IzpWPOcwdsam"
      },
      "execution_count": 9,
      "outputs": []
    },
    {
      "cell_type": "code",
      "source": [
        "sol3 = Solution3()\n",
        "sol3.heightChecker([8, 1, 4, 7, 6, 4, 1, 2, 2, 7, 5, 5, 4, 8, 5, 7, 4, 5, 2, 8, 5, 2, 8])"
      ],
      "metadata": {
        "colab": {
          "base_uri": "https://localhost:8080/"
        },
        "id": "naVpK96QhVVZ",
        "outputId": "5310e044-b600-4dde-9f09-4698a6f5466c"
      },
      "execution_count": 10,
      "outputs": [
        {
          "output_type": "stream",
          "name": "stdout",
          "text": [
            "Count:  17\n"
          ]
        },
        {
          "output_type": "execute_result",
          "data": {
            "text/plain": [
              "17"
            ]
          },
          "metadata": {},
          "execution_count": 10
        }
      ]
    },
    {
      "cell_type": "code",
      "source": [
        "sol3 = Solution3()\n",
        "sol3.heightChecker([1,2,3,4,5])"
      ],
      "metadata": {
        "colab": {
          "base_uri": "https://localhost:8080/"
        },
        "id": "xx0ahUgbdubg",
        "outputId": "228570f6-fe50-4f9a-f3f3-83e6b203d7df"
      },
      "execution_count": 11,
      "outputs": [
        {
          "output_type": "stream",
          "name": "stdout",
          "text": [
            "Count:  0\n"
          ]
        },
        {
          "output_type": "execute_result",
          "data": {
            "text/plain": [
              "0"
            ]
          },
          "metadata": {},
          "execution_count": 11
        }
      ]
    },
    {
      "cell_type": "code",
      "source": [
        "sol3.heightChecker([5,1,2,3,4])"
      ],
      "metadata": {
        "colab": {
          "base_uri": "https://localhost:8080/"
        },
        "id": "FlxFr_QCd_FK",
        "outputId": "26531cf9-9502-403f-cf0b-a101c46970d3"
      },
      "execution_count": 12,
      "outputs": [
        {
          "output_type": "stream",
          "name": "stdout",
          "text": [
            "Count:  5\n"
          ]
        },
        {
          "output_type": "execute_result",
          "data": {
            "text/plain": [
              "5"
            ]
          },
          "metadata": {},
          "execution_count": 12
        }
      ]
    },
    {
      "cell_type": "code",
      "source": [
        "sol3.heightChecker([1,1,4,2,1,3])"
      ],
      "metadata": {
        "colab": {
          "base_uri": "https://localhost:8080/"
        },
        "id": "MY8q7CIxeIFt",
        "outputId": "8c1b49ac-c97d-413a-c85d-5bc8df1d9168"
      },
      "execution_count": 13,
      "outputs": [
        {
          "output_type": "stream",
          "name": "stdout",
          "text": [
            "Count:  3\n"
          ]
        },
        {
          "output_type": "execute_result",
          "data": {
            "text/plain": [
              "3"
            ]
          },
          "metadata": {},
          "execution_count": 13
        }
      ]
    }
  ]
}
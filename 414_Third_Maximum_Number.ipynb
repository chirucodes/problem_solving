{
  "nbformat": 4,
  "nbformat_minor": 0,
  "metadata": {
    "colab": {
      "provenance": [],
      "authorship_tag": "ABX9TyMUxvxywSQzSzEbdKnKdt5k",
      "include_colab_link": true
    },
    "kernelspec": {
      "name": "python3",
      "display_name": "Python 3"
    },
    "language_info": {
      "name": "python"
    }
  },
  "cells": [
    {
      "cell_type": "markdown",
      "metadata": {
        "id": "view-in-github",
        "colab_type": "text"
      },
      "source": [
        "<a href=\"https://colab.research.google.com/github/chirucodes/problem_solving/blob/main/414_Third_Maximum_Number.ipynb\" target=\"_parent\"><img src=\"https://colab.research.google.com/assets/colab-badge.svg\" alt=\"Open In Colab\"/></a>"
      ]
    },
    {
      "cell_type": "markdown",
      "source": [
        "## 414. Third Maximum Number\n",
        "Problem description: https://leetcode.com/problems/third-maximum-number/"
      ],
      "metadata": {
        "id": "R6rObjKC_6tV"
      }
    },
    {
      "cell_type": "markdown",
      "source": [
        "## Solution1:"
      ],
      "metadata": {
        "id": "UBzaOlaaB2Et"
      }
    },
    {
      "cell_type": "code",
      "execution_count": 149,
      "metadata": {
        "id": "6EC7f_UO_lb8"
      },
      "outputs": [],
      "source": [
        "from typing import List\n",
        "class Solution1:\n",
        "    def thirdMax(self, nums: List[int]) -> int:\n",
        "        sorted_list = sorted(set(nums))\n",
        "        print(\"sorted: \", sorted_list)\n",
        "        if len(sorted_list) >= 3:\n",
        "            return sorted_list[-3]\n",
        "        else:\n",
        "            return sorted_list[-1]\n"
      ]
    },
    {
      "cell_type": "code",
      "source": [
        "sol1 = Solution1()\n",
        "sol1.thirdMax([1,1,4,2,1,3])\n"
      ],
      "metadata": {
        "colab": {
          "base_uri": "https://localhost:8080/"
        },
        "id": "kL0h5ydpApPV",
        "outputId": "5c7746c7-4794-4e2a-818c-d7da2748fdf6"
      },
      "execution_count": 150,
      "outputs": [
        {
          "output_type": "stream",
          "name": "stdout",
          "text": [
            "sorted:  [1, 2, 3, 4]\n"
          ]
        },
        {
          "output_type": "execute_result",
          "data": {
            "text/plain": [
              "2"
            ]
          },
          "metadata": {},
          "execution_count": 150
        }
      ]
    },
    {
      "cell_type": "code",
      "source": [
        "sol1 = Solution1()\n",
        "sol1.thirdMax([1,2])"
      ],
      "metadata": {
        "colab": {
          "base_uri": "https://localhost:8080/"
        },
        "id": "DuN_4z1OES-u",
        "outputId": "2b97e463-1b59-4c4b-d2a8-08d8eaedf3b7"
      },
      "execution_count": 151,
      "outputs": [
        {
          "output_type": "stream",
          "name": "stdout",
          "text": [
            "sorted:  [1, 2]\n"
          ]
        },
        {
          "output_type": "execute_result",
          "data": {
            "text/plain": [
              "2"
            ]
          },
          "metadata": {},
          "execution_count": 151
        }
      ]
    },
    {
      "cell_type": "code",
      "source": [
        "sol1 = Solution1()\n",
        "sol1.thirdMax([1,1,4,2,1])\n"
      ],
      "metadata": {
        "colab": {
          "base_uri": "https://localhost:8080/"
        },
        "id": "BcKIUmdtA7Mc",
        "outputId": "039d1961-f3fd-4e4c-a0ab-29ce07d48779"
      },
      "execution_count": 152,
      "outputs": [
        {
          "output_type": "stream",
          "name": "stdout",
          "text": [
            "sorted:  [1, 2, 4]\n"
          ]
        },
        {
          "output_type": "execute_result",
          "data": {
            "text/plain": [
              "1"
            ]
          },
          "metadata": {},
          "execution_count": 152
        }
      ]
    },
    {
      "cell_type": "code",
      "source": [
        "sol1 = Solution1()\n",
        "sol1.thirdMax([1,1,4,1])"
      ],
      "metadata": {
        "colab": {
          "base_uri": "https://localhost:8080/"
        },
        "id": "WkfzvHQFA9dO",
        "outputId": "2f86988c-700e-49c5-e168-f7ddefb69b87"
      },
      "execution_count": 153,
      "outputs": [
        {
          "output_type": "stream",
          "name": "stdout",
          "text": [
            "sorted:  [1, 4]\n"
          ]
        },
        {
          "output_type": "execute_result",
          "data": {
            "text/plain": [
              "4"
            ]
          },
          "metadata": {},
          "execution_count": 153
        }
      ]
    },
    {
      "cell_type": "code",
      "source": [
        "sol1 = Solution1()\n",
        "sol1.thirdMax([1,1,1])"
      ],
      "metadata": {
        "colab": {
          "base_uri": "https://localhost:8080/"
        },
        "id": "gbR0E3aqBU7d",
        "outputId": "363dfc11-1e80-4dd7-8c4f-a0899c40e7d0"
      },
      "execution_count": 154,
      "outputs": [
        {
          "output_type": "stream",
          "name": "stdout",
          "text": [
            "sorted:  [1]\n"
          ]
        },
        {
          "output_type": "execute_result",
          "data": {
            "text/plain": [
              "1"
            ]
          },
          "metadata": {},
          "execution_count": 154
        }
      ]
    },
    {
      "cell_type": "code",
      "source": [
        "sol1 = Solution1()\n",
        "sol1.thirdMax([2,2,3,1])"
      ],
      "metadata": {
        "colab": {
          "base_uri": "https://localhost:8080/"
        },
        "id": "wC4XrbXJFnTh",
        "outputId": "4c451b50-f399-4834-e894-786a1fa077b4"
      },
      "execution_count": 155,
      "outputs": [
        {
          "output_type": "stream",
          "name": "stdout",
          "text": [
            "sorted:  [1, 2, 3]\n"
          ]
        },
        {
          "output_type": "execute_result",
          "data": {
            "text/plain": [
              "1"
            ]
          },
          "metadata": {},
          "execution_count": 155
        }
      ]
    },
    {
      "cell_type": "code",
      "source": [
        "sol1.thirdMax([1,2,-2147483648])"
      ],
      "metadata": {
        "colab": {
          "base_uri": "https://localhost:8080/"
        },
        "id": "NR28IKt-G9Zg",
        "outputId": "5194666e-b0db-48db-b98c-7338dcfbfdc0"
      },
      "execution_count": 156,
      "outputs": [
        {
          "output_type": "stream",
          "name": "stdout",
          "text": [
            "sorted:  [-2147483648, 1, 2]\n"
          ]
        },
        {
          "output_type": "execute_result",
          "data": {
            "text/plain": [
              "-2147483648"
            ]
          },
          "metadata": {},
          "execution_count": 156
        }
      ]
    },
    {
      "cell_type": "code",
      "source": [
        "sol1.thirdMax([-4,-5,-3,-2,-1])"
      ],
      "metadata": {
        "colab": {
          "base_uri": "https://localhost:8080/"
        },
        "id": "w4uS9BEyZ7Wi",
        "outputId": "139534c5-31ee-4e6b-8d6b-cb92f228c0cf"
      },
      "execution_count": 157,
      "outputs": [
        {
          "output_type": "stream",
          "name": "stdout",
          "text": [
            "sorted:  [-5, -4, -3, -2, -1]\n"
          ]
        },
        {
          "output_type": "execute_result",
          "data": {
            "text/plain": [
              "-3"
            ]
          },
          "metadata": {},
          "execution_count": 157
        }
      ]
    },
    {
      "cell_type": "markdown",
      "source": [
        "## Solution2:"
      ],
      "metadata": {
        "id": "73IUUHFuBvtU"
      }
    },
    {
      "cell_type": "code",
      "source": [
        "from typing import List\n",
        "class Solution2:\n",
        "    def thirdMax(self, nums: List[int]) -> int:\n",
        "        m1 = 0\n",
        "        m2 = 0\n",
        "        m3 = 0\n",
        "        nums = set(nums)\n",
        "        print(\"nums: \", nums)\n",
        "        for each in nums:\n",
        "            if each < 0:\n",
        "                m1 = each\n",
        "                m2 = each\n",
        "                m3 = each\n",
        "           \n",
        "            elif each > m1:\n",
        "                m3 = m2\n",
        "                m2 = m1\n",
        "                m1 = each\n",
        "            elif each > m2:\n",
        "                m3 = m2\n",
        "                m2 = each\n",
        "            elif each > m3:\n",
        "                m3 = each\n",
        "            print(f\"m1: {m1} ,m2: {m2} , m3: {m3}\")\n",
        "        if len(nums) == 2:\n",
        "            return m1\n",
        "        elif len(nums) == 1:\n",
        "            return m1\n",
        "        else:\n",
        "            return m3"
      ],
      "metadata": {
        "id": "m4ZBBjYEBu98"
      },
      "execution_count": 158,
      "outputs": []
    },
    {
      "cell_type": "code",
      "source": [
        "# the above logic is not working for this problem\n",
        "sol2 = Solution2()\n",
        "sol2.thirdMax([-4,-5,-3,-2,-1])"
      ],
      "metadata": {
        "colab": {
          "base_uri": "https://localhost:8080/"
        },
        "id": "cIZWAf6AZo-D",
        "outputId": "8f8696cf-cfcc-43e0-e91a-807f3250a46f"
      },
      "execution_count": 159,
      "outputs": [
        {
          "output_type": "stream",
          "name": "stdout",
          "text": [
            "nums:  {-1, -5, -4, -3, -2}\n",
            "m1: -1 ,m2: -1 , m3: -1\n",
            "m1: -5 ,m2: -5 , m3: -5\n",
            "m1: -4 ,m2: -4 , m3: -4\n",
            "m1: -3 ,m2: -3 , m3: -3\n",
            "m1: -2 ,m2: -2 , m3: -2\n"
          ]
        },
        {
          "output_type": "execute_result",
          "data": {
            "text/plain": [
              "-2"
            ]
          },
          "metadata": {},
          "execution_count": 159
        }
      ]
    },
    {
      "cell_type": "code",
      "source": [
        "sol2 = Solution2()\n",
        "sol2.thirdMax([1,2,-2147483648])"
      ],
      "metadata": {
        "colab": {
          "base_uri": "https://localhost:8080/"
        },
        "id": "p-7r17M2VPZc",
        "outputId": "4ca57775-01f0-428c-db0e-20b012fea34f"
      },
      "execution_count": 160,
      "outputs": [
        {
          "output_type": "stream",
          "name": "stdout",
          "text": [
            "nums:  {-2147483648, 1, 2}\n",
            "m1: -2147483648 ,m2: -2147483648 , m3: -2147483648\n",
            "m1: 1 ,m2: -2147483648 , m3: -2147483648\n",
            "m1: 2 ,m2: 1 , m3: -2147483648\n"
          ]
        },
        {
          "output_type": "execute_result",
          "data": {
            "text/plain": [
              "-2147483648"
            ]
          },
          "metadata": {},
          "execution_count": 160
        }
      ]
    },
    {
      "cell_type": "code",
      "source": [
        "sol2 = Solution2()\n",
        "sol2.thirdMax([1,1,4,2,1,3])"
      ],
      "metadata": {
        "colab": {
          "base_uri": "https://localhost:8080/"
        },
        "id": "aiKDwiQ-Buq0",
        "outputId": "ad3f3416-26e5-472a-b36a-669d2b3f15e4"
      },
      "execution_count": 161,
      "outputs": [
        {
          "output_type": "stream",
          "name": "stdout",
          "text": [
            "nums:  {1, 2, 3, 4}\n",
            "m1: 1 ,m2: 0 , m3: 0\n",
            "m1: 2 ,m2: 1 , m3: 0\n",
            "m1: 3 ,m2: 2 , m3: 1\n",
            "m1: 4 ,m2: 3 , m3: 2\n"
          ]
        },
        {
          "output_type": "execute_result",
          "data": {
            "text/plain": [
              "2"
            ]
          },
          "metadata": {},
          "execution_count": 161
        }
      ]
    },
    {
      "cell_type": "code",
      "source": [
        "sol2 = Solution2()\n",
        "sol2.thirdMax([1,2])"
      ],
      "metadata": {
        "colab": {
          "base_uri": "https://localhost:8080/"
        },
        "id": "v8bey7muEiAu",
        "outputId": "66342479-27d4-44f5-b71f-333c96ac7446"
      },
      "execution_count": 162,
      "outputs": [
        {
          "output_type": "stream",
          "name": "stdout",
          "text": [
            "nums:  {1, 2}\n",
            "m1: 1 ,m2: 0 , m3: 0\n",
            "m1: 2 ,m2: 1 , m3: 0\n"
          ]
        },
        {
          "output_type": "execute_result",
          "data": {
            "text/plain": [
              "2"
            ]
          },
          "metadata": {},
          "execution_count": 162
        }
      ]
    },
    {
      "cell_type": "code",
      "source": [
        "sol2 = Solution2()\n",
        "sol2.thirdMax([1,2,1])"
      ],
      "metadata": {
        "colab": {
          "base_uri": "https://localhost:8080/"
        },
        "id": "pF59rebkFFea",
        "outputId": "7b002a9d-2983-4fdd-dc61-00b3ea4c3a38"
      },
      "execution_count": 163,
      "outputs": [
        {
          "output_type": "stream",
          "name": "stdout",
          "text": [
            "nums:  {1, 2}\n",
            "m1: 1 ,m2: 0 , m3: 0\n",
            "m1: 2 ,m2: 1 , m3: 0\n"
          ]
        },
        {
          "output_type": "execute_result",
          "data": {
            "text/plain": [
              "2"
            ]
          },
          "metadata": {},
          "execution_count": 163
        }
      ]
    },
    {
      "cell_type": "code",
      "source": [
        "sol2 = Solution2()\n",
        "sol2.thirdMax([2,1])"
      ],
      "metadata": {
        "colab": {
          "base_uri": "https://localhost:8080/"
        },
        "id": "MZZTx20zFJS5",
        "outputId": "5fde961b-16d1-4749-e7fd-3966aea5190d"
      },
      "execution_count": 164,
      "outputs": [
        {
          "output_type": "stream",
          "name": "stdout",
          "text": [
            "nums:  {1, 2}\n",
            "m1: 1 ,m2: 0 , m3: 0\n",
            "m1: 2 ,m2: 1 , m3: 0\n"
          ]
        },
        {
          "output_type": "execute_result",
          "data": {
            "text/plain": [
              "2"
            ]
          },
          "metadata": {},
          "execution_count": 164
        }
      ]
    },
    {
      "cell_type": "code",
      "source": [
        "sol2 = Solution2()\n",
        "sol2.thirdMax([1,1,4,2,1])\n"
      ],
      "metadata": {
        "colab": {
          "base_uri": "https://localhost:8080/"
        },
        "id": "3XaBJzKyDy2d",
        "outputId": "4acd1c5a-c9bc-4b82-f5fe-7408c93ed314"
      },
      "execution_count": 165,
      "outputs": [
        {
          "output_type": "stream",
          "name": "stdout",
          "text": [
            "nums:  {1, 2, 4}\n",
            "m1: 1 ,m2: 0 , m3: 0\n",
            "m1: 2 ,m2: 1 , m3: 0\n",
            "m1: 4 ,m2: 2 , m3: 1\n"
          ]
        },
        {
          "output_type": "execute_result",
          "data": {
            "text/plain": [
              "1"
            ]
          },
          "metadata": {},
          "execution_count": 165
        }
      ]
    },
    {
      "cell_type": "code",
      "source": [
        "sol2 = Solution2()\n",
        "sol2.thirdMax([1,1,4,1])"
      ],
      "metadata": {
        "colab": {
          "base_uri": "https://localhost:8080/"
        },
        "id": "Bx-wQQccD4IG",
        "outputId": "54941703-967e-4814-e939-18b666d237c9"
      },
      "execution_count": 166,
      "outputs": [
        {
          "output_type": "stream",
          "name": "stdout",
          "text": [
            "nums:  {1, 4}\n",
            "m1: 1 ,m2: 0 , m3: 0\n",
            "m1: 4 ,m2: 1 , m3: 0\n"
          ]
        },
        {
          "output_type": "execute_result",
          "data": {
            "text/plain": [
              "4"
            ]
          },
          "metadata": {},
          "execution_count": 166
        }
      ]
    },
    {
      "cell_type": "code",
      "source": [
        "sol2 = Solution2()\n",
        "sol2.thirdMax([1,1,1])"
      ],
      "metadata": {
        "colab": {
          "base_uri": "https://localhost:8080/"
        },
        "id": "RlIH0MxVD8--",
        "outputId": "21a94902-9014-48d3-cabd-d78b24f1a301"
      },
      "execution_count": 167,
      "outputs": [
        {
          "output_type": "stream",
          "name": "stdout",
          "text": [
            "nums:  {1}\n",
            "m1: 1 ,m2: 0 , m3: 0\n"
          ]
        },
        {
          "output_type": "execute_result",
          "data": {
            "text/plain": [
              "1"
            ]
          },
          "metadata": {},
          "execution_count": 167
        }
      ]
    },
    {
      "cell_type": "code",
      "source": [
        "sol2 = Solution2()\n",
        "sol2.thirdMax([5,4,3,2,1])"
      ],
      "metadata": {
        "colab": {
          "base_uri": "https://localhost:8080/"
        },
        "id": "CM1_mSb-EAq2",
        "outputId": "52f12969-62c7-421f-c4cf-c57c8f0f6dfd"
      },
      "execution_count": 168,
      "outputs": [
        {
          "output_type": "stream",
          "name": "stdout",
          "text": [
            "nums:  {1, 2, 3, 4, 5}\n",
            "m1: 1 ,m2: 0 , m3: 0\n",
            "m1: 2 ,m2: 1 , m3: 0\n",
            "m1: 3 ,m2: 2 , m3: 1\n",
            "m1: 4 ,m2: 3 , m3: 2\n",
            "m1: 5 ,m2: 4 , m3: 3\n"
          ]
        },
        {
          "output_type": "execute_result",
          "data": {
            "text/plain": [
              "3"
            ]
          },
          "metadata": {},
          "execution_count": 168
        }
      ]
    },
    {
      "cell_type": "code",
      "source": [
        "sol2 = Solution2()\n",
        "sol2.thirdMax([5,3,2,1,4,7])"
      ],
      "metadata": {
        "colab": {
          "base_uri": "https://localhost:8080/"
        },
        "id": "RWOsL31rEDYe",
        "outputId": "cee4f3b1-c84b-4bae-aca7-bde6ed7cc219"
      },
      "execution_count": 169,
      "outputs": [
        {
          "output_type": "stream",
          "name": "stdout",
          "text": [
            "nums:  {1, 2, 3, 4, 5, 7}\n",
            "m1: 1 ,m2: 0 , m3: 0\n",
            "m1: 2 ,m2: 1 , m3: 0\n",
            "m1: 3 ,m2: 2 , m3: 1\n",
            "m1: 4 ,m2: 3 , m3: 2\n",
            "m1: 5 ,m2: 4 , m3: 3\n",
            "m1: 7 ,m2: 5 , m3: 4\n"
          ]
        },
        {
          "output_type": "execute_result",
          "data": {
            "text/plain": [
              "4"
            ]
          },
          "metadata": {},
          "execution_count": 169
        }
      ]
    },
    {
      "cell_type": "code",
      "source": [
        "sol2 = Solution2()\n",
        "sol2.thirdMax([2,2,3,1])\n"
      ],
      "metadata": {
        "colab": {
          "base_uri": "https://localhost:8080/"
        },
        "id": "NbhmxuZcFh3i",
        "outputId": "cc2323b0-96e7-4847-942e-d8252db5fd55"
      },
      "execution_count": 170,
      "outputs": [
        {
          "output_type": "stream",
          "name": "stdout",
          "text": [
            "nums:  {1, 2, 3}\n",
            "m1: 1 ,m2: 0 , m3: 0\n",
            "m1: 2 ,m2: 1 , m3: 0\n",
            "m1: 3 ,m2: 2 , m3: 1\n"
          ]
        },
        {
          "output_type": "execute_result",
          "data": {
            "text/plain": [
              "1"
            ]
          },
          "metadata": {},
          "execution_count": 170
        }
      ]
    },
    {
      "cell_type": "code",
      "source": [
        "sol2 = Solution2()\n",
        "sol2.thirdMax([1,1,1])"
      ],
      "metadata": {
        "colab": {
          "base_uri": "https://localhost:8080/"
        },
        "id": "TfkLtus3GkMP",
        "outputId": "8a1edd1c-79cd-4a47-a73d-7dd920773e3d"
      },
      "execution_count": 171,
      "outputs": [
        {
          "output_type": "stream",
          "name": "stdout",
          "text": [
            "nums:  {1}\n",
            "m1: 1 ,m2: 0 , m3: 0\n"
          ]
        },
        {
          "output_type": "execute_result",
          "data": {
            "text/plain": [
              "1"
            ]
          },
          "metadata": {},
          "execution_count": 171
        }
      ]
    },
    {
      "cell_type": "markdown",
      "source": [
        "## Solution3:"
      ],
      "metadata": {
        "id": "QHxXy_-HhfjO"
      }
    },
    {
      "cell_type": "code",
      "source": [
        "from typing import List\n",
        "class Solution3:\n",
        "    def thirdMax(self, nums: List[int]) -> int:\n",
        "        m1 = min(nums)\n",
        "        m2 = m1\n",
        "        m3 = m2\n",
        "        nums = set(nums)\n",
        "        print(\"nums: \", nums)\n",
        "        for each in nums:\n",
        "            if each > m1:\n",
        "                m3 = m2\n",
        "                m2 = m1\n",
        "                m1 = each\n",
        "            elif each > m2:\n",
        "                m3 = m2\n",
        "                m2 = each\n",
        "            elif each > m3:\n",
        "                m3 = each\n",
        "            print(f\"m1: {m1} ,m2: {m2} , m3: {m3}\")\n",
        "        if len(nums) < 3:\n",
        "            return m1\n",
        "        else:\n",
        "            return m3"
      ],
      "metadata": {
        "id": "d_TYlF7hG1ff"
      },
      "execution_count": 172,
      "outputs": []
    },
    {
      "cell_type": "code",
      "source": [
        "sol3 = Solution3()\n",
        "sol3.thirdMax([1,1,1])"
      ],
      "metadata": {
        "colab": {
          "base_uri": "https://localhost:8080/"
        },
        "id": "pnsAf9ROhsNu",
        "outputId": "1f83d310-2dcc-487e-8f4e-0ef2cb9a4754"
      },
      "execution_count": 173,
      "outputs": [
        {
          "output_type": "stream",
          "name": "stdout",
          "text": [
            "nums:  {1}\n",
            "m1: 1 ,m2: 1 , m3: 1\n"
          ]
        },
        {
          "output_type": "execute_result",
          "data": {
            "text/plain": [
              "1"
            ]
          },
          "metadata": {},
          "execution_count": 173
        }
      ]
    },
    {
      "cell_type": "code",
      "source": [
        "sol3.thirdMax([2,2,3,1])"
      ],
      "metadata": {
        "colab": {
          "base_uri": "https://localhost:8080/"
        },
        "id": "kNlcIt9AhxeB",
        "outputId": "c135ae84-85ec-4af6-af77-615bc917a128"
      },
      "execution_count": 174,
      "outputs": [
        {
          "output_type": "stream",
          "name": "stdout",
          "text": [
            "nums:  {1, 2, 3}\n",
            "m1: 1 ,m2: 1 , m3: 1\n",
            "m1: 2 ,m2: 1 , m3: 1\n",
            "m1: 3 ,m2: 2 , m3: 1\n"
          ]
        },
        {
          "output_type": "execute_result",
          "data": {
            "text/plain": [
              "1"
            ]
          },
          "metadata": {},
          "execution_count": 174
        }
      ]
    },
    {
      "cell_type": "code",
      "source": [
        "sol3.thirdMax([5,3,2,1,4,7])"
      ],
      "metadata": {
        "colab": {
          "base_uri": "https://localhost:8080/"
        },
        "id": "kkhtNWsVh4Jt",
        "outputId": "7e165a09-abe3-43d5-fb9b-41fb2923aba3"
      },
      "execution_count": 175,
      "outputs": [
        {
          "output_type": "stream",
          "name": "stdout",
          "text": [
            "nums:  {1, 2, 3, 4, 5, 7}\n",
            "m1: 1 ,m2: 1 , m3: 1\n",
            "m1: 2 ,m2: 1 , m3: 1\n",
            "m1: 3 ,m2: 2 , m3: 1\n",
            "m1: 4 ,m2: 3 , m3: 2\n",
            "m1: 5 ,m2: 4 , m3: 3\n",
            "m1: 7 ,m2: 5 , m3: 4\n"
          ]
        },
        {
          "output_type": "execute_result",
          "data": {
            "text/plain": [
              "4"
            ]
          },
          "metadata": {},
          "execution_count": 175
        }
      ]
    },
    {
      "cell_type": "code",
      "source": [
        "sol3.thirdMax([5,4,3,2,1])"
      ],
      "metadata": {
        "colab": {
          "base_uri": "https://localhost:8080/"
        },
        "id": "E2cuelTSh8Oe",
        "outputId": "8524368f-66d8-46b9-d579-dfe96b8391ce"
      },
      "execution_count": 176,
      "outputs": [
        {
          "output_type": "stream",
          "name": "stdout",
          "text": [
            "nums:  {1, 2, 3, 4, 5}\n",
            "m1: 1 ,m2: 1 , m3: 1\n",
            "m1: 2 ,m2: 1 , m3: 1\n",
            "m1: 3 ,m2: 2 , m3: 1\n",
            "m1: 4 ,m2: 3 , m3: 2\n",
            "m1: 5 ,m2: 4 , m3: 3\n"
          ]
        },
        {
          "output_type": "execute_result",
          "data": {
            "text/plain": [
              "3"
            ]
          },
          "metadata": {},
          "execution_count": 176
        }
      ]
    },
    {
      "cell_type": "code",
      "source": [
        "sol3.thirdMax([1,1,1])"
      ],
      "metadata": {
        "colab": {
          "base_uri": "https://localhost:8080/"
        },
        "id": "6YJe8C6biASd",
        "outputId": "7141c3c2-69c6-47bb-a910-5dfb9dcb6f26"
      },
      "execution_count": 177,
      "outputs": [
        {
          "output_type": "stream",
          "name": "stdout",
          "text": [
            "nums:  {1}\n",
            "m1: 1 ,m2: 1 , m3: 1\n"
          ]
        },
        {
          "output_type": "execute_result",
          "data": {
            "text/plain": [
              "1"
            ]
          },
          "metadata": {},
          "execution_count": 177
        }
      ]
    },
    {
      "cell_type": "code",
      "source": [
        "sol3.thirdMax([1,1,4,1])"
      ],
      "metadata": {
        "colab": {
          "base_uri": "https://localhost:8080/"
        },
        "id": "UT59gkaEiE--",
        "outputId": "9066cc32-2191-47cb-d83d-f63b3d693b67"
      },
      "execution_count": 178,
      "outputs": [
        {
          "output_type": "stream",
          "name": "stdout",
          "text": [
            "nums:  {1, 4}\n",
            "m1: 1 ,m2: 1 , m3: 1\n",
            "m1: 4 ,m2: 1 , m3: 1\n"
          ]
        },
        {
          "output_type": "execute_result",
          "data": {
            "text/plain": [
              "4"
            ]
          },
          "metadata": {},
          "execution_count": 178
        }
      ]
    },
    {
      "cell_type": "code",
      "source": [
        "sol3.thirdMax([-4,-5,-3,-2,-1])"
      ],
      "metadata": {
        "colab": {
          "base_uri": "https://localhost:8080/"
        },
        "id": "Thkfy_IHiLMl",
        "outputId": "c894f99c-a290-484a-f78d-8733b0f2de38"
      },
      "execution_count": 179,
      "outputs": [
        {
          "output_type": "stream",
          "name": "stdout",
          "text": [
            "nums:  {-1, -5, -4, -3, -2}\n",
            "m1: -1 ,m2: -5 , m3: -5\n",
            "m1: -1 ,m2: -5 , m3: -5\n",
            "m1: -1 ,m2: -4 , m3: -5\n",
            "m1: -1 ,m2: -3 , m3: -4\n",
            "m1: -1 ,m2: -2 , m3: -3\n"
          ]
        },
        {
          "output_type": "execute_result",
          "data": {
            "text/plain": [
              "-3"
            ]
          },
          "metadata": {},
          "execution_count": 179
        }
      ]
    }
  ]
}
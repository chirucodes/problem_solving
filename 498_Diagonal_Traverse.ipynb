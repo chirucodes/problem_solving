{
  "nbformat": 4,
  "nbformat_minor": 0,
  "metadata": {
    "colab": {
      "provenance": [],
      "authorship_tag": "ABX9TyO22HIGAZK40iWPDJlSIRbw",
      "include_colab_link": true
    },
    "kernelspec": {
      "name": "python3",
      "display_name": "Python 3"
    },
    "language_info": {
      "name": "python"
    }
  },
  "cells": [
    {
      "cell_type": "markdown",
      "metadata": {
        "id": "view-in-github",
        "colab_type": "text"
      },
      "source": [
        "<a href=\"https://colab.research.google.com/github/chirucodes/problem_solving/blob/main/498_Diagonal_Traverse.ipynb\" target=\"_parent\"><img src=\"https://colab.research.google.com/assets/colab-badge.svg\" alt=\"Open In Colab\"/></a>"
      ]
    },
    {
      "cell_type": "markdown",
      "source": [
        "## 498. Diagonal Traverse\n",
        "\n",
        "Problem description: https://leetcode.com/problems/diagonal-traverse/description/"
      ],
      "metadata": {
        "id": "pNiZW_qEUVmO"
      }
    },
    {
      "cell_type": "markdown",
      "source": [
        "## Solution1:"
      ],
      "metadata": {
        "id": "wOCqPLq7UjFU"
      }
    },
    {
      "cell_type": "code",
      "execution_count": 23,
      "metadata": {
        "id": "UEqfazRGLisF"
      },
      "outputs": [],
      "source": [
        "from typing import List\n",
        "class Solution1:\n",
        "    def findDiagonalOrder(self, mat: List[List[int]]) -> List[int]:\n",
        "        m_rows, n_cols = len(mat), len(mat[0])\n",
        "        no_of_diagonals = m_rows+n_cols-1\n",
        "        diag_matrix = [[] for each in range(no_of_diagonals)]\n",
        "        print(\"diag: \", diag_matrix)\n",
        "\n",
        "        for each_diag in range(no_of_diagonals):\n",
        "            for each_m in range(m_rows):\n",
        "                for each_n in range(n_cols):\n",
        "                    if each_m + each_n == each_diag:\n",
        "                        diag_matrix[each_diag].append(mat[each_m][each_n])\n",
        "        print(\"diag: \", diag_matrix)\n",
        "\n",
        "        res = []\n",
        "\n",
        "        for each in range(no_of_diagonals):\n",
        "            if each % 2 == 0:\n",
        "                res.extend(diag_matrix[each][::-1])\n",
        "            else:\n",
        "                res.extend(diag_matrix[each])\n",
        "        \n",
        "        return res\n",
        "\n",
        "sol1 = Solution1()\n"
      ]
    },
    {
      "cell_type": "code",
      "source": [
        "sol1.findDiagonalOrder([[1,2,3], [4,5,6],[7,8,9]])"
      ],
      "metadata": {
        "colab": {
          "base_uri": "https://localhost:8080/"
        },
        "id": "eSDt-OpVMV5q",
        "outputId": "829d13c1-d22d-4e9a-a460-5302d011a9a1"
      },
      "execution_count": 24,
      "outputs": [
        {
          "output_type": "stream",
          "name": "stdout",
          "text": [
            "diag:  [[], [], [], [], []]\n",
            "diag:  [[1], [2, 4], [3, 5, 7], [6, 8], [9]]\n"
          ]
        },
        {
          "output_type": "execute_result",
          "data": {
            "text/plain": [
              "[1, 2, 4, 7, 5, 3, 6, 8, 9]"
            ]
          },
          "metadata": {},
          "execution_count": 24
        }
      ]
    },
    {
      "cell_type": "code",
      "source": [
        "sol1.findDiagonalOrder([[1,2], [3,4]])"
      ],
      "metadata": {
        "colab": {
          "base_uri": "https://localhost:8080/"
        },
        "id": "zma3iRvOOoYq",
        "outputId": "ed125c01-7809-4136-986b-63e9db43282c"
      },
      "execution_count": 25,
      "outputs": [
        {
          "output_type": "stream",
          "name": "stdout",
          "text": [
            "diag:  [[], [], []]\n",
            "diag:  [[1], [2, 3], [4]]\n"
          ]
        },
        {
          "output_type": "execute_result",
          "data": {
            "text/plain": [
              "[1, 2, 3, 4]"
            ]
          },
          "metadata": {},
          "execution_count": 25
        }
      ]
    },
    {
      "cell_type": "code",
      "source": [
        "sol1.findDiagonalOrder([[1,2,3,4], [5,6,7,8],[9,10,11,12]])"
      ],
      "metadata": {
        "colab": {
          "base_uri": "https://localhost:8080/"
        },
        "id": "bhOAZZN6OnPy",
        "outputId": "5c639eb0-4ebc-4c46-94a4-693efbeb2dda"
      },
      "execution_count": 26,
      "outputs": [
        {
          "output_type": "stream",
          "name": "stdout",
          "text": [
            "diag:  [[], [], [], [], [], []]\n",
            "diag:  [[1], [2, 5], [3, 6, 9], [4, 7, 10], [8, 11], [12]]\n"
          ]
        },
        {
          "output_type": "execute_result",
          "data": {
            "text/plain": [
              "[1, 2, 5, 9, 6, 3, 4, 7, 10, 11, 8, 12]"
            ]
          },
          "metadata": {},
          "execution_count": 26
        }
      ]
    }
  ]
}
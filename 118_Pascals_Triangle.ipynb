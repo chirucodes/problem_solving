{
  "nbformat": 4,
  "nbformat_minor": 0,
  "metadata": {
    "colab": {
      "provenance": [],
      "authorship_tag": "ABX9TyMt6mITUK65azcyPGEYCldi",
      "include_colab_link": true
    },
    "kernelspec": {
      "name": "python3",
      "display_name": "Python 3"
    },
    "language_info": {
      "name": "python"
    }
  },
  "cells": [
    {
      "cell_type": "markdown",
      "metadata": {
        "id": "view-in-github",
        "colab_type": "text"
      },
      "source": [
        "<a href=\"https://colab.research.google.com/github/chirucodes/problem_solving/blob/main/118_Pascals_Triangle.ipynb\" target=\"_parent\"><img src=\"https://colab.research.google.com/assets/colab-badge.svg\" alt=\"Open In Colab\"/></a>"
      ]
    },
    {
      "cell_type": "markdown",
      "source": [
        "## 118. Pascal's Triangle\n",
        "\n",
        "Problem description: https://leetcode.com/problems/pascals-triangle/"
      ],
      "metadata": {
        "id": "DYh0QmBI9SCg"
      }
    },
    {
      "cell_type": "markdown",
      "source": [
        "## Solution1:"
      ],
      "metadata": {
        "id": "ZoGwz6LU9PCo"
      }
    },
    {
      "cell_type": "code",
      "execution_count": 17,
      "metadata": {
        "id": "La4Xddlizxu5"
      },
      "outputs": [],
      "source": [
        "from typing import List\n",
        "class Solution1:\n",
        "    def generate(self, numRows: int) -> List[List[int]]:\n",
        "\n",
        "        res = [[1] for each in range(numRows)]\n",
        "\n",
        "        if numRows == 2:\n",
        "            res[1].append(1)\n",
        "        if numRows < 3:\n",
        "            return res\n",
        "        else:\n",
        "            res[1].append(1)\n",
        "        \n",
        "        for row_no in range(2, numRows):\n",
        "            gap = row_no+1 - 2\n",
        "            i = 1\n",
        "            while gap != 0:\n",
        "                val = res[row_no-1][i] + res[row_no - 1][i-1]\n",
        "                res[row_no].append(val)\n",
        "                gap -= 1\n",
        "                i += 1\n",
        "            res[row_no].append(1)\n",
        "        return res\n",
        "\n",
        "sol1 = Solution1()        "
      ]
    },
    {
      "cell_type": "code",
      "source": [
        "sol1.generate(1)"
      ],
      "metadata": {
        "colab": {
          "base_uri": "https://localhost:8080/"
        },
        "id": "G_HWjN3o9lGa",
        "outputId": "9d1c01a0-5d94-4154-e1a1-929913bb379d"
      },
      "execution_count": 18,
      "outputs": [
        {
          "output_type": "execute_result",
          "data": {
            "text/plain": [
              "[[1]]"
            ]
          },
          "metadata": {},
          "execution_count": 18
        }
      ]
    },
    {
      "cell_type": "code",
      "source": [
        "sol1.generate(2)"
      ],
      "metadata": {
        "colab": {
          "base_uri": "https://localhost:8080/"
        },
        "id": "KPdESCux9lD7",
        "outputId": "61c918a4-3940-485b-d6c5-85667225a031"
      },
      "execution_count": 19,
      "outputs": [
        {
          "output_type": "execute_result",
          "data": {
            "text/plain": [
              "[[1], [1, 1]]"
            ]
          },
          "metadata": {},
          "execution_count": 19
        }
      ]
    },
    {
      "cell_type": "code",
      "source": [
        "sol1.generate(3)"
      ],
      "metadata": {
        "colab": {
          "base_uri": "https://localhost:8080/"
        },
        "id": "DVD_QlNP9n3T",
        "outputId": "f48928a8-0f1e-4cbf-bc4c-84ad14f5e167"
      },
      "execution_count": 20,
      "outputs": [
        {
          "output_type": "execute_result",
          "data": {
            "text/plain": [
              "[[1], [1, 1], [1, 2, 1]]"
            ]
          },
          "metadata": {},
          "execution_count": 20
        }
      ]
    },
    {
      "cell_type": "code",
      "source": [
        "sol1.generate(4)"
      ],
      "metadata": {
        "colab": {
          "base_uri": "https://localhost:8080/"
        },
        "id": "zC83RtxG9n0L",
        "outputId": "fa272a8f-95af-4ce3-f6f6-80f5a2312346"
      },
      "execution_count": 21,
      "outputs": [
        {
          "output_type": "execute_result",
          "data": {
            "text/plain": [
              "[[1], [1, 1], [1, 2, 1], [1, 3, 3, 1]]"
            ]
          },
          "metadata": {},
          "execution_count": 21
        }
      ]
    },
    {
      "cell_type": "code",
      "source": [
        "sol1.generate(5)"
      ],
      "metadata": {
        "colab": {
          "base_uri": "https://localhost:8080/"
        },
        "id": "A3kbyjvx9nxC",
        "outputId": "08be6c03-8b16-44d8-e711-983e98b56375"
      },
      "execution_count": 22,
      "outputs": [
        {
          "output_type": "execute_result",
          "data": {
            "text/plain": [
              "[[1], [1, 1], [1, 2, 1], [1, 3, 3, 1], [1, 4, 6, 4, 1]]"
            ]
          },
          "metadata": {},
          "execution_count": 22
        }
      ]
    },
    {
      "cell_type": "code",
      "source": [
        "sol1.generate(6)"
      ],
      "metadata": {
        "colab": {
          "base_uri": "https://localhost:8080/"
        },
        "id": "zAAFDFIM9ntq",
        "outputId": "889d8850-a633-4ed7-a218-c18936a45745"
      },
      "execution_count": 23,
      "outputs": [
        {
          "output_type": "execute_result",
          "data": {
            "text/plain": [
              "[[1], [1, 1], [1, 2, 1], [1, 3, 3, 1], [1, 4, 6, 4, 1], [1, 5, 10, 10, 5, 1]]"
            ]
          },
          "metadata": {},
          "execution_count": 23
        }
      ]
    },
    {
      "cell_type": "markdown",
      "source": [
        "## Solution2:"
      ],
      "metadata": {
        "id": "Yjoj7w569280"
      }
    },
    {
      "cell_type": "code",
      "source": [
        "from typing import List\n",
        "class Solution2:\n",
        "    def generate(self, numRows: int) -> List[List[int]]:\n",
        "\n",
        "        \n",
        "        res = [[1] for each in range(numRows)]\n",
        "        if numRows == 1:\n",
        "            return res\n",
        "        res[1].append(1)\n",
        "        if numRows == 2:\n",
        "            return res\n",
        "\n",
        "        for row_no in range(2, numRows):\n",
        "            gap = row_no - 1\n",
        "            i = 1\n",
        "            while gap != 0:\n",
        "                res[row_no].append(res[row_no-1][i] + res[row_no - 1][i-1])\n",
        "                gap -= 1\n",
        "                i += 1\n",
        "            res[row_no].append(1)\n",
        "        return res\n",
        "\n",
        "sol2 = Solution2()"
      ],
      "metadata": {
        "id": "4-wX5zjY94t8"
      },
      "execution_count": 24,
      "outputs": []
    },
    {
      "cell_type": "code",
      "source": [
        "sol2.generate(1)"
      ],
      "metadata": {
        "colab": {
          "base_uri": "https://localhost:8080/"
        },
        "id": "EkwafnANFnPY",
        "outputId": "bd7446cd-3043-4e30-88a8-e4d52e1bdf6b"
      },
      "execution_count": 25,
      "outputs": [
        {
          "output_type": "execute_result",
          "data": {
            "text/plain": [
              "[[1]]"
            ]
          },
          "metadata": {},
          "execution_count": 25
        }
      ]
    },
    {
      "cell_type": "code",
      "source": [
        "sol2.generate(2)"
      ],
      "metadata": {
        "colab": {
          "base_uri": "https://localhost:8080/"
        },
        "id": "YueYFOt7FnMY",
        "outputId": "6c512e7d-5147-40f9-9d23-e844c82aa19e"
      },
      "execution_count": 26,
      "outputs": [
        {
          "output_type": "execute_result",
          "data": {
            "text/plain": [
              "[[1], [1, 1]]"
            ]
          },
          "metadata": {},
          "execution_count": 26
        }
      ]
    },
    {
      "cell_type": "code",
      "source": [
        "sol2.generate(3)"
      ],
      "metadata": {
        "colab": {
          "base_uri": "https://localhost:8080/"
        },
        "id": "SKJCgXI0FnJh",
        "outputId": "84445c9c-d48f-42bd-83cf-777274767d4a"
      },
      "execution_count": 27,
      "outputs": [
        {
          "output_type": "execute_result",
          "data": {
            "text/plain": [
              "[[1], [1, 1], [1, 2, 1]]"
            ]
          },
          "metadata": {},
          "execution_count": 27
        }
      ]
    },
    {
      "cell_type": "code",
      "source": [
        "sol2.generate(4)"
      ],
      "metadata": {
        "colab": {
          "base_uri": "https://localhost:8080/"
        },
        "id": "BkcbvJG4FrYj",
        "outputId": "9c9195d3-d4ee-4218-aefb-36c244b42b48"
      },
      "execution_count": 28,
      "outputs": [
        {
          "output_type": "execute_result",
          "data": {
            "text/plain": [
              "[[1], [1, 1], [1, 2, 1], [1, 3, 3, 1]]"
            ]
          },
          "metadata": {},
          "execution_count": 28
        }
      ]
    },
    {
      "cell_type": "code",
      "source": [
        "sol2.generate(5)"
      ],
      "metadata": {
        "colab": {
          "base_uri": "https://localhost:8080/"
        },
        "id": "9kq_2rp1FrVc",
        "outputId": "31bafcf1-d574-4f4d-ebf2-89ab6e6190a0"
      },
      "execution_count": 29,
      "outputs": [
        {
          "output_type": "execute_result",
          "data": {
            "text/plain": [
              "[[1], [1, 1], [1, 2, 1], [1, 3, 3, 1], [1, 4, 6, 4, 1]]"
            ]
          },
          "metadata": {},
          "execution_count": 29
        }
      ]
    },
    {
      "cell_type": "code",
      "source": [
        "sol2.generate(6)"
      ],
      "metadata": {
        "colab": {
          "base_uri": "https://localhost:8080/"
        },
        "id": "M_TYZp5J-hib",
        "outputId": "86fdf21e-923e-42a8-9d6a-678046ece605"
      },
      "execution_count": 30,
      "outputs": [
        {
          "output_type": "execute_result",
          "data": {
            "text/plain": [
              "[[1], [1, 1], [1, 2, 1], [1, 3, 3, 1], [1, 4, 6, 4, 1], [1, 5, 10, 10, 5, 1]]"
            ]
          },
          "metadata": {},
          "execution_count": 30
        }
      ]
    },
    {
      "cell_type": "markdown",
      "source": [
        "## Solution3:"
      ],
      "metadata": {
        "id": "qcnN3CxZGmRy"
      }
    },
    {
      "cell_type": "code",
      "source": [
        "from typing import List\n",
        "class Solution3:\n",
        "    def generate(self, numRows: int) -> List[List[int]]:\n",
        "        \n",
        "        res = [[1]] \n",
        "\n",
        "        for row_no in range(1, numRows):\n",
        "            res.append([1])\n",
        "\n",
        "            gap = row_no - 1\n",
        "            i = 1\n",
        "            while gap > 0:\n",
        "                res[row_no].append(res[row_no-1][i] + res[row_no - 1][i-1])\n",
        "                gap -= 1\n",
        "                i += 1\n",
        "            res[row_no].append(1)\n",
        "        return res\n",
        "\n",
        "sol3 = Solution3()"
      ],
      "metadata": {
        "id": "GLq_IS0GGrEM"
      },
      "execution_count": 31,
      "outputs": []
    },
    {
      "cell_type": "code",
      "source": [
        "sol3.generate(1)"
      ],
      "metadata": {
        "colab": {
          "base_uri": "https://localhost:8080/"
        },
        "id": "RvjHP4egJ1rF",
        "outputId": "982e3c34-cfd0-459d-941f-7f94840fb08a"
      },
      "execution_count": 32,
      "outputs": [
        {
          "output_type": "execute_result",
          "data": {
            "text/plain": [
              "[[1]]"
            ]
          },
          "metadata": {},
          "execution_count": 32
        }
      ]
    },
    {
      "cell_type": "code",
      "source": [
        "sol3.generate(2)"
      ],
      "metadata": {
        "colab": {
          "base_uri": "https://localhost:8080/"
        },
        "id": "E33FihqhJ1oO",
        "outputId": "9e179566-c03c-4e0a-fb8c-9573519a9463"
      },
      "execution_count": 33,
      "outputs": [
        {
          "output_type": "execute_result",
          "data": {
            "text/plain": [
              "[[1], [1, 1]]"
            ]
          },
          "metadata": {},
          "execution_count": 33
        }
      ]
    },
    {
      "cell_type": "code",
      "source": [
        "sol3.generate(3)"
      ],
      "metadata": {
        "colab": {
          "base_uri": "https://localhost:8080/"
        },
        "id": "wroDihUZJ1k6",
        "outputId": "fd23e5ea-c862-45a5-c46f-a37e1fe1377f"
      },
      "execution_count": 34,
      "outputs": [
        {
          "output_type": "execute_result",
          "data": {
            "text/plain": [
              "[[1], [1, 1], [1, 2, 1]]"
            ]
          },
          "metadata": {},
          "execution_count": 34
        }
      ]
    },
    {
      "cell_type": "code",
      "source": [
        "sol3.generate(4)"
      ],
      "metadata": {
        "colab": {
          "base_uri": "https://localhost:8080/"
        },
        "id": "iLGYdqlOJ5vF",
        "outputId": "8c7251b1-b99d-4b20-dab9-bf65ae9ebfee"
      },
      "execution_count": 35,
      "outputs": [
        {
          "output_type": "execute_result",
          "data": {
            "text/plain": [
              "[[1], [1, 1], [1, 2, 1], [1, 3, 3, 1]]"
            ]
          },
          "metadata": {},
          "execution_count": 35
        }
      ]
    },
    {
      "cell_type": "code",
      "source": [
        "sol3.generate(5)"
      ],
      "metadata": {
        "colab": {
          "base_uri": "https://localhost:8080/"
        },
        "id": "91Fui8WzJ6-b",
        "outputId": "c985a714-0d5c-49fc-e4eb-6365db535a81"
      },
      "execution_count": 36,
      "outputs": [
        {
          "output_type": "execute_result",
          "data": {
            "text/plain": [
              "[[1], [1, 1], [1, 2, 1], [1, 3, 3, 1], [1, 4, 6, 4, 1]]"
            ]
          },
          "metadata": {},
          "execution_count": 36
        }
      ]
    },
    {
      "cell_type": "code",
      "source": [
        "sol3.generate(6)"
      ],
      "metadata": {
        "colab": {
          "base_uri": "https://localhost:8080/"
        },
        "id": "ToVVFuNFIPih",
        "outputId": "9d714b4d-61e7-43d6-a4b3-3aff42287e62"
      },
      "execution_count": 37,
      "outputs": [
        {
          "output_type": "execute_result",
          "data": {
            "text/plain": [
              "[[1], [1, 1], [1, 2, 1], [1, 3, 3, 1], [1, 4, 6, 4, 1], [1, 5, 10, 10, 5, 1]]"
            ]
          },
          "metadata": {},
          "execution_count": 37
        }
      ]
    },
    {
      "cell_type": "markdown",
      "source": [
        "## Solution4:"
      ],
      "metadata": {
        "id": "PYOgS7KdL7vN"
      }
    },
    {
      "cell_type": "code",
      "source": [
        "# Yet to finish\n",
        "\n",
        "from typing import List\n",
        "import math\n",
        "\n",
        "class Solution4:\n",
        "    def generate(self, numRows: int) -> List[List[int]]:\n",
        "        \n",
        "        res = [] \n",
        "        row = [1]\n",
        "\n",
        "        for row_no in range(1, numRows):\n",
        "            # s.append([1])\n",
        "            # gap = row_no - 1\n",
        "            # i = len(row)\n",
        "            ind = math.ceil(float(len(row)/2))\n",
        "            # while gap > 0:\n",
        "            row.insert(ind, 9) #res[row_no-1][ind] + res[row_no - 1][ind-1])\n",
        "                # gap -= 1\n",
        "                # i += 1\n",
        "            \n",
        "            res.append(row + row[:len(row):-1])\n",
        "        return res\n",
        "\n",
        "sol4 = Solution4()\n",
        "sol4.generate(3)"
      ],
      "metadata": {
        "colab": {
          "base_uri": "https://localhost:8080/"
        },
        "id": "wP8lXOaKMIW4",
        "outputId": "efcd2176-b7e6-48f4-a35b-222db68533d0"
      },
      "execution_count": 38,
      "outputs": [
        {
          "output_type": "execute_result",
          "data": {
            "text/plain": [
              "[[1, 9], [1, 9, 9]]"
            ]
          },
          "metadata": {},
          "execution_count": 38
        }
      ]
    }
  ]
}
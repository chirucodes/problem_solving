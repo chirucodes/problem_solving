{
  "nbformat": 4,
  "nbformat_minor": 0,
  "metadata": {
    "colab": {
      "provenance": [],
      "authorship_tag": "ABX9TyNJE/fN7ePOxARgPzWe4njq",
      "include_colab_link": true
    },
    "kernelspec": {
      "name": "python3",
      "display_name": "Python 3"
    },
    "language_info": {
      "name": "python"
    }
  },
  "cells": [
    {
      "cell_type": "markdown",
      "metadata": {
        "id": "view-in-github",
        "colab_type": "text"
      },
      "source": [
        "<a href=\"https://colab.research.google.com/github/chirucodes/problem_solving/blob/main/1342_Number_of_Steps_to_Reduce_a_Number_to_Zero.ipynb\" target=\"_parent\"><img src=\"https://colab.research.google.com/assets/colab-badge.svg\" alt=\"Open In Colab\"/></a>"
      ]
    },
    {
      "cell_type": "markdown",
      "source": [
        "## 1342. Number of Steps to Reduce a Number to Zero\n",
        "Find the problem description here: https://leetcode.com/problems/number-of-steps-to-reduce-a-number-to-zero/description/"
      ],
      "metadata": {
        "id": "Hk1zkX0JLmGf"
      }
    },
    {
      "cell_type": "markdown",
      "source": [
        "## Solution1"
      ],
      "metadata": {
        "id": "k1jtjMOVMtEY"
      }
    },
    {
      "cell_type": "code",
      "execution_count": 14,
      "metadata": {
        "id": "MWc4EpBFLT_0"
      },
      "outputs": [],
      "source": [
        "class Solution1:\n",
        "    def numberOfSteps(self, num: int) -> int:\n",
        "        count = 0\n",
        "        while num != 0:\n",
        "            if num %2 == 0:\n",
        "                num = num/2\n",
        "            else:\n",
        "                num = num - 1\n",
        "            count = count + 1\n",
        "        return count"
      ]
    },
    {
      "cell_type": "code",
      "source": [
        "sol1 = Solution1()\n",
        "sol1.numberOfSteps(3)"
      ],
      "metadata": {
        "colab": {
          "base_uri": "https://localhost:8080/"
        },
        "id": "lgYKznWwMU4O",
        "outputId": "ab297ecf-9643-4a06-adf8-244457234873"
      },
      "execution_count": 15,
      "outputs": [
        {
          "output_type": "execute_result",
          "data": {
            "text/plain": [
              "3"
            ]
          },
          "metadata": {},
          "execution_count": 15
        }
      ]
    },
    {
      "cell_type": "code",
      "source": [
        "sol1.numberOfSteps(14)"
      ],
      "metadata": {
        "colab": {
          "base_uri": "https://localhost:8080/"
        },
        "id": "gC_NH3x1MU7Q",
        "outputId": "2a093dfc-8c3d-4875-befa-1f21a83eeb11"
      },
      "execution_count": 16,
      "outputs": [
        {
          "output_type": "execute_result",
          "data": {
            "text/plain": [
              "6"
            ]
          },
          "metadata": {},
          "execution_count": 16
        }
      ]
    },
    {
      "cell_type": "code",
      "source": [
        "sol1.numberOfSteps(8)"
      ],
      "metadata": {
        "colab": {
          "base_uri": "https://localhost:8080/"
        },
        "id": "y1VypWB2MU-S",
        "outputId": "315d77a3-cde9-4fb4-80b5-b12ea60fef8b"
      },
      "execution_count": 17,
      "outputs": [
        {
          "output_type": "execute_result",
          "data": {
            "text/plain": [
              "4"
            ]
          },
          "metadata": {},
          "execution_count": 17
        }
      ]
    },
    {
      "cell_type": "code",
      "source": [
        "sol1.numberOfSteps(123)"
      ],
      "metadata": {
        "colab": {
          "base_uri": "https://localhost:8080/"
        },
        "id": "SzM_JV0hMlRw",
        "outputId": "8ec6908a-e768-4baf-9499-485159df77e8"
      },
      "execution_count": 18,
      "outputs": [
        {
          "output_type": "execute_result",
          "data": {
            "text/plain": [
              "12"
            ]
          },
          "metadata": {},
          "execution_count": 18
        }
      ]
    },
    {
      "cell_type": "code",
      "source": [],
      "metadata": {
        "id": "Fi3z5-3_MlO2"
      },
      "execution_count": 18,
      "outputs": []
    },
    {
      "cell_type": "markdown",
      "source": [
        "## Solution2:"
      ],
      "metadata": {
        "id": "D7RahcZxMqpy"
      }
    },
    {
      "cell_type": "code",
      "source": [
        "class Solution2:\n",
        "    def numberOfSteps(self, num: int) -> int:\n",
        "        count = 0\n",
        "        while num != 0:\n",
        "            num = num/2 if num %2 == 0 else num - 1\n",
        "            count = count + 1\n",
        "        return count"
      ],
      "metadata": {
        "id": "CL2UsYmsMlLm"
      },
      "execution_count": 19,
      "outputs": []
    },
    {
      "cell_type": "code",
      "source": [
        "sol2 = Solution2()\n",
        "sol2.numberOfSteps(3)"
      ],
      "metadata": {
        "colab": {
          "base_uri": "https://localhost:8080/"
        },
        "id": "ODDXO9QaP1SP",
        "outputId": "f2f0ec17-b3a0-4850-c20d-04cd81f59e53"
      },
      "execution_count": 20,
      "outputs": [
        {
          "output_type": "execute_result",
          "data": {
            "text/plain": [
              "3"
            ]
          },
          "metadata": {},
          "execution_count": 20
        }
      ]
    },
    {
      "cell_type": "code",
      "source": [
        "sol2.numberOfSteps(14)"
      ],
      "metadata": {
        "colab": {
          "base_uri": "https://localhost:8080/"
        },
        "id": "S3BztSWrP1Vv",
        "outputId": "07d9b48b-c6bd-4787-9098-9d1b2a26333e"
      },
      "execution_count": 21,
      "outputs": [
        {
          "output_type": "execute_result",
          "data": {
            "text/plain": [
              "6"
            ]
          },
          "metadata": {},
          "execution_count": 21
        }
      ]
    },
    {
      "cell_type": "code",
      "source": [
        "sol2.numberOfSteps(8)"
      ],
      "metadata": {
        "colab": {
          "base_uri": "https://localhost:8080/"
        },
        "id": "Osl5YoifP1Yu",
        "outputId": "4399bb58-e8e3-4bb1-d0b0-ef6a54f6d083"
      },
      "execution_count": 22,
      "outputs": [
        {
          "output_type": "execute_result",
          "data": {
            "text/plain": [
              "4"
            ]
          },
          "metadata": {},
          "execution_count": 22
        }
      ]
    },
    {
      "cell_type": "code",
      "source": [
        "sol2.numberOfSteps(123)"
      ],
      "metadata": {
        "colab": {
          "base_uri": "https://localhost:8080/"
        },
        "id": "UxgXj9E6P7RO",
        "outputId": "f1e09afd-fef9-400c-c421-99253c1f879c"
      },
      "execution_count": 23,
      "outputs": [
        {
          "output_type": "execute_result",
          "data": {
            "text/plain": [
              "12"
            ]
          },
          "metadata": {},
          "execution_count": 23
        }
      ]
    },
    {
      "cell_type": "code",
      "source": [],
      "metadata": {
        "id": "2TaeODvQP7at"
      },
      "execution_count": 23,
      "outputs": []
    }
  ]
}